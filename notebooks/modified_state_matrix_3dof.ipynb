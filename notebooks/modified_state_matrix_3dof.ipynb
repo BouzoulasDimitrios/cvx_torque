{
 "cells": [
  {
   "cell_type": "markdown",
   "id": "a8bcbc90",
   "metadata": {},
   "source": [
    "# Shaft torque as a state"
   ]
  },
  {
   "cell_type": "markdown",
   "id": "1c4a46fb",
   "metadata": {},
   "source": [
    "The conventional state matrix A used in shaft-line FEM can be modified to have shaft torque as a state instead of node angles."
   ]
  },
  {
   "cell_type": "code",
   "execution_count": null,
   "id": "fd259986",
   "metadata": {},
   "outputs": [],
   "source": [
    "import numpy as np\n",
    "import matplotlib.pyplot as plt\n",
    "import scipy.linalg as LA\n",
    "from scipy.signal import lsim, butter, lfilter\n",
    "from scipy.integrate import solve_ivp\n",
    "import opentorsion as ot"
   ]
  },
  {
   "cell_type": "code",
   "execution_count": null,
   "id": "cd062244",
   "metadata": {},
   "outputs": [],
   "source": [
    "def drivetrain_3dof():\n",
    "    \"\"\"\n",
    "    Mechanical drivetrain as an openTorsion assembly instance.\n",
    "\n",
    "    Returns:\n",
    "    assembly: opentorsion assembly instance\n",
    "        A 3-DOF mechanical drivetrain modeled as lumped masses and flexible shafts\n",
    "        (lumped mass - shaft - lumped mass - shaft - lumped mass).\n",
    "    \"\"\"\n",
    "    # Disk 1 inertia\n",
    "    J1 = 0.8\n",
    "    # Disk 2 inertia\n",
    "    J2 = 0.5\n",
    "    # Disk 3 inertia\n",
    "    J3 = 0.7\n",
    "    # Shaft 1 stiffness\n",
    "    k1 = 1.5e4\n",
    "    # Shaft 2 stiffness\n",
    "    k2 = 1e4\n",
    "\n",
    "    disks, shafts = [], []\n",
    "    shafts.append(ot.Shaft(0, 1, None, None, k=k1, I=0))\n",
    "    shafts.append(ot.Shaft(1, 2, None, None, k=k2, I=0))\n",
    "    disks.append(ot.Disk(0, I=J1))\n",
    "    disks.append(ot.Disk(1, I=J2))\n",
    "    disks.append(ot.Disk(2, I=J3))\n",
    "    assembly = ot.Assembly(shafts, disk_elements=disks)\n",
    "    _, f, _ = assembly.modal_analysis()\n",
    "\n",
    "    return assembly"
   ]
  }
 ],
 "metadata": {
  "kernelspec": {
   "display_name": "Python 3 (ipykernel)",
   "language": "python",
   "name": "python3"
  },
  "language_info": {
   "codemirror_mode": {
    "name": "ipython",
    "version": 3
   },
   "file_extension": ".py",
   "mimetype": "text/x-python",
   "name": "python",
   "nbconvert_exporter": "python",
   "pygments_lexer": "ipython3",
   "version": "3.8.10"
  }
 },
 "nbformat": 4,
 "nbformat_minor": 5
}
