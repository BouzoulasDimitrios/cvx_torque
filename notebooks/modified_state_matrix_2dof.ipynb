{
 "cells": [
  {
   "cell_type": "markdown",
   "id": "090f65a4",
   "metadata": {},
   "source": [
    "# Shaft torque as a state"
   ]
  },
  {
   "cell_type": "markdown",
   "id": "184faa81",
   "metadata": {},
   "source": [
    "The conventional state-space model used in shaft-line FEM can be modified to have shaft torque as a state instead of node angles. Frist, the conventional state-space model for a 2-DOF system:\n",
    "\n",
    "$$ \\begin{bmatrix} \\dot{\\theta_1} \\\\ \\dot{\\theta_2} \\\\ \\ddot{\\theta}_1 \\\\ \\ddot{\\theta_2} \\end{bmatrix} = \\underbrace{\\begin{bmatrix} \\boldsymbol{0} & \\textbf{I} \\\\ -\\textbf{M}^{-1}\\textbf{K} & -\\textbf{M}^{-1}\\textbf{C} \\end{bmatrix}}_{\\textbf{A}} \\begin{bmatrix} \\theta_1 \\\\ \\theta_2 \\\\ \\dot{\\theta}_1 \\\\ \\dot{\\theta_2} \\end{bmatrix} + \\underbrace{\\begin{bmatrix} \\boldsymbol{0} \\\\ \\textbf{M}^{-1} \\end{bmatrix}}_{\\textbf{B}} \\begin{bmatrix} T_{\\text{1}} \\\\ T_{\\text{2}} \\end{bmatrix} $$\n",
    "\n",
    "where $\\textbf{M}$, $\\textbf{C}$, $\\textbf{K}$ and $\\textbf{I}$ are $2\\text{x}2$ square matrices, $T_1$ $T_2$ are some loads on nodes 1 and 2 respectively and $\\theta_i$ is the rotation of node $i$."
   ]
  },
  {
   "cell_type": "code",
   "execution_count": 1,
   "id": "52621385",
   "metadata": {},
   "outputs": [],
   "source": [
    "import numpy as np\n",
    "import matplotlib.pyplot as plt\n",
    "import scipy.linalg as LA\n",
    "from scipy.integrate import solve_ivp\n",
    "from scipy.signal import lsim\n",
    "import opentorsion as ot"
   ]
  },
  {
   "cell_type": "code",
   "execution_count": 2,
   "id": "3da6ed11",
   "metadata": {},
   "outputs": [],
   "source": [
    "def drivetrain_2dof():\n",
    "    \"\"\"\n",
    "    Mechanical drivetrain as an openTorsion assembly instance.\n",
    "\n",
    "    Returns:\n",
    "    assembly: opentorsion assembly instance\n",
    "        A 2-DOF mechanical drivetrain modeled as lumped masses and flexible shafts\n",
    "        (lumped mass - shaft - lumped mass).\n",
    "    \"\"\"\n",
    "    # Disk 1 inertia\n",
    "    J1 = 0.8\n",
    "    # Disk 2 inertia\n",
    "    J2 = 0.5\n",
    "    # Shaft stiffness\n",
    "    k1 = 1.5e8\n",
    "\n",
    "    disks, shafts = [], []\n",
    "    shafts.append(ot.Shaft(0, 1, None, None, k=k1, I=0))\n",
    "    disks.append(ot.Disk(0, I=J1))\n",
    "    disks.append(ot.Disk(1, I=J2))\n",
    "    assembly = ot.Assembly(shafts, disk_elements=disks)\n",
    "    _, f, _ = assembly.modal_analysis()\n",
    "    print(\"Eigenfrequencies: \", f.round(2))\n",
    "\n",
    "    return assembly"
   ]
  },
  {
   "cell_type": "code",
   "execution_count": 3,
   "id": "957958bb",
   "metadata": {},
   "outputs": [],
   "source": [
    "def state_matrices(assembly):\n",
    "    \"\"\"\n",
    "    Create state-space matrices A and B of an openTorsion assembly.\n",
    "\n",
    "    Parameters:\n",
    "    assembly : openTorsion assembly instance\n",
    "        Mechanical drivetrain model.\n",
    "\n",
    "    Returns:\n",
    "    A : numpy.ndarray\n",
    "        The state matrix\n",
    "    B : numpy.ndarray\n",
    "        The input matrix\n",
    "    \"\"\"\n",
    "    M, K = assembly.M(), assembly.K()  # Mass and stiffness matrices\n",
    "    C = assembly.C_modal(M, K, xi=0.02)  # Modal damping matrix, modal damping coefficient 0.02 used\n",
    "    Z = np.zeros(M.shape)\n",
    "    I = np.eye(M.shape[0])\n",
    "    M_inv = LA.inv(M)\n",
    "\n",
    "    A = np.vstack([np.hstack([Z, I]), np.hstack([-M_inv @ K, -M_inv @ C])])\n",
    "\n",
    "    B = np.vstack([Z, M_inv])\n",
    "\n",
    "    return A, B"
   ]
  },
  {
   "cell_type": "markdown",
   "id": "224af9cd",
   "metadata": {},
   "source": [
    "Shaft torque is calculated as the product of the shaft stiffness and the difference of the angles of the shaft ends:\n",
    "\n",
    "$$ \\tau_{i,i+1} = k_i(\\theta_{i+1} - \\theta_i). $$\n",
    "\n",
    "In a similar manner the state vector can be modified to have shaft torque as a state (2-DOF system):\n",
    "\n",
    "$$ \\begin{bmatrix} \\tau_{12} \\\\ \\dot{\\theta}_1 \\\\ \\dot{\\theta_2} \\end{bmatrix} = \\underbrace{\\begin{bmatrix} -k_1 & k_1 & 0 & 0 \\\\ 0 & 0 & 1 & 0 \\\\ 0 & 0 & 0 & 1 \\end{bmatrix}}_X \\begin{bmatrix} \\theta_1 \\\\ \\theta_2 \\\\ \\dot{\\theta}_1 \\\\ \\dot{\\theta_2} \\end{bmatrix} \\implies \\begin{bmatrix} \\theta_1 \\\\ \\theta_2 \\\\ \\dot{\\theta}_1 \\\\ \\dot{\\theta_2} \\end{bmatrix} = \\left( \\begin{bmatrix} -k_1 & k_1 & 0 & 0 \\\\ 0 & 0 & 1 & 0 \\\\ 0 & 0 & 0 & 1 \\end{bmatrix} \\right)^{-1} \\begin{bmatrix} \\tau_{12} \\\\ \\dot{\\theta}_1 \\\\ \\dot{\\theta_2} \\end{bmatrix}. $$\n",
    "\n",
    "The $ X $ matrix is not square, however, it can be inverted with a right pseudoinverse:\n",
    "\n",
    "$$ X^{-1}_{\\text{right}} = X^{\\text{T}} \\left( XX^{\\text{T}} \\right)^{-1}. $$\n",
    "\n",
    "An example for an arbitrary $3\\text{x}4$ matrix:"
   ]
  },
  {
   "cell_type": "code",
   "execution_count": 4,
   "id": "2fa9828c",
   "metadata": {},
   "outputs": [
    {
     "name": "stdout",
     "output_type": "stream",
     "text": [
      "[[-2  2  0  0]\n",
      " [ 0  0  1  0]\n",
      " [ 0  0  0  1]]\n"
     ]
    }
   ],
   "source": [
    "X = np.array([[-2, 2, 0, 0], [0, 0, 1, 0], [0, 0, 0, 1]])\n",
    "print(X)"
   ]
  },
  {
   "cell_type": "code",
   "execution_count": 5,
   "id": "d0e81cd5",
   "metadata": {},
   "outputs": [
    {
     "name": "stdout",
     "output_type": "stream",
     "text": [
      "[[-0.25  0.    0.  ]\n",
      " [ 0.25  0.    0.  ]\n",
      " [ 0.    1.    0.  ]\n",
      " [ 0.    0.    1.  ]]\n"
     ]
    }
   ],
   "source": [
    "X_right = X.T @ np.linalg.inv(X @ X.T)\n",
    "print(X_right)"
   ]
  },
  {
   "cell_type": "markdown",
   "id": "2ac17901",
   "metadata": {},
   "source": [
    "# Test on a 2-DOF drivetrain"
   ]
  },
  {
   "cell_type": "code",
   "execution_count": 6,
   "id": "54acceee",
   "metadata": {},
   "outputs": [
    {
     "name": "stdout",
     "output_type": "stream",
     "text": [
      "Eigenfrequencies:  [   0.      0.   3514.05 3514.05]\n"
     ]
    }
   ],
   "source": [
    "assembly = drivetrain_2dof()"
   ]
  },
  {
   "cell_type": "code",
   "execution_count": 7,
   "id": "f6abf681",
   "metadata": {},
   "outputs": [
    {
     "data": {
      "image/png": "[encoded data removed]",
      "text/plain": [
       "<Figure size 432x288 with 1 Axes>"
      ]
     },
     "metadata": {
      "needs_background": "light"
     },
     "output_type": "display_data"
    }
   ],
   "source": [
    "def excitation():\n",
    "    return lambda t: 2+np.sin(3*t)\n",
    "\n",
    "t = np.arange(0, 10, 0.001)\n",
    "u = excitation()\n",
    "\n",
    "plt.plot(t, u(t))\n",
    "plt.show()"
   ]
  },
  {
   "cell_type": "markdown",
   "id": "8ed0a1a8",
   "metadata": {},
   "source": [
    "### Simulation with the conventional state-space model"
   ]
  },
  {
   "cell_type": "markdown",
   "id": "5b9963b3",
   "metadata": {},
   "source": [
    "The conventional state-space model:\n",
    "\n",
    "$$ \\begin{bmatrix} \\dot{\\theta}_1 \\\\ \\dot{\\theta}_2 \\\\ \\ddot{\\theta}_1 \\\\ \\ddot{\\theta}_2 \\end{bmatrix} = \\underbrace{\\begin{bmatrix} \\boldsymbol{0} & \\textbf{I} \\\\ -\\textbf{M}^{-1}\\textbf{K} & -\\textbf{M}^{-1}\\textbf{C} \\end{bmatrix}}_{\\textbf{A}} \\begin{bmatrix} \\theta_1 \\\\ \\theta_2 \\\\ \\dot{\\theta}_1 \\\\ \\dot{\\theta}_2 \\end{bmatrix} + \\underbrace{\\begin{bmatrix} \\boldsymbol{0} \\\\ \\textbf{M}^{-1} \\end{bmatrix}}_{\\textbf{B}} \\underbrace{\\begin{bmatrix} 0 \\\\ T \\end{bmatrix}}_{\\textbf{u}} $$"
   ]
  },
  {
   "cell_type": "code",
   "execution_count": 8,
   "id": "6df4334d",
   "metadata": {},
   "outputs": [],
   "source": [
    "A, B = state_matrices(assembly)\n",
    "C, D = np.eye(B.shape[0]), np.zeros(B.shape)\n",
    "\n",
    "exc = u(t)\n",
    "load = np.array([np.zeros(exc.shape), exc])\n",
    "\n",
    "tout, yout, xout = lsim((A, B, C, D), load.T, t)"
   ]
  },
  {
   "cell_type": "code",
   "execution_count": 9,
   "id": "339fe990",
   "metadata": {},
   "outputs": [
    {
     "data": {
      "image/png": "[encoded data removed]",
      "text/plain": [
       "<Figure size 432x288 with 1 Axes>"
      ]
     },
     "metadata": {
      "needs_background": "light"
     },
     "output_type": "display_data"
    }
   ],
   "source": [
    "torques_lsim = 1.5e8*(yout[:,1]-yout[:,0])\n",
    "plt.plot(tout, torques_lsim, label='regular state-space')\n",
    "plt.legend()\n",
    "plt.show()"
   ]
  },
  {
   "cell_type": "markdown",
   "id": "b371ffd7",
   "metadata": {},
   "source": [
    "### Simulation with the modified state-space model"
   ]
  },
  {
   "cell_type": "markdown",
   "id": "6da3898d",
   "metadata": {},
   "source": [
    "(Note: This section is probably not relevant.)\n",
    "The state vector of the conventional state-space model is replaced with the new one:\n",
    "\n",
    "$$ \\begin{bmatrix} \\dot{\\theta}_1 \\\\ \\dot{\\theta}_2 \\\\ \\ddot{\\theta}_1 \\\\ \\ddot{\\theta}_2 \\end{bmatrix} = \\underbrace{\\begin{bmatrix} \\boldsymbol{0} & \\textbf{I} \\\\ -\\textbf{M}^{-1}\\textbf{K} & -\\textbf{M}^{-1}\\textbf{C} \\end{bmatrix}}_{\\textbf{A}} \\underbrace{\\left( \\begin{bmatrix} -k_1 & k_1 & 0 & 0 \\\\ 0 & 0 & 1 & 0 \\\\ 0 & 0 & 0 & 1 \\end{bmatrix} \\right)^{-1}}_{X^{-1}} \\begin{bmatrix} \\tau_{12} \\\\ \\dot{\\theta}_1 \\\\ \\dot{\\theta}_2 \\end{bmatrix} + \\underbrace{\\begin{bmatrix} \\boldsymbol{0} \\\\ \\textbf{M}^{-1} \\end{bmatrix}}_{\\textbf{B}} \\begin{bmatrix} 0 \\\\ T \\end{bmatrix} $$\n",
    "\n",
    "Additionally, using $ X $ as the observation matrix of the state-space model we get the shaft torque and nodal rotational speeds as output."
   ]
  },
  {
   "cell_type": "code",
   "execution_count": 10,
   "id": "a65d4de1",
   "metadata": {},
   "outputs": [
    {
     "name": "stdout",
     "output_type": "stream",
     "text": [
      "[[1. 0. 0.]\n",
      " [0. 1. 0.]\n",
      " [0. 0. 1.]]\n"
     ]
    }
   ],
   "source": [
    "k1 = 1.5e8\n",
    "X = np.array([[-k1, k1, 0, 0], [0, 0, 1, 0], [0, 0, 0, 1]])\n",
    "X_inv = X.T @ np.linalg.inv(X @ X.T)\n",
    "print(X @ X_inv)\n",
    "\n",
    "def f_mod(t, x):\n",
    "    x_mod = X @ x\n",
    "    return A @ (X_inv @ x_mod) + B @ np.array([0, u(t)])\n",
    "\n",
    "dt = np.mean(np.diff(t))\n",
    "\n",
    "sol_mod = solve_ivp(f_mod, (t[0], t[-1]), np.zeros(4), t_eval=t)\n",
    "\n",
    "y = np.zeros(3)\n",
    "for i in range(sol_mod.y.shape[1]):\n",
    "    y = np.vstack((y, X @ sol_mod.y[:, i]))"
   ]
  },
  {
   "cell_type": "markdown",
   "id": "d2b87743",
   "metadata": {},
   "source": [
    "# Simulation with the modified state matrix"
   ]
  },
  {
   "cell_type": "markdown",
   "id": "21b9023a",
   "metadata": {},
   "source": [
    "Now we modify the state matrix $\\textbf{A}$ with the matrix $\\textbf{X}$:\n",
    "\n",
    "$$ \\begin{bmatrix} \\dot{\\tau}_{12} \\\\ \\ddot{\\theta}_1 \\\\ \\ddot{\\theta}_2 \\end{bmatrix} = \\underbrace{\\begin{bmatrix} -k_1 & k_1 & 0 & 0 \\\\ 0 & 0 & 1 & 0 \\\\ 0 & 0 & 0 & 1 \\end{bmatrix}}_{X} \\underbrace{\\begin{bmatrix} \\boldsymbol{0} & \\textbf{I} \\\\ -\\textbf{M}^{-1}\\textbf{K} & -\\textbf{M}^{-1}\\textbf{C} \\end{bmatrix}}_{\\textbf{A}} \\begin{bmatrix} \\tau_{12} \\\\ \\dot{\\theta}_1 \\\\ \\dot{\\theta}_2 \\end{bmatrix} + \\underbrace{\\begin{bmatrix} \\boldsymbol{0} \\\\ \\textbf{M}^{-1} \\end{bmatrix}}_{\\textbf{B}} \\begin{bmatrix} 0 \\\\ T \\end{bmatrix}. $$\n",
    "\n",
    "Recalling that\n",
    "\n",
    "$$ \\begin{bmatrix} \\theta_1 \\\\ \\theta_2 \\\\ \\dot{\\theta}_1 \\\\ \\dot{\\theta_2} \\end{bmatrix} = \\underbrace{\\left( \\begin{bmatrix} -k_1 & k_1 & 0 & 0 \\\\ 0 & 0 & 1 & 0 \\\\ 0 & 0 & 0 & 1 \\end{bmatrix} \\right)^{-1}}_{X^{-1}} \\begin{bmatrix} \\tau_{12} \\\\ \\dot{\\theta}_1 \\\\ \\dot{\\theta_2} \\end{bmatrix}, $$\n",
    "\n",
    "we can define the modified state matrix as $ \\textbf{A}_{\\text{mod}} = \\textbf{X} \\textbf{A} \\textbf{X}^{\\dagger} $ to use shaft torque as a state. Additionally, the first row of $\\textbf{B}$ is removed. Finally, we have\n",
    "\n",
    "$$ \\begin{bmatrix} \\dot{\\tau}_{12} \\\\ \\ddot{\\theta}_1 \\\\ \\ddot{\\theta}_2 \\end{bmatrix}_{3 \\times 1} = \\begin{bmatrix} -k_1 & k_1 & 0 & 0 \\\\ 0 & 0 & 1 & 0 \\\\ 0 & 0 & 0 & 1 \\end{bmatrix}_{3 \\times 4} \\begin{bmatrix} \\boldsymbol{0} & \\textbf{I} \\\\ -\\textbf{M}^{-1}\\textbf{K} & -\\textbf{M}^{-1}\\textbf{C} \\end{bmatrix}_{4 \\times 4} \\left( \\begin{bmatrix} -k_1 & k_1 & 0 & 0 \\\\ 0 & 0 & 1 & 0 \\\\ 0 & 0 & 0 & 1 \\end{bmatrix} \\right)^{-1}_{4 \\times 3} \\begin{bmatrix} \\tau_{12} \\\\ \\dot{\\theta}_1 \\\\ \\dot{\\theta}_2 \\end{bmatrix}_{3 \\times 1} + \\begin{bmatrix} \\boldsymbol{0} \\\\ \\textbf{M}^{-1} \\end{bmatrix}_{3 \\times 2} \\begin{bmatrix} 0 \\\\ T \\end{bmatrix}_{2 \\times 1}. $$"
   ]
  },
  {
   "cell_type": "code",
   "execution_count": 11,
   "id": "42b4b34f",
   "metadata": {},
   "outputs": [],
   "source": [
    "def f_mod2(t, x):\n",
    "    loading = B @ np.array([0, u(t)])\n",
    "    loading = np.delete(loading, (0), axis=0)\n",
    "    \n",
    "    return (X @ A @ X_inv) @ x + loading\n",
    "\n",
    "sol_mod2 = solve_ivp(f_mod2, (t[0], t[-1]), np.zeros(3), t_eval=t)"
   ]
  },
  {
   "cell_type": "code",
   "execution_count": 12,
   "id": "52b49462",
   "metadata": {},
   "outputs": [
    {
     "data": {
      "text/plain": [
       "[<matplotlib.lines.Line2D at 0x7fd9fc5e81c0>]"
      ]
     },
     "execution_count": 12,
     "metadata": {},
     "output_type": "execute_result"
    },
    {
     "data": {
      "image/png": "[encoded data removed]",
      "text/plain": [
       "<Figure size 432x288 with 1 Axes>"
      ]
     },
     "metadata": {
      "needs_background": "light"
     },
     "output_type": "display_data"
    }
   ],
   "source": [
    "plt.plot(sol_mod2.t, sol_mod2.y[0,:], label='solve_ivp with modified state matrix')\n",
    "# there might be some problem with the solve_ivp method"
   ]
  },
  {
   "cell_type": "code",
   "execution_count": 13,
   "id": "429d05df",
   "metadata": {},
   "outputs": [
    {
     "name": "stdout",
     "output_type": "stream",
     "text": [
      "Torque with the regular state-space equals the modified one: True\n"
     ]
    }
   ],
   "source": [
    "A_mod = X @ A @ X_inv\n",
    "B_mod = np.delete(B, (0), axis=0)\n",
    "C_mod = np.eye(B_mod.shape[0])\n",
    "D_mod = np.zeros(B_mod.shape)\n",
    "\n",
    "tout_mod, yout_mod, xout_mod = lsim((A_mod, B_mod, C_mod, D_mod), load.T, t)\n",
    "print('Torque with the regular state-space equals the modified one:', np.allclose(yout_mod[:,0], torques_lsim, atol=1e-5))"
   ]
  },
  {
   "cell_type": "markdown",
   "id": "d4af235d",
   "metadata": {},
   "source": [
    "The shaft torque calculated with the regular state-space model and the modified model appear to be equal."
   ]
  },
  {
   "cell_type": "code",
   "execution_count": 14,
   "id": "181a06b0",
   "metadata": {},
   "outputs": [
    {
     "data": {
      "image/png": "[encoded data removed]",
      "text/plain": [
       "<Figure size 432x288 with 1 Axes>"
      ]
     },
     "metadata": {
      "needs_background": "light"
     },
     "output_type": "display_data"
    }
   ],
   "source": [
    "plt.plot(tout_mod, yout_mod[:,0], label='lsim with modified state matrix')\n",
    "plt.plot(tout, torques_lsim, '--', label='lsim with regular state matrix')\n",
    "plt.legend()\n",
    "plt.xlabel('Time (s)')\n",
    "plt.ylabel('Torque (Nm)')\n",
    "#plt.xlim(2.5,2.75)\n",
    "#plt.ylim(1.84,1.85)\n",
    "plt.show()"
   ]
  },
  {
   "cell_type": "markdown",
   "id": "000e5d7d",
   "metadata": {},
   "source": [
    "# Modified state-matrix for n-DOF drivetrain"
   ]
  },
  {
   "cell_type": "code",
   "execution_count": 15,
   "id": "d21efaad",
   "metadata": {},
   "outputs": [],
   "source": [
    "def propulsion_system():\n",
    "    '''\n",
    "    Parameters from: https://journals.sagepub.com/doi/full/10.1177/14759217211004232\n",
    "    '''\n",
    "    J1 = 1.347e4 # propeller\n",
    "    J3 = 5.590e2\n",
    "    J5 = 5.120e2\n",
    "    J7 = 4.870e2\n",
    "    J9 = 1.410e2\n",
    "    J11 = 1.740e2\n",
    "    J13 = 4.415e3 # motor\n",
    "    \n",
    "    k2 = 5.88e7\n",
    "    k4 = 5.95e7\n",
    "    k6 = 1.12e8\n",
    "    k8 = 6.93e8\n",
    "    k10 = 5.09e8\n",
    "    k12 = 1.43e8\n",
    "    damping = 180 # damping in steel_shafts\n",
    "    propeller_damping = 120e3\n",
    "    \n",
    "    shafts, disks = [], []\n",
    "    disks.append(ot.Disk(0, I=J1, c=propeller_damping))\n",
    "    shafts.append(ot.Shaft(0, 1, None, None, k=k2, I=0, c=damping))\n",
    "    disks.append(ot.Disk(1, I=J3))\n",
    "    shafts.append(ot.Shaft(1, 2, None, None, k=k4, I=0, c=damping))\n",
    "    disks.append(ot.Disk(2, I=J5))\n",
    "    shafts.append(ot.Shaft(2, 3, None, None, k=k6, I=0, c=damping))\n",
    "    disks.append(ot.Disk(3, I=J7))\n",
    "    shafts.append(ot.Shaft(3, 4, None, None, k=k8, I=0, c=damping))\n",
    "    disks.append(ot.Disk(4, I=J9))\n",
    "    shafts.append(ot.Shaft(4, 5, None, None, k=k10, I=0, c=damping))\n",
    "    disks.append(ot.Disk(5, I=J11))\n",
    "    shafts.append(ot.Shaft(5, 6, None, None, k=k12, I=0, c=damping))\n",
    "    disks.append(ot.Disk(6, I=J13))\n",
    "    \n",
    "    assembly = ot.Assembly(shafts, disk_elements=disks)\n",
    "    _, f, _ = assembly.modal_analysis()\n",
    "    print(\"Eigenfrequencies: \", f.round(2))\n",
    "\n",
    "    return assembly"
   ]
  },
  {
   "cell_type": "code",
   "execution_count": 16,
   "id": "7950a221",
   "metadata": {},
   "outputs": [],
   "source": [
    "def state_matrices(assembly):\n",
    "    \"\"\"\n",
    "    Create state-space matrices A and B of an openTorsion assembly.\n",
    "\n",
    "    Parameters:\n",
    "    assembly : openTorsion assembly instance\n",
    "        Mechanical drivetrain model.\n",
    "\n",
    "    Returns:\n",
    "    A : numpy.ndarray\n",
    "        The state matrix\n",
    "    B : numpy.ndarray\n",
    "        The input matrix\n",
    "    \"\"\"\n",
    "    M, C, K = assembly.M(), assembly.C(), assembly.K()  # Mass and stiffness matrices\n",
    "    # C = assembly.C_modal(M, K, xi=0.02)  # Modal damping matrix, modal damping coefficient 0.02 used\n",
    "    Z = np.zeros(M.shape)\n",
    "    I = np.eye(M.shape[0])\n",
    "    M_inv = LA.inv(M)\n",
    "\n",
    "    A = np.vstack([np.hstack([Z, I]), np.hstack([-M_inv @ K, -M_inv @ C])])\n",
    "\n",
    "    B = np.vstack([Z, M_inv])\n",
    "\n",
    "    return A, B"
   ]
  },
  {
   "cell_type": "code",
   "execution_count": 17,
   "id": "ac451e49",
   "metadata": {},
   "outputs": [],
   "source": [
    "k_list = [5.88e7, 5.95e7, 1.12e8, 6.93e8, 5.09e8, 1.43e8]"
   ]
  },
  {
   "cell_type": "code",
   "execution_count": 18,
   "id": "3d1f6755",
   "metadata": {},
   "outputs": [],
   "source": [
    "def X(k_values, ndof):\n",
    "    \"\"\"\n",
    "    Used to transform the state-matrix to be compatible with shaft torque as a state.\n",
    "    \"\"\"\n",
    "    rows = ndof-1\n",
    "    cols = ndof\n",
    "    if len(k_values) != rows:\n",
    "        print(\"wrong amount of stiffness values / dofs\")\n",
    "        return\n",
    "    \n",
    "    X_up = np.zeros((rows, cols))\n",
    "    X_down = np.eye(cols)\n",
    "    Z_up = np.zeros(X_up.shape)\n",
    "    Z_down = np.zeros(X_down.shape)\n",
    "    \n",
    "    for i in range(rows):\n",
    "        X_up[i,i] = -k_values[i]\n",
    "        X_up[i,i+1] = k_values[i]\n",
    "    \n",
    "    X_matrix = np.vstack([np.hstack([X_up, Z_up]), np.hstack([Z_down, X_down])])\n",
    "    \n",
    "    return X_matrix"
   ]
  },
  {
   "cell_type": "code",
   "execution_count": 19,
   "id": "80076963",
   "metadata": {},
   "outputs": [
    {
     "name": "stdout",
     "output_type": "stream",
     "text": [
      "Eigenfrequencies:  [0.0000000e+00 9.5200000e+00 9.5200000e+00 4.8520000e+01 4.8520000e+01\n",
      " 7.8630000e+01 7.8630000e+01 1.1526000e+02 1.1526000e+02 2.6861000e+02\n",
      " 2.6861000e+02 5.2281000e+02 5.2281000e+02 1.7014337e+05]\n"
     ]
    }
   ],
   "source": [
    "prop_sys = propulsion_system()\n",
    "transformation = X(k_list, 7)"
   ]
  },
  {
   "cell_type": "code",
   "execution_count": null,
   "id": "1ebff8bc",
   "metadata": {},
   "outputs": [],
   "source": []
  }
 ],
 "metadata": {
  "kernelspec": {
   "display_name": "Python 3 (ipykernel)",
   "language": "python",
   "name": "python3"
  },
  "language_info": {
   "codemirror_mode": {
    "name": "ipython",
    "version": 3
   },
   "file_extension": ".py",
   "mimetype": "text/x-python",
   "name": "python",
   "nbconvert_exporter": "python",
   "pygments_lexer": "ipython3",
   "version": "3.8.10"
  }
 },
 "nbformat": 4,
 "nbformat_minor": 5
}
