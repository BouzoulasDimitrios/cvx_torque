{
 "cells": [
  {
   "cell_type": "markdown",
   "id": "a2952a89",
   "metadata": {},
   "source": [
    "# The testbench model with manually measured parameters"
   ]
  },
  {
   "cell_type": "code",
   "execution_count": null,
   "id": "79f92022",
   "metadata": {},
   "outputs": [],
   "source": [
    "import numpy as np\n",
    "import matplotlib.pyplot as plt\n",
    "import scienceplots\n",
    "import scipy.linalg as LA\n",
    "from scipy.signal import lsim, dlsim\n",
    "import opentorsion as ot\n",
    "import cvxpy as cp"
   ]
  },
  {
   "cell_type": "code",
   "execution_count": null,
   "id": "70c0f10c",
   "metadata": {},
   "outputs": [],
   "source": [
    "plt.style.use(['science', 'ieee'])\n",
    "plt.rcParams[\"figure.figsize\"] = (6,4)"
   ]
  },
  {
   "cell_type": "code",
   "execution_count": null,
   "id": "e1b02cd3",
   "metadata": {},
   "outputs": [],
   "source": [
    "def testbench():\n",
    "    '''\n",
    "    Kongsberg testbench model based on parameters from Manngård et al. (2022).\n",
    "    '''\n",
    "    shafts = []\n",
    "    disks = []\n",
    "    gears = []\n",
    "\n",
    "    disks.append(ot.Disk(0, I=6.5e-4))\n",
    "    shafts.append(ot.Shaft(0, 1, 0, 0, k=1.9039e5, I=1.4420e-4, c=8.0804)) # driving motor, coupling\n",
    "    shafts.append(ot.Shaft(1, 2, 0, 0, k=6.9487e3, I=3.7880e-6, c=0.2949)) # shaft\n",
    "    shafts.append(ot.Shaft(2, 3, 0, 0, k=90, I=3e-6, c=0.2387)) # elastomer coupling hub\n",
    "    shafts.append(ot.Shaft(3, 4, 0, 0, k=90, I=2e-6, c=0.2387)) # elastomer coupling middle piece\n",
    "    shafts.append(ot.Shaft(4, 5, 0, 0, k=90, I=0, c=0.2387)) # elastomer coupling hubs & shaft\n",
    "    disks.append(ot.Disk(5, I=7.8091e-3))\n",
    "    shafts.append(ot.Shaft(5, 6, 0, 0, k=90, I=2e-6, c=0.2387))# elastomer coupling middle piece\n",
    "    shafts.append(ot.Shaft(6, 7, 0, 0, k=90, I=0, c=0.0013)) # elastomer coupling hub & shaft\n",
    "    shafts.append(ot.Shaft(7, 8, 0.342e3, 0.008e3, G=80e9, rho=7800)) # new shaft (shaft & coupling)\n",
    "    shafts.append(ot.Shaft(8, 9, 0, 0, k=5.4e3, I=6.5e-6, c=0.2292)) # torque transducer\n",
    "    shafts.append(ot.Shaft(9, 10, 0, 0, k=4.19e4, I=5.65e-5, c=1.7783)) # torque transducer & coupling\n",
    "    shafts.append(ot.Shaft(10, 11, 0, 0, k=1.2192e3, I=4.2685e-6, c=0.5175)) # shaft\n",
    "    gear1 = ot.Gear(11, I=3.2467e-4, R=3)\n",
    "    gears.append(gear1) # shaft & gear\n",
    "    gears.append(ot.Gear(12, I=0, R=1, parent=gear1))\n",
    "    shafts.append(ot.Shaft(12, 13, 0, 0, k=3.1e4, I=1.2e-4, c=1.3157)) # coupling\n",
    "    shafts.append(ot.Shaft(13, 14, 0, 0, k=1.1429e3, I=1.1516e-5, c=0.0485)) # shaft\n",
    "    shafts.append(ot.Shaft(14, 15, 0, 0, k=3.1e4, I=1.3152e-4, c=1.3157)) # shaft & coupling\n",
    "    shafts.append(ot.Shaft(15, 16, 0, 0, k=1.2192e4, I=4.2685e-6, c=0.5175)) # shaft\n",
    "    gear2 = ot.Gear(16, I=2.6927e-4, R=4)\n",
    "    gears.append(gear2) # shaft & gear\n",
    "    gears.append(ot.Gear(17, I=0, R=1, parent=gear2))\n",
    "    shafts.append(ot.Shaft(17, 18, 0, 0, k=1.38e5, I=1.8e-4, c=5.8569)) # coupling\n",
    "    shafts.append(ot.Shaft(18, 19, 0, 0, k=2e4, I=2e-5, c=0.8488)) # torque transducer\n",
    "    shafts.append(ot.Shaft(19, 20, 0, 0, k=1.38e5, I=2e-4, c=5.8569)) # torque trandsucer & coupling\n",
    "    shafts.append(ot.Shaft(20, 21, 0, 0, k=1.2192e4, I=4.2685e-6, c=0.5175)) # shaft\n",
    "    disks.append(ot.Disk(21, I=4.9535e-2)) # shaft, mass, planetary gear & load generator\n",
    "\n",
    "    assembly = ot.Assembly(shafts, disk_elements=disks, gear_elements=gears)\n",
    "    _, f, _ = assembly.modal_analysis()\n",
    "    print(f.round(2))\n",
    "\n",
    "    return assembly"
   ]
  },
  {
   "cell_type": "code",
   "execution_count": null,
   "id": "48af0a9a",
   "metadata": {},
   "outputs": [],
   "source": [
    "def testbench_demoday():\n",
    "    '''\n",
    "    Kongsberg testbench model with measured component dimensions.\n",
    "    '''\n",
    "    shafts, disks, gears = [], [], []\n",
    "    \n",
    "    '''Driving motor, motor shaft, aluminium copuling, steel shaft'''\n",
    "    disks.append(ot.Disk(0, I=6.5e-4))\n",
    "    shafts.append(ot.Shaft(0, 1, 15, 24))\n",
    "    shafts.append(ot.Shaft(1, 2, 79.45, 66, idl=20, G=27e9, E=70e9, rho=2710))\n",
    "    shafts.append(ot.Shaft(2, 3, 6, 16))\n",
    "\n",
    "    '''Elastomer coupling'''\n",
    "    shafts.append(ot.Shaft(3, 4, (51.75/3), 32.2, idl=16, G=27e9, E=70e9, rho=2710)) # elastomer coupling hub\n",
    "    shafts.append(ot.Shaft(4, 5, 0, 0, k=90, I=0)) # elastomer coupling soft part\n",
    "    shafts.append(ot.Shaft(5, 6, (51.75/3), 32.2, idl=16, G=27e9, E=70e9, rho=2710)) # elastomer coupling middle piece\n",
    "    shafts.append(ot.Shaft(6, 7, 0, 0, k=90, I=0)) # elastomer coupling soft part\n",
    "    shafts.append(ot.Shaft(7, 8, (51.75/3), 32.2, idl=16, G=27e9, E=70e9, rho=2710)) # elastomer coupling hub\n",
    "\n",
    "    '''Shaft, mass, shaft'''\n",
    "    shafts.append(ot.Shaft(8, 9 , 39, 16))\n",
    "    disks.append(ot.Disk(9, I=7.7e-3))\n",
    "    shafts.append(ot.Shaft(9, 10, 39, 16))\n",
    "\n",
    "    '''Elastomer coupling'''\n",
    "    shafts.append(ot.Shaft(10, 11, (51.75/3), 32.2, idl=16, G=27e9, E=70e9, rho=2710)) # elastomer coupling hub\n",
    "    shafts.append(ot.Shaft(11, 12, 0, 0, k=90, I=0)) # elastomer coupling soft part\n",
    "    shafts.append(ot.Shaft(12, 13, (51.75/3), 32.2, idl=16, G=27e9, E=70e9, rho=2710)) # elastomer coupling middle piece\n",
    "    shafts.append(ot.Shaft(13, 14, 0, 0, k=90, I=0)) # elastomer coupling soft part\n",
    "    shafts.append(ot.Shaft(14, 15, (51.75/3), 32.2, idl=16, G=27e9, E=70e9, rho=2710)) # elastomer coupling hub\n",
    "\n",
    "    '''Shaft, bellow coupling, torque transducer, bellow coupling'''\n",
    "    shafts.append(ot.Shaft(15, 16, 319, 8)) # long shaft\n",
    "    shafts.append(ot.Shaft(16, 17, 0, 0, k=15e3, I=2e-5)) # coupling\n",
    "    shafts.append(ot.Shaft(17, 18, 0, 0, k=5400, I=1.3e-5)) # torque transducer\n",
    "    shafts.append(ot.Shaft(18, 19, 0, 0, k=15e3, I=2e-5)) # coupling\n",
    "\n",
    "    '''First gearbox, shafts, couplings'''\n",
    "    gear1 = ot.Gear(19, I=3.2467e-4, R=3)\n",
    "    gears.append(gear1) # gear\n",
    "    gears.append(ot.Gear(20, I=0, R=1, parent=gear1))\n",
    "    shafts.append(ot.Shaft(20, 21, 0, 0, k=3.1e4, I=1.2e-4)) # coupling\n",
    "    shafts.append(ot.Shaft(21, 22, 33.5, 16)) # shaft\n",
    "    shafts.append(ot.Shaft(22, 23, 0, 0, k=3.1e4, I=1.2e-4)) # coupling\n",
    "    shafts.append(ot.Shaft(23, 24, 62, 25)) # shaft\n",
    "\n",
    "    '''Second gearbox, shafts, couplings'''\n",
    "    gear2 = ot.Gear(24, I=7.315601e-5, R=4)\n",
    "    gears.append(gear2) # shaft & gear\n",
    "    gears.append(ot.Gear(25, I=1.1265292e-2, R=1, parent=gear2))\n",
    "    shafts.append(ot.Shaft(25, 26, 105, 24.5)) # shaft\n",
    "    shafts.append(ot.Shaft(26, 27, 0, 0, k=138e3, I=2.8e-4)) # coupling\n",
    "    shafts.append(ot.Shaft(27, 28, 0, 0, k=2e4, I=4e-5)) # torque transducer\n",
    "    shafts.append(ot.Shaft(28, 29, 0, 0, k=138e3, I=2.8e-4)) # coupling\n",
    "    shafts.append(ot.Shaft(29, 30, 117, 25)) # shaft\n",
    "    disks.append(ot.Disk(30, I=7.5863e-3)) # mass\n",
    "    shafts.append(ot.Shaft(30, 31, 77, 25))\n",
    "    shafts.append(ot.Shaft(31, 32, 0, 0, k=31e3, I=0.12e-3))\n",
    "\n",
    "    '''Planetary gear, driving motor'''\n",
    "    #gear3 = ot.Gear(32, I=1.32e-4, R=1) # planetary gear\n",
    "    #gears.append(gear3)\n",
    "    #gears.append(ot.Gear(33, I=0, R=8, parent=gear3))\n",
    "    #shafts.append(ot.Shaft(33, 34, 0, 0, k=1e9, I=6.5e-4))\n",
    "    disks.append(ot.Disk(32, I=6.5e-4)) # load generator\n",
    "\n",
    "    assembly = ot.Assembly(shafts, disk_elements=disks, gear_elements=gears)\n",
    "    _, f, _ = assembly.modal_analysis()\n",
    "    print(f.round(2))\n",
    "\n",
    "    return assembly"
   ]
  },
  {
   "cell_type": "code",
   "execution_count": null,
   "id": "913c7c3a",
   "metadata": {},
   "outputs": [],
   "source": [
    "def state_matrices(assembly):\n",
    "    \"\"\"\n",
    "    Create state-space matrices A and B of an openTorsion assembly.\n",
    "\n",
    "    Parameters:\n",
    "    assembly : openTorsion assembly instance\n",
    "        Mechanical drivetrain model.\n",
    "\n",
    "    Returns:\n",
    "    A : numpy.ndarray\n",
    "        The state matrix\n",
    "    B : numpy.ndarray\n",
    "        The input matrix\n",
    "    \"\"\"\n",
    "    M, C, K = assembly.M(), assembly.C(), assembly.K()  # Mass and stiffness matrices\n",
    "    C = assembly.C_modal(M, K, xi=0.04)\n",
    "    Z = np.zeros(M.shape)\n",
    "    I = np.eye(M.shape[0])\n",
    "    M_inv = LA.inv(M)\n",
    "\n",
    "    A = np.vstack([np.hstack([Z, I]), np.hstack([-M_inv @ K, -M_inv @ C])])\n",
    "\n",
    "    B = np.vstack([Z, M_inv])\n",
    "\n",
    "    return A, B"
   ]
  },
  {
   "cell_type": "code",
   "execution_count": null,
   "id": "5ed7eb95",
   "metadata": {},
   "outputs": [],
   "source": [
    "def c2d(A, B, Ts):\n",
    "    \"\"\"\n",
    "    C2D computes a discrete-time model of a system (A_c,B_c) with sample time T_s.\n",
    "    The function returns matrices A,B of the discrete-time system.\n",
    "    \"\"\"\n",
    "    m, n = A.shape\n",
    "    nb = B.shape[1]\n",
    "\n",
    "    s = np.concatenate([A,B], axis=1)\n",
    "    s = np.concatenate([s, np.zeros((nb, n+nb))], axis=0)\n",
    "    S = LA.expm(s*Ts)\n",
    "    Ad = S[0:n,0:n]\n",
    "    Bd = S[0:n,n:n+nb+1]\n",
    "    \n",
    "    return Ad, Bd"
   ]
  },
  {
   "cell_type": "code",
   "execution_count": null,
   "id": "f94fedbc",
   "metadata": {},
   "outputs": [],
   "source": [
    "assembly = testbench()\n",
    "#assembly = testbench_demoday()\n",
    "Ac, Bc_full = state_matrices(assembly)\n",
    "Bc = np.vstack((Bc_full[:,0], Bc_full[:,-1])).T\n",
    "C = np.eye(Bc.shape[0])\n",
    "D = np.zeros((C.shape[0], Bc.shape[1]))"
   ]
  },
  {
   "cell_type": "markdown",
   "id": "a46e94dd",
   "metadata": {},
   "source": [
    "# Input and state estimation with laboratory testbench measurments"
   ]
  },
  {
   "cell_type": "markdown",
   "id": "5a46f602",
   "metadata": {},
   "source": [
    "## Load and preprocess data\n",
    "* motor sampling rate ~1kHz\n",
    "* sensor sampling rate ~3kHz"
   ]
  },
  {
   "cell_type": "code",
   "execution_count": null,
   "id": "210289f5",
   "metadata": {},
   "outputs": [],
   "source": [
    "# time | MotorVelocitySet | MotorVelocity | MotorTorqueSet | MotorTorque | PropellerVelocitySet | PropellerVelocity | PropellerTorqueSet | PropellerTorque\n",
    "m_data = np.genfromtxt('../../data/testbench_data/motor/baseline_500rpm_Constant_Torque_11%_motor_GP1.csv', delimiter=',')\n",
    "motor_data = np.delete(m_data, 0, 0) # delete header row\n",
    "\n",
    "# time | enc1_ang | enc1_time | enc2_ang | enc2_time | enc3_ang | enc3_time | enc4_ang | enc4_time | enc5_ang | enc5_time | acc1 | acc2 | acc3 | acc4 | Torq1 | Torq2\n",
    "s_data = np.genfromtxt('../../data/testbench_data/sensor/baseline_500rpm_Constant_Torque_11%_GP1.csv', delimiter=',')\n",
    "sensor_data = np.delete(s_data, 0, 0) # delete header row"
   ]
  },
  {
   "cell_type": "code",
   "execution_count": null,
   "id": "b97dbfd8",
   "metadata": {},
   "outputs": [],
   "source": [
    "t_motor = motor_data[:,0]\n",
    "tau_motor = motor_data[:,2+2]\n",
    "tau_propeller = motor_data[:,6+2]"
   ]
  },
  {
   "cell_type": "code",
   "execution_count": null,
   "id": "bdd9a460",
   "metadata": {},
   "outputs": [],
   "source": [
    "print(len(t_motor))\n",
    "plt.plot(t_motor, tau_motor, label='motor')\n",
    "plt.plot(t_motor, tau_propeller, label='propeller')\n",
    "plt.legend()\n",
    "plt.show()"
   ]
  },
  {
   "cell_type": "markdown",
   "id": "74c0a730",
   "metadata": {},
   "source": [
    "## Simulation with measured inputs"
   ]
  },
  {
   "cell_type": "code",
   "execution_count": null,
   "id": "176c0829",
   "metadata": {},
   "outputs": [],
   "source": [
    "#dt = np.mean(np.diff(t_motor))\n",
    "dt = 0.001\n",
    "mot_pot = np.vstack((-tau_motor, tau_propeller)).T\n",
    "\n",
    "A, B = c2d(Ac, Bc, dt)\n",
    "print(B.shape)"
   ]
  },
  {
   "cell_type": "code",
   "execution_count": null,
   "id": "deb9eb66",
   "metadata": {},
   "outputs": [],
   "source": [
    "plt.plot(mot_pot)"
   ]
  },
  {
   "cell_type": "code",
   "execution_count": null,
   "id": "e8299568",
   "metadata": {},
   "outputs": [],
   "source": [
    "t_out, y_out, x_out = dlsim((A, B, C, D, dt), t=t_motor, u=mot_pot)"
   ]
  },
  {
   "cell_type": "code",
   "execution_count": null,
   "id": "f05a0ba8",
   "metadata": {},
   "outputs": [],
   "source": [
    "def X(k_values, ndof):\n",
    "    \"\"\"\n",
    "    Used to transform the state-matrix to be compatible with shaft torque as a state.\n",
    "    \"\"\"\n",
    "    rows = ndof-1\n",
    "    cols = ndof\n",
    "    if len(k_values) != rows:\n",
    "        print(\"wrong amount of stiffness values / dofs\")\n",
    "        return\n",
    "    \n",
    "    X_up = np.zeros((rows, cols))\n",
    "    X_down = np.eye(cols)\n",
    "    Z_up = np.zeros(X_up.shape)\n",
    "    Z_down = np.zeros(X_down.shape)\n",
    "    \n",
    "    for i in range(rows):\n",
    "        X_up[i,i] = -k_values[i]\n",
    "        X_up[i,i+1] = k_values[i]\n",
    "    \n",
    "    X_matrix = np.vstack([np.hstack([X_up, Z_up]), np.hstack([Z_down, X_down])])\n",
    "    \n",
    "    X_inv = X_matrix.T @ np.linalg.inv(X_matrix @ X_matrix.T)\n",
    "    \n",
    "    return X_matrix, X_inv"
   ]
  },
  {
   "cell_type": "code",
   "execution_count": null,
   "id": "41f13da0",
   "metadata": {},
   "outputs": [],
   "source": [
    "k_values = -np.diag(assembly.K(), 1)\n",
    "gear_correction = np.array([1, 1, 1, 1, 1, 1, 1, 1, 1, 1, 1, 1/3, 1, 1, 1, 1/4, 1, 1, 1])\n",
    "k_values *= gear_correction\n",
    "E, E_inv = X(k_values, 20)\n",
    "\n",
    "Act, Bct = E @ Ac @ E_inv, E @ Bc\n",
    "At, Bt = c2d(Act, Bct, dt)\n",
    "Ct = np.eye(Bt.shape[0])\n",
    "Dt = np.zeros((Ct.shape[0], Bt.shape[1]))"
   ]
  },
  {
   "cell_type": "code",
   "execution_count": null,
   "id": "29289c06",
   "metadata": {},
   "outputs": [],
   "source": [
    "tout, yout, xout = dlsim((At, Bt, Ct, Dt, dt), t=t_motor, u=mot_pot)"
   ]
  },
  {
   "cell_type": "markdown",
   "id": "740fc1b7",
   "metadata": {},
   "source": [
    "## Experimental measurements"
   ]
  },
  {
   "cell_type": "code",
   "execution_count": null,
   "id": "b341a6c8",
   "metadata": {},
   "outputs": [],
   "source": [
    "# motor sampling rate is ~1/3 of sensor sampling rate so every third sensor sample is used\n",
    "t_sensor = sensor_data[:,0]\n",
    "i_max = len(t_sensor) - (len(t_sensor) % len(t_motor))\n",
    "sensor_tmp = sensor_data[:i_max,:] # len(sensor_data) == 3*len(motor_data)\n",
    "sensor_data_third = sensor_tmp[::3,:] # len(sensor_data) == len(motor_data)"
   ]
  },
  {
   "cell_type": "code",
   "execution_count": null,
   "id": "b748d666",
   "metadata": {},
   "outputs": [],
   "source": [
    "t_sensor_third = sensor_data_third[:,0]\n",
    "torq_sensor1 = sensor_data_third[:,-2]\n",
    "torq_sensor2 = sensor_data_third[:,-1]"
   ]
  },
  {
   "cell_type": "code",
   "execution_count": null,
   "id": "a644b3a3",
   "metadata": {},
   "outputs": [],
   "source": [
    "omega1 = np.gradient(sensor_data_third[:,1]*(np.pi/180), sensor_data_third[:,2])\n",
    "omega2 = np.gradient(sensor_data_third[:,3]*(np.pi/180), sensor_data_third[:,4])\n",
    "omega3 = np.gradient(sensor_data_third[:,5]*(np.pi/180), sensor_data_third[:,6])\n",
    "omega4 = -np.gradient(sensor_data_third[:,7]*(np.pi/180), sensor_data_third[:,8])\n",
    "omega5 = np.gradient(sensor_data_third[:,9]*(np.pi/180), sensor_data_third[:,10])\n",
    "omega1[np.isnan(omega1)] = 0\n",
    "omega2[np.isnan(omega2)] = 0\n",
    "omega3[np.isnan(omega3)] = 0\n",
    "omega4[np.isnan(omega4)] = 0\n",
    "omega5[np.isnan(omega5)] = 0\n",
    "plt.plot(t_sensor_third, omega1, label='enc1')\n",
    "plt.plot(t_sensor_third, omega2, label='enc2')\n",
    "plt.plot(t_sensor_third, omega3, label='enc3')\n",
    "plt.plot(t_sensor_third, omega4, label='enc4')\n",
    "plt.plot(t_sensor_third, omega5, label='enc5')\n",
    "plt.legend()\n",
    "plt.show()"
   ]
  },
  {
   "cell_type": "code",
   "execution_count": null,
   "id": "a494be02",
   "metadata": {},
   "outputs": [],
   "source": [
    "# torque sensor data is mixed up: V -> Nm conversion is redone\n",
    "torq1 = (torq_sensor1/10)*4\n",
    "torq2 = (torq_sensor2/4)*10\n",
    "\n",
    "plt.plot(t_sensor_third, torq1, label='Torque sensor 1')\n",
    "#plt.plot(t_sensor_third, torq2, label='Torque sensor 2', alpha=0.5)\n",
    "#plt.plot(t_out, 5400*(y_out[:,18]-y_out[:,17]), label='Simulated torque sensor 1') # demoday\n",
    "plt.plot(t_out, 5400*(y_out[:,9]-y_out[:,8]), label='Simulated torque sensor 1')\n",
    "plt.plot(tout, yout[:,8], label='Simulated torque sensor 1 (transformed model)')\n",
    "plt.legend()\n",
    "plt.show()"
   ]
  },
  {
   "cell_type": "code",
   "execution_count": null,
   "id": "88366e71",
   "metadata": {},
   "outputs": [],
   "source": [
    "print(y_out.shape)"
   ]
  },
  {
   "cell_type": "code",
   "execution_count": null,
   "id": "d944b84c",
   "metadata": {},
   "outputs": [],
   "source": [
    "plt.plot(t_sensor_third, omega1, label='enc1')\n",
    "\n",
    "plt.plot(t_out, y_out[:,20], label='Simulated speed measurement 1')\n",
    "plt.legend()\n",
    "plt.show()"
   ]
  },
  {
   "cell_type": "code",
   "execution_count": null,
   "id": "51614ede",
   "metadata": {},
   "outputs": [],
   "source": [
    "plt.plot(y_out[:,9]-y_out[:,8])"
   ]
  },
  {
   "cell_type": "markdown",
   "id": "00b60ddd",
   "metadata": {},
   "source": [
    "# Input and state estimation functions"
   ]
  },
  {
   "cell_type": "code",
   "execution_count": null,
   "id": "71dc0ff8",
   "metadata": {},
   "outputs": [],
   "source": [
    "def O(A, C, n):\n",
    "    '''\n",
    "    Create the extended observability matrix used in the data equation.\n",
    "\n",
    "    Parameters:\n",
    "\n",
    "    A : numpy.ndarray\n",
    "        The state matrix of the state-space system\n",
    "    C : numpy.ndarray\n",
    "        The observation matrix of the state-space system\n",
    "    n : float\n",
    "        number of measurements\n",
    "\n",
    "    Returns:\n",
    "\n",
    "    O : numpy.ndarray, shape(n, number of state variables)\n",
    "        The extended observability matrix\n",
    "    '''\n",
    "    A_power = np.copy(A)\n",
    "    O = np.vstack((np.copy(C), C @ A))\n",
    "    \n",
    "    for k in range(n-2):\n",
    "        A_power = A_power @ A\n",
    "        O = np.vstack((O, C @ A_power))\n",
    "\n",
    "    return O"
   ]
  },
  {
   "cell_type": "code",
   "execution_count": null,
   "id": "77af53ca",
   "metadata": {},
   "outputs": [],
   "source": [
    "def gamma(A, B, C, n):\n",
    "    '''\n",
    "    Create the impulse response matrix used in the data equation.\n",
    "\n",
    "    Parameters:\n",
    "\n",
    "    A : numpy.ndarray\n",
    "        The state matrix of the state-space system\n",
    "    B : numpy.ndarray\n",
    "        The input matrix of the state-space system\n",
    "    C : numpy.ndarray\n",
    "        The observation matrix of the state-space system\n",
    "    n : float\n",
    "        number of measurements\n",
    "\n",
    "    Returns:\n",
    "\n",
    "    gamma : numpy.ndarray, shape(n*number of state variables, n*number of state variables)\n",
    "        The impulse response matrix\n",
    "    '''\n",
    "    A_power = np.copy(A)\n",
    "    Z = np.zeros((C @ B).shape)\n",
    "    \n",
    "    # first column\n",
    "    gamma_column_first = np.vstack((\n",
    "        Z,\n",
    "        C @ B, \n",
    "        C @ A @ B\n",
    "    ))\n",
    "    for _ in range(n-3):\n",
    "        A_power = A_power @ A\n",
    "        gamma_column_first = np.vstack((gamma_column_first, C @ A_power @ B))\n",
    "\n",
    "    # build complete matrix, column by column, from left to right\n",
    "    gamma = np.copy(gamma_column_first)\n",
    "    current_column = 1\n",
    "    for _ in range(1, n):\n",
    "        gamma_rows = Z\n",
    "        \n",
    "        # first add zero matrices\n",
    "        for _ in range(current_column):\n",
    "            gamma_rows = np.vstack((gamma_rows, Z))\n",
    "        \n",
    "        # then add the impulse responses\n",
    "        A_power2 = np.copy(A)\n",
    "        \n",
    "        if current_column < (n-2):\n",
    "            gamma_rows = np.vstack((\n",
    "                gamma_rows,\n",
    "                C @ B,\n",
    "                C @ A @ B # these must not be added to the last and the second to last columns\n",
    "            ))\n",
    "            \n",
    "        if current_column == (n-2):\n",
    "            gamma_rows = np.vstack((\n",
    "                gamma_rows,\n",
    "                C @ B # this has to be added to the end of the second to last column\n",
    "            ))\n",
    "        \n",
    "        for _ in range(n-current_column-3):\n",
    "            A_power2 = A_power2 @ A\n",
    "            gamma_rows = np.vstack((gamma_rows, C @ A_power2 @ B))\n",
    "\n",
    "        # add column on the right hand side\n",
    "        gamma = np.hstack((gamma, gamma_rows))\n",
    "        current_column += 1\n",
    "    \n",
    "    return gamma"
   ]
  },
  {
   "cell_type": "code",
   "execution_count": null,
   "id": "878403ed",
   "metadata": {},
   "outputs": [],
   "source": [
    "def L(input_shape):\n",
    "    '''\n",
    "    The regularization matrix L.\n",
    "\n",
    "    Parameters:\n",
    "\n",
    "    input_shape : float\n",
    "        Input vector shape used to determine L matrix shape.\n",
    "\n",
    "    Returns:\n",
    "\n",
    "    L : ndarray\n",
    "        The regularization matrix\n",
    "    '''\n",
    "    I = np.eye(input_shape)\n",
    "    L = -I + np.diag(np.ones(input_shape-1), 1)\n",
    "\n",
    "    return I"
   ]
  },
  {
   "cell_type": "code",
   "execution_count": null,
   "id": "b38d4687",
   "metadata": {},
   "outputs": [],
   "source": [
    "def second_difference_matrix(n, m):\n",
    "    D2 = np.eye(n*m) - 2*np.eye(n*m, k=2) + np.eye(n*m, k=4)\n",
    "    \n",
    "    # delete incomplete rows\n",
    "    D2 = D2[:-2*m, :]\n",
    "    \n",
    "    return D2"
   ]
  },
  {
   "cell_type": "code",
   "execution_count": null,
   "id": "e5daeaea",
   "metadata": {},
   "outputs": [],
   "source": [
    "def tikhonov_problem(meas, obsrv, gamm, regu, initial_state=None, lam=1, cmplx=False):\n",
    "    '''\n",
    "    This function uses the cvxpy library to solve a Tikhonov regularization problem.\n",
    "    '''\n",
    "    d = cp.Variable((gamm.shape[1], 1), complex=cmplx)\n",
    "    \n",
    "    if initial_state is None:\n",
    "        x = cp.Variable((obsrv.shape[1], 1), complex=cmplx)\n",
    "    else:\n",
    "        x = initial_state\n",
    "        \n",
    "    measurements = cp.Parameter(meas.shape)\n",
    "    measurements.value = meas\n",
    "    \n",
    "    objective = cp.Minimize(cp.sum_squares(measurements - obsrv @ x - gamm @ d) + lam * cp.sum_squares(regu @ d))\n",
    "    \n",
    "    prob = cp.Problem(objective)\n",
    "    prob.solve()\n",
    "\n",
    "    if initial_state is None:\n",
    "        x_value = x.value\n",
    "    else:\n",
    "        x_value = initial_state\n",
    "\n",
    "    return d.value, x_value"
   ]
  },
  {
   "cell_type": "code",
   "execution_count": null,
   "id": "63723717",
   "metadata": {},
   "outputs": [],
   "source": [
    "def lasso_problem(meas, obsrv, gamm, regu, initial_state=None, lam=1, cmplx=False):\n",
    "    '''\n",
    "    This function uses the cvxpy library to solve a LASSO problem.\n",
    "    '''\n",
    "    d = cp.Variable((gamm.shape[1], 1), complex=cmplx)\n",
    "    \n",
    "    if initial_state is None:\n",
    "        x = cp.Variable((obsrv.shape[1], 1), complex=cmplx)\n",
    "    else:\n",
    "        x = initial_state\n",
    "        \n",
    "    measurements = cp.Parameter(meas.shape)\n",
    "    measurements.value = meas\n",
    "    \n",
    "    objective = cp.Minimize(cp.sum_squares(measurements - obsrv @ x - gamm @ d) + lam * cp.pnorm(regu @ d, 1))\n",
    "    \n",
    "    prob = cp.Problem(objective)\n",
    "    prob.solve()\n",
    "    \n",
    "    if initial_state is None:\n",
    "        x_value = x.value\n",
    "    else:\n",
    "        x_value = initial_state\n",
    "\n",
    "    return d.value, x_value"
   ]
  },
  {
   "cell_type": "markdown",
   "id": "26c72c88",
   "metadata": {},
   "source": [
    "## Input estimation"
   ]
  },
  {
   "cell_type": "code",
   "execution_count": null,
   "id": "786ddcf1",
   "metadata": {},
   "outputs": [],
   "source": [
    "measurements_noise = np.vstack((y_out[40000:-28,0], y_out[40000:-28,8], omega1[40000:], omega2[40000:])).T\n",
    "print(measurements_noise.shape)"
   ]
  },
  {
   "cell_type": "code",
   "execution_count": null,
   "id": "a343d41e",
   "metadata": {},
   "outputs": [],
   "source": [
    "c_mat = np.vstack((C[0,:], C[8,:], C[27,:], C[28,:]))"
   ]
  },
  {
   "cell_type": "code",
   "execution_count": null,
   "id": "5a71b4bb",
   "metadata": {},
   "outputs": [],
   "source": [
    "m = B.shape[1]\n",
    "n = 2e4 # corresponds to datapoints in over a 2 second period (1 kHz sampling frequency)\n",
    "\n",
    "bs = 500 # batch size\n",
    "loop_len = int(n/bs)\n",
    "\n",
    "D2_mat = second_difference_matrix(bs, m)\n",
    "L_mat = L(bs*m)\n",
    "O_mat = O(A, c_mat, bs)\n",
    "G_mat = gamma(A, B, c_mat, bs)\n",
    "x_tikhonov = np.zeros((O_mat.shape[1], 1))\n",
    "x_lasso = np.zeros((O_mat.shape[1], 1))\n",
    "\n",
    "tikh_estimates = []\n",
    "lasso_estimates = []"
   ]
  },
  {
   "cell_type": "code",
   "execution_count": null,
   "id": "8764d3e4",
   "metadata": {},
   "outputs": [],
   "source": [
    "print(O_mat.shape)\n",
    "print(B.shape)\n",
    "print(m)\n",
    "print(loop_len)"
   ]
  },
  {
   "cell_type": "code",
   "execution_count": null,
   "id": "d07a269a",
   "metadata": {},
   "outputs": [],
   "source": [
    "# for initial state estimation\n",
    "C_full = np.eye(B.shape[0])\n",
    "omat = O(A, C_full, bs)\n",
    "gmat = gamma(A, B, C_full, bs)"
   ]
  },
  {
   "cell_type": "code",
   "execution_count": null,
   "id": "f4013166",
   "metadata": {},
   "outputs": [],
   "source": [
    "for i in range(loop_len):\n",
    "    batch = measurements_noise[i*bs:(i+1)*bs,:]\n",
    "    y_noise = batch.reshape(-1,1)\n",
    "    \n",
    "    #print('Initial state estimate (Tikhonov):\\n', x_tikhonov.T)\n",
    "    #print('Initial state estimate (LASSO):\\n', x_lasso.T)\n",
    "    \n",
    "    tikhonov_estimate, x_tikhonov = tikhonov_problem(y_noise, O_mat, G_mat, D2_mat, initial_state=x_tikhonov, lam=0.05)\n",
    "    lasso_estimate, x_lasso = lasso_problem(y_noise, O_mat, G_mat, D2_mat, initial_state=x_lasso, lam=0.05)\n",
    "    \n",
    "    x_est_t = omat @ x_tikhonov + gmat @ tikhonov_estimate\n",
    "    x_tikhonov = x_est_t[-A.shape[0]:,:]\n",
    "    \n",
    "    x_est_l = omat @ x_lasso + gmat @ lasso_estimate\n",
    "    x_lasso = x_est_l[-A.shape[0]:,:]\n",
    "    \n",
    "    #print('New initial state estimate (Tikhonov):\\n', x_tikhonov.T)\n",
    "    #print('New initial state estimate (LASSO):\\n', x_lasso.T)\n",
    "    \n",
    "    tikh_estimates.append(tikhonov_estimate)\n",
    "    lasso_estimates.append(lasso_estimate)"
   ]
  },
  {
   "cell_type": "code",
   "execution_count": null,
   "id": "74b2e9b8",
   "metadata": {},
   "outputs": [],
   "source": [
    "for i in range(loop_len):\n",
    "    plt.plot(t_motor[i*bs:(i+1)*bs], tau_motor[i*bs:(i+1)*bs], linestyle='solid', color='black')\n",
    "    plt.plot(t_sensor_third[i*bs:(i+1)*bs], tikh_estimates[i][::2], linestyle='dotted', alpha=0.2, color='red')\n",
    "    plt.plot(t_sensor_third[i*bs:(i+1)*bs], lasso_estimates[i][::2], linestyle='dashed', color='blue')\n",
    "\n",
    "plt.legend(('known input', 'Tikhonov estimate', 'LASSO estimate'))\n",
    "plt.xlabel('Time (s)')\n",
    "plt.ylabel('Torque (Nm)')\n",
    "plt.title('Motor side input estimates (H-P trend filtering)')\n",
    "#plt.ylim(4.95, 5.05)\n",
    "#plt.xlim(0.4,0.6)\n",
    "plt.show()"
   ]
  },
  {
   "cell_type": "code",
   "execution_count": null,
   "id": "c6601df0",
   "metadata": {},
   "outputs": [],
   "source": [
    "%matplotlib widget\n",
    "for i in range(loop_len):\n",
    "    plt.plot(t_motor[i*bs:(i+1)*bs], tau_propeller[i*bs:(i+1)*bs], linestyle='solid', color='black')\n",
    "    plt.plot(t_sensor_third[i*bs:(i+1)*bs], tikh_estimates[i][1::2], linestyle='dotted', alpha=0.5, color='red')\n",
    "    plt.plot(t_sensor_third[i*bs:(i+1)*bs], lasso_estimates[i][1::2], linestyle='dashed', color='blue')\n",
    "\n",
    "plt.legend(('known input', 'Tikhonov estimate', 'LASSO estimate'))\n",
    "plt.xlabel('Time (s)')\n",
    "plt.ylabel('Torque (Nm)')\n",
    "plt.title('Propeller side input estimates (H-P trend filtering)')\n",
    "#plt.ylim(-4, 0)\n",
    "#plt.xlim(0.4,0.6)\n",
    "plt.show()"
   ]
  },
  {
   "cell_type": "code",
   "execution_count": null,
   "id": "ec47f82d",
   "metadata": {},
   "outputs": [],
   "source": []
  }
 ],
 "metadata": {
  "kernelspec": {
   "display_name": "Python 3 (ipykernel)",
   "language": "python",
   "name": "python3"
  },
  "language_info": {
   "codemirror_mode": {
    "name": "ipython",
    "version": 3
   },
   "file_extension": ".py",
   "mimetype": "text/x-python",
   "name": "python",
   "nbconvert_exporter": "python",
   "pygments_lexer": "ipython3",
   "version": "3.8.10"
  }
 },
 "nbformat": 4,
 "nbformat_minor": 5
}
