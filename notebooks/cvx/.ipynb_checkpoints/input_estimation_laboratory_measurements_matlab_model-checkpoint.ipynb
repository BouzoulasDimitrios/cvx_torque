{
 "cells": [
  {
   "cell_type": "markdown",
   "id": "2de039d7",
   "metadata": {},
   "source": [
    "# Matlab testbench model state-space matrices"
   ]
  },
  {
   "cell_type": "code",
   "execution_count": null,
   "id": "cb6fb862",
   "metadata": {},
   "outputs": [],
   "source": [
    "import numpy as np\n",
    "import matplotlib.pyplot as plt\n",
    "import scienceplots\n",
    "import scipy.linalg as LA\n",
    "from scipy.signal import lsim, dlsim\n",
    "import opentorsion as ot\n",
    "import cvxpy as cp"
   ]
  },
  {
   "cell_type": "code",
   "execution_count": null,
   "id": "7bb51379",
   "metadata": {},
   "outputs": [],
   "source": [
    "plt.style.use(['science', 'ieee'])\n",
    "plt.rcParams[\"figure.figsize\"] = (6,4)"
   ]
  },
  {
   "cell_type": "code",
   "execution_count": null,
   "id": "941d5fc9",
   "metadata": {},
   "outputs": [],
   "source": [
    "def c2d(A, B, Ts):\n",
    "    \"\"\"\n",
    "    C2D computes a discrete-time model of a system (A_c,B_c) with sample time T_s.\n",
    "    The function returns matrices A,B of the discrete-time system.\n",
    "    \"\"\"\n",
    "    m, n = A.shape\n",
    "    nb = B.shape[1]\n",
    "\n",
    "    s = np.concatenate([A,B], axis=1)\n",
    "    s = np.concatenate([s, np.zeros((nb, n+nb))], axis=0)\n",
    "    S = LA.expm(s*Ts)\n",
    "    Ad = S[0:n,0:n]\n",
    "    Bd = S[0:n,n:n+nb+1]\n",
    "    \n",
    "    return Ad, Bd"
   ]
  },
  {
   "cell_type": "code",
   "execution_count": null,
   "id": "19cc823f",
   "metadata": {},
   "outputs": [],
   "source": [
    "time_steps = np.genfromtxt('../../data/ice_excitation/times.csv', delimiter=',')\n",
    "motor = np.genfromtxt('../../data/ice_excitation/motor.csv', delimiter=',')\n",
    "propeller = np.genfromtxt('../../data/ice_excitation/propeller.csv', delimiter=',')\n",
    "angular_speeds = np.genfromtxt('../../data/ice_excitation/speed_measurements.csv', delimiter=',')\n",
    "shaft_torque = np.genfromtxt('../../data/ice_excitation/torque_measurements.csv', delimiter=',')"
   ]
  },
  {
   "cell_type": "code",
   "execution_count": null,
   "id": "a065d5ee",
   "metadata": {},
   "outputs": [],
   "source": [
    "A_mat = np.genfromtxt('../../data/testbench_A.csv', delimiter=',')\n",
    "B_mat = np.genfromtxt('../../data/testbench_B.csv', delimiter=',')\n",
    "C_mat = np.genfromtxt('../../data/testbench_C.csv', delimiter=',')\n",
    "D_mat = np.genfromtxt('../../data/testbench_D.csv', delimiter=',')"
   ]
  },
  {
   "cell_type": "code",
   "execution_count": null,
   "id": "8096400e",
   "metadata": {},
   "outputs": [],
   "source": [
    "ts = np.mean(np.diff(time_steps))\n",
    "A_mat_d, B_mat_d = c2d(A_mat, B_mat, ts)"
   ]
  },
  {
   "cell_type": "markdown",
   "id": "fd3b4102",
   "metadata": {},
   "source": [
    "# Input and state estimation functions"
   ]
  },
  {
   "cell_type": "code",
   "execution_count": null,
   "id": "4d4feefa",
   "metadata": {},
   "outputs": [],
   "source": [
    "def O(A, C, n):\n",
    "    '''\n",
    "    Create the extended observability matrix used in the data equation.\n",
    "\n",
    "    Parameters:\n",
    "\n",
    "    A : numpy.ndarray\n",
    "        The state matrix of the state-space system\n",
    "    C : numpy.ndarray\n",
    "        The observation matrix of the state-space system\n",
    "    n : float\n",
    "        number of measurements\n",
    "\n",
    "    Returns:\n",
    "\n",
    "    O : numpy.ndarray, shape(n, number of state variables)\n",
    "        The extended observability matrix\n",
    "    '''\n",
    "    A_power = np.copy(A)\n",
    "    O = np.vstack((np.copy(C), C @ A))\n",
    "    \n",
    "    for k in range(n-2):\n",
    "        A_power = A_power @ A\n",
    "        O = np.vstack((O, C @ A_power))\n",
    "\n",
    "    return O"
   ]
  },
  {
   "cell_type": "code",
   "execution_count": null,
   "id": "eced1cfb",
   "metadata": {},
   "outputs": [],
   "source": [
    "def gamma(A, B, C, n):\n",
    "    '''\n",
    "    Create the impulse response matrix used in the data equation.\n",
    "\n",
    "    Parameters:\n",
    "\n",
    "    A : numpy.ndarray\n",
    "        The state matrix of the state-space system\n",
    "    B : numpy.ndarray\n",
    "        The input matrix of the state-space system\n",
    "    C : numpy.ndarray\n",
    "        The observation matrix of the state-space system\n",
    "    n : float\n",
    "        number of measurements\n",
    "\n",
    "    Returns:\n",
    "\n",
    "    gamma : numpy.ndarray, shape(n*number of state variables, n*number of state variables)\n",
    "        The impulse response matrix\n",
    "    '''\n",
    "    A_power = np.copy(A)\n",
    "    Z = np.zeros((C @ B).shape)\n",
    "    \n",
    "    # first column\n",
    "    gamma_column_first = np.vstack((\n",
    "        Z,\n",
    "        C @ B, \n",
    "        C @ A @ B\n",
    "    ))\n",
    "    for _ in range(n-3):\n",
    "        A_power = A_power @ A\n",
    "        gamma_column_first = np.vstack((gamma_column_first, C @ A_power @ B))\n",
    "\n",
    "    # build complete matrix, column by column, from left to right\n",
    "    gamma = np.copy(gamma_column_first)\n",
    "    current_column = 1\n",
    "    for _ in range(1, n):\n",
    "        gamma_rows = Z\n",
    "        \n",
    "        # first add zero matrices\n",
    "        for _ in range(current_column):\n",
    "            gamma_rows = np.vstack((gamma_rows, Z))\n",
    "        \n",
    "        # then add the impulse responses\n",
    "        A_power2 = np.copy(A)\n",
    "        \n",
    "        if current_column < (n-2):\n",
    "            gamma_rows = np.vstack((\n",
    "                gamma_rows,\n",
    "                C @ B,\n",
    "                C @ A @ B # these must not be added to the last and the second to last columns\n",
    "            ))\n",
    "            \n",
    "        if current_column == (n-2):\n",
    "            gamma_rows = np.vstack((\n",
    "                gamma_rows,\n",
    "                C @ B # this has to be added to the end of the second to last column\n",
    "            ))\n",
    "        \n",
    "        for _ in range(n-current_column-3):\n",
    "            A_power2 = A_power2 @ A\n",
    "            gamma_rows = np.vstack((gamma_rows, C @ A_power2 @ B))\n",
    "\n",
    "        # add column on the right hand side\n",
    "        gamma = np.hstack((gamma, gamma_rows))\n",
    "        current_column += 1\n",
    "    \n",
    "    return gamma"
   ]
  },
  {
   "cell_type": "code",
   "execution_count": null,
   "id": "c7e526e8",
   "metadata": {},
   "outputs": [],
   "source": [
    "def L(input_shape):\n",
    "    '''\n",
    "    The regularization matrix L.\n",
    "\n",
    "    Parameters:\n",
    "\n",
    "    input_shape : float\n",
    "        Input vector shape used to determine L matrix shape.\n",
    "\n",
    "    Returns:\n",
    "\n",
    "    L : ndarray\n",
    "        The regularization matrix\n",
    "    '''\n",
    "    I = np.eye(input_shape)\n",
    "    L = -I + np.diag(np.ones(input_shape-1), 1)\n",
    "\n",
    "    return I"
   ]
  },
  {
   "cell_type": "code",
   "execution_count": null,
   "id": "09fade41",
   "metadata": {},
   "outputs": [],
   "source": [
    "def second_difference_matrix(n, m):\n",
    "    D2 = np.eye(n*m) - 2*np.eye(n*m, k=2) + np.eye(n*m, k=4)\n",
    "    \n",
    "    # delete incomplete rows\n",
    "    D2 = D2[:-2*m, :]\n",
    "    \n",
    "    return D2"
   ]
  },
  {
   "cell_type": "code",
   "execution_count": null,
   "id": "4bb40a78",
   "metadata": {},
   "outputs": [],
   "source": [
    "def tikhonov_problem(meas, obsrv, gamm, regu, initial_state=None, lam=1, cmplx=False):\n",
    "    '''\n",
    "    This function uses the cvxpy library to solve a Tikhonov regularization problem.\n",
    "    '''\n",
    "    d = cp.Variable((gamm.shape[1], 1), complex=cmplx)\n",
    "    \n",
    "    if initial_state is None:\n",
    "        x = cp.Variable((obsrv.shape[1], 1), complex=cmplx)\n",
    "    else:\n",
    "        x = initial_state\n",
    "        \n",
    "    measurements = cp.Parameter(meas.shape)\n",
    "    measurements.value = meas\n",
    "    \n",
    "    objective = cp.Minimize(cp.sum_squares(measurements - obsrv @ x - gamm @ d) + lam * cp.sum_squares(regu @ d))\n",
    "    \n",
    "    prob = cp.Problem(objective)\n",
    "    prob.solve()\n",
    "\n",
    "    if initial_state is None:\n",
    "        x_value = x.value\n",
    "    else:\n",
    "        x_value = initial_state\n",
    "\n",
    "    return d.value, x_value"
   ]
  },
  {
   "cell_type": "code",
   "execution_count": null,
   "id": "0191fd4b",
   "metadata": {},
   "outputs": [],
   "source": [
    "def lasso_problem(meas, obsrv, gamm, regu, initial_state=None, lam=1, cmplx=False):\n",
    "    '''\n",
    "    This function uses the cvxpy library to solve a LASSO problem.\n",
    "    '''\n",
    "    d = cp.Variable((gamm.shape[1], 1), complex=cmplx)\n",
    "    \n",
    "    if initial_state is None:\n",
    "        x = cp.Variable((obsrv.shape[1], 1), complex=cmplx)\n",
    "    else:\n",
    "        x = initial_state\n",
    "        \n",
    "    measurements = cp.Parameter(meas.shape)\n",
    "    measurements.value = meas\n",
    "    \n",
    "    objective = cp.Minimize(cp.sum_squares(measurements - obsrv @ x - gamm @ d) + lam * cp.pnorm(regu @ d, 1))\n",
    "    \n",
    "    prob = cp.Problem(objective)\n",
    "    prob.solve()\n",
    "    \n",
    "    if initial_state is None:\n",
    "        x_value = x.value\n",
    "    else:\n",
    "        x_value = initial_state\n",
    "\n",
    "    return d.value, x_value"
   ]
  },
  {
   "cell_type": "markdown",
   "id": "ca95b8b9",
   "metadata": {},
   "source": [
    "# TODO: Input and state estimation with laboratory testbench measurments"
   ]
  },
  {
   "cell_type": "markdown",
   "id": "e693ed83",
   "metadata": {},
   "source": [
    "## Load and preprocess data\n",
    "* motor sampling rate ~1kHz\n",
    "* sensor sampling rate ~3kHz"
   ]
  },
  {
   "cell_type": "code",
   "execution_count": null,
   "id": "3687b9c5",
   "metadata": {},
   "outputs": [],
   "source": [
    "# time | MotorVelocitySet | MotorVelocity | MotorTorqueSet | MotorTorque | PropellerVelocitySet | PropellerVelocity | PropellerTorqueSet | PropellerTorque\n",
    "m_data = np.genfromtxt('../../data/testbench_data/motor/baseline_500rpm_Constant_Torque_11%_motor_GP1.csv', delimiter=',')\n",
    "motor_data = np.delete(m_data, 0, 0) # delete header row\n",
    "\n",
    "# time | enc1_ang | enc1_time | enc2_ang | enc2_time | enc3_ang | enc3_time | enc4_ang | enc4_time | enc5_ang | enc5_time | acc1 | acc2 | acc3 | acc4 | Torq1 | Torq2\n",
    "s_data = np.genfromtxt('../../data/testbench_data/sensor/baseline_500rpm_Constant_Torque_11%_GP1.csv', delimiter=',')\n",
    "sensor_data = np.delete(s_data, 0, 0) # delete header row"
   ]
  },
  {
   "cell_type": "code",
   "execution_count": null,
   "id": "bafeaf7d",
   "metadata": {},
   "outputs": [],
   "source": [
    "# time | MotorTorqueSet | MotorTorque | MotorVelocitySet | MotorVelocity | PropellerTorqueSet | PropellerTorque | PropellerVelocitySet | PropellerVelocity\n",
    "#m_data = np.genfromtxt('../../data/testbench_data/motor/baseline_500rpm_Sin_torque_11%_motor_GP1.csv', delimiter=',')\n",
    "#motor_data = np.delete(m_data, 0, 0) # delete header row\n",
    "\n",
    "# time | enc1_ang | enc1_time | enc2_ang | enc2_time | enc3_ang | enc3_time | enc4_ang | enc4_time | enc5_ang | enc5_time | acc1 | acc2 | acc3 | acc4 | Torq1 | Torq2\n",
    "#s_data = np.genfromtxt('../../data/testbench_data/sensor/baseline_500rpm_Sin_Torque_11%_GP1.csv', delimiter=',')\n",
    "#sensor_data = np.delete(s_data, 0, 0) # delete header row"
   ]
  },
  {
   "cell_type": "code",
   "execution_count": null,
   "id": "1be98066",
   "metadata": {},
   "outputs": [],
   "source": [
    "# time | MotorTorqueSet | MotorTorque | MotorVelocitySet | MotorVelocity | PropellerTorqueSet | PropellerTorque | PropellerVelocitySet | PropellerVelocity\n",
    "#m_data = np.genfromtxt('../../data/testbench_data/motor/Virtual_Sensor_2.4%_0_motor.csv', delimiter=',')\n",
    "#motor_data = np.delete(m_data, 0, 0) # delete header row\n",
    "\n",
    "# time | enc1_ang | enc1_time | enc2_ang | enc2_time | enc3_ang | enc3_time | enc4_ang | enc4_time | enc5_ang | enc5_time | acc1 | acc2 | acc3 | acc4 | Torq1 | Torq2\n",
    "#s_data = np.genfromtxt('../../data/testbench_data/sensor/Virtual_Sensor_2.4%_0.csv', delimiter=',')\n",
    "#sensor_data = np.delete(s_data, 0, 0) # delete header row"
   ]
  },
  {
   "cell_type": "code",
   "execution_count": null,
   "id": "65c5e734",
   "metadata": {},
   "outputs": [],
   "source": [
    "t_motor = motor_data[:,0]\n",
    "tau_motor = motor_data[:,2+2]\n",
    "tau_propeller = motor_data[:,6+2]"
   ]
  },
  {
   "cell_type": "code",
   "execution_count": null,
   "id": "c57dc0ac",
   "metadata": {},
   "outputs": [],
   "source": [
    "print(len(t_motor))\n",
    "plt.plot(t_motor, tau_motor, label='motor')\n",
    "plt.plot(t_motor, tau_propeller, label='propeller')\n",
    "#plt.xlim(0,10)\n",
    "plt.legend()\n",
    "plt.show()"
   ]
  },
  {
   "cell_type": "markdown",
   "id": "a64d8bbf",
   "metadata": {},
   "source": [
    "# Simulation with measured inputs"
   ]
  },
  {
   "cell_type": "code",
   "execution_count": null,
   "id": "cddd7552",
   "metadata": {},
   "outputs": [],
   "source": [
    "dt = np.mean(np.diff(t_motor))\n",
    "mot_pot = np.vstack((tau_motor, tau_propeller)).T\n",
    "\n",
    "A_mat_d, B_mat_d = c2d(A_mat, B_mat, dt)"
   ]
  },
  {
   "cell_type": "code",
   "execution_count": null,
   "id": "214f7bf3",
   "metadata": {},
   "outputs": [],
   "source": [
    "t_out, y_out, x_out = dlsim((A_mat_d, B_mat_d, C_mat, D_mat, dt), t=t_motor, u=mot_pot)"
   ]
  },
  {
   "cell_type": "markdown",
   "id": "3daa9c28",
   "metadata": {},
   "source": [
    "## Experimental measurements"
   ]
  },
  {
   "cell_type": "code",
   "execution_count": null,
   "id": "d3e3c7e6",
   "metadata": {},
   "outputs": [],
   "source": [
    "# motor sampling rate is ~1/3 of sensor sampling rate so every third sensor sample is used\n",
    "t_sensor = sensor_data[:,0]\n",
    "i_max = len(t_sensor) - (len(t_sensor) % len(t_motor))\n",
    "sensor_tmp = sensor_data[:i_max,:] # len(sensor_data) == 3*len(motor_data)\n",
    "sensor_data_third = sensor_tmp[::3,:] # len(sensor_data) == len(motor_data)"
   ]
  },
  {
   "cell_type": "code",
   "execution_count": null,
   "id": "ff1783e9",
   "metadata": {},
   "outputs": [],
   "source": [
    "t_sensor_third = sensor_data_third[:,0]\n",
    "torq_sensor1 = sensor_data_third[:,-2]\n",
    "torq_sensor2 = sensor_data_third[:,-1]"
   ]
  },
  {
   "cell_type": "code",
   "execution_count": null,
   "id": "6e7bb2b9",
   "metadata": {},
   "outputs": [],
   "source": [
    "omega1 = np.gradient(sensor_data_third[:,1]*(np.pi/180), sensor_data_third[:,2])\n",
    "omega2 = np.gradient(sensor_data_third[:,3]*(np.pi/180), sensor_data_third[:,4])\n",
    "omega3 = np.gradient(sensor_data_third[:,5]*(np.pi/180), sensor_data_third[:,6])\n",
    "omega4 = -np.gradient(sensor_data_third[:,7]*(np.pi/180), sensor_data_third[:,8])\n",
    "omega5 = np.gradient(sensor_data_third[:,9]*(np.pi/180), sensor_data_third[:,10])\n",
    "omega1[np.isnan(omega1)] = 0\n",
    "omega2[np.isnan(omega2)] = 0\n",
    "omega3[np.isnan(omega3)] = 0\n",
    "omega4[np.isnan(omega4)] = 0\n",
    "omega5[np.isnan(omega5)] = 0\n",
    "plt.plot(t_sensor_third, omega1, label='enc1')\n",
    "plt.plot(t_sensor_third, omega2, label='enc2')\n",
    "plt.plot(t_sensor_third, omega3, label='enc3')\n",
    "plt.plot(t_sensor_third, omega4, label='enc4')\n",
    "plt.plot(t_sensor_third, omega5, label='enc5')\n",
    "plt.legend()\n",
    "plt.show()"
   ]
  },
  {
   "cell_type": "code",
   "execution_count": null,
   "id": "0337b319",
   "metadata": {},
   "outputs": [],
   "source": [
    "# torque sensor data is mixed up: V -> Nm conversion is redone\n",
    "torq1 = (torq_sensor1/10)*4\n",
    "torq2 = (torq_sensor2/4)*10\n",
    "\n",
    "plt.plot(t_sensor_third, torq1, label='Torque sensor 1')\n",
    "#plt.plot(t_sensor_third, torq2, label='Torque sensor 2', alpha=0.5)\n",
    "plt.plot(t_out, y_out[:,-1], label='Simulated torque sensor 1')\n",
    "plt.legend()\n",
    "plt.show()"
   ]
  },
  {
   "cell_type": "markdown",
   "id": "ade3179d",
   "metadata": {},
   "source": [
    "## Input estimation"
   ]
  },
  {
   "cell_type": "code",
   "execution_count": null,
   "id": "3d6adbd9",
   "metadata": {},
   "outputs": [],
   "source": [
    "measurements_noise = np.vstack((omega1[40000:], omega2[40000:], tau_motor[40000:], torq1[40000:])).T\n",
    "print(measurements_noise.shape)"
   ]
  },
  {
   "cell_type": "code",
   "execution_count": null,
   "id": "ff476e2a",
   "metadata": {},
   "outputs": [],
   "source": [
    "c_mat1 = np.insert(C_mat, 2, np.zeros((1, C_mat.shape[1])), 0)\n",
    "c_mat1[2,22] += 1.9e5\n",
    "print(c_mat.shape)"
   ]
  },
  {
   "cell_type": "code",
   "execution_count": null,
   "id": "5e583e01",
   "metadata": {},
   "outputs": [],
   "source": [
    "B_mat_d1 = B_mat_d\n",
    "#B_mat_d1 = np.delete(B_mat_d, 0, 1)\n",
    "m = B_mat_d1.shape[1]\n",
    "#n = len(t_sensor_third)\n",
    "n = 2e4 # corresponds to datapoints in over a 2 second period (1 kHz sampling frequency)\n",
    "\n",
    "bs = 500 # batch size\n",
    "loop_len = int(n/bs)\n",
    "\n",
    "D2_mat = second_difference_matrix(bs, m)\n",
    "L_mat = L(bs*m)\n",
    "O_mat = O(A_mat_d, c_mat, bs)\n",
    "G_mat = gamma(A_mat_d, B_mat_d1, c_mat, bs)\n",
    "x_tikhonov = np.zeros((O_mat.shape[1], 1))\n",
    "x_lasso = np.zeros((O_mat.shape[1], 1))\n",
    "\n",
    "tikh_estimates = []\n",
    "lasso_estimates = []"
   ]
  },
  {
   "cell_type": "code",
   "execution_count": null,
   "id": "d15c379b",
   "metadata": {},
   "outputs": [],
   "source": [
    "print(O_mat.shape)\n",
    "print(B_mat_d1.shape)\n",
    "print(m)\n",
    "print(loop_len)"
   ]
  },
  {
   "cell_type": "code",
   "execution_count": null,
   "id": "f5c8d607",
   "metadata": {},
   "outputs": [],
   "source": [
    "# for initial state estimation\n",
    "C_full = np.eye(B_mat_d1.shape[0])\n",
    "omat = O(A_mat_d, C_full, bs)\n",
    "gmat = gamma(A_mat_d, B_mat_d1, C_full, bs)"
   ]
  },
  {
   "cell_type": "code",
   "execution_count": null,
   "id": "a4cd112d",
   "metadata": {},
   "outputs": [],
   "source": [
    "for i in range(loop_len):\n",
    "    batch = measurements_noise[i*bs:(i+1)*bs,:]\n",
    "    y_noise = batch.reshape(-1,1)\n",
    "    \n",
    "    #print('Initial state estimate (Tikhonov):\\n', x_tikhonov.T)\n",
    "    #print('Initial state estimate (LASSO):\\n', x_lasso.T)\n",
    "    \n",
    "    tikhonov_estimate, x_tikhonov = tikhonov_problem(y_noise, O_mat, G_mat, D2_mat, initial_state=x_tikhonov, lam=0.05)\n",
    "    lasso_estimate, x_lasso = lasso_problem(y_noise, O_mat, G_mat, D2_mat, initial_state=x_lasso, lam=0.05)\n",
    "    \n",
    "    x_est_t = omat @ x_tikhonov + gmat @ tikhonov_estimate\n",
    "    x_tikhonov = x_est_t[-A_mat_d.shape[0]:,:]\n",
    "    \n",
    "    x_est_l = omat @ x_lasso + gmat @ lasso_estimate\n",
    "    x_lasso = x_est_l[-A_mat_d.shape[0]:,:]\n",
    "    \n",
    "    #print('New initial state estimate (Tikhonov):\\n', x_tikhonov.T)\n",
    "    #print('New initial state estimate (LASSO):\\n', x_lasso.T)\n",
    "    \n",
    "    tikh_estimates.append(tikhonov_estimate)\n",
    "    lasso_estimates.append(lasso_estimate)"
   ]
  },
  {
   "cell_type": "code",
   "execution_count": null,
   "id": "ba98bfc8",
   "metadata": {},
   "outputs": [],
   "source": [
    "#%matplotlib widget\n",
    "for i in range(loop_len):\n",
    "    plt.plot(t_motor[i*bs:(i+1)*bs], tau_propeller[i*bs:(i+1)*bs], linestyle='solid', color='black')\n",
    "    plt.plot(t_sensor_third[i*bs:(i+1)*bs], lasso_estimates[i][1::2], linestyle='dashed', color='blue')\n",
    "\n",
    "plt.legend(('known input', 'LASSO estimate'))\n",
    "plt.xlabel('Time (s)')\n",
    "plt.ylabel('Torque (Nm)')\n",
    "plt.xlim(4,5)\n",
    "plt.title('Propeller side input estimates (H-P trend filtering)')\n",
    "plt.show()"
   ]
  },
  {
   "cell_type": "code",
   "execution_count": null,
   "id": "9751ab04",
   "metadata": {},
   "outputs": [],
   "source": [
    "for i in range(loop_len):\n",
    "    plt.plot(t_motor[i*bs:(i+1)*bs], tau_motor[i*bs:(i+1)*bs], linestyle='solid', color='black')\n",
    "    plt.plot(t_sensor_third[i*bs:(i+1)*bs], tikh_estimates[i][::2], linestyle='dotted', alpha=0.2, color='red')\n",
    "    plt.plot(t_sensor_third[i*bs:(i+1)*bs], lasso_estimates[i][::2], linestyle='dashed', color='blue')\n",
    "\n",
    "plt.legend(('known input', 'Tikhonov estimate', 'LASSO estimate'))\n",
    "plt.xlabel('Time (s)')\n",
    "plt.ylabel('Torque (Nm)')\n",
    "plt.title('Motor side input estimates (H-P trend filtering)')\n",
    "#plt.ylim(4.95, 5.05)\n",
    "#plt.xlim(0.4,0.6)\n",
    "plt.show()"
   ]
  },
  {
   "cell_type": "code",
   "execution_count": null,
   "id": "0c5a4ac6",
   "metadata": {},
   "outputs": [],
   "source": [
    "for i in range(loop_len):\n",
    "    plt.plot(t_motor[i*bs:(i+1)*bs], tau_propeller[i*bs:(i+1)*bs], linestyle='solid', color='black')\n",
    "    plt.plot(t_sensor_third[i*bs:(i+1)*bs], tikh_estimates[i][1::2], linestyle='dotted', alpha=0.5, color='red')\n",
    "    plt.plot(t_sensor_third[i*bs:(i+1)*bs], lasso_estimates[i][1::2], linestyle='dashed', color='blue')\n",
    "\n",
    "plt.legend(('known input', 'Tikhonov estimate', 'LASSO estimate'))\n",
    "plt.xlabel('Time (s)')\n",
    "plt.ylabel('Torque (Nm)')\n",
    "plt.title('Propeller side input estimates (H-P trend filtering)')\n",
    "#plt.ylim(-4, 0)\n",
    "#plt.xlim(0.4,0.6)\n",
    "plt.show()"
   ]
  },
  {
   "cell_type": "markdown",
   "id": "5dd8b118",
   "metadata": {},
   "source": [
    "# TODO:\n",
    "* virtual sensor code to notebook\n",
    "* debug 3dof KF example\n",
    "* try estimating motor torque with no propeller torque dataset\n",
    "* dc torque of propeller estimate is too high, problem with gear ratio?\n",
    "* try lsim method for motor data?"
   ]
  },
  {
   "cell_type": "code",
   "execution_count": null,
   "id": "127343cd",
   "metadata": {},
   "outputs": [],
   "source": []
  }
 ],
 "metadata": {
  "kernelspec": {
   "display_name": "Python 3 (ipykernel)",
   "language": "python",
   "name": "python3"
  },
  "language_info": {
   "codemirror_mode": {
    "name": "ipython",
    "version": 3
   },
   "file_extension": ".py",
   "mimetype": "text/x-python",
   "name": "python",
   "nbconvert_exporter": "python",
   "pygments_lexer": "ipython3",
   "version": "3.8.10"
  }
 },
 "nbformat": 4,
 "nbformat_minor": 5
}
