{
 "cells": [
  {
   "cell_type": "code",
   "execution_count": 1,
   "id": "9ec8d88b",
   "metadata": {},
   "outputs": [],
   "source": [
    "import numpy as np\n",
    "import matplotlib.pyplot as plt"
   ]
  },
  {
   "cell_type": "code",
   "execution_count": 2,
   "id": "29951439",
   "metadata": {},
   "outputs": [],
   "source": [
    "fs = 1000\n",
    "sim_times = np.arange(0, 10, 1/fs)\n",
    "dt = np.mean(np.diff(sim_times))"
   ]
  },
  {
   "cell_type": "markdown",
   "id": "dc3cea2f",
   "metadata": {},
   "source": [
    "# PRBS"
   ]
  },
  {
   "cell_type": "code",
   "execution_count": 3,
   "id": "05c13a1d",
   "metadata": {},
   "outputs": [],
   "source": [
    "def prbs(n, pattern=[1, 0, 0, 0, 0, 0, 0, 0, 0, 0, 0]):\n",
    "    \"\"\"\n",
    "    Generates a PRBS signal of length n with the given pattern.\n",
    "\n",
    "    Args:\n",
    "    n (int): Length of the PRBS signal to generate.\n",
    "    pattern (list[int]): List representing the initial pattern for the PRBS signal. Default is [1, 0, 0, 0, 0, 0, 0, 0, 0, 0, 0].\n",
    "\n",
    "    Returns:\n",
    "    numpy.ndarray: PRBS signal of length n.\n",
    "    \"\"\"\n",
    "    m = len(pattern)\n",
    "    # Initialize the output signal\n",
    "    signal = np.zeros(n)\n",
    "    # Initialize the shift register\n",
    "    sr = np.array(pattern)\n",
    "    # Generate the PRBS signal\n",
    "    for i in range(n):\n",
    "        # XOR the bits at positions 0 and m-1\n",
    "        xor_result = sr[0] ^ sr[m-1]\n",
    "        # Shift the register and put the XOR result at position 0\n",
    "        sr[1:] = sr[:-1]\n",
    "        sr[0] = xor_result\n",
    "        # Add the new bit to the output signal\n",
    "        signal[i] = xor_result\n",
    "        \n",
    "    return signal"
   ]
  },
  {
   "cell_type": "code",
   "execution_count": 4,
   "id": "5a75df16",
   "metadata": {},
   "outputs": [],
   "source": [
    "prbs_signal = prbs(len(sim_times))"
   ]
  },
  {
   "cell_type": "code",
   "execution_count": 5,
   "id": "165b30d4",
   "metadata": {},
   "outputs": [
    {
     "data": {
      "image/png": "[encoded data removed]",
      "text/plain": [
       "<Figure size 432x288 with 1 Axes>"
      ]
     },
     "metadata": {
      "needs_background": "light"
     },
     "output_type": "display_data"
    }
   ],
   "source": [
    "plt.plot(sim_times, prbs_signal)\n",
    "plt.show()"
   ]
  },
  {
   "cell_type": "markdown",
   "id": "2c2b305a",
   "metadata": {},
   "source": [
    "# Load reversal (step function)"
   ]
  },
  {
   "cell_type": "code",
   "execution_count": 6,
   "id": "1521da70",
   "metadata": {},
   "outputs": [],
   "source": [
    "def step(start, end, n):\n",
    "    \"\"\"\n",
    "    Generates a step signal with an initial value of `start` and an end value of `end`.\n",
    "\n",
    "    Args:\n",
    "    start (float): Initial value of the step signal.\n",
    "    end (float): End value of the step signal.\n",
    "    n (int): Length of the step signal to generate.\n",
    "\n",
    "    Returns:\n",
    "    numpy.ndarray: Step signal of length n.\n",
    "    \"\"\"\n",
    "    # Initialize the output signal\n",
    "    signal = np.zeros(n)\n",
    "    # Set the initial value\n",
    "    signal[0] = start\n",
    "    # Calculate the step size\n",
    "    step = (end - start) / (n - 1)\n",
    "    # Generate the step signal\n",
    "    for i in range(1, n):\n",
    "        signal[i] = signal[i-1] + step\n",
    "        \n",
    "    return signal"
   ]
  },
  {
   "cell_type": "code",
   "execution_count": 9,
   "id": "ddbbac11",
   "metadata": {},
   "outputs": [],
   "source": [
    "step_signal = step(200, -200, len(sim_times))"
   ]
  },
  {
   "cell_type": "code",
   "execution_count": 10,
   "id": "92c39099",
   "metadata": {},
   "outputs": [
    {
     "data": {
      "image/png": "[encoded data removed]",
      "text/plain": [
       "<Figure size 432x288 with 1 Axes>"
      ]
     },
     "metadata": {
      "needs_background": "light"
     },
     "output_type": "display_data"
    }
   ],
   "source": [
    "plt.plot(sim_times, step_signal)\n",
    "plt.show()"
   ]
  },
  {
   "cell_type": "markdown",
   "id": "97d82306",
   "metadata": {},
   "source": [
    "# Sinusoidal (rot speed x prop blades)"
   ]
  },
  {
   "cell_type": "code",
   "execution_count": 16,
   "id": "cc910547",
   "metadata": {},
   "outputs": [],
   "source": [
    "def sum_sines(freqs, amps, phases, times, dc_offset):\n",
    "    \"\"\"\n",
    "    Generates a sinusoidal signal that is a sum of three sine waves with different frequencies.\n",
    "\n",
    "    Args:\n",
    "    freqs (list[float]): List of three frequencies for the sine waves.\n",
    "    amps (list[float]): List of three amplitudes for the sine waves.\n",
    "    phases (list[float]): List of three phase shifts for the sine waves.\n",
    "    times (numpy.ndarray): Timesteps of the signal in seconds.\n",
    "\n",
    "    Returns:\n",
    "    numpy.ndarray: Sinusoidal signal that is a sum of three sine waves.\n",
    "    \"\"\"\n",
    "    \n",
    "    signal = np.zeros(len(times))\n",
    "    for f, a, p in zip(freqs, amps, phases):\n",
    "        signal += a * np.sin(2 * np.pi * f * times + p)\n",
    "        \n",
    "    return signal + dc_offset"
   ]
  },
  {
   "cell_type": "code",
   "execution_count": 17,
   "id": "5abcbe22",
   "metadata": {},
   "outputs": [],
   "source": [
    "freqs = [20, 40, 60]\n",
    "amps = [2, 1, 0.5]\n",
    "phases = [0, 0, 0]\n",
    "offset = 200\n",
    "sine_signal = sum_sines(freqs, amps, phases, sim_times, offset)"
   ]
  },
  {
   "cell_type": "code",
   "execution_count": 19,
   "id": "6ee6aa8b",
   "metadata": {},
   "outputs": [
    {
     "data": {
      "application/vnd.jupyter.widget-view+json": {
       "model_id": "c9a56ea9ae474f5291921904775185af",
       "version_major": 2,
       "version_minor": 0
      },
      "image/png": "[encoded data removed]",
      "text/html": [
       "\n",
       "            <div style=\"display: inline-block;\">\n",
       "                <div class=\"jupyter-widgets widget-label\" style=\"text-align: center;\">\n",
       "                    Figure\n",
       "                </div>\n",
       "                <img src='data:image/png;base64,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' width=640.0/>\n",
       "            </div>\n",
       "        "
      ],
      "text/plain": [
       "Canvas(toolbar=Toolbar(toolitems=[('Home', 'Reset original view', 'home', 'home'), ('Back', 'Back to previous …"
      ]
     },
     "metadata": {},
     "output_type": "display_data"
    }
   ],
   "source": [
    "%matplotlib widget\n",
    "plt.figure()\n",
    "plt.plot(sim_times, sine_signal)\n",
    "plt.show()"
   ]
  },
  {
   "cell_type": "markdown",
   "id": "fff9c34b",
   "metadata": {},
   "source": [
    "# Ice load"
   ]
  },
  {
   "cell_type": "code",
   "execution_count": null,
   "id": "702a2cb8",
   "metadata": {},
   "outputs": [],
   "source": [
    "times = np.genfromtxt(\"../data/ice_excitation/times.csv\", delimiter=\",\")\n",
    "speeds = np.genfromtxt(\"../data/ice_excitation/speeds.csv\", delimiter=\",\", usecols=(6,7,13,14,21))\n",
    "meas_speeds = np.genfromtxt(\"../data/ice_excitation/speed_measurements.csv\", delimiter=\",\")\n",
    "torques = np.genfromtxt(\"../data/ice_excitation/torques.csv\", delimiter=\",\", usecols=(8,18))\n",
    "meas_torques = np.genfromtxt(\"../data/ice_excitation/torque_measurements.csv\", delimiter=\",\")\n",
    "motor = np.genfromtxt(\"../data/ice_excitation/motor.csv\", delimiter=\",\")\n",
    "propeller = np.genfromtxt(\"../data/ice_excitation/propeller.csv\", delimiter=\",\")"
   ]
  },
  {
   "cell_type": "markdown",
   "id": "c911d5a5",
   "metadata": {},
   "source": [
    "# CFD"
   ]
  },
  {
   "cell_type": "code",
   "execution_count": null,
   "id": "0a3d373c",
   "metadata": {},
   "outputs": [],
   "source": [
    "sensor_data = np.genfromtxt(\"../data/constant_speed_torque_CFD/CFD1.csv\", delimiter=\",\")\n",
    "motor_data = np.genfromtxt(\"../data/constant_speed_torque_CFD/CFD1_motor.csv\", delimiter=\",\")"
   ]
  }
 ],
 "metadata": {
  "kernelspec": {
   "display_name": "Python 3 (ipykernel)",
   "language": "python",
   "name": "python3"
  },
  "language_info": {
   "codemirror_mode": {
    "name": "ipython",
    "version": 3
   },
   "file_extension": ".py",
   "mimetype": "text/x-python",
   "name": "python",
   "nbconvert_exporter": "python",
   "pygments_lexer": "ipython3",
   "version": "3.8.10"
  }
 },
 "nbformat": 4,
 "nbformat_minor": 5
}
