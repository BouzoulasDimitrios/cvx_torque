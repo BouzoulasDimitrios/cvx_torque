{
 "cells": [
  {
   "cell_type": "code",
   "execution_count": 4,
   "id": "0cdab472",
   "metadata": {},
   "outputs": [],
   "source": [
    "import numpy as np\n",
    "import matplotlib.pyplot as plt\n",
    "import scipy.linalg as LA\n",
    "from scipy.signal import lsim, butter, lfilter\n",
    "from scipy.integrate import solve_ivp\n",
    "import cvxpy as cp\n",
    "import opentorsion as ot"
   ]
  },
  {
   "cell_type": "code",
   "execution_count": 5,
   "id": "bd28fe44",
   "metadata": {},
   "outputs": [],
   "source": [
    "def propulsion_system():\n",
    "    '''\n",
    "    Parameters from: https://journals.sagepub.com/doi/full/10.1177/14759217211004232\n",
    "    '''\n",
    "    J1 = 1.347e4 # propeller\n",
    "    J3 = 5.590e2\n",
    "    J5 = 5.120e2\n",
    "    J7 = 4.870e2\n",
    "    J9 = 1.410e2\n",
    "    J11 = 1.740e2\n",
    "    J13 = 4.415e3 # motor\n",
    "    \n",
    "    k2 = 5.88e7\n",
    "    k4 = 5.95e7\n",
    "    k6 = 1.12e8\n",
    "    k8 = 6.93e8\n",
    "    k10 = 5.09e8\n",
    "    k12 = 1.43e8\n",
    "    damping = 180 # damping in steel_shafts\n",
    "    propeller_damping = 0*120e3\n",
    "    \n",
    "    shafts, disks = [], []\n",
    "    disks.append(ot.Disk(0, I=J1, c=propeller_damping))\n",
    "    shafts.append(ot.Shaft(0, 1, None, None, k=k2, I=0, c=damping))\n",
    "    disks.append(ot.Disk(1, I=J3))\n",
    "    shafts.append(ot.Shaft(1, 2, None, None, k=k4, I=0, c=damping))\n",
    "    disks.append(ot.Disk(2, I=J5))\n",
    "    shafts.append(ot.Shaft(2, 3, None, None, k=k6, I=0, c=damping))\n",
    "    disks.append(ot.Disk(3, I=J7))\n",
    "    shafts.append(ot.Shaft(3, 4, None, None, k=k8, I=0, c=damping))\n",
    "    disks.append(ot.Disk(4, I=J9))\n",
    "    shafts.append(ot.Shaft(4, 5, None, None, k=k10, I=0, c=damping))\n",
    "    disks.append(ot.Disk(5, I=J11))\n",
    "    shafts.append(ot.Shaft(5, 6, None, None, k=k12, I=0, c=damping))\n",
    "    disks.append(ot.Disk(6, I=J13))\n",
    "    \n",
    "    assembly = ot.Assembly(shafts, disk_elements=disks)\n",
    "    _, f, _ = assembly.modal_analysis()\n",
    "    print(\"Eigenfrequencies: \", f.round(2))\n",
    "\n",
    "    return assembly"
   ]
  },
  {
   "cell_type": "code",
   "execution_count": 6,
   "id": "da4c7763",
   "metadata": {},
   "outputs": [],
   "source": [
    "def newmark_H1(M, C, K, gamma_par, beta_par):\n",
    "    \"\"\"\n",
    "    Matrix used in creation of Newmark-beta state matrix.\n",
    "    \n",
    "    Parameters:\n",
    "    M : numpy.ndarray\n",
    "        Mass matrix\n",
    "    C : numpy.ndarray\n",
    "        Damping matrix\n",
    "    K : numpy.ndarray\n",
    "        Stiffness matrix\n",
    "    gamma_par : float\n",
    "        Parameter of the Newmark-beta method\n",
    "    beta_par : float\n",
    "        Parameter of the Newmark-beta method\n",
    "\n",
    "    Returns:\n",
    "    lambda function\n",
    "        The H1 matrix as a lambda function, input is the timestep dt\n",
    "    \"\"\"\n",
    "    \n",
    "    return lambda dt : np.vstack([np.hstack([M + gamma_par*dt*C, gamma_par*dt*K]), np.hstack([beta_par*dt**2*C, M + beta_par*dt**2*K])])"
   ]
  },
  {
   "cell_type": "code",
   "execution_count": 7,
   "id": "72c639f2",
   "metadata": {},
   "outputs": [],
   "source": [
    "def newmark_H0(M, C, K, gamma_par, beta_par):\n",
    "    \"\"\"\n",
    "    Matrix used in creation of Newmark-beta state matrix.\n",
    "    \n",
    "    Parameters:\n",
    "    M : numpy.ndarray\n",
    "        Mass matrix\n",
    "    C : numpy.ndarray\n",
    "        Damping matrix\n",
    "    K : numpy.ndarray\n",
    "        Stiffness matrix\n",
    "    gamma_par : float\n",
    "        Parameter of the Newmark-beta method\n",
    "    beta_par : float\n",
    "        Parameter of the Newmark-beta method\n",
    "\n",
    "    Returns:\n",
    "    lambda function\n",
    "        The H0 matrix as a lambda function, input is the timestep dt\n",
    "    \"\"\"\n",
    "    \n",
    "    return lambda dt : np.vstack([np.hstack([M - (1-gamma_par)*dt*C, -(1-gamma_par)*dt*K]), np.hstack([-(0.5-beta_par)*dt**2*C, M - (0.5-beta_par)*dt**2*K])])"
   ]
  },
  {
   "cell_type": "code",
   "execution_count": 10,
   "id": "aaf0b615",
   "metadata": {},
   "outputs": [
    {
     "name": "stdout",
     "output_type": "stream",
     "text": [
      "Eigenfrequencies:  [  0.     0.    11.41  11.41  48.93  48.93  78.82  78.82 115.27 115.27\n",
      " 268.61 268.61 522.81 522.81]\n"
     ]
    }
   ],
   "source": [
    "assembly = propulsion_system()\n",
    "M, C, K = assembly.M(), assembly.C(), assembly.K()  # Mass, damping and stiffness matrices\n",
    "ndof = assembly.dofs\n",
    "gamma_parameter = 0.5\n",
    "beta_parameter = 0.25"
   ]
  },
  {
   "cell_type": "code",
   "execution_count": 41,
   "id": "55e7bae2",
   "metadata": {},
   "outputs": [
    {
     "name": "stdout",
     "output_type": "stream",
     "text": [
      "0.0\n",
      "1e-06\n"
     ]
    },
    {
     "ename": "ValueError",
     "evalue": "could not broadcast input array from shape (14,14) into shape (14,)",
     "output_type": "error",
     "traceback": [
      "\u001b[0;31m---------------------------------------------------------------------------\u001b[0m",
      "\u001b[0;31mValueError\u001b[0m                                Traceback (most recent call last)",
      "\u001b[0;32m/tmp/ipykernel_1818309/3031428665.py\u001b[0m in \u001b[0;36m<module>\u001b[0;34m\u001b[0m\n\u001b[1;32m     17\u001b[0m     \u001b[0;32mreturn\u001b[0m \u001b[0mA\u001b[0m \u001b[0;34m@\u001b[0m \u001b[0mx\u001b[0m \u001b[0;34m+\u001b[0m \u001b[0mu\u001b[0m\u001b[0;34m\u001b[0m\u001b[0;34m\u001b[0m\u001b[0m\n\u001b[1;32m     18\u001b[0m \u001b[0;34m\u001b[0m\u001b[0m\n\u001b[0;32m---> 19\u001b[0;31m \u001b[0msol\u001b[0m \u001b[0;34m=\u001b[0m \u001b[0msolve_ivp\u001b[0m\u001b[0;34m(\u001b[0m\u001b[0mstate_derivative\u001b[0m\u001b[0;34m,\u001b[0m \u001b[0;34m(\u001b[0m\u001b[0mtime\u001b[0m\u001b[0;34m[\u001b[0m\u001b[0;36m0\u001b[0m\u001b[0;34m]\u001b[0m\u001b[0;34m,\u001b[0m \u001b[0mtime\u001b[0m\u001b[0;34m[\u001b[0m\u001b[0;34m-\u001b[0m\u001b[0;36m1\u001b[0m\u001b[0;34m]\u001b[0m\u001b[0;34m)\u001b[0m\u001b[0;34m,\u001b[0m \u001b[0mnp\u001b[0m\u001b[0;34m.\u001b[0m\u001b[0mzeros\u001b[0m\u001b[0;34m(\u001b[0m\u001b[0;36m2\u001b[0m\u001b[0;34m*\u001b[0m\u001b[0mndof\u001b[0m\u001b[0;34m)\u001b[0m\u001b[0;34m,\u001b[0m \u001b[0mt_eval\u001b[0m\u001b[0;34m=\u001b[0m\u001b[0mtime\u001b[0m\u001b[0;34m)\u001b[0m\u001b[0;34m\u001b[0m\u001b[0;34m\u001b[0m\u001b[0m\n\u001b[0m",
      "\u001b[0;32m~/.local/lib/python3.8/site-packages/scipy/integrate/_ivp/ivp.py\u001b[0m in \u001b[0;36msolve_ivp\u001b[0;34m(fun, t_span, y0, method, t_eval, dense_output, events, vectorized, args, **options)\u001b[0m\n\u001b[1;32m    574\u001b[0m     \u001b[0mstatus\u001b[0m \u001b[0;34m=\u001b[0m \u001b[0;32mNone\u001b[0m\u001b[0;34m\u001b[0m\u001b[0;34m\u001b[0m\u001b[0m\n\u001b[1;32m    575\u001b[0m     \u001b[0;32mwhile\u001b[0m \u001b[0mstatus\u001b[0m \u001b[0;32mis\u001b[0m \u001b[0;32mNone\u001b[0m\u001b[0;34m:\u001b[0m\u001b[0;34m\u001b[0m\u001b[0;34m\u001b[0m\u001b[0m\n\u001b[0;32m--> 576\u001b[0;31m         \u001b[0mmessage\u001b[0m \u001b[0;34m=\u001b[0m \u001b[0msolver\u001b[0m\u001b[0;34m.\u001b[0m\u001b[0mstep\u001b[0m\u001b[0;34m(\u001b[0m\u001b[0;34m)\u001b[0m\u001b[0;34m\u001b[0m\u001b[0;34m\u001b[0m\u001b[0m\n\u001b[0m\u001b[1;32m    577\u001b[0m \u001b[0;34m\u001b[0m\u001b[0m\n\u001b[1;32m    578\u001b[0m         \u001b[0;32mif\u001b[0m \u001b[0msolver\u001b[0m\u001b[0;34m.\u001b[0m\u001b[0mstatus\u001b[0m \u001b[0;34m==\u001b[0m \u001b[0;34m'finished'\u001b[0m\u001b[0;34m:\u001b[0m\u001b[0;34m\u001b[0m\u001b[0;34m\u001b[0m\u001b[0m\n",
      "\u001b[0;32m~/.local/lib/python3.8/site-packages/scipy/integrate/_ivp/base.py\u001b[0m in \u001b[0;36mstep\u001b[0;34m(self)\u001b[0m\n\u001b[1;32m    179\u001b[0m         \u001b[0;32melse\u001b[0m\u001b[0;34m:\u001b[0m\u001b[0;34m\u001b[0m\u001b[0;34m\u001b[0m\u001b[0m\n\u001b[1;32m    180\u001b[0m             \u001b[0mt\u001b[0m \u001b[0;34m=\u001b[0m \u001b[0mself\u001b[0m\u001b[0;34m.\u001b[0m\u001b[0mt\u001b[0m\u001b[0;34m\u001b[0m\u001b[0;34m\u001b[0m\u001b[0m\n\u001b[0;32m--> 181\u001b[0;31m             \u001b[0msuccess\u001b[0m\u001b[0;34m,\u001b[0m \u001b[0mmessage\u001b[0m \u001b[0;34m=\u001b[0m \u001b[0mself\u001b[0m\u001b[0;34m.\u001b[0m\u001b[0m_step_impl\u001b[0m\u001b[0;34m(\u001b[0m\u001b[0;34m)\u001b[0m\u001b[0;34m\u001b[0m\u001b[0;34m\u001b[0m\u001b[0m\n\u001b[0m\u001b[1;32m    182\u001b[0m \u001b[0;34m\u001b[0m\u001b[0m\n\u001b[1;32m    183\u001b[0m             \u001b[0;32mif\u001b[0m \u001b[0;32mnot\u001b[0m \u001b[0msuccess\u001b[0m\u001b[0;34m:\u001b[0m\u001b[0;34m\u001b[0m\u001b[0;34m\u001b[0m\u001b[0m\n",
      "\u001b[0;32m~/.local/lib/python3.8/site-packages/scipy/integrate/_ivp/rk.py\u001b[0m in \u001b[0;36m_step_impl\u001b[0;34m(self)\u001b[0m\n\u001b[1;32m    142\u001b[0m             \u001b[0mh_abs\u001b[0m \u001b[0;34m=\u001b[0m \u001b[0mnp\u001b[0m\u001b[0;34m.\u001b[0m\u001b[0mabs\u001b[0m\u001b[0;34m(\u001b[0m\u001b[0mh\u001b[0m\u001b[0;34m)\u001b[0m\u001b[0;34m\u001b[0m\u001b[0;34m\u001b[0m\u001b[0m\n\u001b[1;32m    143\u001b[0m \u001b[0;34m\u001b[0m\u001b[0m\n\u001b[0;32m--> 144\u001b[0;31m             y_new, f_new = rk_step(self.fun, t, y, self.f, h, self.A,\n\u001b[0m\u001b[1;32m    145\u001b[0m                                    self.B, self.C, self.K)\n\u001b[1;32m    146\u001b[0m             \u001b[0mscale\u001b[0m \u001b[0;34m=\u001b[0m \u001b[0matol\u001b[0m \u001b[0;34m+\u001b[0m \u001b[0mnp\u001b[0m\u001b[0;34m.\u001b[0m\u001b[0mmaximum\u001b[0m\u001b[0;34m(\u001b[0m\u001b[0mnp\u001b[0m\u001b[0;34m.\u001b[0m\u001b[0mabs\u001b[0m\u001b[0;34m(\u001b[0m\u001b[0my\u001b[0m\u001b[0;34m)\u001b[0m\u001b[0;34m,\u001b[0m \u001b[0mnp\u001b[0m\u001b[0;34m.\u001b[0m\u001b[0mabs\u001b[0m\u001b[0;34m(\u001b[0m\u001b[0my_new\u001b[0m\u001b[0;34m)\u001b[0m\u001b[0;34m)\u001b[0m \u001b[0;34m*\u001b[0m \u001b[0mrtol\u001b[0m\u001b[0;34m\u001b[0m\u001b[0;34m\u001b[0m\u001b[0m\n",
      "\u001b[0;32m~/.local/lib/python3.8/site-packages/scipy/integrate/_ivp/rk.py\u001b[0m in \u001b[0;36mrk_step\u001b[0;34m(fun, t, y, f, h, A, B, C, K)\u001b[0m\n\u001b[1;32m     59\u001b[0m            \u001b[0mEquations\u001b[0m \u001b[0mI\u001b[0m\u001b[0;34m:\u001b[0m \u001b[0mNonstiff\u001b[0m \u001b[0mProblems\u001b[0m\u001b[0;31m\"\u001b[0m\u001b[0;34m,\u001b[0m \u001b[0mSec\u001b[0m\u001b[0;34m.\u001b[0m \u001b[0mII\u001b[0m\u001b[0;36m.4\u001b[0m\u001b[0;34m.\u001b[0m\u001b[0;34m\u001b[0m\u001b[0;34m\u001b[0m\u001b[0m\n\u001b[1;32m     60\u001b[0m     \"\"\"\n\u001b[0;32m---> 61\u001b[0;31m     \u001b[0mK\u001b[0m\u001b[0;34m[\u001b[0m\u001b[0;36m0\u001b[0m\u001b[0;34m]\u001b[0m \u001b[0;34m=\u001b[0m \u001b[0mf\u001b[0m\u001b[0;34m\u001b[0m\u001b[0;34m\u001b[0m\u001b[0m\n\u001b[0m\u001b[1;32m     62\u001b[0m     \u001b[0;32mfor\u001b[0m \u001b[0ms\u001b[0m\u001b[0;34m,\u001b[0m \u001b[0;34m(\u001b[0m\u001b[0ma\u001b[0m\u001b[0;34m,\u001b[0m \u001b[0mc\u001b[0m\u001b[0;34m)\u001b[0m \u001b[0;32min\u001b[0m \u001b[0menumerate\u001b[0m\u001b[0;34m(\u001b[0m\u001b[0mzip\u001b[0m\u001b[0;34m(\u001b[0m\u001b[0mA\u001b[0m\u001b[0;34m[\u001b[0m\u001b[0;36m1\u001b[0m\u001b[0;34m:\u001b[0m\u001b[0;34m]\u001b[0m\u001b[0;34m,\u001b[0m \u001b[0mC\u001b[0m\u001b[0;34m[\u001b[0m\u001b[0;36m1\u001b[0m\u001b[0;34m:\u001b[0m\u001b[0;34m]\u001b[0m\u001b[0;34m)\u001b[0m\u001b[0;34m,\u001b[0m \u001b[0mstart\u001b[0m\u001b[0;34m=\u001b[0m\u001b[0;36m1\u001b[0m\u001b[0;34m)\u001b[0m\u001b[0;34m:\u001b[0m\u001b[0;34m\u001b[0m\u001b[0;34m\u001b[0m\u001b[0m\n\u001b[1;32m     63\u001b[0m         \u001b[0mdy\u001b[0m \u001b[0;34m=\u001b[0m \u001b[0mnp\u001b[0m\u001b[0;34m.\u001b[0m\u001b[0mdot\u001b[0m\u001b[0;34m(\u001b[0m\u001b[0mK\u001b[0m\u001b[0;34m[\u001b[0m\u001b[0;34m:\u001b[0m\u001b[0ms\u001b[0m\u001b[0;34m]\u001b[0m\u001b[0;34m.\u001b[0m\u001b[0mT\u001b[0m\u001b[0;34m,\u001b[0m \u001b[0ma\u001b[0m\u001b[0;34m[\u001b[0m\u001b[0;34m:\u001b[0m\u001b[0ms\u001b[0m\u001b[0;34m]\u001b[0m\u001b[0;34m)\u001b[0m \u001b[0;34m*\u001b[0m \u001b[0mh\u001b[0m\u001b[0;34m\u001b[0m\u001b[0;34m\u001b[0m\u001b[0m\n",
      "\u001b[0;31mValueError\u001b[0m: could not broadcast input array from shape (14,14) into shape (14,)"
     ]
    }
   ],
   "source": [
    "time = np.arange(0, 1.0001, 0.0001)\n",
    "step_size = np.mean(np.diff(time))\n",
    "\n",
    "H1 = newmark_H1(M, C, K, gamma_parameter, beta_parameter)\n",
    "H0 = newmark_H0(M, C, K, gamma_parameter, beta_parameter)\n",
    "\n",
    "state_vector = np.zeros((2*ndof, 1))\n",
    "states = np.copy(state_vector)\n",
    "\n",
    "u = np.zeros((2*ndof, 1))\n",
    "u[0,:] += 1\n",
    "\n",
    "def state_derivative(t, x):\n",
    "    A = LA.inv(H1(step_size)) @ H0(step_size)\n",
    "    \n",
    "    return A @ x + u\n",
    "\n",
    "sol = solve_ivp(state_derivative, (time[0], time[-1]), np.zeros(2*ndof), t_eval=time)"
   ]
  },
  {
   "cell_type": "code",
   "execution_count": 39,
   "id": "133f520d",
   "metadata": {},
   "outputs": [
    {
     "data": {
      "image/png": "[encoded data removed]",
      "text/plain": [
       "<Figure size 432x288 with 1 Axes>"
      ]
     },
     "metadata": {
      "needs_background": "light"
     },
     "output_type": "display_data"
    }
   ],
   "source": [
    "torque_meas = 6.93e8*(sol.y[4,:]-sol.y[3,:])\n",
    "plt.plot(time, torque_meas[:-1])\n",
    "plt.show()"
   ]
  },
  {
   "cell_type": "code",
   "execution_count": null,
   "id": "bb4b28ed",
   "metadata": {},
   "outputs": [],
   "source": [
    "# add gaussian white noise to the measurement (measurement and process noise)\n",
    "r = np.random.multivariate_normal(np.zeros(R_.shape[0]), R_, tout.shape[0])"
   ]
  },
  {
   "cell_type": "code",
   "execution_count": null,
   "id": "f8944992",
   "metadata": {},
   "outputs": [],
   "source": []
  }
 ],
 "metadata": {
  "kernelspec": {
   "display_name": "Python 3 (ipykernel)",
   "language": "python",
   "name": "python3"
  },
  "language_info": {
   "codemirror_mode": {
    "name": "ipython",
    "version": 3
   },
   "file_extension": ".py",
   "mimetype": "text/x-python",
   "name": "python",
   "nbconvert_exporter": "python",
   "pygments_lexer": "ipython3",
   "version": "3.8.10"
  }
 },
 "nbformat": 4,
 "nbformat_minor": 5
}
