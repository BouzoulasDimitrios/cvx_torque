{
 "cells": [
  {
   "cell_type": "code",
   "execution_count": 1,
   "id": "8c450a41",
   "metadata": {},
   "outputs": [],
   "source": [
    "import sys\n",
    "import numpy as np\n",
    "import matplotlib.pyplot as plt\n",
    "import scipy.linalg as LA\n",
    "from scipy.signal import dlsim, butter, lfilter"
   ]
  },
  {
   "cell_type": "markdown",
   "id": "df099a3f",
   "metadata": {},
   "source": [
    "# Testbench parameters"
   ]
  },
  {
   "cell_type": "code",
   "execution_count": 2,
   "id": "13fbf5b3",
   "metadata": {},
   "outputs": [],
   "source": [
    "def new_parameters():\n",
    "    inertias = np.array([7.94e-4,\n",
    "                         3.79e-6,\n",
    "                         3.00e-6,\n",
    "                         2.00e-6,\n",
    "                         7.81e-3,\n",
    "                         2.00e-6,\n",
    "                         (3.17e-6 - 7800*(np.pi*(0.006**4)/32)*0.342/6) + 7800*(np.pi*(0.008**4)/32)*0.342/6,\n",
    "                         5.01e-5,\n",
    "                         6.50e-6,\n",
    "                         5.65e-5,\n",
    "                         4.27e-6,\n",
    "                         3.25e-4,\n",
    "                         1.20e-4,\n",
    "                         1.15e-5,\n",
    "                         1.32e-4,\n",
    "                         4.27e-6,\n",
    "                         2.69e-4,\n",
    "                         1.80e-4,\n",
    "                         2.00e-5,\n",
    "                         2.00e-4,\n",
    "                         4.27e-6,\n",
    "                         4.95e-2])\n",
    "\n",
    "    stiffnesses = np.array([1.90e5,\n",
    "                            6.95e3,\n",
    "                            90.00,\n",
    "                            90.00,\n",
    "                            90.00,\n",
    "                            90.00,\n",
    "                            80e9*(np.pi*(0.008**4)/32)/0.342,\n",
    "                            4.19e4,\n",
    "                            5.40e3,\n",
    "                            4.19e4,\n",
    "                            1.22e3,\n",
    "                            4.33e4,\n",
    "                            3.10e4,\n",
    "                            1.14e3,\n",
    "                            3.10e4,\n",
    "                            1.22e4,\n",
    "                            4.43e4,\n",
    "                            1.38e5,\n",
    "                            2.00e4,\n",
    "                            1.38e5,\n",
    "                            1.22e4])\n",
    "\n",
    "    damping = np.array([8.08,\n",
    "                        0.29,\n",
    "                        0.24,\n",
    "                        0.24,\n",
    "                        0.24,\n",
    "                        0.24,\n",
    "                        0.00,\n",
    "                        1.78,\n",
    "                        0.23,\n",
    "                        1.78,\n",
    "                        0.52,\n",
    "                        1.84,\n",
    "                        1.32,\n",
    "                        0.05,\n",
    "                        1.32,\n",
    "                        0.52,\n",
    "                        1.88,\n",
    "                        5.86,\n",
    "                        0.85,\n",
    "                        5.86,\n",
    "                        0.52])\n",
    "\n",
    "\n",
    "    external_damping = np.array([0.0030,\n",
    "                                 0,\n",
    "                                 0,\n",
    "                                 0,\n",
    "                                 0,\n",
    "                                 0,\n",
    "                                 0,\n",
    "                                 0,\n",
    "                                 0,\n",
    "                                 0,\n",
    "                                 0,\n",
    "                                 0.0038,\n",
    "                                 0,\n",
    "                                 0,\n",
    "                                 0,\n",
    "                                 0,\n",
    "                                 0.0038,\n",
    "                                 0,\n",
    "                                 0,\n",
    "                                 0,\n",
    "                                 0,\n",
    "                                 0.2400])\n",
    "\n",
    "    gear_ratios = np.array([1, 1, 1, 1, 1, 1, 1, 1, 1, 1, 1, 1/3, 1, 1, 1, 1, 1/4, 1, 1, 1, 1])\n",
    "\n",
    "    return inertias, stiffnesses, damping, external_damping, gear_ratios\n"
   ]
  },
  {
   "cell_type": "markdown",
   "id": "73f0355c",
   "metadata": {},
   "source": [
    "# State-space matrices\n",
    "\n",
    "The state-space matrices are constructed the same way as in the master's thesis and the MSSP article."
   ]
  },
  {
   "cell_type": "code",
   "execution_count": 3,
   "id": "fe7c01b8",
   "metadata": {},
   "outputs": [],
   "source": [
    "def state_space_matrices(inertia, stiff, damp, damp_ext, ratios, full_B=False):\n",
    "    \"\"\"\n",
    "    Parameters:\n",
    "    \n",
    "    inertia : list\n",
    "        The inertia values of each lumped mass in order from index 1...n\n",
    "    stiff : list\n",
    "        The stiffness values between each lumped mass in order from index 1...n\n",
    "    damp : list\n",
    "        The viscous damping values between each lumped mass in order from index 1...n\n",
    "    damp_ext : list\n",
    "        The external damping corresponding to torque losses from the motors and gears\n",
    "    ratios : list\n",
    "        The gear ratios between each lumped mass\n",
    "    full_B : bool\n",
    "        If true, the input matrix B is shape n x p, allowing applying an input at the\n",
    "        location of every lumped mass. By default it's shape is n x 2, for applying an input\n",
    "        at the locations corresponding to the driving motor and the propeller. \n",
    "        \n",
    "    Returns:\n",
    "    \n",
    "    A : numpy.ndarray\n",
    "        The state matrix of the state-space system\n",
    "    B : numpy.ndarray\n",
    "        The input matrix of the state-space system\n",
    "    C : numpy.ndarray\n",
    "        The observation matrix of the state-space system\n",
    "    D : numpy.ndarray\n",
    "        The feedthrough matrix, always a zero matrix\n",
    "\n",
    "    \"\"\"\n",
    "    cn = damp*ratios\n",
    "    cn2 = damp*ratios**2\n",
    "    cn2 = np.hstack((cn2, 0))\n",
    "    c0 = np.copy(damp)\n",
    "    c0 = np.insert(c0, 0, 0, axis=0)\n",
    "    cn2d = -(c0 + cn2 + damp_ext)\n",
    "\n",
    "    A11 = (np.diag(cn2d) + np.diag(cn, k=1) + np.diag(cn, k=-1)) / inertia.reshape(inertia.shape[0], 1)\n",
    "\n",
    "    ks = -np.hstack((stiff*ratios, 0))\n",
    "    A12 = np.delete(\n",
    "        (np.diag(ks) + np.diag(stiff, k=-1)) / inertia.reshape(inertia.shape[0], 1), -1, axis=1\n",
    "    )\n",
    "\n",
    "\n",
    "    A23 = np.delete(\n",
    "        np.diag(np.hstack((ratios, 0))) + np.diag(-np.ones(len(ratios)), k=1), -1, axis=0\n",
    "    )\n",
    "\n",
    "    A = np.vstack((np.hstack((A11, A12)), np.hstack((A23, np.zeros((A23.shape[0], A23.shape[1]-1))))))\n",
    "\n",
    "    if full_B:\n",
    "        B = np.zeros(A.shape)\n",
    "        for i in range(len(inertia)):\n",
    "            B[i,i] += 1/inertia[i]\n",
    "    else:\n",
    "        B = np.zeros((A.shape[0], 2))\n",
    "        B[0,0] += 1/inertia[0]\n",
    "        B[len(inertia)-1, 1] -= 1/inertia[-1]\n",
    "\n",
    "    C = np.zeros((3, A.shape[0]))\n",
    "    C[0,6] += 1\n",
    "    C[1,7] += 1\n",
    "    C[2,30] += 5400\n",
    "    D = np.zeros((C.shape[0], B.shape[1]))\n",
    "\n",
    "    return A, B, C, D"
   ]
  },
  {
   "cell_type": "code",
   "execution_count": 4,
   "id": "9c6439c6",
   "metadata": {},
   "outputs": [],
   "source": [
    "def c2d(A, B, ts):\n",
    "    \"\"\"\n",
    "    C2D computes a discrete-time model of a system (A_c,B_c) with sample time ts.\n",
    "    The function returns matrices Ad, Bd of the discrete-time system.\n",
    "    \"\"\"\n",
    "    m, n = A.shape\n",
    "    nb = B.shape[1]\n",
    "\n",
    "    s = np.concatenate([A,B], axis=1)\n",
    "    s = np.concatenate([s, np.zeros((nb, n+nb))], axis=0)\n",
    "    S = LA.expm(s*ts)\n",
    "    Ad = S[0:n,0:n]\n",
    "    Bd = S[0:n,n:n+nb+1]\n",
    "\n",
    "    return Ad, Bd\n"
   ]
  },
  {
   "cell_type": "markdown",
   "id": "3d979c83",
   "metadata": {},
   "source": [
    "# Data equation matrices"
   ]
  },
  {
   "cell_type": "code",
   "execution_count": 5,
   "id": "22666506",
   "metadata": {},
   "outputs": [],
   "source": [
    "def O(A, C, n):\n",
    "    '''\n",
    "    Create the extended observability matrix used in the data equation.\n",
    "\n",
    "    Parameters:\n",
    "\n",
    "    A : numpy.ndarray\n",
    "        The state matrix of the state-space system\n",
    "    C : numpy.ndarray\n",
    "        The observation matrix of the state-space system\n",
    "    n : float\n",
    "        number of measurements\n",
    "\n",
    "    Returns:\n",
    "\n",
    "    O : numpy.ndarray, shape(n, number of state variables)\n",
    "        The extended observability matrix\n",
    "    '''\n",
    "    A_power = np.copy(A)\n",
    "    O = np.vstack((np.copy(C), C @ A))\n",
    "\n",
    "    for k in range(n-2):\n",
    "        A_power = A_power @ A\n",
    "        O = np.vstack((O, C @ A_power))\n",
    "\n",
    "    return O\n",
    "\n",
    "\n",
    "def gamma(A, B, C, n):\n",
    "    '''\n",
    "    Create the impulse response matrix used in the data equation.\n",
    "\n",
    "    Parameters:\n",
    "\n",
    "    A : numpy.ndarray\n",
    "        The state matrix of the state-space system\n",
    "    B : numpy.ndarray\n",
    "        The input matrix of the state-space system\n",
    "    C : numpy.ndarray\n",
    "        The observation matrix of the state-space system\n",
    "    n : float\n",
    "        number of measurements\n",
    "\n",
    "    Returns:\n",
    "\n",
    "    gamma : numpy.ndarray, shape(n*number of state variables, n*number of state variables)\n",
    "        The impulse response matrix\n",
    "    '''\n",
    "    A_power = np.copy(A)\n",
    "    Z = np.zeros((C @ B).shape)\n",
    "\n",
    "    # first column\n",
    "    gamma_column_first = np.vstack((\n",
    "        Z,\n",
    "        C @ B,\n",
    "        C @ A @ B\n",
    "    ))\n",
    "    for _ in range(n-3):\n",
    "        A_power = A_power @ A\n",
    "        gamma_column_first = np.vstack((gamma_column_first, C @ A_power @ B))\n",
    "\n",
    "    # build complete matrix, column by column, from left to right\n",
    "    gamma = np.copy(gamma_column_first)\n",
    "    current_column = 1\n",
    "    for _ in range(1, n):\n",
    "        gamma_rows = Z\n",
    "\n",
    "        # first add zero matrices\n",
    "        for _ in range(current_column):\n",
    "            gamma_rows = np.vstack((gamma_rows, Z))\n",
    "\n",
    "        # then add the impulse responses\n",
    "        A_power2 = np.copy(A)\n",
    "\n",
    "        if current_column < (n-2):\n",
    "            gamma_rows = np.vstack((\n",
    "                gamma_rows,\n",
    "                C @ B,\n",
    "                C @ A @ B # these must not be added to the last and the second to last columns\n",
    "            ))\n",
    "\n",
    "        if current_column == (n-2):\n",
    "            gamma_rows = np.vstack((\n",
    "                gamma_rows,\n",
    "                C @ B # this has to be added to the end of the second to last column\n",
    "            ))\n",
    "\n",
    "        for _ in range(n-current_column-3):\n",
    "            A_power2 = A_power2 @ A\n",
    "            gamma_rows = np.vstack((gamma_rows, C @ A_power2 @ B))\n",
    "\n",
    "        # add column on the right hand side\n",
    "        gamma = np.hstack((gamma, gamma_rows))\n",
    "        current_column += 1\n",
    "\n",
    "    return gamma\n",
    "\n",
    "\n",
    "def second_difference_matrix(n, m):\n",
    "    D2 = np.eye(n*m) - 2*np.eye(n*m, k=2) + np.eye(n*m, k=4)\n",
    "\n",
    "    # delete incomplete rows\n",
    "    D2 = D2[:-2*m, :]\n",
    "\n",
    "    return D2\n"
   ]
  },
  {
   "cell_type": "markdown",
   "id": "8100a9f1",
   "metadata": {},
   "source": [
    "# Simulated impulse excitation\n",
    "\n",
    "The same simulated input excitation as in the master's thesis."
   ]
  },
  {
   "cell_type": "code",
   "execution_count": 6,
   "id": "805def0b",
   "metadata": {},
   "outputs": [],
   "source": [
    "def impulse_excitation(sim_times, plot=False):\n",
    "    \"\"\"\n",
    "    Parameters:\n",
    "    \n",
    "    sim_times : numpy.ndarray\n",
    "        Timesteps of the simulation.\n",
    "        \n",
    "    Returns:\n",
    "    \n",
    "    U_imp : numpy.ndarray\n",
    "        Input torque matrix. Rows correspond to timesteps, first column has the motor torque,\n",
    "        second column has the propeller torque.\n",
    "    \"\"\"\n",
    "    U_imp = np.zeros((len(sim_times), 2))\n",
    "\n",
    "    e1 = np.random.normal(0, .01, U_imp.shape[0])\n",
    "    e2 = np.random.normal(0, .01, U_imp.shape[0])\n",
    "\n",
    "    one_hit = np.hstack((np.linspace(0, 0.34, 7), np.linspace(0.38, 0.64, 7), np.linspace(0.67, 0.87, 7), np.linspace(0.9, 0.98, 7)))\n",
    "\n",
    "    U_imp[:,0] += 2.7 + e1\n",
    "    U_imp[:,1] += e2\n",
    "    U_imp[3200:3228,1] += one_hit*10\n",
    "    U_imp[3228:3228+28,1] += np.flip(one_hit*10)\n",
    "    U_imp[5200:5228,1] += one_hit*10\n",
    "    U_imp[5228:5228+28,1] += np.flip(one_hit*10)\n",
    "    U_imp[8200:8228,1] += one_hit*10\n",
    "    U_imp[8228:8228+28,1] += np.flip(one_hit*10)\n",
    "\n",
    "    if plot:\n",
    "        plt.subplot(211)\n",
    "        plt.plot(sim_times, U_imp[:,0], label='Driving motor setpoint', color='blue')\n",
    "        plt.ylabel('Torque (Nm)')\n",
    "        plt.legend()\n",
    "\n",
    "        plt.subplot(212)\n",
    "        plt.plot(sim_times, U_imp[:,1], label='Loading motor setpoint', color='blue')\n",
    "        plt.xlabel('Time (s)')\n",
    "        plt.ylabel('Torque (Nm)')\n",
    "        plt.legend()\n",
    "        plt.tight_layout()\n",
    "\n",
    "        plt.show()\n",
    "\n",
    "    return U_imp"
   ]
  },
  {
   "cell_type": "code",
   "execution_count": 7,
   "id": "efba9174",
   "metadata": {},
   "outputs": [
    {
     "data": {
      "image/png": "[encoded data removed]",
      "text/plain": [
       "<Figure size 432x288 with 2 Axes>"
      ]
     },
     "metadata": {
      "needs_background": "light"
     },
     "output_type": "display_data"
    }
   ],
   "source": [
    "fs = 1000\n",
    "t_sim = np.arange(0,10,1/fs)\n",
    "dt_sim = np.mean(np.diff(t_sim))\n",
    "impulse_sim = impulse_excitation(t_sim, plot=True)"
   ]
  },
  {
   "cell_type": "markdown",
   "id": "223073c5",
   "metadata": {},
   "source": [
    "# Get ice excitation and measurement data\n",
    "\n",
    "This dataset was used in the master's thesis for the ice excitation experiments on the testbench. Sampling frequency ~1 kHz. The data has been low pass filtered with a cutoff frequency of 500 Hz."
   ]
  },
  {
   "cell_type": "code",
   "execution_count": 8,
   "id": "245aa3be",
   "metadata": {},
   "outputs": [],
   "source": [
    "# The motor dataset columns:\n",
    "# | time | motor setpoint | motor | propeller setpoint | propeller |\n",
    "motor_data = np.loadtxt(\"../data/masters_data/processed_data/ice_2000_motor.csv\", delimiter=\",\")\n",
    "\n",
    "# The sensor dataset columns:\n",
    "# | time | speed1 (encoder1) | speed2 (encoder2) | torque1 | torque2 |\n",
    "sensor_data = np.loadtxt(\"../data/masters_data/processed_data/ice_2000_sensor.csv\", delimiter=\",\")"
   ]
  },
  {
   "cell_type": "code",
   "execution_count": 9,
   "id": "cde50894",
   "metadata": {},
   "outputs": [],
   "source": [
    "time = sensor_data[:,0]\n",
    "measurements = sensor_data[:,1:] # measurement data from the encoder 1, encoder 2, torque transducer 1 and torque transducer 2\n",
    "motors = np.vstack((motor_data[:,2], motor_data[:,4])).T # motor torque data"
   ]
  },
  {
   "cell_type": "code",
   "execution_count": 10,
   "id": "0474cd99",
   "metadata": {},
   "outputs": [],
   "source": [
    "motor = motors[:,0]\n",
    "propeller = motors[:,-1]"
   ]
  },
  {
   "cell_type": "code",
   "execution_count": 11,
   "id": "b3289460",
   "metadata": {},
   "outputs": [
    {
     "data": {
      "image/png": "[encoded data removed]",
      "text/plain": [
       "<Figure size 432x288 with 2 Axes>"
      ]
     },
     "metadata": {
      "needs_background": "light"
     },
     "output_type": "display_data"
    }
   ],
   "source": [
    "plt.subplot(211)\n",
    "plt.plot(time, motor, label='Driving motor', color='blue')\n",
    "plt.ylabel('Torque (Nm)')\n",
    "plt.legend()\n",
    "\n",
    "plt.subplot(212)\n",
    "plt.plot(time, propeller, label='Loading motor', color='blue')\n",
    "plt.xlabel('Time (s)')\n",
    "plt.ylabel('Torque (Nm)')\n",
    "plt.legend()\n",
    "plt.tight_layout()\n",
    "\n",
    "plt.show()"
   ]
  },
  {
   "cell_type": "markdown",
   "id": "ae439a43",
   "metadata": {},
   "source": [
    "# Initiate the input and state estimation procedure"
   ]
  },
  {
   "cell_type": "code",
   "execution_count": 12,
   "id": "4737ad73",
   "metadata": {},
   "outputs": [],
   "source": [
    "def get_testbench_state_space(dt):\n",
    "    \"\"\"\n",
    "    This function returns the discrete-time state-space matrices of the testbench model.\n",
    "    \"\"\"\n",
    "    inertias, stiffs, damps, damps_ext, ratios = new_parameters()\n",
    "    Ac, Bc, C, D = state_space_matrices(inertias, stiffs, damps, damps_ext, ratios)\n",
    "\n",
    "    A, B = c2d(Ac, Bc, dt)\n",
    "\n",
    "    return A, B, C, D"
   ]
  },
  {
   "cell_type": "code",
   "execution_count": 13,
   "id": "6770a5e5",
   "metadata": {},
   "outputs": [],
   "source": [
    "dt = np.mean(np.diff(time))\n",
    "A, B, C, D = get_testbench_state_space(dt)\n",
    "ss = (A, B, C, D)"
   ]
  },
  {
   "cell_type": "code",
   "execution_count": 14,
   "id": "2f5e32cd",
   "metadata": {},
   "outputs": [],
   "source": [
    "# include second torque transducer to the observation matrix\n",
    "C_mod = np.insert(C, 3, np.zeros((1, C.shape[1])), 0)\n",
    "C_mod[3,22+18] += 2e4\n",
    "D_mod = np.zeros((C_mod.shape[0], B.shape[1]))"
   ]
  },
  {
   "cell_type": "code",
   "execution_count": 15,
   "id": "c387a3bc",
   "metadata": {},
   "outputs": [],
   "source": [
    "# parameters for the input and state estimation\n",
    "batch_size = 500\n",
    "overlap = 100\n",
    "lam = 0.1"
   ]
  },
  {
   "cell_type": "markdown",
   "id": "a6b012e9",
   "metadata": {},
   "source": [
    "# Analytical solution of the $\\ell_2$ regularized LS problem"
   ]
  },
  {
   "cell_type": "code",
   "execution_count": 16,
   "id": "ed7828a8",
   "metadata": {},
   "outputs": [],
   "source": [
    "def progressbar(it, prefix=\"\", size=60, out=sys.stdout, show_print=False):\n",
    "    \"\"\"\n",
    "    A function used to display a progress bar in the console.\n",
    "    \"\"\"\n",
    "    count = len(it)\n",
    "    def show(j):\n",
    "        x = int(size*j/count)\n",
    "        print(f\"{prefix}[{u'█'*x}{('.'*(size-x))}] {j}/{count}\", end='\\r', file=out, flush=True)\n",
    "    show(0)\n",
    "    for i, item in enumerate(it):\n",
    "        yield item\n",
    "        show(i+1)\n",
    "    if show_print:\n",
    "        print(\"\\n\", flush=True, file=out)"
   ]
  },
  {
   "cell_type": "code",
   "execution_count": 17,
   "id": "6dfd8f92",
   "metadata": {},
   "outputs": [],
   "source": [
    "def get_data_equation_matrices(A, B, C, D, n, bs):\n",
    "    D2 = second_difference_matrix(bs, B.shape[1])\n",
    "    O_mat = O(A, C, bs)\n",
    "    G = gamma(A, B, C, bs)\n",
    "    L = np.eye(bs*B.shape[1])\n",
    "\n",
    "    return O_mat, G, D2, L"
   ]
  },
  {
   "cell_type": "code",
   "execution_count": 18,
   "id": "dba8a3b4",
   "metadata": {},
   "outputs": [],
   "source": [
    "def ell2_analytical(ss, measurements, batch_size, overlap, times, lam=0.1, use_trend_filter=False, print_bar=True):\n",
    "\n",
    "    dt = np.mean(np.diff(times))\n",
    "    n = len(times)\n",
    "    bs = batch_size + 2*overlap\n",
    "    loop_len = int(n/batch_size)\n",
    "\n",
    "    A, B, C, D = ss  # state space model\n",
    "    O_mat, G, D2, L = get_data_equation_matrices(A, B, C, D, n, bs)  # data equation matrices\n",
    "\n",
    "    if use_trend_filter:\n",
    "        regul_matrix = D2 # regularization matrix\n",
    "    else:\n",
    "        regul_matrix = L\n",
    "\n",
    "    H = np.hstack([O_mat, G])  # extended observation and impulse response matrix\n",
    "    M = np.hstack([np.zeros((regul_matrix.shape[0], O_mat.shape[1])), regul_matrix])  # extended regularization matrix\n",
    "    \n",
    "    input_estimates = []\n",
    "\n",
    "    for i in progressbar(range(loop_len), \"Calculating estimates: \", loop_len, show_print=print_bar):\n",
    "        if i == 0:\n",
    "            batch = measurements[:bs,:]\n",
    "        elif i == loop_len-1:\n",
    "            batch = np.zeros((bs, measurements.shape[1]))\n",
    "            # zero padding to finish estimation loop correctly\n",
    "        else:\n",
    "            batch = measurements[i*batch_size-overlap:(i+1)*batch_size+overlap,:]\n",
    "\n",
    "        y = batch.reshape(-1,1)\n",
    "\n",
    "        estimate = LA.inv(H.T @ H + lam*(M.T @ M)) @ H.T @ y\n",
    "\n",
    "        input_estimates.append(estimate)\n",
    "\n",
    "    return input_estimates\n"
   ]
  },
  {
   "cell_type": "markdown",
   "id": "9c349252",
   "metadata": {},
   "source": [
    "# L-curve using the simulated impulse excitation\n",
    "\n",
    "The L-curve calculated using $ u = \\left( \\Gamma^T \\Gamma + \\lambda L^TL \\right)^{-1} \\Gamma^T y $, and plotting the residual norm and the $\\ell_2$-norm on a log-log plot."
   ]
  },
  {
   "cell_type": "code",
   "execution_count": 45,
   "id": "ff8c3ceb",
   "metadata": {},
   "outputs": [],
   "source": [
    "def L_curve(ss, measurements, times, lambdas, use_trend=False):\n",
    "    dt = np.mean(np.diff(times))\n",
    "    batch_size = len(times)\n",
    "    overlap = 0\n",
    "    n = len(times)\n",
    "\n",
    "    A, B, C, D = ss\n",
    "    O_mat, G, D2, L = get_data_equation_matrices(A, B, C, D, n, batch_size)\n",
    "\n",
    "    if use_trend:\n",
    "        regularization = D2\n",
    "    else:\n",
    "        regularization = L\n",
    "\n",
    "    input_estimates = []\n",
    "\n",
    "    y = measurements.reshape(-1,1)\n",
    "\n",
    "    for i in progressbar(range(len(lambdas)), \"Calculating estimates :\", len(lambdas)):\n",
    "        estimates = LA.inv(G.T @ G + lambdas[i]*(regularization.T @ regularization)) @ G.T @ y\n",
    "        input_estimates.append(estimates)\n",
    "\n",
    "    norm, res_norm = [], []\n",
    "    for i in range(len(lambdas)):\n",
    "        res_norm.append(np.linalg.norm(y - G @ input_estimates[i]))\n",
    "        norm.append(np.linalg.norm(regularization @ input_estimates[i]))\n",
    "\n",
    "    return norm, res_norm"
   ]
  },
  {
   "cell_type": "code",
   "execution_count": 46,
   "id": "9e9d479d",
   "metadata": {},
   "outputs": [],
   "source": [
    "def calculate_L_curve(times, dt, load, lambdas, use_trend=False, show_plot=False):\n",
    "    A, B, C, D = get_testbench_state_space(dt)\n",
    "    sys = (A, B, C, D)\n",
    "\n",
    "    tout, yout, _ = dlsim((A, B, C, D, dt), u=load, t=times)\n",
    "    e3 = np.random.normal(0, .1, yout.shape)\n",
    "    y_noise = yout + e3\n",
    "\n",
    "    l_norm, residual_norm = L_curve(\n",
    "        sys,\n",
    "        y_noise,\n",
    "        tout,\n",
    "        lambdas,\n",
    "        use_trend=use_trend\n",
    "    )\n",
    "\n",
    "    if show_plot:\n",
    "        plt.yscale(\"log\")\n",
    "        plt.xscale(\"log\")\n",
    "        plt.scatter(residual_norm, l_norm, color='blue')\n",
    "        plt.xlabel(\"$||y-\\Gamma u||_2$\")\n",
    "        plt.ylabel(\"$||L u||_2$\")\n",
    "        plt.grid(which=\"both\")\n",
    "        plt.tight_layout()\n",
    "        plt.show()"
   ]
  },
  {
   "cell_type": "code",
   "execution_count": 47,
   "id": "9dc8c451",
   "metadata": {},
   "outputs": [
    {
     "data": {
      "text/plain": [
       "[<matplotlib.lines.Line2D at 0x7f79674a8bb0>,\n",
       " <matplotlib.lines.Line2D at 0x7f79674a8be0>]"
      ]
     },
     "execution_count": 47,
     "metadata": {},
     "output_type": "execute_result"
    },
    {
     "data": {
      "image/png": "[encoded data removed]",
      "text/plain": [
       "<Figure size 432x288 with 1 Axes>"
      ]
     },
     "metadata": {
      "needs_background": "light"
     },
     "output_type": "display_data"
    }
   ],
   "source": [
    "# taking a 500 timestep long section of the simulated impulse\n",
    "excitation_sim = impulse_sim[3000:3500]\n",
    "t_sim_short = t_sim[:500]\n",
    "plt.plot(t_sim_short, excitation_sim)"
   ]
  },
  {
   "cell_type": "code",
   "execution_count": 48,
   "id": "e666424d",
   "metadata": {},
   "outputs": [
    {
     "name": "stdout",
     "output_type": "stream",
     "text": [
      "Calculating estimates :[█████████████] 13/13\r"
     ]
    },
    {
     "data": {
      "image/png": "[encoded data removed]",
      "text/plain": [
       "<Figure size 432x288 with 1 Axes>"
      ]
     },
     "metadata": {
      "needs_background": "light"
     },
     "output_type": "display_data"
    }
   ],
   "source": [
    "regularization_parameters = [1e-6, 1e-5, 1e-4, 1e-3, 1e-2, 1e-1, 1, 10, 100, 1000, 10000, 100000, 1000000]\n",
    "calculate_L_curve(t_sim_short, dt_sim, excitation_sim, regularization_parameters, use_trend=True, show_plot=True)"
   ]
  },
  {
   "cell_type": "markdown",
   "id": "8e82e0c3",
   "metadata": {},
   "source": [
    "### Ice excitation experiment: estimating inputs"
   ]
  },
  {
   "cell_type": "code",
   "execution_count": 23,
   "id": "3c1ba827",
   "metadata": {},
   "outputs": [
    {
     "name": "stdout",
     "output_type": "stream",
     "text": [
      "Calculating estimates: [████████████████████] 20/20\n",
      "\n"
     ]
    }
   ],
   "source": [
    "times = time[:measurements.shape[0]]\n",
    "estimates = ell2_analytical(ss, measurements[:,:3], batch_size, overlap, times, lam=lam, use_trend_filter=True)"
   ]
  },
  {
   "cell_type": "code",
   "execution_count": 24,
   "id": "763a48b6",
   "metadata": {},
   "outputs": [],
   "source": [
    "# Here the input and initial state estimates are processed.\n",
    "# Overlapped sections are discarded and the input estimate batches are stacked one after the other.\n",
    "n_batches = 20\n",
    "motor_estimates, propeller_estimates = [], []\n",
    "motor_est_overlap, prop_est_overlap = [], []\n",
    "for i in range(n_batches):\n",
    "    if i == 0:\n",
    "        all_motor_estimates = estimates[i][43::2]\n",
    "        motor_est_overlap.append(all_motor_estimates)\n",
    "        motor_estimates = all_motor_estimates[:-2*overlap]\n",
    "        all_propeller_estimates = estimates[i][(43+1)::2]\n",
    "        prop_est_overlap.append(all_propeller_estimates)\n",
    "        propeller_estimates = all_propeller_estimates[:-2*overlap]\n",
    "    else:\n",
    "        all_motor_estimates = estimates[i][43::2]\n",
    "        motor_est_overlap.append(all_motor_estimates)\n",
    "        motor_estimates = np.concatenate(\n",
    "            (motor_estimates, all_motor_estimates[overlap:-overlap])\n",
    "        )\n",
    "        all_propeller_estimates = estimates[i][(43+1)::2]\n",
    "        prop_est_overlap.append(all_propeller_estimates)\n",
    "        propeller_estimates = np.concatenate(\n",
    "            (propeller_estimates, all_propeller_estimates[overlap:-overlap])\n",
    "        )"
   ]
  },
  {
   "cell_type": "code",
   "execution_count": 25,
   "id": "fc0603e8",
   "metadata": {},
   "outputs": [],
   "source": [
    "C_full = np.eye(B.shape[0])  # Identity matrix with shape of the A matrix for observing all states"
   ]
  },
  {
   "cell_type": "code",
   "execution_count": 26,
   "id": "959c910f",
   "metadata": {},
   "outputs": [],
   "source": [
    "U_est = np.hstack((motor_estimates, propeller_estimates))  # Excitation matrix using estimated input torques "
   ]
  },
  {
   "cell_type": "code",
   "execution_count": 27,
   "id": "0b1e3a31",
   "metadata": {},
   "outputs": [],
   "source": [
    "# The testbench is simulated using the estimated input torques, with zero initial state.\n",
    "tout, yout, xout = dlsim((A, B, C_mod, D_mod, dt), U_est, t=times[:-67])"
   ]
  },
  {
   "cell_type": "code",
   "execution_count": 28,
   "id": "acd58d4b",
   "metadata": {},
   "outputs": [
    {
     "data": {
      "text/plain": [
       "<matplotlib.legend.Legend at 0x7f796952eb20>"
      ]
     },
     "execution_count": 28,
     "metadata": {},
     "output_type": "execute_result"
    },
    {
     "data": {
      "image/png": "[encoded data removed]",
      "text/plain": [
       "<Figure size 432x288 with 1 Axes>"
      ]
     },
     "metadata": {
      "needs_background": "light"
     },
     "output_type": "display_data"
    }
   ],
   "source": [
    "%matplotlib inline\n",
    "plt.title(\"Torque sensor 2\")\n",
    "plt.plot(times, measurements[:,-1], c='black', label=\"Measurement\")\n",
    "plt.plot(tout, yout[:,-1], '--', c='red', label=\"Estimate\")\n",
    "plt.legend()"
   ]
  },
  {
   "cell_type": "markdown",
   "id": "619e2bc5",
   "metadata": {},
   "source": [
    "# Below code is incomplete"
   ]
  },
  {
   "cell_type": "code",
   "execution_count": 29,
   "id": "4324e575",
   "metadata": {},
   "outputs": [],
   "source": [
    "omat = O(A, C_mod, batch_size+2*overlap)\n",
    "gmat = gamma(A, B, C_mod, batch_size+2*overlap)"
   ]
  },
  {
   "cell_type": "code",
   "execution_count": 30,
   "id": "c7243340",
   "metadata": {},
   "outputs": [
    {
     "name": "stdout",
     "output_type": "stream",
     "text": [
      "(2800, 1)\n"
     ]
    }
   ],
   "source": [
    "state_estimates = []\n",
    "all_inputs = []\n",
    "for i in range(n_batches):\n",
    "    inputs = np.vstack((motor_est_overlap[i], prop_est_overlap[i])).ravel(order='C')\n",
    "    inputs = inputs.reshape(len(inputs), 1)\n",
    "    all_inputs.append(inputs)\n",
    "    #state_estimates.append(omat @ estimates[i][:43] + gmat @ inputs)\n",
    "    state_estimates.append(omat @ np.zeros((43,1)) + gmat @ inputs)\n",
    "print(state_estimates[0].shape)"
   ]
  },
  {
   "cell_type": "code",
   "execution_count": 31,
   "id": "1019b01f",
   "metadata": {},
   "outputs": [],
   "source": [
    "speed1_ests, speed2_ests, torque1_ests, torque2_ests = [], [], [], []\n",
    "for i, v in enumerate(state_estimates):\n",
    "    torque2_est = v[3::4]\n",
    "    if i == 0:\n",
    "        torque2_ests = torque2_est[:-2*overlap]\n",
    "    else:\n",
    "        torque2_ests = np.concatenate(\n",
    "            (torque2_ests, torque2_est[overlap:-overlap])\n",
    "        ) "
   ]
  },
  {
   "cell_type": "code",
   "execution_count": 32,
   "id": "472011f1",
   "metadata": {
    "scrolled": true
   },
   "outputs": [
    {
     "data": {
      "text/plain": [
       "[<matplotlib.lines.Line2D at 0x7f796505b430>]"
      ]
     },
     "execution_count": 32,
     "metadata": {},
     "output_type": "execute_result"
    },
    {
     "data": {
      "image/png": "[encoded data removed]",
      "text/plain": [
       "<Figure size 432x288 with 1 Axes>"
      ]
     },
     "metadata": {
      "needs_background": "light"
     },
     "output_type": "display_data"
    }
   ],
   "source": [
    "plt.plot(times[100:-67], torque2_ests[100:])"
   ]
  },
  {
   "cell_type": "code",
   "execution_count": null,
   "id": "203da04a",
   "metadata": {},
   "outputs": [],
   "source": []
  }
 ],
 "metadata": {
  "kernelspec": {
   "display_name": "Python 3 (ipykernel)",
   "language": "python",
   "name": "python3"
  },
  "language_info": {
   "codemirror_mode": {
    "name": "ipython",
    "version": 3
   },
   "file_extension": ".py",
   "mimetype": "text/x-python",
   "name": "python",
   "nbconvert_exporter": "python",
   "pygments_lexer": "ipython3",
   "version": "3.8.10"
  }
 },
 "nbformat": 4,
 "nbformat_minor": 5
}
