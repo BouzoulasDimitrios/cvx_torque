{
 "cells": [
  {
   "cell_type": "code",
   "execution_count": null,
   "id": "8c450a41",
   "metadata": {},
   "outputs": [],
   "source": [
    "import sys\n",
    "import numpy as np\n",
    "import matplotlib.pyplot as plt\n",
    "import scipy.linalg as LA\n",
    "from scipy.signal import dlsim, butter, lfilter, welch\n",
    "import scienceplots"
   ]
  },
  {
   "cell_type": "code",
   "execution_count": null,
   "id": "368787f2",
   "metadata": {},
   "outputs": [],
   "source": [
    "np.set_printoptions(suppress=True)\n",
    "np.set_printoptions(precision=4)\n",
    "plt.style.use(['science', 'ieee'])\n",
    "plt.rcParams.update({'figure.dpi': '100'})"
   ]
  },
  {
   "cell_type": "markdown",
   "id": "df099a3f",
   "metadata": {},
   "source": [
    "# Testbench parameters\n",
    "\n",
    "The small-scale maritime thruster testbench was modelled using the shaft-line finite element method (FEM). In the shaft-line FEM, the system is modelled as lumped-elements with inertia, connected by torsional springs with stiffness and damping. Torque losses from the motors and gears were modelled as external damping."
   ]
  },
  {
   "cell_type": "code",
   "execution_count": null,
   "id": "13fbf5b3",
   "metadata": {},
   "outputs": [],
   "source": [
    "def new_parameters():\n",
    "    inertias = np.array([7.94e-4,\n",
    "                         3.79e-6,\n",
    "                         3.00e-6,\n",
    "                         2.00e-6,\n",
    "                         7.81e-3,\n",
    "                         2.00e-6,\n",
    "                         (3.17e-6 - 7800*(np.pi*(0.006**4)/32)*0.342/6) + 7800*(np.pi*(0.008**4)/32)*0.342/6,\n",
    "                         5.01e-5,\n",
    "                         6.50e-6,\n",
    "                         5.65e-5,\n",
    "                         4.27e-6,\n",
    "                         3.25e-4,\n",
    "                         1.20e-4,\n",
    "                         1.15e-5,\n",
    "                         1.32e-4,\n",
    "                         4.27e-6,\n",
    "                         2.69e-4,\n",
    "                         1.80e-4,\n",
    "                         2.00e-5,\n",
    "                         2.00e-4,\n",
    "                         4.27e-6,\n",
    "                         4.95e-2])\n",
    "\n",
    "    stiffnesses = np.array([1.90e5,\n",
    "                            6.95e3,\n",
    "                            90.00,\n",
    "                            90.00,\n",
    "                            90.00,\n",
    "                            90.00,\n",
    "                            80e9*(np.pi*(0.008**4)/32)/0.342,\n",
    "                            4.19e4,\n",
    "                            5.40e3,\n",
    "                            4.19e4,\n",
    "                            1.22e3,\n",
    "                            4.33e4,\n",
    "                            3.10e4,\n",
    "                            1.14e3,\n",
    "                            3.10e4,\n",
    "                            1.22e4,\n",
    "                            4.43e4,\n",
    "                            1.38e5,\n",
    "                            2.00e4,\n",
    "                            1.38e5,\n",
    "                            1.22e4])\n",
    "\n",
    "    damping = np.array([8.08,\n",
    "                        0.29,\n",
    "                        0.24,\n",
    "                        0.24,\n",
    "                        0.24,\n",
    "                        0.24,\n",
    "                        0.00,\n",
    "                        1.78,\n",
    "                        0.23,\n",
    "                        1.78,\n",
    "                        0.52,\n",
    "                        1.84,\n",
    "                        1.32,\n",
    "                        0.05,\n",
    "                        1.32,\n",
    "                        0.52,\n",
    "                        1.88,\n",
    "                        5.86,\n",
    "                        0.85,\n",
    "                        5.86,\n",
    "                        0.52])\n",
    "\n",
    "\n",
    "    external_damping = np.array([0.0030,\n",
    "                                 0,\n",
    "                                 0,\n",
    "                                 0,\n",
    "                                 0,\n",
    "                                 0,\n",
    "                                 0,\n",
    "                                 0,\n",
    "                                 0,\n",
    "                                 0,\n",
    "                                 0,\n",
    "                                 0.0042,\n",
    "                                 0,\n",
    "                                 0,\n",
    "                                 0,\n",
    "                                 0,\n",
    "                                 0.0042,\n",
    "                                 0,\n",
    "                                 0,\n",
    "                                 0,\n",
    "                                 0,\n",
    "                                 0.2400])\n",
    "\n",
    "    gear_ratios = np.array([1, 1, 1, 1, 1, 1, 1, 1, 1, 1, 1, 1/3, 1, 1, 1, 1, 1/4, 1, 1, 1, 1])\n",
    "\n",
    "    return inertias, stiffnesses, damping, external_damping, gear_ratios\n"
   ]
  },
  {
   "cell_type": "markdown",
   "id": "73f0355c",
   "metadata": {},
   "source": [
    "# State-space matrices\n",
    "\n",
    "The state-space matrices are constructed the same way as in the master's thesis and the MSSP article."
   ]
  },
  {
   "cell_type": "code",
   "execution_count": null,
   "id": "fe7c01b8",
   "metadata": {},
   "outputs": [],
   "source": [
    "def state_space_matrices(inertia, stiff, damp, damp_ext, ratios, full_B=False):\n",
    "    \"\"\"\n",
    "    Parameters:\n",
    "    \n",
    "    inertia : list\n",
    "        The inertia values of each lumped mass in order from index 1...n\n",
    "    stiff : list\n",
    "        The stiffness values between each lumped mass in order from index 1...n\n",
    "    damp : list\n",
    "        The viscous damping values between each lumped mass in order from index 1...n\n",
    "    damp_ext : list\n",
    "        The external damping corresponding to torque losses from the motors and gears\n",
    "    ratios : list\n",
    "        The gear ratios between each lumped mass\n",
    "    full_B : bool\n",
    "        If true, the input matrix B is shape n x p, allowing applying an input at the\n",
    "        location of every lumped mass. By default it's shape is n x 2, for applying an input\n",
    "        at the locations corresponding to the driving motor and the propeller. \n",
    "        \n",
    "    Returns:\n",
    "    \n",
    "    A : numpy.ndarray\n",
    "        The state matrix of the state-space system\n",
    "    B : numpy.ndarray\n",
    "        The input matrix of the state-space system\n",
    "    C : numpy.ndarray\n",
    "        The observation matrix of the state-space system\n",
    "    D : numpy.ndarray\n",
    "        The feedthrough matrix, always a zero matrix\n",
    "\n",
    "    \"\"\"\n",
    "    cn = damp*ratios\n",
    "    cn2 = damp*ratios**2\n",
    "    cn2 = np.hstack((cn2, 0))\n",
    "    c0 = np.copy(damp)\n",
    "    c0 = np.insert(c0, 0, 0, axis=0)\n",
    "    cn2d = -(c0 + cn2 + damp_ext)\n",
    "\n",
    "    A11 = (np.diag(cn2d) + np.diag(cn, k=1) + np.diag(cn, k=-1)) / inertia.reshape(inertia.shape[0], 1)\n",
    "\n",
    "    ks = -np.hstack((stiff*ratios, 0))\n",
    "    A12 = np.delete(\n",
    "        (np.diag(ks) + np.diag(stiff, k=-1)) / inertia.reshape(inertia.shape[0], 1), -1, axis=1\n",
    "    )\n",
    "\n",
    "\n",
    "    A23 = np.delete(\n",
    "        np.diag(np.hstack((ratios, 0))) + np.diag(-np.ones(len(ratios)), k=1), -1, axis=0\n",
    "    )\n",
    "\n",
    "    A = np.vstack((np.hstack((A11, A12)), np.hstack((A23, np.zeros((A23.shape[0], A23.shape[1]-1))))))\n",
    "\n",
    "    if full_B:\n",
    "        B = np.zeros(A.shape)\n",
    "        for i in range(len(inertia)):\n",
    "            B[i,i] += 1/inertia[i]\n",
    "    else:\n",
    "        B = np.zeros((A.shape[0], 2))\n",
    "        B[0,0] += 1/inertia[0]\n",
    "        B[len(inertia)-1, 1] -= 1/inertia[-1]\n",
    "\n",
    "    C = np.zeros((3, A.shape[0]))\n",
    "    C[0,6] += 1\n",
    "    C[1,7] += 1\n",
    "    C[2,30] += 5400\n",
    "    D = np.zeros((C.shape[0], B.shape[1]))\n",
    "\n",
    "    return A, B, C, D"
   ]
  },
  {
   "cell_type": "code",
   "execution_count": null,
   "id": "9c6439c6",
   "metadata": {},
   "outputs": [],
   "source": [
    "def c2d(A, B, ts):\n",
    "    \"\"\"\n",
    "    C2D computes a discrete-time model of a system (A_c,B_c) with sample time ts.\n",
    "    The function returns matrices Ad, Bd of the discrete-time system.\n",
    "    \"\"\"\n",
    "    m, n = A.shape\n",
    "    nb = B.shape[1]\n",
    "\n",
    "    s = np.concatenate([A,B], axis=1)\n",
    "    s = np.concatenate([s, np.zeros((nb, n+nb))], axis=0)\n",
    "    S = LA.expm(s*ts)\n",
    "    Ad = S[0:n,0:n]\n",
    "    Bd = S[0:n,n:n+nb+1]\n",
    "\n",
    "    return Ad, Bd\n"
   ]
  },
  {
   "cell_type": "markdown",
   "id": "3d979c83",
   "metadata": {},
   "source": [
    "# Data equation matrices"
   ]
  },
  {
   "cell_type": "code",
   "execution_count": null,
   "id": "22666506",
   "metadata": {},
   "outputs": [],
   "source": [
    "def O(A, C, n):\n",
    "    '''\n",
    "    Create the extended observability matrix used in the data equation.\n",
    "\n",
    "    Parameters:\n",
    "\n",
    "    A : numpy.ndarray\n",
    "        The state matrix of the state-space system\n",
    "    C : numpy.ndarray\n",
    "        The observation matrix of the state-space system\n",
    "    n : float\n",
    "        number of measurements\n",
    "\n",
    "    Returns:\n",
    "\n",
    "    O : numpy.ndarray, shape(n, number of state variables)\n",
    "        The extended observability matrix\n",
    "    '''\n",
    "    A_power = np.copy(A)\n",
    "    O = np.vstack((np.copy(C), C @ A))\n",
    "\n",
    "    for k in range(n-2):\n",
    "        A_power = A_power @ A\n",
    "        O = np.vstack((O, C @ A_power))\n",
    "\n",
    "    return O\n",
    "\n",
    "\n",
    "def gamma(A, B, C, n):\n",
    "    '''\n",
    "    Create the impulse response matrix used in the data equation.\n",
    "\n",
    "    Parameters:\n",
    "\n",
    "    A : numpy.ndarray\n",
    "        The state matrix of the state-space system\n",
    "    B : numpy.ndarray\n",
    "        The input matrix of the state-space system\n",
    "    C : numpy.ndarray\n",
    "        The observation matrix of the state-space system\n",
    "    n : float\n",
    "        number of measurements\n",
    "\n",
    "    Returns:\n",
    "\n",
    "    gamma : numpy.ndarray, shape(n*number of state variables, n*number of state variables)\n",
    "        The impulse response matrix\n",
    "    '''\n",
    "    A_power = np.copy(A)\n",
    "    Z = np.zeros((C @ B).shape)\n",
    "\n",
    "    # first column\n",
    "    gamma_column_first = np.vstack((\n",
    "        Z,\n",
    "        C @ B,\n",
    "        C @ A @ B\n",
    "    ))\n",
    "    for _ in range(n-3):\n",
    "        A_power = A_power @ A\n",
    "        gamma_column_first = np.vstack((gamma_column_first, C @ A_power @ B))\n",
    "\n",
    "    # build complete matrix, column by column, from left to right\n",
    "    gamma = np.copy(gamma_column_first)\n",
    "    current_column = 1\n",
    "    for _ in range(1, n):\n",
    "        gamma_rows = Z\n",
    "\n",
    "        # first add zero matrices\n",
    "        for _ in range(current_column):\n",
    "            gamma_rows = np.vstack((gamma_rows, Z))\n",
    "\n",
    "        # then add the impulse responses\n",
    "        A_power2 = np.copy(A)\n",
    "\n",
    "        if current_column < (n-2):\n",
    "            gamma_rows = np.vstack((\n",
    "                gamma_rows,\n",
    "                C @ B,\n",
    "                C @ A @ B # these must not be added to the last and the second to last columns\n",
    "            ))\n",
    "\n",
    "        if current_column == (n-2):\n",
    "            gamma_rows = np.vstack((\n",
    "                gamma_rows,\n",
    "                C @ B # this has to be added to the end of the second to last column\n",
    "            ))\n",
    "\n",
    "        for _ in range(n-current_column-3):\n",
    "            A_power2 = A_power2 @ A\n",
    "            gamma_rows = np.vstack((gamma_rows, C @ A_power2 @ B))\n",
    "\n",
    "        # add column on the right hand side\n",
    "        gamma = np.hstack((gamma, gamma_rows))\n",
    "        current_column += 1\n",
    "\n",
    "    return gamma\n",
    "\n",
    "\n",
    "def second_difference_matrix(n, m):\n",
    "    D2 = np.eye(n*m) - 2*np.eye(n*m, k=2) + np.eye(n*m, k=4)\n",
    "\n",
    "    # delete incomplete rows\n",
    "    D2 = D2[:-2*m, :]\n",
    "\n",
    "    return D2\n"
   ]
  },
  {
   "cell_type": "markdown",
   "id": "8100a9f1",
   "metadata": {},
   "source": [
    "# Simulated unit excitations\n",
    "\n",
    "The same simulated unit excitations as in the master's thesis."
   ]
  },
  {
   "cell_type": "code",
   "execution_count": null,
   "id": "3967f021",
   "metadata": {},
   "outputs": [],
   "source": [
    "# parameters for simulated excitations\n",
    "fs = 1000  # sampling frequency\n",
    "t_sim = np.arange(0,10,1/fs)  # timesteps\n",
    "dt_sim = np.mean(np.diff(t_sim))  # timestep length"
   ]
  },
  {
   "cell_type": "code",
   "execution_count": null,
   "id": "805def0b",
   "metadata": {},
   "outputs": [],
   "source": [
    "def impulse_excitation(sim_times, plot=False):\n",
    "    \"\"\"\n",
    "    Parameters:\n",
    "    \n",
    "    sim_times : numpy.ndarray\n",
    "        Timesteps of the simulation.\n",
    "        \n",
    "    Returns:\n",
    "    \n",
    "    U_imp : numpy.ndarray\n",
    "        Input torque matrix. Rows correspond to timesteps, first column has the motor torque,\n",
    "        second column has the propeller torque.\n",
    "    \"\"\"\n",
    "    U_imp = np.zeros((len(sim_times), 2))\n",
    "\n",
    "    e1 = np.random.normal(0, .1, U_imp.shape[0])\n",
    "    e2 = np.random.normal(0, .1, U_imp.shape[0])\n",
    "\n",
    "    one_hit = np.hstack((np.linspace(0, 0.34, 7), np.linspace(0.38, 0.64, 7), np.linspace(0.67, 0.87, 7), np.linspace(0.9, 0.98, 7)))\n",
    "\n",
    "    U_imp[:,0] += 2.7 + e1\n",
    "    U_imp[:,1] += e2\n",
    "    U_imp[3200:3228,1] += one_hit*10\n",
    "    U_imp[3228:3228+28,1] += np.flip(one_hit*10)\n",
    "    U_imp[5200:5228,1] += one_hit*10\n",
    "    U_imp[5228:5228+28,1] += np.flip(one_hit*10)\n",
    "    U_imp[8200:8228,1] += one_hit*10\n",
    "    U_imp[8228:8228+28,1] += np.flip(one_hit*10)\n",
    "\n",
    "    if plot:\n",
    "        plt.subplot(211)\n",
    "        plt.plot(sim_times, U_imp[:,0], label='Driving motor setpoint', color='blue')\n",
    "        plt.ylabel('Torque (Nm)')\n",
    "        plt.legend()\n",
    "\n",
    "        plt.subplot(212)\n",
    "        plt.plot(sim_times, U_imp[:,1], label='Loading motor setpoint', color='blue')\n",
    "        plt.xlabel('Time (s)')\n",
    "        plt.ylabel('Torque (Nm)')\n",
    "        plt.legend()\n",
    "        plt.tight_layout()\n",
    "\n",
    "        plt.show()\n",
    "\n",
    "    return U_imp"
   ]
  },
  {
   "cell_type": "code",
   "execution_count": null,
   "id": "efba9174",
   "metadata": {},
   "outputs": [],
   "source": [
    "impulse_sim = impulse_excitation(t_sim, plot=True)"
   ]
  },
  {
   "cell_type": "code",
   "execution_count": null,
   "id": "e34f535f",
   "metadata": {},
   "outputs": [],
   "source": [
    "def step_excitation(sim_times, plot=False):\n",
    "    \"\"\"\n",
    "    Parameters:\n",
    "    \n",
    "    sim_times : numpy.ndarray\n",
    "        Timesteps of the simulation.\n",
    "        \n",
    "    Returns:\n",
    "    \n",
    "    U_step : numpy.ndarray\n",
    "        Input torque matrix. Rows correspond to timesteps, first column has the motor torque,\n",
    "        second column has the propeller torque.\n",
    "    \"\"\"\n",
    "    U_step = np.zeros((len(sim_times), 2))\n",
    "\n",
    "    e1 = np.random.normal(0, .1, U_step.shape[0])\n",
    "    e2 = np.random.normal(0, .1, U_step.shape[0])\n",
    "\n",
    "    # U_step[:,0] += np.flip(np.linspace(-2.5, 2.5, 10000)) + e1\n",
    "    U_step[:,0] += 2.7 + e1\n",
    "    U_step[:,1] += e2\n",
    "    U_step[3200:5200,1] += 10.0\n",
    "    U_step[5200:8200,1] -= 4.0\n",
    "    U_step[8200:,1] += 0.5\n",
    "\n",
    "    if plot:\n",
    "        plt.subplot(211)\n",
    "        plt.plot(sim_times, U_step[:,0], label='Driving motor setpoint', color='blue')\n",
    "        plt.ylabel('Torque (Nm)')\n",
    "        plt.legend()\n",
    "\n",
    "        plt.subplot(212)\n",
    "        plt.plot(sim_times, U_step[:,1], label='Loading motor setpoint', color='blue')\n",
    "        plt.xlabel('Time (s)')\n",
    "        plt.ylabel('Torque (Nm)')\n",
    "        plt.legend()\n",
    "        plt.tight_layout()\n",
    "\n",
    "        plt.show()\n",
    "\n",
    "    return U_step"
   ]
  },
  {
   "cell_type": "code",
   "execution_count": null,
   "id": "edb5316c",
   "metadata": {},
   "outputs": [],
   "source": [
    "step_sim = step_excitation(t_sim, plot=True)"
   ]
  },
  {
   "cell_type": "code",
   "execution_count": null,
   "id": "f9b8660a",
   "metadata": {},
   "outputs": [],
   "source": [
    "def sinusoidal_excitation(sim_times, plot=False):\n",
    "    \"\"\"\n",
    "    Parameters:\n",
    "    \n",
    "    sim_times : numpy.ndarray\n",
    "        Timesteps of the simulation.\n",
    "        \n",
    "    Returns:\n",
    "    \n",
    "    U_sin : numpy.ndarray\n",
    "        Input torque matrix. Rows correspond to timesteps, first column has the motor torque,\n",
    "        second column has the propeller torque.\n",
    "    \"\"\"\n",
    "\n",
    "    def sum_sines(freqs, amps, phases, times, dc_offset):\n",
    "        \"\"\"\n",
    "        Generates a sinusoidal signal that is a sum of three sine waves with different frequencies.\n",
    "\n",
    "        Args:\n",
    "        freqs (list[float]): List of three frequencies for the sine waves.\n",
    "        amps (list[float]): List of three amplitudes for the sine waves.\n",
    "        phases (list[float]): List of three phase shifts for the sine waves.\n",
    "        times (numpy.ndarray): Timesteps of the signal in seconds.\n",
    "\n",
    "        Returns:\n",
    "        numpy.ndarray: Sinusoidal signal that is a sum of three sine waves.\n",
    "        \"\"\"\n",
    "\n",
    "        signal = np.zeros(len(times))\n",
    "        for f, a, p in zip(freqs, amps, phases):\n",
    "            signal += a * np.sin(2 * np.pi * f * times + p)\n",
    "\n",
    "        return signal + dc_offset\n",
    "\n",
    "    freqs = [2000/60*2*np.pi, 4*2000/60*2*np.pi, 8*2000/60*2*np.pi]\n",
    "    amps = [10, 5, 1]\n",
    "    phases = [0, 0, 0]\n",
    "    offset = 10\n",
    "    sine_signal = sum_sines(freqs, amps, phases, sim_times, offset)\n",
    "\n",
    "    U_sin = np.zeros((len(sim_times), 2))\n",
    "\n",
    "    e1 = np.random.normal(0, .1, U_sin.shape[0])\n",
    "    e2 = np.random.normal(0, .1, U_sin.shape[0])\n",
    "\n",
    "    U_sin[:,0] += 2.7 + e1\n",
    "    U_sin[:,1] += sine_signal + e2\n",
    "\n",
    "    if plot:\n",
    "        plt.subplot(211)\n",
    "        plt.plot(sim_times, U_sin[:,0], label='Driving motor setpoint', color='blue')\n",
    "        plt.ylabel('Torque (Nm)')\n",
    "        plt.legend()\n",
    "\n",
    "        plt.subplot(212)\n",
    "        plt.plot(sim_times, U_sin[:,1], label='Loading motor setpoint', color='blue')\n",
    "        plt.xlabel('Time (s)')\n",
    "        plt.ylabel('Torque (Nm)')\n",
    "        plt.legend()\n",
    "        plt.tight_layout()\n",
    "\n",
    "        plt.show()\n",
    "\n",
    "    return U_sin"
   ]
  },
  {
   "cell_type": "code",
   "execution_count": null,
   "id": "835f2aa9",
   "metadata": {},
   "outputs": [],
   "source": [
    "sin_sim = sinusoidal_excitation(t_sim, plot=True)"
   ]
  },
  {
   "cell_type": "markdown",
   "id": "223073c5",
   "metadata": {},
   "source": [
    "# Get excitation and measurement data\n",
    "\n",
    "This dataset was used in the master's thesis for the excitation experiments on the testbench. Sampling frequency ~1 kHz. The data has been low pass filtered with a cutoff frequency of 500 Hz."
   ]
  },
  {
   "cell_type": "markdown",
   "id": "5204fa01",
   "metadata": {},
   "source": [
    "### No load test"
   ]
  },
  {
   "cell_type": "code",
   "execution_count": null,
   "id": "699151a4",
   "metadata": {},
   "outputs": [],
   "source": [
    "# The motor dataset columns:\n",
    "# | time | motor setpoint | motor | propeller setpoint | propeller |\n",
    "motor_data_no = np.loadtxt(\"../data/masters_data/processed_data/no_load_2000_motor.csv\", delimiter=\",\")\n",
    "\n",
    "# The sensor dataset columns:\n",
    "# | time | speed1 (encoder1) | speed2 (encoder2) | torque1 | torque2 |\n",
    "sensor_data_no = np.loadtxt(\"../data/masters_data/processed_data/no_load_2000_sensor.csv\", delimiter=\",\")\n",
    "\n",
    "plt.subplot(231)\n",
    "plt.plot(motor_data_no[:,0], motor_data_no[:,2], label='Driving motor', color='blue')\n",
    "plt.xlabel('Time (s)')\n",
    "plt.ylabel('Torque (Nm)')\n",
    "plt.legend()\n",
    "\n",
    "plt.subplot(234)\n",
    "plt.plot(motor_data_no[:,0], motor_data_no[:,4], label='Loading motor', color='blue')\n",
    "plt.xlabel('Time (s)')\n",
    "plt.ylabel('Torque (Nm)')\n",
    "plt.legend()\n",
    "\n",
    "plt.subplot(232)\n",
    "plt.plot(sensor_data_no[:,0], sensor_data_no[:,3], label='Torque 1', color='blue')\n",
    "plt.xlabel('Time (s)')\n",
    "plt.ylabel('Torque (Nm)')\n",
    "plt.legend()\n",
    "\n",
    "plt.subplot(235)\n",
    "plt.plot(sensor_data_no[:,0], sensor_data_no[:,4], label='Torque 2', color='blue')\n",
    "plt.xlabel('Time (s)')\n",
    "plt.ylabel('Torque (Nm)')\n",
    "plt.legend()\n",
    "\n",
    "plt.subplot(233)\n",
    "plt.plot(sensor_data_no[:,0], sensor_data_no[:,1], label='Speed 1', color='blue')\n",
    "plt.xlabel('Time (s)')\n",
    "plt.ylabel('Speed (rad/s)')\n",
    "plt.legend()\n",
    "\n",
    "plt.subplot(236)\n",
    "plt.plot(sensor_data_no[:,0], sensor_data_no[:,2], label='Speed 2', color='blue')\n",
    "plt.xlabel('Time (s)')\n",
    "plt.ylabel('Speed (rad/s)')\n",
    "plt.legend()\n",
    "\n",
    "plt.tight_layout()\n",
    "plt.show()"
   ]
  },
  {
   "cell_type": "markdown",
   "id": "0d8110c6",
   "metadata": {},
   "source": [
    "The testbench driving speed is kept constant 2000 rpm, loading motor torque is zero. By subtracting the mean of the measurement from the measurement, what is left is noise $r_n$ (and possible speed fluctuations, however, assumebd negilible for now). The measurement covariance matrix can be formed as follows:\n",
    "$$ \\text{Cov}(r_n) = E[r_n r_n^T]-E[r_n]E[r_n]^T = R $$"
   ]
  },
  {
   "cell_type": "code",
   "execution_count": null,
   "id": "f9f336b3",
   "metadata": {},
   "outputs": [],
   "source": [
    "# TODO: try this with a section of the ice experiment, the torque transducer noise here seems too low\n",
    "r1 = sensor_data_no[:,1] - np.mean(sensor_data_no[:,1])\n",
    "r2 = sensor_data_no[:,2] - np.mean(sensor_data_no[:,2])\n",
    "r3 = sensor_data_no[:,3] #- np.mean(sensor_data_no[:,3])\n",
    "\n",
    "r1_cov = np.mean(r1**2) - np.mean(r1)**2\n",
    "print(r1_cov)\n",
    "r2_cov = np.mean(r2**2) - np.mean(r2)**2\n",
    "print(r2_cov)\n",
    "r3_cov = np.mean(r3**2) - np.mean(r3)**2\n",
    "print(r3_cov)"
   ]
  },
  {
   "cell_type": "code",
   "execution_count": null,
   "id": "b2b4364f",
   "metadata": {},
   "outputs": [],
   "source": [
    "r1_sim = np.ones(len(sensor_data_no[:,1]))*np.mean(sensor_data_no[:,1]) + np.random.normal(0, 0.17, len(sensor_data_no[:,1]))\n",
    "r1_sim -= np.mean(r1_sim)\n",
    "r2_sim = np.ones(len(sensor_data_no[:,2]))*np.mean(sensor_data_no[:,2]) + np.random.normal(0, 0.47, len(sensor_data_no[:,2]))\n",
    "r2_sim -= np.mean(r2_sim)\n",
    "r3_sim = np.ones(len(sensor_data_no[:,3]))*np.mean(sensor_data_no[:,3]) + np.random.normal(0, 0.44, len(sensor_data_no[:,3]))\n",
    "#r3_sim -= np.mean(r3_sim)\n",
    "\n",
    "plt.subplot(311)\n",
    "plt.plot(r1)\n",
    "plt.plot(r1_sim, alpha=0.5)\n",
    "plt.subplot(312)\n",
    "plt.plot(r2)\n",
    "plt.plot(r2_sim, alpha=0.5)\n",
    "plt.subplot(313)\n",
    "plt.plot(r3)\n",
    "plt.plot(r3_sim, alpha=0.5)"
   ]
  },
  {
   "cell_type": "code",
   "execution_count": null,
   "id": "cff6dff1",
   "metadata": {},
   "outputs": [],
   "source": [
    "f, Pxx_spec = welch(r3, 1000, 'flattop', 1024, scaling='spectrum')\n",
    "f2, Pxx_spec2 = welch(r3_sim, 1000, 'flattop', 1024, scaling='spectrum')\n",
    "plt.figure()\n",
    "plt.semilogy(f, np.sqrt(Pxx_spec))\n",
    "plt.semilogy(f2, np.sqrt(Pxx_spec2))\n",
    "plt.xlabel('frequency [Hz]')\n",
    "plt.ylabel('Linear spectrum [V RMS]')\n",
    "plt.title('Power spectrum (scipy.signal.welch)')\n",
    "plt.show()"
   ]
  },
  {
   "cell_type": "markdown",
   "id": "96cc3a81",
   "metadata": {},
   "source": [
    "### Unit excitations"
   ]
  },
  {
   "cell_type": "code",
   "execution_count": null,
   "id": "c45a5292",
   "metadata": {},
   "outputs": [],
   "source": [
    "# The motor dataset columns:\n",
    "# | time | motor setpoint | motor | propeller setpoint | propeller |\n",
    "motor_data_imp = np.loadtxt(\"../data/masters_data/processed_data/impulse_motor.csv\", delimiter=\",\")\n",
    "\n",
    "# The sensor dataset columns:\n",
    "# | time | speed1 (encoder1) | speed2 (encoder2) | torque1 | torque2 |\n",
    "sensor_data_imp = np.loadtxt(\"../data/masters_data/processed_data/impulse_sensor.csv\", delimiter=\",\")\n",
    "\n",
    "plt.subplot(231)\n",
    "plt.plot(motor_data_imp[:,0], motor_data_imp[:,2], label='Driving motor', color='blue')\n",
    "plt.ylabel('Torque (Nm)')\n",
    "plt.legend()\n",
    "\n",
    "plt.subplot(234)\n",
    "plt.plot(motor_data_imp[:,0], motor_data_imp[:,4], label='Loading motor', color='blue')\n",
    "plt.xlabel('Time (s)')\n",
    "plt.ylabel('Torque (Nm)')\n",
    "plt.legend()\n",
    "\n",
    "plt.subplot(232)\n",
    "plt.plot(sensor_data_imp[:,0], sensor_data_imp[:,3], label='Torque 1', color='blue')\n",
    "plt.ylabel('Torque (Nm)')\n",
    "plt.legend()\n",
    "\n",
    "plt.subplot(235)\n",
    "plt.plot(sensor_data_imp[:,0], sensor_data_imp[:,4], label='Torque 2', color='blue')\n",
    "plt.xlabel('Time (s)')\n",
    "plt.ylabel('Torque (Nm)')\n",
    "plt.legend()\n",
    "\n",
    "plt.subplot(233)\n",
    "plt.plot(sensor_data_imp[:,0], sensor_data_imp[:,1], label='Speed 1', color='blue')\n",
    "plt.xlabel('Time (s)')\n",
    "plt.ylabel('Speed (rad/s)')\n",
    "plt.legend()\n",
    "\n",
    "plt.subplot(236)\n",
    "plt.plot(sensor_data_imp[:,0], sensor_data_imp[:,2], label='Speed 2', color='blue')\n",
    "plt.xlabel('Time (s)')\n",
    "plt.ylabel('Speed (rad/s)')\n",
    "plt.legend()\n",
    "\n",
    "plt.tight_layout()\n",
    "plt.show()"
   ]
  },
  {
   "cell_type": "code",
   "execution_count": null,
   "id": "635f69bc",
   "metadata": {},
   "outputs": [],
   "source": [
    "# The motor dataset columns:\n",
    "# | time | motor setpoint | motor | propeller setpoint | propeller |\n",
    "motor_data_step = np.loadtxt(\"../data/masters_data/processed_data/step_motor.csv\", delimiter=\",\")\n",
    "\n",
    "# The sensor dataset columns:\n",
    "# | time | speed1 (encoder1) | speed2 (encoder2) | torque1 | torque2 |\n",
    "sensor_data_step = np.loadtxt(\"../data/masters_data/processed_data/step_sensor.csv\", delimiter=\",\")\n",
    "\n",
    "plt.subplot(231)\n",
    "plt.plot(motor_data_step[:,0], motor_data_step[:,2], label='Driving motor', color='blue')\n",
    "plt.ylabel('Torque (Nm)')\n",
    "plt.legend()\n",
    "\n",
    "plt.subplot(234)\n",
    "plt.plot(motor_data_step[:,0], motor_data_step[:,4], label='Loading motor', color='blue')\n",
    "plt.xlabel('Time (s)')\n",
    "plt.ylabel('Torque (Nm)')\n",
    "plt.legend()\n",
    "\n",
    "plt.subplot(232)\n",
    "plt.plot(sensor_data_step[:,0], sensor_data_step[:,3], label='Torque 1', color='blue')\n",
    "plt.ylabel('Torque (Nm)')\n",
    "plt.legend()\n",
    "\n",
    "plt.subplot(235)\n",
    "plt.plot(sensor_data_step[:,0], sensor_data_step[:,4], label='Torque 2', color='blue')\n",
    "plt.xlabel('Time (s)')\n",
    "plt.ylabel('Torque (Nm)')\n",
    "plt.legend()\n",
    "\n",
    "plt.subplot(233)\n",
    "plt.plot(sensor_data_step[:,0], sensor_data_step[:,1], label='Speed 1', color='blue')\n",
    "plt.xlabel('Time (s)')\n",
    "plt.ylabel('Speed (rad/s)')\n",
    "plt.legend()\n",
    "\n",
    "plt.subplot(236)\n",
    "plt.plot(sensor_data_step[:,0], sensor_data_step[:,2], label='Speed 2', color='blue')\n",
    "plt.xlabel('Time (s)')\n",
    "plt.ylabel('Speed (rad/s)')\n",
    "plt.legend()\n",
    "\n",
    "plt.tight_layout()\n",
    "plt.show()"
   ]
  },
  {
   "cell_type": "code",
   "execution_count": null,
   "id": "a1860888",
   "metadata": {},
   "outputs": [],
   "source": [
    "# The motor dataset columns:\n",
    "# | time | motor setpoint | motor | propeller setpoint | propeller |\n",
    "motor_data_sin = np.loadtxt(\"../data/masters_data/processed_data/sin_motor.csv\", delimiter=\",\")\n",
    "\n",
    "# The sensor dataset columns:\n",
    "# | time | speed1 (encoder1) | speed2 (encoder2) | torque1 | torque2 |\n",
    "sensor_data_sin = np.loadtxt(\"../data/masters_data/processed_data/sin_sensor.csv\", delimiter=\",\")\n",
    "\n",
    "plt.subplot(231)\n",
    "plt.plot(motor_data_sin[:,0], motor_data_sin[:,2], label='Driving motor', color='blue')\n",
    "plt.ylabel('Torque (Nm)')\n",
    "plt.legend()\n",
    "\n",
    "plt.subplot(234)\n",
    "plt.plot(motor_data_sin[:,0], motor_data_sin[:,4], label='Loading motor', color='blue')\n",
    "plt.xlabel('Time (s)')\n",
    "plt.ylabel('Torque (Nm)')\n",
    "plt.legend()\n",
    "\n",
    "plt.subplot(232)\n",
    "plt.plot(sensor_data_sin[:,0], sensor_data_sin[:,3], label='Torque 1', color='blue')\n",
    "plt.ylabel('Torque (Nm)')\n",
    "plt.legend()\n",
    "\n",
    "plt.subplot(235)\n",
    "plt.plot(sensor_data_sin[:,0], sensor_data_sin[:,4], label='Torque 2', color='blue')\n",
    "plt.xlabel('Time (s)')\n",
    "plt.ylabel('Torque (Nm)')\n",
    "plt.legend()\n",
    "\n",
    "plt.subplot(233)\n",
    "plt.plot(sensor_data_sin[:,0], sensor_data_sin[:,1], label='Speed 1', color='blue')\n",
    "plt.xlabel('Time (s)')\n",
    "plt.ylabel('Speed (rad/s)')\n",
    "plt.legend()\n",
    "\n",
    "plt.subplot(236)\n",
    "plt.plot(sensor_data_sin[:,0], sensor_data_sin[:,2], label='Speed 2', color='blue')\n",
    "plt.xlabel('Time (s)')\n",
    "plt.ylabel('Speed (rad/s)')\n",
    "plt.legend()\n",
    "\n",
    "plt.tight_layout()\n",
    "plt.show()"
   ]
  },
  {
   "cell_type": "code",
   "execution_count": null,
   "id": "245aa3be",
   "metadata": {},
   "outputs": [],
   "source": [
    "# The motor dataset columns:\n",
    "# | time | motor setpoint | motor | propeller setpoint | propeller |\n",
    "motor_data = np.loadtxt(\"../data/masters_data/processed_data/ice_2000_motor.csv\", delimiter=\",\")\n",
    "\n",
    "# The sensor dataset columns:\n",
    "# | time | speed1 (encoder1) | speed2 (encoder2) | torque1 | torque2 |\n",
    "sensor_data = np.loadtxt(\"../data/masters_data/processed_data/ice_2000_sensor.csv\", delimiter=\",\")"
   ]
  },
  {
   "cell_type": "code",
   "execution_count": null,
   "id": "cde50894",
   "metadata": {},
   "outputs": [],
   "source": [
    "time = sensor_data[:,0]\n",
    "measurements = sensor_data[:,1:] # measurement data from the encoder 1, encoder 2, torque transducer 1 and torque transducer 2\n",
    "motors = np.vstack((motor_data[:,2], motor_data[:,4])).T # motor torque data"
   ]
  },
  {
   "cell_type": "code",
   "execution_count": null,
   "id": "8396adcf",
   "metadata": {},
   "outputs": [],
   "source": [
    "motor_setpoint = motor_data[:,1]\n",
    "propeller_setpoint = motor_data[:,3]"
   ]
  },
  {
   "cell_type": "code",
   "execution_count": null,
   "id": "f420c2e7",
   "metadata": {},
   "outputs": [],
   "source": [
    "plt.figure(figsize=(6,2))\n",
    "plt.plot(time, propeller_setpoint, c='b')\n",
    "plt.xlabel('Time (s)', fontsize=12)\n",
    "plt.ylabel('Torque (Nm)', fontsize=12)\n",
    "plt.xlim(3.05,4.4)\n",
    "plt.yticks(fontsize=12)\n",
    "plt.xticks(fontsize=12)\n",
    "plt.savefig(\"notebook_figures/propeller_setpoint1.eps\")"
   ]
  },
  {
   "cell_type": "code",
   "execution_count": null,
   "id": "0474cd99",
   "metadata": {},
   "outputs": [],
   "source": [
    "motor = motors[:,0]\n",
    "propeller = motors[:,-1]"
   ]
  },
  {
   "cell_type": "code",
   "execution_count": null,
   "id": "b3289460",
   "metadata": {},
   "outputs": [],
   "source": [
    "plt.subplot(211)\n",
    "plt.plot(time, motor, label='Driving motor', color='blue')\n",
    "plt.ylabel('Torque (Nm)')\n",
    "plt.legend()\n",
    "\n",
    "plt.subplot(212)\n",
    "plt.plot(time, propeller, label='Loading motor', color='blue')\n",
    "plt.xlabel('Time (s)')\n",
    "plt.ylabel('Torque (Nm)')\n",
    "plt.legend()\n",
    "plt.tight_layout()\n",
    "\n",
    "plt.show()"
   ]
  },
  {
   "cell_type": "markdown",
   "id": "ae439a43",
   "metadata": {},
   "source": [
    "# Initiate the input and state estimation procedure"
   ]
  },
  {
   "cell_type": "code",
   "execution_count": null,
   "id": "4737ad73",
   "metadata": {},
   "outputs": [],
   "source": [
    "def get_testbench_state_space(dt):\n",
    "    \"\"\"\n",
    "    This function returns the discrete-time state-space matrices of the testbench model.\n",
    "    \"\"\"\n",
    "    inertias, stiffs, damps, damps_ext, ratios = new_parameters()\n",
    "    Ac, Bc, C, D = state_space_matrices(inertias, stiffs, damps, damps_ext, ratios)\n",
    "\n",
    "    A, B = c2d(Ac, Bc, dt)\n",
    "\n",
    "    return A, B, C, D"
   ]
  },
  {
   "cell_type": "code",
   "execution_count": null,
   "id": "6770a5e5",
   "metadata": {},
   "outputs": [],
   "source": [
    "dt = np.mean(np.diff(time))\n",
    "A, B, C, D = get_testbench_state_space(dt)\n",
    "ss = (A, B, C, D)"
   ]
  },
  {
   "cell_type": "code",
   "execution_count": null,
   "id": "2f5e32cd",
   "metadata": {},
   "outputs": [],
   "source": [
    "# include second torque transducer to the observation matrix\n",
    "C_mod = np.insert(C, 3, np.zeros((1, C.shape[1])), 0)\n",
    "C_mod[3,22+18] += 2e4\n",
    "D_mod = np.zeros((C_mod.shape[0], B.shape[1]))"
   ]
  },
  {
   "cell_type": "markdown",
   "id": "a6b012e9",
   "metadata": {},
   "source": [
    "# Analytical solution of the $\\ell_2$ regularized LS problem"
   ]
  },
  {
   "cell_type": "code",
   "execution_count": null,
   "id": "ed7828a8",
   "metadata": {},
   "outputs": [],
   "source": [
    "def progressbar(it, prefix=\"\", size=60, out=sys.stdout, show_print=False):\n",
    "    \"\"\"\n",
    "    A function used to display a progress bar in the console.\n",
    "    \"\"\"\n",
    "    count = len(it)\n",
    "    def show(j):\n",
    "        x = int(size*j/count)\n",
    "        print(f\"{prefix}[{u'█'*x}{('.'*(size-x))}] {j}/{count}\", end='\\r', file=out, flush=True)\n",
    "    show(0)\n",
    "    for i, item in enumerate(it):\n",
    "        yield item\n",
    "        show(i+1)\n",
    "    if show_print:\n",
    "        print(\"\\n\", flush=True, file=out)"
   ]
  },
  {
   "cell_type": "code",
   "execution_count": null,
   "id": "6dfd8f92",
   "metadata": {},
   "outputs": [],
   "source": [
    "def get_data_equation_matrices(A, B, C, D, n, bs):\n",
    "    D2 = second_difference_matrix(bs, B.shape[1])\n",
    "    O_mat = O(A, C, bs)\n",
    "    G = gamma(A, B, C, bs)\n",
    "    L = np.eye(bs*B.shape[1])\n",
    "\n",
    "    return O_mat, G, D2, L"
   ]
  },
  {
   "cell_type": "code",
   "execution_count": null,
   "id": "dba8a3b4",
   "metadata": {},
   "outputs": [],
   "source": [
    "def ell2_analytical(ss, measurements, batch_size, overlap, times, lam=0.1, use_trend_filter=False, print_bar=True):\n",
    "    \"\"\"\n",
    "    Analytical solution of the l2 regularized LS problem.\n",
    "    Minimizes the sum of squared residuals, including an l2 constraint.\n",
    "    \"\"\"\n",
    "    dt = np.mean(np.diff(times))\n",
    "    n = len(times)\n",
    "    bs = batch_size + 2*overlap\n",
    "    loop_len = int(n/batch_size)\n",
    "\n",
    "    A, B, C, D = ss  # state space model\n",
    "    O_mat, G, D2, L = get_data_equation_matrices(A, B, C, D, n, bs)  # data equation matrices\n",
    "\n",
    "    if use_trend_filter:\n",
    "        regul_matrix = D2 # regularization matrix\n",
    "    else:\n",
    "        regul_matrix = L\n",
    "\n",
    "    H = np.hstack([O_mat, G])  # extended observation and impulse response matrix\n",
    "    M = np.hstack([np.zeros((regul_matrix.shape[0], O_mat.shape[1])), regul_matrix])  # extended regularization matrix\n",
    "    \n",
    "    input_estimates = []\n",
    "\n",
    "    for i in progressbar(range(loop_len), \"Calculating estimates: \", loop_len, show_print=print_bar):\n",
    "        if i == 0:\n",
    "            batch = measurements[:bs,:]\n",
    "        elif i == loop_len-1:\n",
    "            batch = np.zeros((bs, measurements.shape[1]))\n",
    "            # zero padding to finish estimation loop correctly\n",
    "        else:\n",
    "            batch = measurements[i*batch_size-overlap:(i+1)*batch_size+overlap,:]\n",
    "\n",
    "        y = batch.reshape(-1,1)\n",
    "\n",
    "        estimate = LA.inv(H.T @ H + lam*(M.T @ M)) @ H.T @ y\n",
    "\n",
    "        input_estimates.append(estimate)\n",
    "\n",
    "    return input_estimates"
   ]
  },
  {
   "cell_type": "code",
   "execution_count": null,
   "id": "7b1fbfdb",
   "metadata": {},
   "outputs": [],
   "source": [
    "def ell2_analytical_with_covariance(ss, measurements, batch_size, overlap, times, lam=0.1, use_trend_filter=False, print_bar=True):\n",
    "    \"\"\"\n",
    "    Analytical solution of the l2 regularized LS problem.\n",
    "    Minimizes the sum of squared residuals, including an l2 constraint and known covariance for input and output.\n",
    "    Initial state is always assumed zero.\n",
    "    \"\"\"\n",
    "    dt = np.mean(np.diff(times))\n",
    "    n = len(times)\n",
    "    bs = batch_size + 2*overlap\n",
    "    loop_len = int(n/batch_size)\n",
    "\n",
    "    A, B, C, D = ss  # state space model\n",
    "    O_mat, G, D2, L = get_data_equation_matrices(A, B, C, D, n, bs)  # data equation matrices\n",
    "\n",
    "    if use_trend_filter:\n",
    "        regul_matrix = D2 # regularization matrix\n",
    "    else:\n",
    "        regul_matrix = L\n",
    "\n",
    "    # measurement noise covariance matrix\n",
    "    R = np.diag([0.05, 0.10, 0.20])\n",
    "    #R = np.diag([0.03, 0.20, 0.01])\n",
    "    R_inv = LA.inv(R)\n",
    "    I = np.eye(bs)\n",
    "    # measurement noise covariance assembled as a diagonal block matrix\n",
    "    WR = np.kron(I, R_inv)\n",
    "    \n",
    "    input_estimates = []\n",
    "\n",
    "    for i in progressbar(range(loop_len), \"Calculating estimates: \", loop_len, show_print=print_bar):\n",
    "        if i == 0:\n",
    "            batch = measurements[:bs,:]\n",
    "        elif i == loop_len-1:\n",
    "            batch = np.zeros((bs, measurements.shape[1]))\n",
    "            # zero padding to finish estimation loop correctly\n",
    "        else:\n",
    "            batch = measurements[i*batch_size-overlap:(i+1)*batch_size+overlap,:]\n",
    "\n",
    "        y = batch.reshape(-1,1)\n",
    "\n",
    "        #estimate = LA.inv(H.T @ H + lam*(M.T @ M)) @ H.T @ y\n",
    "        estimate = LA.inv(G.T @ WR @ G + lam*(regul_matrix.T@regul_matrix)) @ G.T @ WR @ y\n",
    "\n",
    "        input_estimates.append(estimate)\n",
    "\n",
    "    return input_estimates"
   ]
  },
  {
   "cell_type": "markdown",
   "id": "9c349252",
   "metadata": {},
   "source": [
    "# L-curve using the simulated impulse excitation\n",
    "\n",
    "The L-curve calculated using $ u = \\left( \\Gamma^T \\Gamma + \\lambda L^TL \\right)^{-1} \\Gamma^T y $, and plotting the residual norm and the $\\ell_2$-norm on a log-log plot."
   ]
  },
  {
   "cell_type": "code",
   "execution_count": null,
   "id": "ff8c3ceb",
   "metadata": {},
   "outputs": [],
   "source": [
    "def L_curve(ss, measurements, times, lambdas, use_trend=False):\n",
    "    dt = np.mean(np.diff(times))\n",
    "    batch_size = len(times)\n",
    "    overlap = 0\n",
    "    n = len(times)\n",
    "\n",
    "    A, B, C, D = ss\n",
    "    O_mat, G, D2, L = get_data_equation_matrices(A, B, C, D, n, batch_size)\n",
    "\n",
    "    if use_trend:\n",
    "        regularization = D2\n",
    "    else:\n",
    "        regularization = L\n",
    "\n",
    "    input_estimates = []\n",
    "\n",
    "    y = measurements.reshape(-1,1)\n",
    "\n",
    "    for i in progressbar(range(len(lambdas)), \"Calculating estimates :\", len(lambdas)):\n",
    "        estimates = LA.inv(G.T @ G + lambdas[i]*(regularization.T @ regularization)) @ G.T @ y\n",
    "        input_estimates.append(estimates)\n",
    "\n",
    "    norm, res_norm = [], []\n",
    "    for i in range(len(lambdas)):\n",
    "        res_norm.append(np.linalg.norm(y - G @ input_estimates[i]))\n",
    "        norm.append(np.linalg.norm(regularization @ input_estimates[i]))\n",
    "\n",
    "    return norm, res_norm, input_estimates"
   ]
  },
  {
   "cell_type": "code",
   "execution_count": null,
   "id": "de6aaca4",
   "metadata": {},
   "outputs": [],
   "source": [
    "#def calculate_curvature(lambdas, l_norms, res_norms):\n",
    "#    kappas = []\n",
    "#    for i in range(len(lambdas)):\n",
    "#        eta = l_norms[i]**2\n",
    "#        rho = res_norms[i]**2\n",
    "#        eta_dot = \n",
    "#        rho_dot = -lambdas[i]**2*eta_dot\n",
    "#        k = 2*(eta*rho)/eta_dot * (lambdas[i]**2*eta_dot*rho+2*lambdas[i]*eta*rho+lambdas[i]**4*eta*eta_dot)/(lambdas[i]**2*eta**2+rho**2)**(3/2)\n",
    "#        kappas.append(k)\n",
    "    \n",
    "#    return kappas"
   ]
  },
  {
   "cell_type": "code",
   "execution_count": null,
   "id": "9e9d479d",
   "metadata": {},
   "outputs": [],
   "source": [
    "def calculate_L_curve(times, dt, load, lambdas, use_trend=False, show_plot=False):\n",
    "    A, B, C, D = get_testbench_state_space(dt)\n",
    "    sys = (A, B, C, D)\n",
    "\n",
    "    tout, yout, _ = dlsim((A, B, C, D, dt), u=load, t=times)\n",
    "    e3 = np.random.normal(0, .1, yout.shape)\n",
    "    y_noise = yout + e3\n",
    "\n",
    "    l_norm, residual_norm, input_estimates = L_curve(\n",
    "        sys,\n",
    "        y_noise,\n",
    "        tout,\n",
    "        lambdas,\n",
    "        use_trend=use_trend\n",
    "    )\n",
    "\n",
    "    plt.plot(input_estimates[6][1::2])\n",
    "    plt.show()\n",
    "    \n",
    "    if show_plot:\n",
    "        plt.figure(figsize=(6,4))\n",
    "        plt.yscale(\"log\")\n",
    "        plt.xscale(\"log\")\n",
    "        plt.plot(residual_norm, l_norm, color='blue')\n",
    "        plt.scatter(residual_norm, l_norm, color='blue')\n",
    "        plt.xlabel(\"Residual norm $||y-\\Gamma u||_2$\", fontsize=12)\n",
    "        plt.ylabel(\"Regularising norm $||L u||_2$\", fontsize=12)\n",
    "        plt.annotate(\n",
    "            \"$\\lambda = $\" + str(lambdas[6]),\n",
    "            (residual_norm[6], l_norm[6]),\n",
    "            (residual_norm[6]-0.5, l_norm[6]-0.1)\n",
    "        )\n",
    "        plt.yticks(fontsize=12)\n",
    "        plt.xticks(fontsize=12)\n",
    "        #plt.grid(which=\"both\")\n",
    "        #plt.tight_layout()\n",
    "        #plt.savefig(\"notebook_figures/impulse_hp_lcurve.eps\")\n",
    "        plt.show()"
   ]
  },
  {
   "cell_type": "code",
   "execution_count": null,
   "id": "9dc8c451",
   "metadata": {},
   "outputs": [],
   "source": [
    "# taking a 500 timestep long section of the simulated excitation\n",
    "excitation_sim = impulse_sim[3000:3500]\n",
    "excitation_sim2 = step_sim[3000:3500]\n",
    "excitation_sim3 = sin_sim[3000:3500]\n",
    "\n",
    "plt.figure(figsize=(6,4))\n",
    "t_sim_short = t_sim[:500]\n",
    "plt.subplot(311)\n",
    "plt.title(\"a)\", loc='left', fontsize=12)\n",
    "plt.plot(t_sim_short, excitation_sim[:,1], c='b')\n",
    "plt.yticks(fontsize=12)\n",
    "plt.xticks(fontsize=12)\n",
    "plt.xlim(0.15, 0.3)\n",
    "plt.ylim(-2, 12)\n",
    "plt.xlabel(\"Time (s)\", fontsize=12)\n",
    "plt.ylabel(\"Torque (Nm)\", fontsize=12)\n",
    "plt.subplot(312)\n",
    "plt.title(\"b)\", loc='left', fontsize=12)\n",
    "plt.plot(t_sim_short, excitation_sim2[:,1], c='b')\n",
    "plt.yticks(fontsize=12)\n",
    "plt.xticks(fontsize=12)\n",
    "plt.xlim(0.15, 0.3)\n",
    "plt.ylim(-2, 12)\n",
    "plt.xlabel(\"Time (s)\", fontsize=12)\n",
    "plt.ylabel(\"Torque (Nm)\", fontsize=12)\n",
    "plt.subplot(313)\n",
    "plt.title(\"c)\", loc='left', fontsize=12)\n",
    "plt.plot(t_sim_short, excitation_sim3[:,1], c='b')\n",
    "plt.yticks(fontsize=12)\n",
    "plt.xticks(fontsize=12)\n",
    "plt.xlim(0.15, 0.3)\n",
    "plt.xlabel(\"Time (s)\", fontsize=12)\n",
    "plt.ylabel(\"Torque (Nm)\", fontsize=12)\n",
    "plt.subplots_adjust(hspace=0.7)\n",
    "plt.savefig(\"notebook_figures/simulated_unit_excitations.eps\")"
   ]
  },
  {
   "cell_type": "code",
   "execution_count": null,
   "id": "313fa8db",
   "metadata": {},
   "outputs": [],
   "source": [
    "# Regularization parameters for the calculation of the L-curve\n",
    "regularization_parameters = np.logspace(-6, 6, 13)\n",
    "print(\"Lambda values: \", regularization_parameters)"
   ]
  },
  {
   "cell_type": "markdown",
   "id": "1092ed8d",
   "metadata": {},
   "source": [
    "### Simulated impulse L-curve"
   ]
  },
  {
   "cell_type": "code",
   "execution_count": null,
   "id": "fd876c75",
   "metadata": {},
   "outputs": [],
   "source": [
    "%matplotlib inline\n",
    "calculate_L_curve(t_sim_short, dt_sim, excitation_sim, regularization_parameters, use_trend=False, show_plot=True)"
   ]
  },
  {
   "cell_type": "code",
   "execution_count": null,
   "id": "e666424d",
   "metadata": {},
   "outputs": [],
   "source": [
    "%matplotlib inline\n",
    "calculate_L_curve(t_sim_short, dt_sim, excitation_sim, regularization_parameters, use_trend=True, show_plot=True)"
   ]
  },
  {
   "cell_type": "markdown",
   "id": "dd931338",
   "metadata": {},
   "source": [
    "### Simulated step L-curve"
   ]
  },
  {
   "cell_type": "code",
   "execution_count": null,
   "id": "6fa449df",
   "metadata": {},
   "outputs": [],
   "source": [
    "%matplotlib inline\n",
    "calculate_L_curve(t_sim_short, dt_sim, excitation_sim2, regularization_parameters, use_trend=False, show_plot=True)"
   ]
  },
  {
   "cell_type": "code",
   "execution_count": null,
   "id": "f589f8a0",
   "metadata": {},
   "outputs": [],
   "source": [
    "%matplotlib inline\n",
    "calculate_L_curve(t_sim_short, dt_sim, excitation_sim2, regularization_parameters, use_trend=True, show_plot=True)"
   ]
  },
  {
   "cell_type": "markdown",
   "id": "14816d7c",
   "metadata": {},
   "source": [
    "### Simulated sin L-curve\n",
    "\n",
    "Note: The L-curve criterion practically means choosing $\\lambda$ at the corner of the L-curve as the regularization parameter. A mathematical definition for the corner exists, where the corner is found by calculating the curvature $\\kappa$ of the L-curve. The pareto-optimal $\\lambda$ is found where $\\kappa$ is the largest. In this case, as is shown by the shape of the L-curve of the simulated sinusoidal excitation below, relying on $\\kappa$ might not give the best value for $\\lambda$.\n",
    "\n",
    "In the present application, it might be beneficial to choose $\\lambda$ qualitatively from the L-curve plot, especially as the user might want to utilize different values $\\lambda$ to affect how strong the regularization is during torque estimation.\n",
    "\n",
    "One option could be to first calculate a rough L-curve using a large range of values $\\lambda$ and then concentrate on a smaller section of the L-curve, where the curvature $\\kappa$ is calculated and a pareto-optimal $\\lambda$ is found. However, whether solving a very precise value for $\\lambda$ is necessary in this application is unclear."
   ]
  },
  {
   "cell_type": "code",
   "execution_count": null,
   "id": "5fa2f1df",
   "metadata": {},
   "outputs": [],
   "source": [
    "%matplotlib inline\n",
    "calculate_L_curve(t_sim_short, dt_sim, excitation_sim3, regularization_parameters, use_trend=False, show_plot=True)"
   ]
  },
  {
   "cell_type": "code",
   "execution_count": null,
   "id": "72a95fa8",
   "metadata": {},
   "outputs": [],
   "source": [
    "%matplotlib inline\n",
    "calculate_L_curve(t_sim_short, dt_sim, excitation_sim3, regularization_parameters, use_trend=True, show_plot=True)"
   ]
  },
  {
   "cell_type": "code",
   "execution_count": null,
   "id": "b6d51fe6",
   "metadata": {},
   "outputs": [],
   "source": [
    "# parameters for the input and state estimation\n",
    "batch_size = 500\n",
    "overlap = 100"
   ]
  },
  {
   "cell_type": "code",
   "execution_count": null,
   "id": "48519f1e",
   "metadata": {},
   "outputs": [],
   "source": [
    "# lambda values for the different excitations\n",
    "lam_tikh_imp = 0.001 # 0.01\n",
    "lam_hp_imp = 1 # 10\n",
    "lam_tikh_step = 0.1\n",
    "lam_hp_step = 1\n",
    "lam_tikh_sin = 0.1\n",
    "lam_hp_sin = 1\n",
    "lam_tikh_ice = 0.1\n",
    "lam_hp_ice = 1"
   ]
  },
  {
   "cell_type": "markdown",
   "id": "ff486e76",
   "metadata": {},
   "source": [
    "### Simulated unit excitation estimation"
   ]
  },
  {
   "cell_type": "code",
   "execution_count": null,
   "id": "ec5144be",
   "metadata": {},
   "outputs": [],
   "source": [
    "tout_sim_imp, yout_sim_imp, _ = dlsim((A, B, C_mod, D_mod, 1e-3), excitation_sim, t=t_sim_short)\n",
    "tout_sim_step, yout_sim_step, _ = dlsim((A, B, C_mod, D_mod, 1e-3), excitation_sim2, t=t_sim_short)\n",
    "tout_sim_sin, yout_sim_sin, _ = dlsim((A, B, C_mod, D_mod, 1e-3), excitation_sim3, t=t_sim_short)\n",
    "\n",
    "plt.subplot(311)\n",
    "plt.plot(tout_sim_imp, yout_sim_imp[:,-1])\n",
    "plt.subplot(312)\n",
    "plt.plot(tout_sim_step, yout_sim_step[:,-1])\n",
    "plt.subplot(313)\n",
    "plt.plot(tout_sim_sin, yout_sim_sin[:,-1])"
   ]
  },
  {
   "cell_type": "code",
   "execution_count": null,
   "id": "02a4aeed",
   "metadata": {},
   "outputs": [],
   "source": [
    "# TIKHONOV IMPULSE\n",
    "# measurement data from the encoder 1, encoder 2, torque transducer 1 and torque transducer 2\n",
    "measurements_sim_imp = yout_sim_imp[:,:-1] + np.random.normal(0, .1, yout_sim_imp[:,:-1].shape)\n",
    "print(measurements_sim_imp.shape)\n",
    "lam_imp = lam_tikh_imp\n",
    "estimates_imp_sim_tikh = ell2_analytical(\n",
    "    ss, measurements_sim_imp, batch_size, 0, t_sim_short, lam=lam_imp, use_trend_filter=False\n",
    ")"
   ]
  },
  {
   "cell_type": "code",
   "execution_count": null,
   "id": "0513240f",
   "metadata": {},
   "outputs": [],
   "source": [
    "# HP IMPULSE\n",
    "# measurement data from the encoder 1, encoder 2, torque transducer 1 and torque transducer 2\n",
    "lam_imp = lam_hp_imp\n",
    "estimates_imp_sim = ell2_analytical(\n",
    "    ss, measurements_sim_imp, batch_size, 0, t_sim_short, lam=lam_imp, use_trend_filter=True\n",
    ")"
   ]
  },
  {
   "cell_type": "code",
   "execution_count": null,
   "id": "0a6e0b12",
   "metadata": {},
   "outputs": [],
   "source": [
    "# HP IMPULSE with known covariance\n",
    "# measurement data from the encoder 1, encoder 2, torque transducer 1 and torque transducer 2\n",
    "lam_imp = lam_hp_imp\n",
    "estimates_imp_sim_cov = ell2_analytical_with_covariance(\n",
    "    ss, measurements_sim_imp, batch_size, 0, t_sim_short, lam=lam_imp, use_trend_filter=True\n",
    ")"
   ]
  },
  {
   "cell_type": "code",
   "execution_count": null,
   "id": "89a7c31b",
   "metadata": {},
   "outputs": [],
   "source": [
    "# TIKHONOV STEP\n",
    "# measurement data from the encoder 1, encoder 2, torque transducer 1 and torque transducer 2\n",
    "measurements_sim_step = yout_sim_step[:,:-1] + np.random.normal(0, .1, yout_sim_step[:,:-1].shape)\n",
    "print(measurements_sim_step.shape)\n",
    "lam_step = lam_tikh_step\n",
    "estimates_step_sim_tikh = ell2_analytical(\n",
    "    ss, measurements_sim_step, batch_size, 0, t_sim_short, lam=lam_step, use_trend_filter=False\n",
    ")"
   ]
  },
  {
   "cell_type": "code",
   "execution_count": null,
   "id": "f95e8db7",
   "metadata": {},
   "outputs": [],
   "source": [
    "# HP STEP\n",
    "# measurement data from the encoder 1, encoder 2, torque transducer 1 and torque transducer 2\n",
    "lam_step = lam_hp_step\n",
    "estimates_step_sim = ell2_analytical(\n",
    "    ss, measurements_sim_step, batch_size, 0, t_sim_short, lam=lam_step, use_trend_filter=True\n",
    ")"
   ]
  },
  {
   "cell_type": "code",
   "execution_count": null,
   "id": "75e47420",
   "metadata": {},
   "outputs": [],
   "source": [
    "# HP STEP with known covariance\n",
    "# measurement data from the encoder 1, encoder 2, torque transducer 1 and torque transducer 2\n",
    "lam_step = lam_hp_step\n",
    "estimates_step_sim_cov = ell2_analytical_with_covariance(\n",
    "    ss, measurements_sim_step, batch_size, 0, t_sim_short, lam=lam_step, use_trend_filter=True\n",
    ")"
   ]
  },
  {
   "cell_type": "code",
   "execution_count": null,
   "id": "dd04994e",
   "metadata": {},
   "outputs": [],
   "source": [
    "# TIKHONOV SIN\n",
    "# measurement data from the encoder 1, encoder 2, torque transducer 1 and torque transducer 2\n",
    "measurements_sim_sin = yout_sim_sin[:,:-1] + np.random.normal(0, .1, yout_sim_sin[:,:-1].shape)\n",
    "print(measurements_sim_sin.shape)\n",
    "lam_sin = lam_tikh_sin\n",
    "estimates_sin_sim_tikh = ell2_analytical(\n",
    "    ss, measurements_sim_sin, batch_size, 0, t_sim_short, lam=lam_sin, use_trend_filter=False\n",
    ")"
   ]
  },
  {
   "cell_type": "code",
   "execution_count": null,
   "id": "aa13d108",
   "metadata": {},
   "outputs": [],
   "source": [
    "# HP SIN\n",
    "# measurement data from the encoder 1, encoder 2, torque transducer 1 and torque transducer 2\n",
    "measurements_sim_sin = yout_sim_sin[:,:-1] + np.random.normal(0, .1, yout_sim_sin[:,:-1].shape)\n",
    "print(measurements_sim_sin.shape)\n",
    "lam_sin = lam_hp_sin\n",
    "estimates_sin_sim = ell2_analytical(\n",
    "    ss, measurements_sim_sin, batch_size, 0, t_sim_short, lam=lam_sin, use_trend_filter=True\n",
    ")"
   ]
  },
  {
   "cell_type": "code",
   "execution_count": null,
   "id": "09462491",
   "metadata": {},
   "outputs": [],
   "source": [
    "# HP SIN with known covariance\n",
    "# measurement data from the encoder 1, encoder 2, torque transducer 1 and torque transducer 2\n",
    "measurements_sim_sin = yout_sim_sin[:,:-1] + np.random.normal(0, .1, yout_sim_sin[:,:-1].shape)\n",
    "print(measurements_sim_sin.shape)\n",
    "lam_sin = lam_hp_sin\n",
    "estimates_sin_sim_cov = ell2_analytical_with_covariance(\n",
    "    ss, measurements_sim_sin, batch_size, 0, t_sim_short, lam=lam_sin, use_trend_filter=True\n",
    ")"
   ]
  },
  {
   "cell_type": "code",
   "execution_count": null,
   "id": "34ddf714",
   "metadata": {},
   "outputs": [],
   "source": [
    "def process_estimates(n_batches, overlap, estimates, nstates=43):\n",
    "    \"\"\"\n",
    "    Here the input and initial state estimates are processed.\n",
    "    Overlapped sections are discarded and the input estimate batches are stacked one after the other.\n",
    "    \"\"\"\n",
    "    motor_estimates, propeller_estimates = [], []\n",
    "    motor_est_overlap, prop_est_overlap = [], []\n",
    "    for i in range(n_batches):\n",
    "        if i == 0:\n",
    "            all_motor_estimates = estimates[i][nstates::2]\n",
    "            motor_est_overlap.append(all_motor_estimates)\n",
    "            motor_estimates = all_motor_estimates[:-2*overlap]\n",
    "            all_propeller_estimates = estimates[i][(nstates+1)::2]\n",
    "            prop_est_overlap.append(all_propeller_estimates)\n",
    "            propeller_estimates = all_propeller_estimates[:-2*overlap]\n",
    "        else:\n",
    "            all_motor_estimates = estimates[i][nstates::2]\n",
    "            motor_est_overlap.append(all_motor_estimates)\n",
    "            motor_estimates = np.concatenate(\n",
    "                (motor_estimates, all_motor_estimates[overlap:-overlap])\n",
    "            )\n",
    "            all_propeller_estimates = estimates[i][(nstates+1)::2]\n",
    "            prop_est_overlap.append(all_propeller_estimates)\n",
    "            propeller_estimates = np.concatenate(\n",
    "                (propeller_estimates, all_propeller_estimates[overlap:-overlap])\n",
    "            )\n",
    "    \n",
    "    return motor_estimates, propeller_estimates"
   ]
  },
  {
   "cell_type": "markdown",
   "id": "da19ef0b",
   "metadata": {},
   "source": [
    "### Process and plot simulated shaft torque estimates"
   ]
  },
  {
   "cell_type": "code",
   "execution_count": null,
   "id": "93721c2a",
   "metadata": {},
   "outputs": [],
   "source": [
    "motor_estimates_imp_sim_tikh, propeller_estimates_imp_sim_tikh = estimates_imp_sim_tikh[0][43::2], estimates_imp_sim_tikh[0][44::2]\n",
    "U_est_imp_sim_tikh = np.hstack((motor_estimates_imp_sim_tikh, propeller_estimates_imp_sim_tikh))\n",
    "tout_imp_sim_tikh, yout_imp_sim_tikh, _ = dlsim((A, B, C_mod, D_mod, dt), U_est_imp_sim_tikh, t=t_sim_short)"
   ]
  },
  {
   "cell_type": "code",
   "execution_count": null,
   "id": "fc0603e8",
   "metadata": {},
   "outputs": [],
   "source": [
    "motor_estimates_imp_sim, propeller_estimates_imp_sim = estimates_imp_sim[0][43::2], estimates_imp_sim[0][44::2]\n",
    "U_est_imp_sim = np.hstack((motor_estimates_imp_sim, propeller_estimates_imp_sim))\n",
    "tout_imp_sim, yout_imp_sim, _ = dlsim((A, B, C_mod, D_mod, dt), U_est_imp_sim, t=t_sim_short)"
   ]
  },
  {
   "cell_type": "code",
   "execution_count": null,
   "id": "c5162b8b",
   "metadata": {},
   "outputs": [],
   "source": [
    "motor_estimates_imp_sim_cov, propeller_estimates_imp_sim_cov = estimates_imp_sim_cov[0][::2], estimates_imp_sim_cov[0][1::2]\n",
    "U_est_imp_sim_cov = np.hstack((motor_estimates_imp_sim_cov, propeller_estimates_imp_sim_cov))\n",
    "tout_imp_sim_cov, yout_imp_sim_cov, _ = dlsim((A, B, C_mod, D_mod, dt), U_est_imp_sim_cov, t=t_sim_short)"
   ]
  },
  {
   "cell_type": "code",
   "execution_count": null,
   "id": "b5b7a80e",
   "metadata": {},
   "outputs": [],
   "source": [
    "motor_estimates_step_sim_tikh, propeller_estimates_step_sim_tikh = estimates_step_sim_tikh[0][43::2], estimates_step_sim_tikh[0][44::2]\n",
    "U_est_step_sim_tikh = np.hstack((motor_estimates_step_sim_tikh, propeller_estimates_step_sim_tikh))\n",
    "tout_step_sim_tikh, yout_step_sim_tikh, _ = dlsim((A, B, C_mod, D_mod, dt), U_est_step_sim_tikh, t=t_sim_short)"
   ]
  },
  {
   "cell_type": "code",
   "execution_count": null,
   "id": "79355474",
   "metadata": {},
   "outputs": [],
   "source": [
    "motor_estimates_step_sim, propeller_estimates_step_sim = estimates_step_sim[0][43::2], estimates_step_sim[0][44::2]\n",
    "U_est_step_sim = np.hstack((motor_estimates_step_sim, propeller_estimates_step_sim))\n",
    "tout_step_sim, yout_step_sim, _ = dlsim((A, B, C_mod, D_mod, dt), U_est_step_sim, t=t_sim_short)"
   ]
  },
  {
   "cell_type": "code",
   "execution_count": null,
   "id": "a81ad031",
   "metadata": {},
   "outputs": [],
   "source": [
    "motor_estimates_step_sim_cov, propeller_estimates_step_sim_cov = estimates_step_sim_cov[0][::2], estimates_step_sim_cov[0][1::2]\n",
    "U_est_step_sim_cov = np.hstack((motor_estimates_step_sim_cov, propeller_estimates_step_sim_cov))\n",
    "tout_step_sim_cov, yout_step_sim_cov, _ = dlsim((A, B, C_mod, D_mod, dt), U_est_step_sim_cov, t=t_sim_short)"
   ]
  },
  {
   "cell_type": "code",
   "execution_count": null,
   "id": "e272dc37",
   "metadata": {},
   "outputs": [],
   "source": [
    "motor_estimates_sin_sim_tikh, propeller_estimates_sin_sim_tikh = estimates_sin_sim_tikh[0][43::2], estimates_sin_sim_tikh[0][44::2]\n",
    "U_est_sin_sim_tikh = np.hstack((motor_estimates_sin_sim_tikh, propeller_estimates_sin_sim_tikh))\n",
    "tout_sin_sim_tikh, yout_sin_sim_tikh, _ = dlsim((A, B, C_mod, D_mod, dt), U_est_sin_sim_tikh, t=t_sim_short)"
   ]
  },
  {
   "cell_type": "code",
   "execution_count": null,
   "id": "131c3251",
   "metadata": {},
   "outputs": [],
   "source": [
    "motor_estimates_sin_sim, propeller_estimates_sin_sim = estimates_sin_sim[0][43::2], estimates_sin_sim[0][44::2]\n",
    "U_est_sin_sim = np.hstack((motor_estimates_sin_sim, propeller_estimates_sin_sim))\n",
    "tout_sin_sim, yout_sin_sim, _ = dlsim((A, B, C_mod, D_mod, dt), U_est_sin_sim, t=t_sim_short)"
   ]
  },
  {
   "cell_type": "code",
   "execution_count": null,
   "id": "e562686c",
   "metadata": {},
   "outputs": [],
   "source": [
    "motor_estimates_sin_sim_cov, propeller_estimates_sin_sim_cov = estimates_sin_sim_cov[0][::2], estimates_sin_sim_cov[0][1::2]\n",
    "U_est_sin_sim_cov = np.hstack((motor_estimates_sin_sim_cov, propeller_estimates_sin_sim_cov))\n",
    "tout_sin_sim_cov, yout_sin_sim_cov, _ = dlsim((A, B, C_mod, D_mod, dt), U_est_sin_sim_cov, t=t_sim_short)"
   ]
  },
  {
   "cell_type": "code",
   "execution_count": null,
   "id": "1fd24079",
   "metadata": {},
   "outputs": [],
   "source": [
    "plt.subplot(311)\n",
    "plt.title(\"a)\", loc='left', fontsize=12)\n",
    "plt.plot(t_sim_short, yout_sim_imp[:,-1], label=\"Simulated measurement\")\n",
    "plt.plot(tout_imp_sim, yout_imp_sim[:,-1], '-', c='b', label=\"Simulated estimate\")\n",
    "#plt.plot(tout_imp_sim_cov, yout_imp_sim_cov[:,-1], '-', c='b', label=\"HP with R\")\n",
    "plt.yticks(fontsize=12)\n",
    "plt.xticks(fontsize=12)\n",
    "plt.xlabel(\"Time (s)\", fontsize=12)\n",
    "plt.ylabel(\"Torque (Nm)\", fontsize=12)\n",
    "plt.legend(\n",
    "    loc='upper center', bbox_to_anchor=(0.5, 1.5), ncol=2, fancybox=True, shadow=False, fontsize=12\n",
    ")\n",
    "\n",
    "plt.subplot(312)\n",
    "plt.title(\"b)\", loc='left', fontsize=12)\n",
    "plt.plot(t_sim_short, yout_sim_step[:,-1], label=\"Simulated measurement\")\n",
    "plt.plot(tout_step_sim, yout_step_sim[:,-1], '-', c='b', label=\"Simulated estimate HP\")\n",
    "#plt.plot(tout_step_sim_cov, yout_step_sim_cov[:,-1], '-', c='b', label=\"HP with R\")\n",
    "plt.yticks(fontsize=12)\n",
    "plt.xticks(fontsize=12)\n",
    "plt.xlabel(\"Time (s)\", fontsize=12)\n",
    "plt.ylabel(\"Torque (Nm)\", fontsize=12)\n",
    "\n",
    "plt.subplot(313)\n",
    "plt.title(\"c)\", loc='left', fontsize=12)\n",
    "plt.plot(t_sim_short, yout_sim_sin[:,-1], label=\"Simulated measurement\")\n",
    "plt.plot(tout_sin_sim, yout_sin_sim[:,-1], '-', c='b', label=\"Simulated estimate HP\")\n",
    "#plt.plot(tout_sin_sim_cov, yout_sin_sim_cov[:,-1], '-', c='b', label=\"HP with R\")\n",
    "plt.yticks(fontsize=12)\n",
    "plt.xticks(fontsize=12)\n",
    "plt.xlabel(\"Time (s)\", fontsize=12)\n",
    "plt.ylabel(\"Torque (Nm)\", fontsize=12)\n",
    "plt.subplots_adjust(hspace=0.7)\n",
    "plt.savefig(\"notebook_figures/simulated_unit_responses.eps\")"
   ]
  },
  {
   "cell_type": "markdown",
   "id": "a4c9b38a",
   "metadata": {},
   "source": [
    "### Unit excitation experiments: input estimation"
   ]
  },
  {
   "cell_type": "code",
   "execution_count": null,
   "id": "e24ac809",
   "metadata": {},
   "outputs": [],
   "source": [
    "# NO LOAD\n",
    "# measurement data from the encoder 1, encoder 2, torque transducer 1 and torque transducer 2\n",
    "measurements_no = sensor_data_no[:,1:]\n",
    "time_no = sensor_data_no[:measurements_no.shape[0],0]\n",
    "lam_no = lam_hp_imp\n",
    "estimates_no = ell2_analytical(\n",
    "    ss, measurements_no[:,:3], batch_size, overlap, time_no, lam=lam_no, use_trend_filter=True\n",
    ")\n",
    "estimates_no_cov = ell2_analytical_with_covariance(\n",
    "    ss, measurements_no[:,:3], batch_size, overlap, time_no, lam=lam_no, use_trend_filter=True\n",
    ")"
   ]
  },
  {
   "cell_type": "code",
   "execution_count": null,
   "id": "11d27a8f",
   "metadata": {},
   "outputs": [],
   "source": [
    "# IMPULSE\n",
    "# measurement data from the encoder 1, encoder 2, torque transducer 1 and torque transducer 2\n",
    "measurements_imp = sensor_data_imp[:,1:]\n",
    "time_imp = sensor_data_imp[:measurements_imp.shape[0],0]\n",
    "lam_imp = lam_hp_imp\n",
    "estimates_imp = ell2_analytical(\n",
    "    ss, measurements_imp[:,:3], batch_size, overlap, time_imp, lam=lam_imp, use_trend_filter=True\n",
    ")\n",
    "estimates_imp_cov = ell2_analytical_with_covariance(\n",
    "    ss, measurements_imp[:,:3], batch_size, overlap, time_imp, lam=lam_imp, use_trend_filter=True\n",
    ")"
   ]
  },
  {
   "cell_type": "code",
   "execution_count": null,
   "id": "846cf0c3",
   "metadata": {},
   "outputs": [],
   "source": [
    "# STEP\n",
    "# measurement data from the encoder 1, encoder 2, torque transducer 1 and torque transducer 2\n",
    "measurements_step = sensor_data_step[:,1:]\n",
    "time_step = sensor_data_step[:measurements_step.shape[0],0]\n",
    "lam_step = lam_hp_step\n",
    "estimates_step = ell2_analytical(\n",
    "    ss, measurements_step[:,:3], batch_size, overlap, time_step, lam=lam_step, use_trend_filter=True\n",
    ")\n",
    "estimates_step_cov = ell2_analytical_with_covariance(\n",
    "    ss, measurements_step[:,:3], batch_size, overlap, time_step, lam=lam_step, use_trend_filter=True\n",
    ")"
   ]
  },
  {
   "cell_type": "code",
   "execution_count": null,
   "id": "cccb0553",
   "metadata": {},
   "outputs": [],
   "source": [
    "# PERIODIC\n",
    "# measurement data from the encoder 1, encoder 2, torque transducer 1 and torque transducer 2\n",
    "measurements_sin = sensor_data_sin[:,1:]\n",
    "time_sin = sensor_data_sin[:measurements_sin.shape[0],0]\n",
    "lam_sin = lam_hp_sin\n",
    "estimates_sin = ell2_analytical(\n",
    "    ss, measurements_sin[:,:3], batch_size, overlap, time_sin, lam=lam_sin, use_trend_filter=True\n",
    ")\n",
    "estimates_sin_cov = ell2_analytical_with_covariance(\n",
    "    ss, measurements_sin[:,:3], batch_size, overlap, time_sin, lam=lam_sin, use_trend_filter=True\n",
    ")"
   ]
  },
  {
   "cell_type": "markdown",
   "id": "53f0daa2",
   "metadata": {},
   "source": [
    "### Process and plot unit excitation experiment shaft torque estimates"
   ]
  },
  {
   "cell_type": "code",
   "execution_count": null,
   "id": "64ba801b",
   "metadata": {},
   "outputs": [],
   "source": [
    "motor_estimates_no, propeller_estimates_no = process_estimates(len(estimates_no), overlap, estimates_no)\n",
    "motor_estimates_no_cov, propeller_estimates_no_cov = process_estimates(len(estimates_no_cov), overlap, estimates_no_cov, nstates=0)"
   ]
  },
  {
   "cell_type": "code",
   "execution_count": null,
   "id": "967f46d8",
   "metadata": {},
   "outputs": [],
   "source": [
    "# Excitation matrix using estimated input torques\n",
    "U_est_no = np.hstack((motor_estimates_no, propeller_estimates_no))\n",
    "U_est_no_cov = np.hstack((motor_estimates_no_cov, propeller_estimates_no_cov))"
   ]
  },
  {
   "cell_type": "code",
   "execution_count": null,
   "id": "a1b7fa4a",
   "metadata": {},
   "outputs": [],
   "source": [
    "plt.plot(U_est_no_cov[500:,:])"
   ]
  },
  {
   "cell_type": "code",
   "execution_count": null,
   "id": "4aead3fd",
   "metadata": {},
   "outputs": [],
   "source": [
    "# The testbench is simulated using the estimated input torques, with zero initial state.\n",
    "tout_no, yout_no, _ = dlsim((A, B, C_mod, D_mod, dt), U_est_no, t=time_no[:-367])\n",
    "tout_no_cov, yout_no_cov, _ = dlsim((A, B, C_mod, D_mod, dt), U_est_no_cov, t=time_no[:-367])"
   ]
  },
  {
   "cell_type": "code",
   "execution_count": null,
   "id": "5794c625",
   "metadata": {},
   "outputs": [],
   "source": [
    "plt.plot(time_no, measurements_no[:,-1], c='black', label=\"Measurement\")\n",
    "#plt.plot(tout_no, yout_no[:,-1], '-', c='b', label=\"Estimate\")\n",
    "plt.plot(tout_no_cov, yout_no_cov[:,-1], '-', c='b', label=\"Estimate with R\")\n",
    "plt.legend()\n",
    "plt.xlim(1.,5)\n",
    "plt.ylim(-2,10)\n",
    "plt.xlabel(\"Time (s)\")\n",
    "plt.ylabel(\"Torque (Nm)\")"
   ]
  },
  {
   "cell_type": "code",
   "execution_count": null,
   "id": "f99bb196",
   "metadata": {},
   "outputs": [],
   "source": [
    "motor_estimates_imp, propeller_estimates_imp = process_estimates(len(estimates_imp), overlap, estimates_imp)\n",
    "motor_estimates_imp_cov, propeller_estimates_imp_cov = process_estimates(len(estimates_imp_cov), overlap, estimates_imp_cov, nstates=0)"
   ]
  },
  {
   "cell_type": "code",
   "execution_count": null,
   "id": "545eb4e0",
   "metadata": {},
   "outputs": [],
   "source": [
    "# Excitation matrix using estimated input torques\n",
    "U_est_imp = np.hstack((motor_estimates_imp, propeller_estimates_imp))\n",
    "U_est_imp_cov = np.hstack((motor_estimates_imp_cov, propeller_estimates_imp_cov))"
   ]
  },
  {
   "cell_type": "code",
   "execution_count": null,
   "id": "2bd48507",
   "metadata": {},
   "outputs": [],
   "source": [
    "# The testbench is simulated using the estimated input torques, with zero initial state.\n",
    "tout_imp, yout_imp, _ = dlsim((A, B, C_mod, D_mod, dt), U_est_imp, t=time_imp[:-234])\n",
    "tout_imp_cov, yout_imp_cov, _ = dlsim((A, B, C_mod, D_mod, dt), U_est_imp_cov, t=time_imp[:-234])"
   ]
  },
  {
   "cell_type": "code",
   "execution_count": null,
   "id": "a2ee0fd9",
   "metadata": {},
   "outputs": [],
   "source": [
    "motor_estimates_step, propeller_estimates_step = process_estimates(len(estimates_step), overlap, estimates_step)\n",
    "motor_estimates_step_cov, propeller_estimates_step_cov = process_estimates(len(estimates_step_cov), overlap, estimates_step_cov, nstates=0)"
   ]
  },
  {
   "cell_type": "code",
   "execution_count": null,
   "id": "c84114af",
   "metadata": {},
   "outputs": [],
   "source": [
    "# Excitation matrix using estimated input torques\n",
    "U_est_step = np.hstack((motor_estimates_step, propeller_estimates_step))\n",
    "U_est_step_cov = np.hstack((motor_estimates_step_cov, propeller_estimates_step_cov))"
   ]
  },
  {
   "cell_type": "code",
   "execution_count": null,
   "id": "1fef2513",
   "metadata": {},
   "outputs": [],
   "source": [
    "# The testbench is simulated using the estimated input torques, with zero initial state.\n",
    "tout_step, yout_step, _ = dlsim((A, B, C_mod, D_mod, dt), U_est_step, t=time_step[:-367])\n",
    "tout_step_cov, yout_step_cov, _ = dlsim((A, B, C_mod, D_mod, dt), U_est_step_cov, t=time_step[:-367])"
   ]
  },
  {
   "cell_type": "code",
   "execution_count": null,
   "id": "41c4e488",
   "metadata": {},
   "outputs": [],
   "source": [
    "motor_estimates_sin, propeller_estimates_sin = process_estimates(len(estimates_sin), overlap, estimates_sin)\n",
    "motor_estimates_sin_cov, propeller_estimates_sin_cov = process_estimates(len(estimates_sin_cov), overlap, estimates_sin_cov, nstates=0)"
   ]
  },
  {
   "cell_type": "code",
   "execution_count": null,
   "id": "cbf72505",
   "metadata": {},
   "outputs": [],
   "source": [
    "# Excitation matrix using estimated input torques\n",
    "U_est_sin = np.hstack((motor_estimates_sin, propeller_estimates_sin))\n",
    "U_est_sin_cov= np.hstack((motor_estimates_sin_cov, propeller_estimates_sin_cov))"
   ]
  },
  {
   "cell_type": "code",
   "execution_count": null,
   "id": "01b9a3d0",
   "metadata": {},
   "outputs": [],
   "source": [
    "# The testbench is simulated using the estimated input torques, with zero initial state.\n",
    "tout_sin, yout_sin, _ = dlsim((A, B, C_mod, D_mod, dt), U_est_sin, t=time_sin[:-400])\n",
    "tout_sin_cov, yout_sin_cov, _ = dlsim((A, B, C_mod, D_mod, dt), U_est_sin_cov, t=time_sin[:-400])"
   ]
  },
  {
   "cell_type": "code",
   "execution_count": null,
   "id": "477a63df",
   "metadata": {},
   "outputs": [],
   "source": [
    "plt.subplot(311)\n",
    "plt.title(\"a)\", loc='left', fontsize=12)\n",
    "plt.plot(time_imp, measurements_imp[:,-1], c='black', label=\"Measurement\")\n",
    "#plt.plot(tout_imp, yout_imp[:,-1], '-', c='b', label=\"Estimate\")\n",
    "plt.plot(tout_imp_cov, yout_imp_cov[:,-1], '-', c='b', label=\"Estimate\")\n",
    "plt.yticks(fontsize=12)\n",
    "plt.xticks(fontsize=12)\n",
    "plt.legend(\n",
    "    loc='upper center', bbox_to_anchor=(0.5, 1.5), ncol=2, fancybox=True, shadow=False, fontsize=12\n",
    ")\n",
    "plt.xlim(1.,1.9)\n",
    "plt.ylim(2,22)\n",
    "plt.xlabel(\"Time (s)\", fontsize=12)\n",
    "plt.ylabel(\"Torque (Nm)\", fontsize=12)\n",
    "plt.subplot(312)\n",
    "plt.title(\"b)\", loc='left', fontsize=12)\n",
    "plt.plot(time_step, measurements_step[:,-1], c='black', label=\"Measurement\")\n",
    "#plt.plot(tout_step, yout_step[:,-1], '-', c='b', label=\"Estimate\")\n",
    "plt.plot(tout_step, yout_step[:,-1], '-', c='b', label=\"Estimate with R\")\n",
    "plt.yticks(fontsize=12)\n",
    "plt.xticks(fontsize=12)\n",
    "plt.xlim(4.4,5.1)\n",
    "plt.ylim(2,25)\n",
    "plt.xlabel(\"Time (s)\", fontsize=12)\n",
    "plt.ylabel(\"Torque (Nm)\", fontsize=12)\n",
    "plt.subplot(313)\n",
    "plt.title(\"c)\", loc='left', fontsize=12)\n",
    "plt.plot(time_sin, measurements_sin[:,-1], c='black', label=\"Measurement\")\n",
    "#plt.plot(tout_sin, yout_sin[:,-1], '-', c='b', label=\"Estimate\")\n",
    "plt.plot(tout_sin, yout_sin[:,-1], '-', c='b', label=\"Estimate with R\")\n",
    "plt.yticks(fontsize=12)\n",
    "plt.xticks(fontsize=12)\n",
    "plt.xlim(4.9,5.)\n",
    "plt.ylim(2,27)\n",
    "plt.xlabel(\"Time (s)\", fontsize=12)\n",
    "plt.ylabel(\"Torque (Nm)\", fontsize=12)\n",
    "plt.subplots_adjust(hspace=0.7)\n",
    "plt.savefig(\"notebook_figures/unit_experiment_hp_using_R.eps\")"
   ]
  },
  {
   "cell_type": "markdown",
   "id": "a71712fb",
   "metadata": {},
   "source": [
    "### L-curve comparison simulation vs measurement"
   ]
  },
  {
   "cell_type": "code",
   "execution_count": null,
   "id": "fd8c42a8",
   "metadata": {},
   "outputs": [],
   "source": [
    "# Here a 600 timstep section is extracted for calculating the L-curve using testbench measurements\n",
    "plt.subplot(311)\n",
    "plt.title(\"a)\", loc='left', fontsize=12)\n",
    "plt.plot(time_imp[:600], measurements_imp[1100:1700,-1], c='black', label=\"Measurement\")\n",
    "#plt.plot(tout_imp, yout_imp[:,-1], '-', c='b', label=\"Estimate\")\n",
    "plt.plot(tout_imp_cov[:600], yout_imp_cov[1100:1700,-1], '-', c='b', label=\"Estimate\")\n",
    "plt.yticks(fontsize=12)\n",
    "plt.xticks(fontsize=12)\n",
    "plt.legend(\n",
    "    loc='upper center', bbox_to_anchor=(0.5, 1.5), ncol=2, fancybox=True, shadow=False, fontsize=12\n",
    ")\n",
    "#plt.xlim(1.,1.9)\n",
    "plt.ylim(2,22)\n",
    "plt.xlabel(\"Time (s)\", fontsize=12)\n",
    "plt.ylabel(\"Torque (Nm)\", fontsize=12)\n",
    "plt.subplot(312)\n",
    "plt.title(\"b)\", loc='left', fontsize=12)\n",
    "plt.plot(time_step[:600], measurements_step[4500:5100,-1], c='black', label=\"Measurement\")\n",
    "#plt.plot(tout_step, yout_step[:,-1], '-', c='b', label=\"Estimate\")\n",
    "plt.plot(tout_step[:600], yout_step[4500:5100,-1], '-', c='b', label=\"Estimate with R\")\n",
    "plt.yticks(fontsize=12)\n",
    "plt.xticks(fontsize=12)\n",
    "#plt.xlim(4.4,5.1)\n",
    "plt.ylim(2,25)\n",
    "plt.xlabel(\"Time (s)\", fontsize=12)\n",
    "plt.ylabel(\"Torque (Nm)\", fontsize=12)\n",
    "plt.subplot(313)\n",
    "plt.title(\"c)\", loc='left', fontsize=12)\n",
    "plt.plot(time_sin[:600], measurements_sin[5000:5600,-1], c='black', label=\"Measurement\")\n",
    "#plt.plot(tout_sin, yout_sin[:,-1], '-', c='b', label=\"Estimate\")\n",
    "plt.plot(tout_sin[:600], yout_sin[5000:5600,-1], '-', c='b', label=\"Estimate with R\")\n",
    "plt.yticks(fontsize=12)\n",
    "plt.xticks(fontsize=12)\n",
    "#plt.xlim(4.9,5.)\n",
    "plt.ylim(2,27)\n",
    "plt.xlabel(\"Time (s)\", fontsize=12)\n",
    "plt.ylabel(\"Torque (Nm)\", fontsize=12)\n",
    "plt.subplots_adjust(hspace=0.7)"
   ]
  },
  {
   "cell_type": "code",
   "execution_count": null,
   "id": "7bc71d93",
   "metadata": {},
   "outputs": [],
   "source": [
    "def calculate_L_curve_with_measurements(times, dt, measurements, lambdas, use_trend=False, show_plot=False):\n",
    "\n",
    "    A, B, C, D = get_testbench_state_space(dt)\n",
    "    sys = (A, B, C, D)\n",
    "    l_norm, residual_norm, input_estimates = L_curve(\n",
    "        sys,\n",
    "        measurements,\n",
    "        times,\n",
    "        lambdas,\n",
    "        use_trend=use_trend\n",
    "    )\n",
    "\n",
    "    plt.plot(input_estimates[6][51::2])\n",
    "    plt.show()\n",
    "    \n",
    "    if show_plot:\n",
    "        plt.figure(figsize=(6,4))\n",
    "        plt.yscale(\"log\")\n",
    "        plt.xscale(\"log\")\n",
    "        plt.plot(residual_norm, l_norm, color='blue')\n",
    "        plt.scatter(residual_norm, l_norm, color='blue')\n",
    "        plt.xlabel(\"Residual norm $||y-\\Gamma u||_2$\", fontsize=12)\n",
    "        plt.ylabel(\"Regularising norm $||L u||_2$\", fontsize=12)\n",
    "        plt.annotate(\n",
    "            \"$\\lambda = $\" + str(lambdas[6]),\n",
    "            (residual_norm[6], l_norm[6]),\n",
    "            (residual_norm[6]-0.5, l_norm[6]-0.1)\n",
    "        )\n",
    "        plt.yticks(fontsize=12)\n",
    "        plt.xticks(fontsize=12)\n",
    "        plt.show()"
   ]
  },
  {
   "cell_type": "code",
   "execution_count": null,
   "id": "f0e42385",
   "metadata": {},
   "outputs": [],
   "source": [
    "calculate_L_curve_with_measurements(\n",
    "    time_imp[:600], \n",
    "    np.mean(np.diff(time_imp)), \n",
    "    measurements_imp[1100:1700,:-1], \n",
    "    regularization_parameters, \n",
    "    use_trend=True, \n",
    "    show_plot=True\n",
    ")"
   ]
  },
  {
   "cell_type": "code",
   "execution_count": null,
   "id": "56839b5e",
   "metadata": {},
   "outputs": [],
   "source": [
    "calculate_L_curve_with_measurements(\n",
    "    time_step[:600],\n",
    "    np.mean(np.diff(time_step)),\n",
    "    measurements_step[4500:5100,:-1],\n",
    "    regularization_parameters,\n",
    "    use_trend=True,\n",
    "    show_plot=True\n",
    ")"
   ]
  },
  {
   "cell_type": "code",
   "execution_count": null,
   "id": "7966376b",
   "metadata": {},
   "outputs": [],
   "source": [
    "calculate_L_curve_with_measurements(\n",
    "    time_sin[:600],\n",
    "    np.mean(np.diff(time_sin)),\n",
    "    measurements_sin[5000:5600,:-1],\n",
    "    regularization_parameters,\n",
    "    use_trend=True,\n",
    "    show_plot=True\n",
    ")"
   ]
  },
  {
   "cell_type": "markdown",
   "id": "8e82e0c3",
   "metadata": {},
   "source": [
    "### Ice excitation experiment: input estimation"
   ]
  },
  {
   "cell_type": "code",
   "execution_count": null,
   "id": "bfbfcf3e",
   "metadata": {
    "scrolled": true
   },
   "outputs": [],
   "source": [
    "# call the estimation function\n",
    "times = time[:measurements.shape[0]]\n",
    "lam = lam_hp_ice\n",
    "estimates_ice = ell2_analytical(\n",
    "    ss, measurements[:,:3], batch_size, overlap, times, lam=lam, use_trend_filter=True\n",
    ")\n",
    "estimates_ice_cov = ell2_analytical_with_covariance(\n",
    "    ss, measurements[:,:3], batch_size, overlap, times, lam=lam, use_trend_filter=True\n",
    ")"
   ]
  },
  {
   "cell_type": "markdown",
   "id": "fbd3c0fb",
   "metadata": {},
   "source": [
    "### Process and plot ice excitation experiment shaft torque estimates"
   ]
  },
  {
   "cell_type": "code",
   "execution_count": null,
   "id": "a133ee8b",
   "metadata": {},
   "outputs": [],
   "source": [
    "motor_estimates_ice, propeller_estimates_ice = process_estimates(len(estimates_ice), overlap, estimates_ice)\n",
    "motor_estimates_ice_cov, propeller_estimates_ice_cov = process_estimates(len(estimates_ice_cov), overlap, estimates_ice_cov, nstates=0)"
   ]
  },
  {
   "cell_type": "code",
   "execution_count": null,
   "id": "959c910f",
   "metadata": {},
   "outputs": [],
   "source": [
    "# Excitation matrix using estimated input torques\n",
    "U_est = np.hstack((motor_estimates_ice, propeller_estimates_ice))\n",
    "U_est_cov = np.hstack((motor_estimates_ice_cov, propeller_estimates_ice_cov))"
   ]
  },
  {
   "cell_type": "code",
   "execution_count": null,
   "id": "0b1e3a31",
   "metadata": {},
   "outputs": [],
   "source": [
    "# The testbench is simulated using the estimated input torques, with zero initial state.\n",
    "tout, yout, xout = dlsim((A, B, C_mod, D_mod, dt), U_est, t=times[:-67])\n",
    "tout_cov, yout_cov, xout_cov = dlsim((A, B, C_mod, D_mod, dt), U_est_cov, t=times[:-67])"
   ]
  },
  {
   "cell_type": "code",
   "execution_count": null,
   "id": "acd58d4b",
   "metadata": {},
   "outputs": [],
   "source": [
    "# plt.title(\"Torque sensor 2\")\n",
    "plt.plot(times, measurements[:,-1], c='black', label=\"Measurement\")\n",
    "#plt.plot(tout, yout[:,-1], '-', c='b', label=\"Estimate\")\n",
    "plt.plot(tout_cov, yout_cov[:,-1], '-', c='b', label=\"Estimate\")\n",
    "plt.yticks(fontsize=12)\n",
    "plt.xticks(fontsize=12)\n",
    "plt.legend(fontsize=12)\n",
    "plt.xlim(3.8,5.)\n",
    "plt.ylim(2,24)\n",
    "plt.xlabel(\"Time (s)\", fontsize=12)\n",
    "plt.ylabel(\"Torque (Nm)\", fontsize=12)\n",
    "plt.savefig(\"notebook_figures/ice_experiment_hp_using_R.eps\")"
   ]
  },
  {
   "cell_type": "markdown",
   "id": "036c5695",
   "metadata": {},
   "source": [
    "### Test ice experiment with different lambda"
   ]
  },
  {
   "cell_type": "code",
   "execution_count": null,
   "id": "327abefa",
   "metadata": {},
   "outputs": [],
   "source": [
    "estimates_ice_cov2 = ell2_analytical_with_covariance(\n",
    "    ss, measurements[:,:3], batch_size, overlap, times, lam=0.01, use_trend_filter=True\n",
    ")\n",
    "estimates_ice_cov22 = ell2_analytical_with_covariance(\n",
    "    ss, measurements[:,:3], batch_size, overlap, times, lam=0.01, use_trend_filter=True\n",
    ")"
   ]
  },
  {
   "cell_type": "code",
   "execution_count": null,
   "id": "6f81615c",
   "metadata": {},
   "outputs": [],
   "source": [
    "motor_estimates_ice_cov2, propeller_estimates_ice_cov2 = process_estimates(len(estimates_ice_cov2), overlap, estimates_ice_cov2, nstates=0)\n",
    "motor_estimates_ice_cov22, propeller_estimates_ice_cov22 = process_estimates(len(estimates_ice_cov22), overlap, estimates_ice_cov22, nstates=0)"
   ]
  },
  {
   "cell_type": "code",
   "execution_count": null,
   "id": "d6570bbe",
   "metadata": {},
   "outputs": [],
   "source": [
    "U_est_cov2 = np.hstack((motor_estimates_ice_cov2, propeller_estimates_ice_cov2))\n",
    "U_est_cov22 = np.hstack((motor_estimates_ice_cov22, propeller_estimates_ice_cov22))"
   ]
  },
  {
   "cell_type": "code",
   "execution_count": null,
   "id": "10a364ab",
   "metadata": {},
   "outputs": [],
   "source": [
    "tout_cov2, yout_cov2, xout_cov2 = dlsim((A, B, C_mod, D_mod, dt), U_est_cov2, t=times[:-67])\n",
    "tout_cov22, yout_cov22, xout_cov22 = dlsim((A, B, C_mod, D_mod, dt), U_est_cov22, t=times[:-67])"
   ]
  },
  {
   "cell_type": "code",
   "execution_count": null,
   "id": "ea501b4e",
   "metadata": {},
   "outputs": [],
   "source": [
    "plt.plot(times, measurements[:,-1], c='black', label=\"Measurement\")\n",
    "#plt.plot(tout, yout[:,-1], '-', c='b', label=\"Estimate\")\n",
    "plt.plot(tout_cov2, yout_cov2[:,-1], '-', c='b', label=\"Estimate with R\")\n",
    "plt.plot(tout_cov22, yout_cov22[:,-1], '--', c='r', label=\"Estimate with R\")\n",
    "\n",
    "plt.legend()\n",
    "plt.xlim(3.8,5.)\n",
    "plt.ylim(2,24)\n",
    "plt.xlabel(\"Time (s)\")\n",
    "plt.ylabel(\"Torque (Nm)\")"
   ]
  },
  {
   "cell_type": "markdown",
   "id": "2c3f3ace",
   "metadata": {},
   "source": [
    "## RMS errors"
   ]
  },
  {
   "cell_type": "code",
   "execution_count": null,
   "id": "0a719e47",
   "metadata": {},
   "outputs": [],
   "source": [
    "plt.subplot(311)\n",
    "plt.title(\"a)\", loc='left')\n",
    "plt.plot(time_imp, measurements_imp[:,-1], c='black', label=\"Measurement\")\n",
    "#plt.plot(tout_imp, yout_imp[:,-1], '-', c='b', label=\"Estimate\")\n",
    "plt.plot(tout_imp_cov, yout_imp_cov[:,-1], '-', c='b', label=\"Estimate with R\")\n",
    "plt.legend()\n",
    "plt.xlabel(\"Time (s)\")\n",
    "plt.ylabel(\"Torque (Nm)\")\n",
    "\n",
    "plt.subplot(312)\n",
    "plt.title(\"b)\", loc='left')\n",
    "plt.plot(time_step, measurements_step[:,-1], c='black', label=\"Measurement\")\n",
    "#plt.plot(tout_step, yout_step[:,-1], '-', c='b', label=\"Estimate\")\n",
    "plt.plot(tout_step, yout_step[:,-1], '-', c='b', label=\"Estimate with R\")\n",
    "plt.legend()\n",
    "plt.xlabel(\"Time (s)\")\n",
    "plt.ylabel(\"Torque (Nm)\")\n",
    "\n",
    "plt.subplot(313)\n",
    "plt.title(\"c)\", loc='left')\n",
    "plt.plot(time_sin, measurements_sin[:,-1], c='black', label=\"Measurement\")\n",
    "#plt.plot(tout_sin, yout_sin[:,-1], '-', c='b', label=\"Estimate\")\n",
    "plt.plot(tout_sin, yout_sin[:,-1], '-', c='b', label=\"Estimate with R\")\n",
    "plt.legend()\n",
    "plt.xlabel(\"Time (s)\")\n",
    "plt.ylabel(\"Torque (Nm)\")\n",
    "plt.subplots_adjust(hspace=0.7)"
   ]
  },
  {
   "cell_type": "code",
   "execution_count": null,
   "id": "02514f4a",
   "metadata": {},
   "outputs": [],
   "source": [
    "plt.plot(time_imp[:-1235], measurements_imp[500:-735,-1], c='black', label=\"Measurement\")\n",
    "plt.plot(tout_imp_cov[:-1000], yout_imp_cov[500:-500,-1], '-', c='b', label=\"Estimate with R\")\n",
    "mae_imp = np.mean(np.abs(yout_imp_cov[500:-500,-1]-measurements_imp[500:-735,-1]))\n",
    "print(\"Mean absloute error: \", mae_imp)\n",
    "rmse_imp = np.sqrt(np.mean(np.square(yout_imp_cov[500:-500,-1]-measurements_imp[500:-735,-1])))\n",
    "print(\"Root mean square error:\", rmse_imp)"
   ]
  },
  {
   "cell_type": "code",
   "execution_count": null,
   "id": "f8426e8e",
   "metadata": {},
   "outputs": [],
   "source": [
    "residual_imp = yout_imp_cov[500:-500,-1]-measurements_imp[500:-735,-1]\n",
    "plt.hist(residual_imp, bins=100, edgecolor='black')  # Adjust the number of bins as needed\n",
    "plt.xlabel('Residual')\n",
    "plt.ylabel('N')\n",
    "plt.show()"
   ]
  },
  {
   "cell_type": "code",
   "execution_count": null,
   "id": "1520ce08",
   "metadata": {},
   "outputs": [],
   "source": [
    "plt.plot(time_imp[:-4935], measurements_imp[1200:-3735,-1], c='black', label=\"Measurement\")\n",
    "plt.plot(tout_imp_cov[:-4700], yout_imp_cov[1200:-3500,-1], '-', c='b', label=\"Estimate with R\")\n",
    "mae_imp2 = np.mean(np.abs(yout_imp_cov[1200:-3500,-1]-measurements_imp[1200:-3735,-1]))\n",
    "print(\"Mean absloute error: \", mae_imp)\n",
    "rmse_imp2 = np.sqrt(np.mean(np.square(yout_imp_cov[1200:-3500,-1]-measurements_imp[1200:-3735,-1])))\n",
    "print(\"Root mean square error:\", rmse_imp2)"
   ]
  },
  {
   "cell_type": "code",
   "execution_count": null,
   "id": "0bb062bc",
   "metadata": {},
   "outputs": [],
   "source": [
    "plt.plot(time_step[:-4368], measurements_step[500:-3868,-1], c='black', label=\"Measurement\")\n",
    "plt.plot(tout_step_cov[:-4000], yout_step_cov[500:-3500,-1], '-', c='b', label=\"Estimate with R\")\n",
    "mae_step = np.mean(np.abs(yout_step_cov[500:-3500,-1]-measurements_step[500:-3868,-1]))\n",
    "print(\"Mean absloute error: \", mae_step)\n",
    "rmse_step = np.sqrt(np.mean(np.square(yout_step_cov[500:-3500,-1]-measurements_step[500:-3868,-1])))\n",
    "print(\"Root mean square error:\", rmse_step)"
   ]
  },
  {
   "cell_type": "code",
   "execution_count": null,
   "id": "9183dd0c",
   "metadata": {},
   "outputs": [],
   "source": [
    "residual_step = yout_step_cov[500:-3500,-1]-measurements_step[500:-3868,-1]\n",
    "plt.hist(residual_step, bins=100, edgecolor='black')  # Adjust the number of bins as needed\n",
    "plt.xlabel('Residual')\n",
    "plt.ylabel('N')\n",
    "plt.show()"
   ]
  },
  {
   "cell_type": "code",
   "execution_count": null,
   "id": "962d7a24",
   "metadata": {},
   "outputs": [],
   "source": [
    "plt.plot(time_sin[:-4401], measurements_sin[500:-3901,-1], c='black', label=\"Measurement\")\n",
    "plt.plot(tout_sin_cov[:-4000], yout_sin_cov[500:-3500,-1], '-', c='b', label=\"Estimate with R\")\n",
    "mae_sin = np.mean(np.abs(yout_sin_cov[500:-3500,-1]-measurements_sin[500:-3901,-1]))\n",
    "print(\"Mean absloute error: \", mae_sin)\n",
    "rmse_sin = np.sqrt(np.mean(np.square(yout_sin_cov[500:-3500,-1]-measurements_sin[500:-3901,-1])))\n",
    "print(\"Root mean square error:\", rmse_sin)"
   ]
  },
  {
   "cell_type": "code",
   "execution_count": null,
   "id": "6dfecf3a",
   "metadata": {},
   "outputs": [],
   "source": [
    "residual_sin = yout_sin_cov[500:-3500,-1]-measurements_sin[500:-3901,-1]\n",
    "plt.hist(residual_sin, bins=100, edgecolor='black')  # Adjust the number of bins as needed\n",
    "plt.xlabel('Residual')\n",
    "plt.ylabel('N')\n",
    "plt.show()"
   ]
  },
  {
   "cell_type": "code",
   "execution_count": null,
   "id": "203da04a",
   "metadata": {},
   "outputs": [],
   "source": [
    "dlt = len(times)-len(tout_cov)  # difference in the length of the time vectors of the measurement and estimate\n",
    "cl = 2000  # cut left side of data\n",
    "cr = 3200  # cut right side of data\n",
    "crd = cr + dlt  # cut right side of data including dlt\n",
    "t_cut = cl + cr\n",
    "t_cutd = cl + crd\n",
    "\n",
    "plt.plot(times[:-t_cutd], measurements[cl:-crd,-1], c='black', label=\"Measurement\")\n",
    "plt.plot(tout_cov[:-t_cut], yout_cov[cl:-cr,-1], '-', c='b', label=\"Estimate with R\")\n",
    "plt.legend()\n",
    "plt.xlabel(\"Time (s)\")\n",
    "plt.ylabel(\"Torque (Nm)\")\n",
    "\n",
    "mae_ice = np.mean(np.abs(yout_cov[cl:-cr,-1]-measurements[cl:-crd,-1]))\n",
    "print(\"Mean absloute error: \", mae_ice)\n",
    "rmse_ice = np.sqrt(np.mean(np.square(yout_cov[cl:-cr,-1]-measurements[cl:-crd,-1])))\n",
    "print(\"Root mean square error:\", rmse_ice)"
   ]
  },
  {
   "cell_type": "code",
   "execution_count": null,
   "id": "1ccf2e95",
   "metadata": {},
   "outputs": [],
   "source": [
    "residual_ice = yout_cov[cl:-cr,-1]-measurements[cl:-crd,-1]\n",
    "plt.hist(residual_ice, bins=100, edgecolor='black')  # Adjust the number of bins as needed\n",
    "plt.xlabel('Residual')\n",
    "plt.ylabel('N')\n",
    "plt.show()"
   ]
  },
  {
   "cell_type": "code",
   "execution_count": null,
   "id": "a7ea066f",
   "metadata": {},
   "outputs": [],
   "source": [
    "plt.plot(times[:-t_cutd], measurements[cl:-crd,-1], c='black', label=\"Measurement\")\n",
    "plt.plot(tout[:-t_cut], yout[cl:-cr,-1], '-', c='b', label=\"Estimate with R\")\n",
    "plt.legend()\n",
    "plt.xlabel(\"Time (s)\")\n",
    "plt.ylabel(\"Torque (Nm)\")\n",
    "\n",
    "mae_ice2 = np.mean(np.abs(yout[cl:-cr,-1]-measurements[cl:-crd,-1]))\n",
    "print(\"Mean absloute error: \", mae_ice2)\n",
    "rmse_ice2 = np.sqrt(np.mean(np.square(yout[cl:-cr,-1]-measurements[cl:-crd,-1])))\n",
    "print(\"Root mean square error\", rmse_ice2)"
   ]
  },
  {
   "cell_type": "code",
   "execution_count": null,
   "id": "43f33297",
   "metadata": {},
   "outputs": [],
   "source": [
    "plt.bar([1, 2, 3, 4, 5], [rmse_imp, rmse_step, rmse_sin, rmse_ice, rmse_ice2], width=0.5, color='black')\n",
    "plt.ylabel(\"RMSE\")\n",
    "plt.xticks([1, 2, 3, 4, 5], [\"Impulse\", \"Step\", \"Periodic\", \"Ice\", \"Ice w/o R\"])"
   ]
  },
  {
   "cell_type": "code",
   "execution_count": null,
   "id": "24837c7b",
   "metadata": {},
   "outputs": [],
   "source": [
    "plt.bar([1, 2, 3, 4], [rmse_imp, rmse_step, rmse_sin, rmse_ice], width=0.5, color='black')\n",
    "plt.ylabel(\"RMSE\", fontsize=12)\n",
    "plt.xlabel(\"Excitations\", fontsize=12)\n",
    "plt.xticks(fontsize=11)\n",
    "plt.yticks(fontsize=12)\n",
    "plt.xticks([1, 2, 3, 4], [\"Impulse\", \"Step\", \"Periodic\", \"Ice\"])\n",
    "plt.savefig(\"notebook_figures/RMSE_barplot.eps\")"
   ]
  },
  {
   "cell_type": "code",
   "execution_count": null,
   "id": "cb71efc9",
   "metadata": {},
   "outputs": [],
   "source": [
    "plt.subplot(221)\n",
    "plt.hist(residual_imp, bins=100, edgecolor='black')  # Adjust the number of bins as needed\n",
    "plt.xlabel('Residual')\n",
    "plt.ylabel('n')\n",
    "plt.subplot(222)\n",
    "plt.hist(residual_step, bins=100, edgecolor='black')  # Adjust the number of bins as needed\n",
    "plt.xlabel('Residual')\n",
    "plt.ylabel('n')\n",
    "plt.subplot(223)\n",
    "plt.hist(residual_sin, bins=100, edgecolor='black')  # Adjust the number of bins as needed\n",
    "plt.xlabel('Residual')\n",
    "plt.ylabel('n')\n",
    "plt.subplot(224)\n",
    "plt.hist(residual_ice, bins=100, edgecolor='black')  # Adjust the number of bins as needed\n",
    "plt.xlabel('Residual')\n",
    "plt.ylabel(r'\\text{n}')\n",
    "plt.subplots_adjust(hspace=0.4)\n",
    "plt.subplots_adjust(wspace=0.3)\n",
    "plt.savefig(\"notebook_figures/residual_histogram.eps\")\n",
    "plt.show()"
   ]
  },
  {
   "cell_type": "markdown",
   "id": "101e009c-3e6c-4a76-9731-368de54dece2",
   "metadata": {},
   "source": [
    "## Histogram plotting example"
   ]
  },
  {
   "cell_type": "code",
   "execution_count": 1,
   "id": "4f7ed6d3",
   "metadata": {},
   "outputs": [],
   "source": [
    "import sys\n",
    "import numpy as np\n",
    "import matplotlib.pyplot as plt\n",
    "import scipy.linalg as LA\n",
    "import scipy.stats as stats\n",
    "from scipy.signal import dlsim, butter, lfilter, welch"
   ]
  },
  {
   "cell_type": "code",
   "execution_count": 83,
   "id": "c12976f9-80d5-4a4c-89f8-426dffd4c175",
   "metadata": {},
   "outputs": [
    {
     "data": {
      "image/png": "[encoded data removed]",
      "text/plain": [
       "<Figure size 640x480 with 1 Axes>"
      ]
     },
     "metadata": {},
     "output_type": "display_data"
    }
   ],
   "source": [
    "def histplot(data, nbins):\n",
    "    N = data.shape\n",
    "    # fit normal distribution\n",
    "    mu, std = stats.norm.fit(data) \n",
    "    \n",
    "    # gaussian test\n",
    "    #chi_stat, p_stat = stats.normaltest( (data-mu)/std )\n",
    "    #print(chi_stat[0],p_stat[0])\n",
    "    #if p_stat < 0.05:\n",
    "    #    print('Data is Not Gaussian')\n",
    "    #else:\n",
    "    #    print('Data is Gaussian')\n",
    "    \n",
    "    # plot histogram\n",
    "    fig, ax = plt.subplots()\n",
    "    n, bins, patches = ax.hist(data, bins=nbins, facecolor='#f5f5f5', edgecolor='#CACACE', density = True, label='Histogram')\n",
    "    ax.set_xlabel('Residual', fontsize=12)\n",
    "    ax.set_ylabel('Probability density', fontsize=12)\n",
    "\n",
    "    #plot pdf\n",
    "    xmin, xmax = plt.xlim() \n",
    "    x = np.linspace(xmin, xmax, 100) \n",
    "    p = stats.norm.pdf(x, mu, std)\n",
    "    plt.plot(x, p, 'k',\n",
    "             linewidth=2,\n",
    "             label=f\"Gaussian fit, $\\mu={mu:.2f}$, $\\sigma={std:.2f}$\")\n",
    "    ax.legend(loc='upper right')\n",
    "    return fig\n",
    "\n",
    "\n",
    "\n",
    "# ---\n",
    "N = 1000\n",
    "residual = np.random.randn(N,1)\n",
    "fig1 = histplot(residual,50)\n",
    "plt.show(fig1)\n"
   ]
  },
  {
   "cell_type": "code",
   "execution_count": null,
   "id": "68653315-df9b-4eaa-9538-fce9bf2c9e5c",
   "metadata": {},
   "outputs": [],
   "source": []
  }
 ],
 "metadata": {
  "kernelspec": {
   "display_name": "Python 3 (ipykernel)",
   "language": "python",
   "name": "python3"
  },
  "language_info": {
   "codemirror_mode": {
    "name": "ipython",
    "version": 3
   },
   "file_extension": ".py",
   "mimetype": "text/x-python",
   "name": "python",
   "nbconvert_exporter": "python",
   "pygments_lexer": "ipython3",
   "version": "3.10.2"
  }
 },
 "nbformat": 4,
 "nbformat_minor": 5
}
