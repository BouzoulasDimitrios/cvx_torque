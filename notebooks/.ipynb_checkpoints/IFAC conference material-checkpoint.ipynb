{
 "cells": [
  {
   "cell_type": "code",
   "execution_count": 1,
   "id": "8c450a41",
   "metadata": {},
   "outputs": [],
   "source": [
    "import sys\n",
    "import numpy as np\n",
    "import matplotlib.pyplot as plt\n",
    "import scipy.linalg as LA\n",
    "from scipy.signal import dlsim, butter, lfilter"
   ]
  },
  {
   "cell_type": "markdown",
   "id": "df099a3f",
   "metadata": {},
   "source": [
    "# Testbench parameters"
   ]
  },
  {
   "cell_type": "code",
   "execution_count": 2,
   "id": "13fbf5b3",
   "metadata": {},
   "outputs": [],
   "source": [
    "def new_parameters():\n",
    "    inertias = np.array([7.94e-4,\n",
    "                         3.79e-6,\n",
    "                         3.00e-6,\n",
    "                         2.00e-6,\n",
    "                         7.81e-3,\n",
    "                         2.00e-6,\n",
    "                         (3.17e-6 - 7800*(np.pi*(0.006**4)/32)*0.342/6) + 7800*(np.pi*(0.008**4)/32)*0.342/6,\n",
    "                         5.01e-5,\n",
    "                         6.50e-6,\n",
    "                         5.65e-5,\n",
    "                         4.27e-6,\n",
    "                         3.25e-4,\n",
    "                         1.20e-4,\n",
    "                         1.15e-5,\n",
    "                         1.32e-4,\n",
    "                         4.27e-6,\n",
    "                         2.69e-4,\n",
    "                         1.80e-4,\n",
    "                         2.00e-5,\n",
    "                         2.00e-4,\n",
    "                         4.27e-6,\n",
    "                         4.95e-2])\n",
    "\n",
    "    stiffnesses = np.array([1.90e5,\n",
    "                            6.95e3,\n",
    "                            90.00,\n",
    "                            90.00,\n",
    "                            90.00,\n",
    "                            90.00,\n",
    "                            80e9*(np.pi*(0.008**4)/32)/0.342,\n",
    "                            4.19e4,\n",
    "                            5.40e3,\n",
    "                            4.19e4,\n",
    "                            1.22e3,\n",
    "                            4.33e4,\n",
    "                            3.10e4,\n",
    "                            1.14e3,\n",
    "                            3.10e4,\n",
    "                            1.22e4,\n",
    "                            4.43e4,\n",
    "                            1.38e5,\n",
    "                            2.00e4,\n",
    "                            1.38e5,\n",
    "                            1.22e4])\n",
    "\n",
    "    damping = np.array([8.08,\n",
    "                        0.29,\n",
    "                        0.24,\n",
    "                        0.24,\n",
    "                        0.24,\n",
    "                        0.24,\n",
    "                        0.00,\n",
    "                        1.78,\n",
    "                        0.23,\n",
    "                        1.78,\n",
    "                        0.52,\n",
    "                        1.84,\n",
    "                        1.32,\n",
    "                        0.05,\n",
    "                        1.32,\n",
    "                        0.52,\n",
    "                        1.88,\n",
    "                        5.86,\n",
    "                        0.85,\n",
    "                        5.86,\n",
    "                        0.52])\n",
    "\n",
    "\n",
    "    external_damping = np.array([0.0030,\n",
    "                                 0,\n",
    "                                 0,\n",
    "                                 0,\n",
    "                                 0,\n",
    "                                 0,\n",
    "                                 0,\n",
    "                                 0,\n",
    "                                 0,\n",
    "                                 0,\n",
    "                                 0,\n",
    "                                 0.0038,\n",
    "                                 0,\n",
    "                                 0,\n",
    "                                 0,\n",
    "                                 0,\n",
    "                                 0.0038,\n",
    "                                 0,\n",
    "                                 0,\n",
    "                                 0,\n",
    "                                 0,\n",
    "                                 0.2400])\n",
    "\n",
    "    gear_ratios = np.array([1, 1, 1, 1, 1, 1, 1, 1, 1, 1, 1, 1/3, 1, 1, 1, 1, 1/4, 1, 1, 1, 1])\n",
    "\n",
    "    return inertias, stiffnesses, damping, external_damping, gear_ratios\n"
   ]
  },
  {
   "cell_type": "markdown",
   "id": "73f0355c",
   "metadata": {},
   "source": [
    "# State-space matrices\n",
    "\n",
    "The state-space matrices are constructed the same way as in the master's thesis and the MSSP article."
   ]
  },
  {
   "cell_type": "code",
   "execution_count": 3,
   "id": "fe7c01b8",
   "metadata": {},
   "outputs": [],
   "source": [
    "def state_space_matrices(inertia, stiff, damp, damp_ext, ratios, full_B=False):\n",
    "    \"\"\"\n",
    "    Parameters:\n",
    "    \n",
    "    inertia : list\n",
    "        The inertia values of each lumped mass in order from index 1...n\n",
    "    stiff : list\n",
    "        The stiffness values between each lumped mass in order from index 1...n\n",
    "    damp : list\n",
    "        The viscous damping values between each lumped mass in order from index 1...n\n",
    "    damp_ext : list\n",
    "        The external damping corresponding to torque losses from the motors and gears\n",
    "    ratios : list\n",
    "        The gear ratios between each lumped mass\n",
    "    full_B : bool\n",
    "        If true, the input matrix B is shape n x p, allowing applying an input at the\n",
    "        location of every lumped mass. By default it's shape is n x 2, for applying an input\n",
    "        at the locations corresponding to the driving motor and the propeller. \n",
    "        \n",
    "    Returns:\n",
    "    \n",
    "    A : numpy.ndarray\n",
    "        The state matrix of the state-space system\n",
    "    B : numpy.ndarray\n",
    "        The input matrix of the state-space system\n",
    "    C : numpy.ndarray\n",
    "        The observation matrix of the state-space system\n",
    "    D : numpy.ndarray\n",
    "        The feedthrough matrix, always a zero matrix\n",
    "\n",
    "    \"\"\"\n",
    "    cn = damp*ratios\n",
    "    cn2 = damp*ratios**2\n",
    "    cn2 = np.hstack((cn2, 0))\n",
    "    c0 = np.copy(damp)\n",
    "    c0 = np.insert(c0, 0, 0, axis=0)\n",
    "    cn2d = -(c0 + cn2 + damp_ext)\n",
    "\n",
    "    A11 = (np.diag(cn2d) + np.diag(cn, k=1) + np.diag(cn, k=-1)) / inertia.reshape(inertia.shape[0], 1)\n",
    "\n",
    "    ks = -np.hstack((stiff*ratios, 0))\n",
    "    A12 = np.delete(\n",
    "        (np.diag(ks) + np.diag(stiff, k=-1)) / inertia.reshape(inertia.shape[0], 1), -1, axis=1\n",
    "    )\n",
    "\n",
    "\n",
    "    A23 = np.delete(\n",
    "        np.diag(np.hstack((ratios, 0))) + np.diag(-np.ones(len(ratios)), k=1), -1, axis=0\n",
    "    )\n",
    "\n",
    "    A = np.vstack((np.hstack((A11, A12)), np.hstack((A23, np.zeros((A23.shape[0], A23.shape[1]-1))))))\n",
    "\n",
    "    if full_B:\n",
    "        B = np.zeros(A.shape)\n",
    "        for i in range(len(inertia)):\n",
    "            B[i,i] += 1/inertia[i]\n",
    "    else:\n",
    "        B = np.zeros((A.shape[0], 2))\n",
    "        B[0,0] += 1/inertia[0]\n",
    "        B[len(inertia)-1, 1] -= 1/inertia[-1]\n",
    "\n",
    "    C = np.zeros((3, A.shape[0]))\n",
    "    C[0,6] += 1\n",
    "    C[1,7] += 1\n",
    "    C[2,30] += 5400\n",
    "    D = np.zeros((C.shape[0], B.shape[1]))\n",
    "\n",
    "    return A, B, C, D"
   ]
  },
  {
   "cell_type": "code",
   "execution_count": 4,
   "id": "9c6439c6",
   "metadata": {},
   "outputs": [],
   "source": [
    "def c2d(A, B, ts):\n",
    "    \"\"\"\n",
    "    C2D computes a discrete-time model of a system (A_c,B_c) with sample time ts.\n",
    "    The function returns matrices Ad, Bd of the discrete-time system.\n",
    "    \"\"\"\n",
    "    m, n = A.shape\n",
    "    nb = B.shape[1]\n",
    "\n",
    "    s = np.concatenate([A,B], axis=1)\n",
    "    s = np.concatenate([s, np.zeros((nb, n+nb))], axis=0)\n",
    "    S = LA.expm(s*ts)\n",
    "    Ad = S[0:n,0:n]\n",
    "    Bd = S[0:n,n:n+nb+1]\n",
    "\n",
    "    return Ad, Bd\n"
   ]
  },
  {
   "cell_type": "markdown",
   "id": "3d979c83",
   "metadata": {},
   "source": [
    "# Data equation matrices"
   ]
  },
  {
   "cell_type": "code",
   "execution_count": 5,
   "id": "22666506",
   "metadata": {},
   "outputs": [],
   "source": [
    "def O(A, C, n):\n",
    "    '''\n",
    "    Create the extended observability matrix used in the data equation.\n",
    "\n",
    "    Parameters:\n",
    "\n",
    "    A : numpy.ndarray\n",
    "        The state matrix of the state-space system\n",
    "    C : numpy.ndarray\n",
    "        The observation matrix of the state-space system\n",
    "    n : float\n",
    "        number of measurements\n",
    "\n",
    "    Returns:\n",
    "\n",
    "    O : numpy.ndarray, shape(n, number of state variables)\n",
    "        The extended observability matrix\n",
    "    '''\n",
    "    A_power = np.copy(A)\n",
    "    O = np.vstack((np.copy(C), C @ A))\n",
    "\n",
    "    for k in range(n-2):\n",
    "        A_power = A_power @ A\n",
    "        O = np.vstack((O, C @ A_power))\n",
    "\n",
    "    return O\n",
    "\n",
    "\n",
    "def gamma(A, B, C, n):\n",
    "    '''\n",
    "    Create the impulse response matrix used in the data equation.\n",
    "\n",
    "    Parameters:\n",
    "\n",
    "    A : numpy.ndarray\n",
    "        The state matrix of the state-space system\n",
    "    B : numpy.ndarray\n",
    "        The input matrix of the state-space system\n",
    "    C : numpy.ndarray\n",
    "        The observation matrix of the state-space system\n",
    "    n : float\n",
    "        number of measurements\n",
    "\n",
    "    Returns:\n",
    "\n",
    "    gamma : numpy.ndarray, shape(n*number of state variables, n*number of state variables)\n",
    "        The impulse response matrix\n",
    "    '''\n",
    "    A_power = np.copy(A)\n",
    "    Z = np.zeros((C @ B).shape)\n",
    "\n",
    "    # first column\n",
    "    gamma_column_first = np.vstack((\n",
    "        Z,\n",
    "        C @ B,\n",
    "        C @ A @ B\n",
    "    ))\n",
    "    for _ in range(n-3):\n",
    "        A_power = A_power @ A\n",
    "        gamma_column_first = np.vstack((gamma_column_first, C @ A_power @ B))\n",
    "\n",
    "    # build complete matrix, column by column, from left to right\n",
    "    gamma = np.copy(gamma_column_first)\n",
    "    current_column = 1\n",
    "    for _ in range(1, n):\n",
    "        gamma_rows = Z\n",
    "\n",
    "        # first add zero matrices\n",
    "        for _ in range(current_column):\n",
    "            gamma_rows = np.vstack((gamma_rows, Z))\n",
    "\n",
    "        # then add the impulse responses\n",
    "        A_power2 = np.copy(A)\n",
    "\n",
    "        if current_column < (n-2):\n",
    "            gamma_rows = np.vstack((\n",
    "                gamma_rows,\n",
    "                C @ B,\n",
    "                C @ A @ B # these must not be added to the last and the second to last columns\n",
    "            ))\n",
    "\n",
    "        if current_column == (n-2):\n",
    "            gamma_rows = np.vstack((\n",
    "                gamma_rows,\n",
    "                C @ B # this has to be added to the end of the second to last column\n",
    "            ))\n",
    "\n",
    "        for _ in range(n-current_column-3):\n",
    "            A_power2 = A_power2 @ A\n",
    "            gamma_rows = np.vstack((gamma_rows, C @ A_power2 @ B))\n",
    "\n",
    "        # add column on the right hand side\n",
    "        gamma = np.hstack((gamma, gamma_rows))\n",
    "        current_column += 1\n",
    "\n",
    "    return gamma\n",
    "\n",
    "\n",
    "def second_difference_matrix(n, m):\n",
    "    D2 = np.eye(n*m) - 2*np.eye(n*m, k=2) + np.eye(n*m, k=4)\n",
    "\n",
    "    # delete incomplete rows\n",
    "    D2 = D2[:-2*m, :]\n",
    "\n",
    "    return D2\n"
   ]
  },
  {
   "cell_type": "markdown",
   "id": "223073c5",
   "metadata": {},
   "source": [
    "# Load ice excitation and measurement data\n",
    "\n",
    "This dataset was used in the master's thesis for the ice excitation experiments on the testbench. Sampling frequency ~1 kHz. The data has been low pass filtered with a cutoff frequency of 500 Hz."
   ]
  },
  {
   "cell_type": "code",
   "execution_count": 6,
   "id": "245aa3be",
   "metadata": {},
   "outputs": [],
   "source": [
    "# The motor dataset columns:\n",
    "# | time | motor setpoint | motor | propeller setpoint | propeller |\n",
    "motor_data = np.loadtxt(\"../data/masters_data/processed_data/ice_2000_motor.csv\", delimiter=\",\")\n",
    "\n",
    "# The sensor dataset columns:\n",
    "# | time | speed1 (encoder1) | speed2 (encoder2) | torque1 | torque2 |\n",
    "sensor_data = np.loadtxt(\"../data/masters_data/processed_data/ice_2000_sensor.csv\", delimiter=\",\")"
   ]
  },
  {
   "cell_type": "code",
   "execution_count": 7,
   "id": "cde50894",
   "metadata": {},
   "outputs": [],
   "source": [
    "time = sensor_data[:,0]\n",
    "measurements = sensor_data[:,1:] # measurement data from the encoder 1, encoder 2, torque transducer 1 and torque transducer 2\n",
    "motors = np.vstack((motor_data[:,2], motor_data[:,4])).T # motor torque data"
   ]
  },
  {
   "cell_type": "code",
   "execution_count": 8,
   "id": "0474cd99",
   "metadata": {},
   "outputs": [],
   "source": [
    "motor = motors[:,0]\n",
    "propeller = motors[:,-1]"
   ]
  },
  {
   "cell_type": "markdown",
   "id": "ae439a43",
   "metadata": {},
   "source": [
    "# Initiate the input and state estimation procedure"
   ]
  },
  {
   "cell_type": "code",
   "execution_count": 9,
   "id": "4737ad73",
   "metadata": {},
   "outputs": [],
   "source": [
    "def get_testbench_state_space(dt):\n",
    "    inertias, stiffs, damps, damps_ext, ratios = new_parameters()\n",
    "    Ac, Bc, C, D = state_space_matrices(inertias, stiffs, damps, damps_ext, ratios)\n",
    "\n",
    "    A, B = c2d(Ac, Bc, dt)\n",
    "\n",
    "    return A, B, C, D"
   ]
  },
  {
   "cell_type": "code",
   "execution_count": 10,
   "id": "6770a5e5",
   "metadata": {},
   "outputs": [],
   "source": [
    "dt = np.mean(np.diff(time))\n",
    "A, B, C, D = get_testbench_state_space(dt)\n",
    "ss = (A, B, C, D)"
   ]
  },
  {
   "cell_type": "code",
   "execution_count": 11,
   "id": "2f5e32cd",
   "metadata": {},
   "outputs": [],
   "source": [
    "# include second torque transducer\n",
    "C_mod = np.insert(C, 3, np.zeros((1, C.shape[1])), 0)\n",
    "C_mod[3,22+18] += 2e4\n",
    "D_mod = np.zeros((C_mod.shape[0], B.shape[1]))"
   ]
  },
  {
   "cell_type": "code",
   "execution_count": 12,
   "id": "c387a3bc",
   "metadata": {},
   "outputs": [],
   "source": [
    "# parameters for the input and state estimation\n",
    "batch_size = 500\n",
    "overlap = 100\n",
    "lam = 0.1"
   ]
  },
  {
   "cell_type": "markdown",
   "id": "a6b012e9",
   "metadata": {},
   "source": [
    "# Analytical solution of the $\\ell_2$ regularized LS problem"
   ]
  },
  {
   "cell_type": "code",
   "execution_count": 13,
   "id": "ed7828a8",
   "metadata": {},
   "outputs": [],
   "source": [
    "def progressbar(it, prefix=\"\", size=60, out=sys.stdout):\n",
    "    \"\"\"\n",
    "    A function used to display a progress bar in the console.\n",
    "    \"\"\"\n",
    "    count = len(it)\n",
    "    def show(j):\n",
    "        x = int(size*j/count)\n",
    "        print(f\"{prefix}[{u'█'*x}{('.'*(size-x))}] {j}/{count}\", end='\\r', file=out, flush=True)\n",
    "    show(0)\n",
    "    for i, item in enumerate(it):\n",
    "        yield item\n",
    "        show(i+1)\n",
    "    print(\"\\n\", flush=True, file=out)"
   ]
  },
  {
   "cell_type": "code",
   "execution_count": 14,
   "id": "6dfd8f92",
   "metadata": {},
   "outputs": [],
   "source": [
    "def get_data_equation_matrices(A, B, C, D, n, bs):\n",
    "    D2 = second_difference_matrix(bs, B.shape[1])\n",
    "    O_mat = O(A, C, bs)\n",
    "    G = gamma(A, B, C, bs)\n",
    "    L = np.eye(bs*B.shape[1])\n",
    "\n",
    "    return O_mat, G, D2, L"
   ]
  },
  {
   "cell_type": "code",
   "execution_count": 15,
   "id": "dba8a3b4",
   "metadata": {},
   "outputs": [],
   "source": [
    "def ell2_analytical(ss, measurements, batch_size, overlap, times, lam=0.1, use_trend_filter=False):\n",
    "\n",
    "    dt = np.mean(np.diff(times))\n",
    "    n = len(times)\n",
    "    bs = batch_size + 2*overlap\n",
    "    loop_len = int(n/batch_size)\n",
    "\n",
    "    A, B, C, D = ss  # state space model\n",
    "    O_mat, G, D2, L = get_data_equation_matrices(A, B, C, D, n, bs)  # data equation matrices\n",
    "\n",
    "    if use_trend_filter:\n",
    "        regul_matrix = D2 # regularization matrix\n",
    "    else:\n",
    "        regul_matrix = L\n",
    "\n",
    "    H = np.hstack([O_mat, G])  # extended observation and impulse response matrix\n",
    "    M = np.hstack([np.zeros((regul_matrix.shape[0], O_mat.shape[1])), regul_matrix])  # extended regularization matrix\n",
    "    \n",
    "    input_estimates = []\n",
    "\n",
    "    for i in progressbar(range(loop_len), \"Calculating estimates: \", loop_len):\n",
    "        if i == 0:\n",
    "            batch = measurements[:bs,:]\n",
    "        elif i == loop_len-1:\n",
    "            batch = np.zeros((bs, measurements.shape[1]))\n",
    "            # zero padding to finish estimation loop correctly\n",
    "        else:\n",
    "            batch = measurements[i*batch_size-overlap:(i+1)*batch_size+overlap,:]\n",
    "\n",
    "        y = batch.reshape(-1,1)\n",
    "\n",
    "        estimate = LA.inv(H.T @ H + lam*(M.T @ M)) @ H.T @ y\n",
    "\n",
    "        input_estimates.append(estimate)\n",
    "\n",
    "    return input_estimates\n"
   ]
  },
  {
   "cell_type": "code",
   "execution_count": 16,
   "id": "3c1ba827",
   "metadata": {},
   "outputs": [
    {
     "name": "stdout",
     "output_type": "stream",
     "text": [
      "Calculating estimates: [████████████████████] 20/20\n",
      "\n",
      "(1443, 1)\n"
     ]
    }
   ],
   "source": [
    "times = time[:measurements.shape[0]]\n",
    "estimates = ell2_analytical(ss, measurements[:,:3], batch_size, overlap, times, lam=lam, use_trend_filter=True)\n",
    "print(estimates[1].shape)"
   ]
  },
  {
   "cell_type": "code",
   "execution_count": 17,
   "id": "763a48b6",
   "metadata": {},
   "outputs": [],
   "source": [
    "n_batches = 20\n",
    "motor_estimates, propeller_estimates = [], []\n",
    "motor_est_overlap, prop_est_overlap = [], []\n",
    "for i in range(n_batches):\n",
    "    if i == 0:\n",
    "        all_motor_estimates = estimates[i][43::2]\n",
    "        motor_est_overlap.append(all_motor_estimates)\n",
    "        motor_estimates = all_motor_estimates[:-2*overlap]\n",
    "        all_propeller_estimates = estimates[i][(43+1)::2]\n",
    "        prop_est_overlap.append(all_propeller_estimates)\n",
    "        propeller_estimates = all_propeller_estimates[:-2*overlap]\n",
    "    else:\n",
    "        all_motor_estimates = estimates[i][43::2]\n",
    "        motor_est_overlap.append(all_motor_estimates)\n",
    "        motor_estimates = np.concatenate(\n",
    "            (motor_estimates, all_motor_estimates[overlap:-overlap])\n",
    "        )\n",
    "        all_propeller_estimates = estimates[i][(43+1)::2]\n",
    "        prop_est_overlap.append(all_propeller_estimates)\n",
    "        propeller_estimates = np.concatenate(\n",
    "            (propeller_estimates, all_propeller_estimates[overlap:-overlap])\n",
    "        )"
   ]
  },
  {
   "cell_type": "code",
   "execution_count": 20,
   "id": "fc0603e8",
   "metadata": {},
   "outputs": [],
   "source": [
    "C_full = np.eye(B.shape[0])\n",
    "omat = O(A, C_mod, batch_size+2*overlap)\n",
    "gmat = gamma(A, B, C_mod, batch_size+2*overlap)"
   ]
  },
  {
   "cell_type": "code",
   "execution_count": 28,
   "id": "959c910f",
   "metadata": {},
   "outputs": [],
   "source": [
    "U_est = np.hstack((motor_estimates, propeller_estimates))"
   ]
  },
  {
   "cell_type": "code",
   "execution_count": 31,
   "id": "0b1e3a31",
   "metadata": {},
   "outputs": [],
   "source": [
    "tout, yout, xout = dlsim((A, B, C_mod, D_mod, dt), U_est, t=times[:-67])"
   ]
  },
  {
   "cell_type": "code",
   "execution_count": 36,
   "id": "acd58d4b",
   "metadata": {},
   "outputs": [
    {
     "data": {
      "text/plain": [
       "<matplotlib.legend.Legend at 0x7f80117d7e50>"
      ]
     },
     "execution_count": 36,
     "metadata": {},
     "output_type": "execute_result"
    },
    {
     "data": {
      "image/png": "[encoded data removed]",
      "text/plain": [
       "<Figure size 432x288 with 1 Axes>"
      ]
     },
     "metadata": {
      "needs_background": "light"
     },
     "output_type": "display_data"
    }
   ],
   "source": [
    "%matplotlib inline\n",
    "plt.title(\"Torque sensor 2\")\n",
    "plt.plot(times, measurements[:,-1], c='black', label=\"Measurement\")\n",
    "plt.plot(tout, yout[:,-1], '--', c='red', label=\"Estimate\")\n",
    "plt.legend()"
   ]
  },
  {
   "cell_type": "markdown",
   "id": "619e2bc5",
   "metadata": {},
   "source": [
    "# Below code is incomplete"
   ]
  },
  {
   "cell_type": "code",
   "execution_count": 25,
   "id": "c7243340",
   "metadata": {},
   "outputs": [
    {
     "name": "stdout",
     "output_type": "stream",
     "text": [
      "(2800, 1)\n"
     ]
    }
   ],
   "source": [
    "state_estimates = []\n",
    "all_inputs = []\n",
    "for i in range(n_batches):\n",
    "    inputs = np.vstack((motor_est_overlap[i], prop_est_overlap[i])).ravel(order='C')\n",
    "    inputs = inputs.reshape(len(inputs), 1)\n",
    "    all_inputs.append(inputs)\n",
    "    #state_estimates.append(omat @ estimates[i][:43] + gmat @ inputs)\n",
    "    state_estimates.append(omat @ np.zeros((43,1)) + gmat @ inputs)\n",
    "print(state_estimates[0].shape)"
   ]
  },
  {
   "cell_type": "code",
   "execution_count": 26,
   "id": "1019b01f",
   "metadata": {},
   "outputs": [],
   "source": [
    "speed1_ests, speed2_ests, torque1_ests, torque2_ests = [], [], [], []\n",
    "for i, v in enumerate(state_estimates):\n",
    "    torque2_est = v[3::4]\n",
    "    if i == 0:\n",
    "        torque2_ests = torque2_est[:-2*overlap]\n",
    "    else:\n",
    "        torque2_ests = np.concatenate(\n",
    "            (torque2_ests, torque2_est[overlap:-overlap])\n",
    "        ) "
   ]
  },
  {
   "cell_type": "code",
   "execution_count": 27,
   "id": "472011f1",
   "metadata": {
    "scrolled": true
   },
   "outputs": [
    {
     "data": {
      "text/plain": [
       "[<matplotlib.lines.Line2D at 0x7f8013302ca0>]"
      ]
     },
     "execution_count": 27,
     "metadata": {},
     "output_type": "execute_result"
    },
    {
     "data": {
      "application/vnd.jupyter.widget-view+json": {
       "model_id": "c95fcd3a640545ce9c6250803399a022",
       "version_major": 2,
       "version_minor": 0
      },
      "image/png": "[encoded data removed]",
      "text/html": [
       "\n",
       "            <div style=\"display: inline-block;\">\n",
       "                <div class=\"jupyter-widgets widget-label\" style=\"text-align: center;\">\n",
       "                    Figure\n",
       "                </div>\n",
       "                <img src='data:image/png;base64,iVBORw0KGgoAAAANSUhEUgAAAoAAAAHgCAYAAAA10dzkAAAAOXRFWHRTb2Z0d2FyZQBNYXRwbG90bGliIHZlcnNpb24zLjQuMiwgaHR0cHM6Ly9tYXRwbG90bGliLm9yZy8rg+JYAAAACXBIWXMAAA9hAAAPYQGoP6dpAABnkUlEQVR4nO3dd3gUdeIG8HeTkISEJBBKQiSh905oEUXEKCByFs5yNs52ngYVsZx4dkXQ39lFsXCgp9jubNgBEUR6FelVEEhokgbp+/sjZtndzMxOr+/neXyO2+zOfnd2duadb/X5/X4/iIiIiMgzoqwuABERERGZiwGQiIiIyGMYAImIiIg8hgGQiIiIyGMYAImIiIg8hgGQiIiIyGMYAImIiIg8hgGQiIiIyGMYAImIiIg8hgGQiIiIyGMYAImIiIg8hgGQiIiIyGMYAImIiIg8hgGQiIiIyGMYAImIiIg8hgGQiIiIyGMYAImIiIg8hgGQiIiIyGMYAImIiIg8hgGQiIiIyGMYAImIiIg8hgGQiIiIyGMYAImIiIg8hgGQiIiIyGMYAImIiIg8hgGQiIiIyGMYAImIiIg8hgGQiIiIyGMYAImIiIg8hgGQiIiIyGMYAImIiIg8hgGQiIiIyGMYAImIiIg8hgGQiIiIyGMYAImIiIg8hgGQiIiIyGMYAImIiIg8hgGQiIiIyGMYAImIiIg8hgGQiIiIyGMYAImIiIg8hgGQiIiIyGMYAImIiIg8hgGQiIiIyGMYAImIiIg8hgGQiIiIyGMYAImIiIg8hgGQiIiIyGMYAImIiIg8hgGQiIiIyGMYAImIiIg8hgGQiIiIyGMYAImIiIg8hgGQiIiIyGMYAImIiIg8hgGQiIiIyGNirC6Ak9XU1ODAgQNISkqCz+ezujhEREQkg9/vR3FxMTIyMhAV5c26MAZADQ4cOIDMzEyri0FEREQq7Nu3D61atbK6GJZgANQgKSkJQO0BlJycbHFpiIiISI6ioiJkZmYGruNexACoQV2zb3JyMgMgERGRw3i5+5YnGr6nTp0Kn8+HCRMmBB4rKytDXl4emjZtikaNGmHs2LEoKCiwrpBEREREJnF9AFy5ciVee+019OrVK+TxO++8E3PmzMFHH32EhQsX4sCBA7jkkkssKiURERGReVwdAEtKSnDVVVfhjTfeQJMmTQKPFxYWYsaMGXj22WcxfPhwZGdnY+bMmViyZAmWLVtmYYmJiIiIjOfqAJiXl4fRo0cjNzc35PHVq1ejsrIy5PEuXbogKysLS5cuFd1eeXk5ioqKQv4jIiIichrXDgJ5//33sWbNGqxcubLe3/Lz8xEbG4vGjRuHPJ6Wlob8/HzRbU6ZMgWPPvqo3kUlIiIiMpUrawD37duHO+64A++++y7i4+N12+6kSZNQWFgY+G/fvn26bZuIiIjILK4MgKtXr8ahQ4fQr18/xMTEICYmBgsXLsSLL76ImJgYpKWloaKiAsePHw95XUFBAdLT00W3GxcXF5jyhVO/EBERkVO5sgn4nHPOwYYNG0Ieu+6669ClSxf84x//QGZmJho0aID58+dj7NixAICtW7di7969yMnJsaLIRERERKZxZQBMSkpCjx49Qh5LTExE06ZNA4/fcMMNmDhxIlJTU5GcnIzbbrsNOTk5GDx4sBVFJiIiIjKNKwOgHM899xyioqIwduxYlJeXY8SIEXjllVesLhYRERGR4Xx+v99vdSGcqqioCCkpKSgsLGR/QCIiIofg9dulg0CIiIiISBwDIBF5wqGiMkz5ajN+PVpqdVGIiCzHAEhEnjB+9lq8tmgXxr4qvtqPl+w4VIwjJeVWF4OILOLZQSBE5C2rfj0GAAw9APYePYHcZxcBAPZMHW1xaYjICqwBJCJPiPL5rC6Cbazd97vVRSAiizEAEpEnMACe4uO+IPI8BkAi8gRmnlO4K4iIAZCIPIE1gKdwVxARAyAReUIUQ0+Aj3WARJ7HAEhEnsAawFO4K4iIAZCIPIGh5xTuCiJiACQiT4hiG3AAwzARMQASEXkOEyCR1zEAEhF5DGsAiYgBkIjIY5j/iIgBkMiFnp+3DX9+dQnKKqutLgoREdkQAyCRCz0/bztW/fo7Pl6z3+qikA1xKTgiYgAkcrHyKtYAUn2Mf0TEAEjkYjV+q0tAdsQKQCJiACRyMb+fCZDqYwAkIgZAIherYQAkIiIBDIBERB7GWmIib2IAJCLyGGY+ImIAJHIxH8d7UgQMg0TexABIRK63Zu/vOH6i0upi2EbwIBDmPyJvYgAkcjGO9qx1yStLrC4CEZGtMAASuRib9ygSDgIh8iYGQCIiD3t0ziYcP1FhdTGIyGQMgEQuNvOn3ThcXG51McjG/rPsVzz02Uari0FEJmMAJHKxA4VluGbGcquLQTYT3uq7Jb/ImoIQkWUYAIlcbkt+sdVFIJtjN0Ai72EAJCLyOOY/Iu9hACQi8rgoThdE5DkMgEREHhfFCSOJPIcBkIiIiMhjGACJiDyONYBE3sMASESec+D4SauLYCtRvBIQeQ5/9kTkOadP/d7qIhARWYoBkIhcTWyt2+oaTn5CRN7FAEhEriY2yXFFVY25BSEishEGQCJyNbF6vhoufxHAXUHkPQyARORqYkGPmYeIvIwBkIhcTTQAstorgLuCyHsYAInI1cTCDTMPEXkZAyARuZpoAGQCJCIPYwAkIlcTHezBABjAXUHkPQyARORq4oNAGHuIyLsYAInI1cRiHpuAT+GAGCLvYQAkIlfzi8z3zMhDRF7GAEhErsZpYIiI6mMAJCJX40TQRET1MQASkaMorbljH8DIuC+IvMe1AfDVV19Fr169kJycjOTkZOTk5ODrr78O/L2srAx5eXlo2rQpGjVqhLFjx6KgoMDCEhNRJG/+uAsDJs/HjkMlsl/DUcBERPW5NgC2atUKU6dOxerVq7Fq1SoMHz4cF154ITZu3AgAuPPOOzFnzhx89NFHWLhwIQ4cOIBLLrnE4lITCaupYVgBgCe+3IwjJeV4bu422a8Rrd3iLg1gGCbyHtcGwDFjxuD8889Hx44d0alTJ0yePBmNGjXCsmXLUFhYiBkzZuDZZ5/F8OHDkZ2djZkzZ2LJkiVYtmyZ1UUnQlFZZaCpc9WeY+jxyLeYvXyvxaWyj7LKatnPFasBvP39tSgpr9KrSEREjuLaABisuroa77//PkpLS5GTk4PVq1ejsrISubm5ged06dIFWVlZWLp0qYUlJQIWbz+CXo98h0c+34iq6hrkzV6DExXVuP+TDVYXzTaU1FeJ1QAu23UM//p2qy7lcZrwfbKtoATr9x23pCxEZI0YqwtgpA0bNiAnJwdlZWVo1KgRPvnkE3Tr1g3r1q1DbGwsGjduHPL8tLQ05Ofni26vvLwc5eXlgf9fVFRkVNHJw57+dgsA4K2lv+L7rYdQLTKPnRgvTG+i5DOKLgUH4MDxk3oUx1K/7C/EoeIyDO+Spmk7F077CXumjtapVERkd66uAezcuTPWrVuH5cuX45ZbbsG4ceOwadMm1dubMmUKUlJSAv9lZmbqWFqiWg2iT/0s9x07iWOl5RLPrs8D+Q9KukRK7Q837KoLXlqM62etwo5DxVYXhYgcxNUBMDY2Fh06dEB2djamTJmC3r1744UXXkB6ejoqKipw/PjxkOcXFBQgPT1ddHuTJk1CYWFh4L99+/YZ/AmIlIUdwB2hJhI9moDdZtfhUquLQEQO4uoAGK6mpgbl5eXIzs5GgwYNMH/+/MDftm7dir179yInJ0f09XFxcYFpZer+IyLz6dUE7KZwqNdA8Z2HS/Cnlxdj7iZOi0XkZq7tAzhp0iSMGjUKWVlZKC4uxuzZs/HDDz/g22+/RUpKCm644QZMnDgRqampSE5Oxm233YacnBwMHjzY6qITaeLWPoD/+O/Pql4nFQDnbS7AzsMlaN+8kdpi2YZe3/udH6zDz78V4qa3V7FPIJGLuTYAHjp0CNdeey0OHjyIlJQU9OrVC99++y3OPfdcAMBzzz2HqKgojB07FuXl5RgxYgReeeUVi0tNpJ0b49/eoyfwwapTXS5+3H4E6/YdR5/MxhFfG6lmbOTzi7B98vkaS2g9Rf0iJf52tKRCc1mIyP5cGwBnzJgh+ff4+HhMmzYN06ZNM6lEROYQqghasOUQzu7SwvzC6KRa4ENdJHPUqlQNIABUVrsjMiuZzFmqttDn06M0RGR3nuoDSOQFQkHgulkrLSiJfqI1pJJIAZBCMQASeQMDIJHNaL3+ujHvRGk4U9UonEfRC1x4iBCRQgyARGR70VGsAbRCpdJZyInIMRgAicj2ojS0SzL/1Se1T3xBddCXTl/q2lHlRF7HAEjkMm68Xmv5TKwBFCJvn6zbd9w1g2SIKBQDIJGN+P1+HDuhbRoOJaNBvYABUBseT0TuxABIZCO3vbdW85Jebsw7WkIIA2B9SnYJdx+ROzEAEtnIFz8fNGzbTu7Lpa0JWL9y2JlP8/hxYMeh4nqPMUATuRMDIJHLiF2unXwd11L0Gq8kQAXE9kjus4twsrI69LncfUSuxABI5DJiNX1OrsnRUnvplfynV1+942F9UJ183BCROAZAIpcRu1wLLafmFFqK7uSmb6NI7ZLwv3klQBN5DQMgkcuIXdy9moMYYOqTqi0Mr/FjgCZyJwZAIrdxYQDkPIDmCQ/M3H1E7sQASES2p6V/m5Obvo2iZJcwQBO5EwMgkcuIhSUnT+jLPoDCzPhsbEIncicGQCKXYR/AUDU1VpfAOGq/UyUvc3OAJvIyBkAim/jXt1t12Y7oPIC6bN0amuYBdHGA0bpsoBysASRyJwZAIhs4fqICLy/Yocu23Fhjw3kA69uSX4T+T8xT9Vol+9PJXQeISBwDIJFHODkYaim5kz+3lPdX7DPlfVy6+4g8jwGQyAaiorSv41rHlU3AWgaB6FcMW4kOO2aMCmpu3X9EXscASGQDel683TkIxNjC581eY+j27cbZxwIR6YEBkMgO9AyALqyz0TYNTOTnfPnzQfVvYBH96oylubUJncjrGACJbEDX0ObCNmBNfQCd/MElmLVPmP+I3IkBkMgGdG0CFn3cuVdyhhAiIn0xABLZgBlz1Tk5RJVWVKl+rZM/t5TwJuCZP+1Gtcw5b9y6T4hIPgZAIhvQ83rstov7kp1HcMkrS1S/3mW7Q9Savcfx4Sp5U8MoOUbcdjwRUS0GQCIb0LcJWGwtYGea8tUWU97HaYMdfAKjQDYdKDK/IETkSAyARDagZ/888WlgnBVw6oTPd6eU3M/t0N0TQigUClG0FrBjbx2ISAoDIJEdmDAIxKlidJwkW4qb1wzWgruFyJ0YAIlswIxrrFOv43qukiLFrWsGC1G2FjARuREDIJEN6LsSiEgfQIdeybXWAMr93G6oATRrcmgicj4GQCIbMKUPoEPrcqLkdmzTyGn5z6dhvyjqA+i0HUNEsjAAEtkAr7HGkRt8q730JSiZBsa4UhCRhRgAiWzAlHkAPXoll5vr3FDTpaVWkIi8hQGQyAb0DB9umwfQqU3Xdsa1gImIAZDIBsy4yHr1Qi67BtDYYjgY9wyRGzEAErmMV4OeGLm7w2n7TUtjr9M+KxHpjwGQyAb0XQpO7HFe9SV5aPcoGwVsWDGIyEIMgEQ2oO80MO6aB1Ar2UvBuSABGjEGxPl7hYiEMAAS2YA5NYDe5NXPLUXJ8ebVGwcit2MAJLIBXmOtx6BDRF7CAEhkA7pOAyO2EohXE45bRwELNPf6ZA4NUTQNjE32zJb8Itz41kpsOlBkdVGIXIEBkMgG9L3Esg9gMLkBxrMBOQK77JYrXl+GeZsPYeyrS6wuCpErMACSaXiBFadrH0DuZlXcsNvkDgJx4jFy/EQlAOBkZbXFJSFyBwZAMsUjn2/E4Cnz8XtphdVFsSk9VwKhYE4MO0bjNDDuUF3jx4vzt2PpzqNWF4UciAGQTDFryR4UFJXj7aW/Wl0UWzKjBnDcv1egvMp7tSdunQjarKRvlz6AVN9n6/bj2bnb8Jc3llldFHIgBkAyVbXjrrLmMGOv7DpSiv+t3m/COznTmJcW42hJudXF0ET2NID8HbrCr0dPWF0EcjAGQDJVdU2N1UWwJX3nARTfWEl5pX5v5BBy921+URk+WLXP2MI4ELOifRkx8Td5BwMgmYoXE2E1JkwDAwBVNd77ApQ0YZaWVxlYEvvw3lHgTnKn/SESwgBIpuKFR5hZo4BrPBgAlXDS7hEqqhE1Qnd/tB5FZd6rOXYC1gCSFgyAZCrWAArTdS1giW1Ve7AFXskxp2dNrBV8MhOBko+5Jb8YT329RWWJyEjMf6QFAyCZiiMKhZmVO9gHU5rD859sSufk3HuMgw3siDWApAUDIJnLIxdYK0le2x14xdAaypS8nE3kwpxeM+pWcmt8iYS4NgBOmTIFAwYMQFJSElq0aIGLLroIW7duDXlOWVkZ8vLy0LRpUzRq1Ahjx45FQUGBRSUmL+P11UAKdq5Xvgaln5PHJ5H7uDYALly4EHl5eVi2bBnmzp2LyspKnHfeeSgtLQ08584778ScOXPw0UcfYeHChThw4AAuueQSC0vtfryOCNO1D6DUpngll1Tt8BpAo+qDeNgQuU+M1QUwyjfffBPy/2fNmoUWLVpg9erVGDp0KAoLCzFjxgzMnj0bw4cPBwDMnDkTXbt2xbJlyzB48GAriu16XA9YmFnzAHqRW/eGlt+S0peyCdie2AJMWri2BjBcYWEhACA1NRUAsHr1alRWViI3NzfwnC5duiArKwtLly4V3EZ5eTmKiopC/iNleB0Rpudu4T4O5db9Yebncus+JPIyTwTAmpoaTJgwAUOGDEGPHj0AAPn5+YiNjUXjxo1DnpuWlob8/HzB7UyZMgUpKSmB/zIzM40uuuvwOiKMNaPizKzlcHyNiszyKz3aWANoT5wImrTwRADMy8vDL7/8gvfff1/TdiZNmoTCwsLAf/v2cdkopXgdEaZrDaCO27Laom2H8dOOo5q24aVwLTcQKN0nDIBE7uPaPoB1xo8fjy+++AKLFi1Cq1atAo+np6ejoqICx48fD6kFLCgoQHp6uuC24uLiEBcXZ3SRXY3904TpuxKIe/bxtf9eoXkb7tkb1uE+JHIf19YA+v1+jB8/Hp988gm+//57tG3bNuTv2dnZaNCgAebPnx94bOvWrdi7dy9ycnLMLq5nuCib6EzPlUDIC/g9k+O7LJClXFsDmJeXh9mzZ+Ozzz5DUlJSoF9fSkoKGjZsiJSUFNxwww2YOHEiUlNTkZycjNtuuw05OTkcAUymM2stYC/i/iC3Yv4jLVwbAF999VUAwLBhw0IenzlzJv76178CAJ577jlERUVh7NixKC8vx4gRI/DKK6+YXFJvcVPzpJ5++/2k1UVwLSVHnNM71cutEeLP0B1YA0hauDYAygka8fHxmDZtGqZNm2ZCiQgwptnqaEk5oqN8aJwQa8DWjTdn/QFM+GCdjlvk1V0tr/RR9crnJCJxrg2AZE961zyUVVYj+4l5AICdT56P6Cjn3RI/N2+brttj7U4oN9Y6+/1+HC4uN/H9THsrIjKJaweBkD3pXfMQfBGsrK7Rddtm0TuySu3hlxbswLHSCp3fkcw25est+Hz9gXqPyz2WGOjcweldFshaDIBkKl54jCe1j/1+4I7315pXGDLE64t2CT5uVJ8w/myJ3IcBkFzDqeHSp/NVO1KT54/bj+j6fnan5LjwSo2KE38qHPBQH/cJacEASKYy8sLDju0khMeFdnbIGXYoA5GbMACSqfSupeMdcH2MO94lfyk4ZdvlMUXkPgyAZDLjLiWObQLWeXtO3Q9G4f6oz4m1onp3lSDyOgZAMpWRF2PnXdKM4cSLu10wY4hgiiZyHQZAMpX+TcCnrtg1Dr1I6R46nLkbDMPdUZ8TfyrM5vWxVpS0YAAkUxlZO+XEixrg3HI7hZf2r5vzgJs/G5EVGADJPTx0oZfC3aCel8KiEtwt9sRMTFowAJKpjLzAsgm4lkN3g2HYJ9IdjJyjsayyGrsOlxi2faOwVpS0YAAkU+l9KQ4+//EyX4uBJ5SiiaAdfkGVvxQcj5Fgf56+BMOfWYhF2w5bXRQi0zAAkqkMHQXMixoA1gB6mswE68hjxMBw/sv+IgDAf1f/ZtybGMDh9ytkMQZAMpXetVN+kX87id5NW07dD0RSzAg7/O2QlzAAkrl0PsMG1/o5tQ8gGYs1w/Up3SNe2YU8VshLGADJVHqfXv1uqALUGS9i3uXmJkEz+mc67ZfDeQBJCwZACth4oBA3/2cVdhwybjSckeHEaSfvOkY2i5PCQSDGFcNWlK8FbP1RZeQo4ADrPyaRaWKsLgDZx4Uv/4SqGj82/FaIJZPOMeQ9jKwBdGrFl+7lduh+MAp3B8llh6Crlt/vZ40gKcIaQAqoqqk9+R0oLDPsPfQOO8EnbKf2AdQ//zlzP5B5lB4jptS+RSqDGRWADvvpBO8Tp5WdrMcASKYqLqs0bNs8/5EQJRfGNxfvxp4jpcYVxmByQ5ITm4DN4OQQ5eCik0UYAMlUC7bqO9FqaBOwM0+BepfbobvBMErDy8Wv/GRQSYxnh5o6o7j3k6kXMhE+f/ikEAMgme7qN5frdrIKGQTM8x8A7getfj9hXC21XThxGhgz+rc5uaazxrlFJ4swAJLpFu84ottFNjhI2uEipQbHgBjLqccFhTKjhsvJx4qTwytZgwGQLKHXgI3QaQB5AgTYFBSOe0OAA4+R0orqwL8rqmoMeQ/H7ZWgWlEHfqVkMQZAsoReJys3TAOj++oo+m6OHMSoVlK7/bYqqg0KgHb7oBGwXyRpwQBIltDvROv8aWDIYB46LuQGAqfvEacFNaNwGhjSggGQLKFb/AuuAdRpm2YzdHk8cp0X5m3XvA2nHyNGFd/J+4VdYEgpBkCyRLVOQ9ZCRwE78wSof7mduR/CGTFS3A2em7fN6iJYzqifupOPFYee/shCDIBkCd0GgbigD6AVNYAHjp/U+V31J+ceYeIH6yI+x6nHhRqyJ4J2dNSBYUnNaTeRwfM+OqvkZAcMgGQJ3QaBhPQB1GebTidnN5w+9XvDy6GVnJuEj9fuN6EkZLefluMDrAGcFl7JegyAZAndmoCDNuPUQSAOLbbhjLhJcDu5kyU7/ZhjE3CtkEEg1hWDHIoBkCzBJmDjuGU/GHGMUC3lK4HYayd+um4/Kg2YCsZmH1MRJ5edrMEASJbQbyJo508Do3cNlZdqvMibHp2zCTN/2q37dh39y3F04ckKDIBkCSMmgt5WUKzPRh3OoTm4HiNWi3E63UZGK9yMGevwKvXD1sO6b9NuNZ2RBH8rTr0BJuswAJIljDhVTfxwvQFbNZ7e5223XAYWbTuiy3bcdF2M1HfWuJVA7LcTbZhJLWW/b4jsjgGQLMG71VN0D4Au2LcHjp/E399ZbXUxbKfagK4TTuUzYCE0p/10QlcCcVjhyXIMgGQJI5qAyT2OlJTrti03hJ06PN5PMaIG0MnHinNLTlZhACRLGDEIhNwjOkrHq7uLDhG9pk9y0z7Rk5MDtpPLTtZgACRLGFUD+H/fbtFnwybSu+nGDRcCXQOgi0S6cZLbLOqCQ8SWA1PMFroWuhu+VTITAyBZwqiQMm3BTmM27CBuuBDoVtMFd4SdOjURpr6TvRScwh+gHW4qhndpEfL/jYh/dvicqjm57GQJBkCyhF4hhee8+uRexOzcaVzXAGjjzxnJgi2H8PqinYHPoNsgEAfukigTavycdvPkF/k3kRwxVheAvEm3rkxOvJKFseoT1PiBaJu2olVxYWcAwHWzVgIAemSk4PQOzTw+N2JoqY3oJeC00wlXQiItWANIlnBDcLMrubvWzlPx1OhaA6jbpizz67ETACLvF7mZyA37xIh+ok7eLU6rvSTrMQCSJTiY8RSrJoLWs5lVb6wBDFV3jOj3u3He/g3/nRjSJOyw3RL8Pboh1JO5GADJIjxbGUVu7aqdLxgcBCIsUh9A+YNAlL2vHQOjEflvxZ5j+Mvry2x9cyTGeSUmqzEAkiX06wOoz3bcRHYNoI13nr6DQHTblGXqApieTeNOE/7JjRoUsnTXUaz/7bgh29Zb8LHt5WOD1GEAJEHPzt1m6F2wfhdlZ5/0yquq9d+oC/oAOq0GprS8ypT30W0QiAOngQlnZJmc0kfZGaUku2IAJEEvzt+Oz9btN2z7dg4fZvl4zW/o/MA3yC8qs+T97VxjoGcfQKObL6d8vRndH/4Wi7cfMfR9gMjBWO5E0Db+6kWZGcqcOMk0T6mkFAMgifr16AnDth3pZDV94U5M+nhDxJO+k096Ez9cb8h25QYeO4cAJzUBv7ZwFwDgiS83GfYeVg8CsUMeMvNwjbbDB5Yj6ODW+0Znx6ES3Pruamw+WKTrdsk+GABJlJF33JG2PfXrLXhvxV4s3XlUejt6Fsol5H5tdm5mVVK2bQXFBpZEPjP2Z8Sl4IwaBGLDQ8WOA1OspPd3NO7fK/DVhnxc8soSfTdMtsEASKL0W3Wg/nbkbrnYpL5VbiJ339q5n1NVpDXPgpz33CJs+K3QwNLIY8agGr1Cpn2/eXFmHq52HiAVzMiVQPYfPwkAOFlpQD9lsgUGQApo1aRhyP83skJDbh/ASE9zyHnaVLJrAG2885T2Ef1+yyHRv5kWdE14G/0GgeiyGdeyc//YYKErgTijzGQfrg2AixYtwpgxY5CRkQGfz4dPP/005O9+vx8PPfQQWrZsiYYNGyI3Nxfbt2+3prA20TQxNuT/6zXRvtB5Sf65KlIfQJ701LLzNa6qWlnh7BBmjSxB3bYVVIzK3KIRzzZGeBmM/Mrt3D1CjPNKTFZzbQAsLS1F7969MW3aNMG/P/3003jxxRcxffp0LF++HImJiRgxYgTKyqwZkWkLYR2I9JpnS+jEJLcmw4HnYcvJHgRi452r9AIs9VnM+pSG3oz8se3IE0HL+83aIC/bmo1/GiGCjzl+p6RUjNUFMMqoUaMwatQowb/5/X48//zzeOCBB3DhhRcCAN5++22kpaXh008/xRVXXGFmUW0j/NJh5FQI8vup6bMdL3HDWsBKa/SkPotZH9OM0GBVE7AdatrNLIMdPq9y+pY5yuecIEzquLYGUMru3buRn5+P3NzcwGMpKSkYNGgQli5dKvq68vJyFBUVhfznJuF5T78mYIFBIHL7ADLiKSZ3j6k9uf/jvz/j/k82qHuxTEprAO3RBGzCKOCI8wDK3I4N9pedOSX4hAwC0bnMRq20QvbhyQCYn58PAEhLSwt5PC0tLfA3IVOmTEFKSkrgv8zMTEPLaTUjTwDya6n02Y4d6RWw65G5U9T0czpcXI4PVu3D7OV7UVRWqfj1cintAyiVvcy6idCvf57Ee0T4KLIHVyl8XydOjKyFUwJyyCAQnbftsa/ckzwZANWaNGkSCgsLA//t27fP6iLpql4TsE7bFe4DKPH8kH4tEQaBOLiGMNqgBGjkNDDBrzGyD6HSC7DUs9Vcy+3WBFhXGt2mgXFgE3C4HYdLcKLCmGmi7FCjrJTeRZa7qgw5lycDYHp6OgCgoKAg5PGCgoLA34TExcUhOTk55D83Cb/LjzKsikr6ghJ8jXPgeVg2q5tY1Fzkgo8RI5vJlC4Fp3dAsWtojBSM5RbBiTdO4Z9t1+FSjH5xsUHv5Yz9E1xK3Wstmf9cz5MBsG3btkhPT8f8+fMDjxUVFWH58uXIycmxsGTWCs97euUTofOS7BrASBcqZ5ynBRkVAGU3r6tosgwuspEXSaU1XVJFUVNKNRdTOwwCkV1u/VrYLbX7SKkh2zWjOV9veq+Iw/znfq4NgCUlJVi3bh3WrVsHoHbgx7p167B37174fD5MmDABTzzxBD7//HNs2LAB1157LTIyMnDRRRdZWm4rhVf56zcNjNDlQ58aQKE//2fpHltPcVInxqgmYNlT7GjbR0Y2kyn9/vRuAlZz+BhZq1b3GSIFY7nltv+voz4zay2d0wfwVDnveH8d1u87rtu22QfQ/Vw7DcyqVatw9tlnB/7/xIkTAQDjxo3DrFmzcO+996K0tBR/+9vfcPz4cZxxxhn45ptvEB8fb1WRbcfI379kDWDQiV7NhfjBzzYCPh+uGdxaRcnMY1QTu/xRwGpquU69xsjJcpWGS72v12r2jd5lEB49L/0a+SvsOCPgWMUB94+CvtxwEL0zG+uyLfYBdD/XBsBhw4ZJnuR8Ph8ee+wxPPbYYyaWyll0qwEU+Bokm+yC/hapBGLbWb3nmO0DoFFkLwWn4ioXvG3FI3UVUF4DKFkHqPj9VfUBVP4SxWWIWAMoc78pLqsNApGZmdUpNYDhKqr0a7tmDaD7ubYJmLQz8gQgdYIN/luk07DYhd8Jd/DFBk6jIoeafRT83Rh5kdSzBlBNMRdtP6z4NUbWQvr9fvx6tBQ3vr0qwmvkblt9WazCAFhfeDErq3UMgLptieyKAZACwsPUE19uxkvzjVkf+YX523G4uFy4HCF9ANWdiJ1wAs9o3NCQ7RrbBCz8b70pHQWst5v/s1rxa3QfiRz2/yd9HHnybaOagO3/a9KXE24ghegaAFkF6HoMgCTpmbnbNG9D6Fqz41AJbv6PcG2GohpAkSc4IQB2aNFI8Wumfr0l8tyIcgeBqLjKBb/GyD6Aeg7iMetQMLIJ2A/gt99PyniNMU3ASn5P1TV+/LK/UPfjw8xBIJH248Jth/HWkj3mFEZC+D6p1LFbBuOf+zEAkuHETtxr9h4Xeb52TpjGQc0FcvrCnfj5t0J93l/jQAdDm4AVfn9SF2zTVgLRvQYw/OIeeafIPqQUFvXA8TLZz336my244KXFePKrzcrexEYifZfj/r0CD3++Eav2HDOpRMLCi1mhYw0gE6D7MQCS7fgVnMPETtN2qQGUDCYqi1haLr36geyp4GzcB9DqlUDU0H8UcOj/L5fRwV9uqFcaiqtr/Dh+okLWc19btAsAMGPxbkXvEYmZP2m5OWrf7yeMLYhCVewDSAowALrEf1f/hvs/2aCp2cWoE6zS7daEt31JbltsEIj1AXDZrqPo+/hcfL7+gODfjSqj3Iu7mmPFtGlgdJwI2ixGrkbi9wOVMgKg/D6Aysuz/VCJ8hc5lNz9aPVqPuGl1LUCkH0AXY8B0CXu/mg9Zi/fizkiYUMOo66hSrfrD/m3ulLpdS0uKa/C/327Bb/sV97sesOslTh+ohK3v7c28Fh1jR//WboHmw8WqQ6A5Tqd5R+ds1FxXzuzlunTc5Jps7KhHkWuqKrBrsO1QSv42M8vKpO1T4ys/TVy2h85zHx36Zr7U3+zOgCGq9ax74vNPhoZwLXzAHqV2MhaOewyOWzo9BfSzxX7s16f5J1lv2Lagp2YtmAn9kwdrei1wRfs4ycqsK2gBJM+/hk7D9cuXzWwTaqqMkWqCZL7Ne48XIpF2w9jWOcWst/br3MN4MmKajSMja73uJ7zANp9EEhxWSUe/mwjxvTOwKwle7Bw22H8/az26Bg0SOj1P5pVI3l90S6kJsbi72e1j1BW5aU1ssbXCNsLijFryR7cNrwj0lOUTfAv9VGN3A1f/nwQq3/9HQ+M7iprovjwY1vP0fPMf+7HAOgyWjq8G1YDqGFOt4jnM5G/6xVml+06qvq1wTPpD3xyfr1JWtXWAEbaJ0q2uvtIKYZ1VvfeWmvpvt9SgOtn1Y4ET2nYAAPaNMErV2UjNiZK8YVMei1gew8CmbZgJz5eux8fr90feGz6wp2qyzH16y2RA6CKohq59J8sCt/+0teW4viJSmw6WIRPbh2i6LWTPt6Ads0SMahd03p/M7IfbN7sNQCAPlmN8afeGRGfH35s61keNgG7H5uAXUbLDaDYueNoifpaRUBFE7AOJ9j8onKUVVarem0wLU08wS8VmqFf7WeLPA2M/G0t2XkUJyvk76fwyYm1uPujnwP/LjxZiXmbD+HTP0KQnmsBm0Xt7jhYGHl6F72pOU/o2byoJ7Fj5fiJ2onW14rMNhDJ5a8vE34/EwZC5as8JvSspWX8cz8GQJfRcj4Se2n2E/NU9YELbFfxIJDg10YIOyKl3nywCH9/R/lkvuHULtf7n6V7cCJCsBKbBieSyJWi8nf43E0FuPiVn2Q/P3QQiOyXAQA2HSjCmU9/j8/W7Ud1jR/HSuuPKi36Y3UUpbVNW/OLxY8V05qA1b2RNf3IlJdVTh/A/ceNC7Ni+/eF+dsll0DTe8nt4Bws5zdw/ESF4LEuRe58fuGHvK4BkAnQ9RgAXUbTHanEa2eZOOlp8Ik+0glN6uP+sPUwrn5zOZbsPKK6LGqbQR78bKPq94xE71qHLfnF+HZjvqznBr+10ovNnR+sw75jJ3HH++tw1ZvStSvr9x1XtO3Vv/6OR+dsEvybWbWDTuoip24KoMjPsSIzvDB/Oz5YuVf073oHbCU1gNU1fvR5bC76PT4X5VXya9rlTPkjpKCoPHATpR0ToNsxAFKA1KnspJbmVA01gFo7NS/ecQRXvrFc9evVnAL3HjV2brCIfQBV7LK7P1wv871PbfwvbyzDniOlst8j+AK4bJfwBLpVNX7sO3YCe1TsQ7GbFNMGNzkpAKp4jZwbDyNrjaTefr3E5Oh6lykkAEb4MQafN4+UyK8FVHvM7j12Ar0e+U7Va8MF7zc9utOQ/TAAuoyWi53US6sFmiS2FRTjvv/9HLHZR2nTWPBneOLLzXh3+a8Sz1W0acWU1h4cLSnH0P9boOg1zZPiFD1fz2XS6pTJrJ0If+s3F8sbnQrI35dr9v4ue5t2YuZSZVqpOU/IqfE1cqSw1JalAoregxmUrIftVxAWQ18n93nCT5RqEpcreK8N/9cPumyT7IUB0GW09QEUf7FQTdyfXl6M91fuw10frlP9npXVNXh+3rZAk99/V/+GWT/tCXnOPz/5RfX2tYpS+AvZpaBGrM5zl/VR9PzIzeLKDwK5fY7Ca4HmbTok+z3kXocLT+rVhFXLzk3Ay3cdxSdBo3/1UlJeha82HMSkj3/Gr0frH5NG1QBaNU5EMgDq/F5KBqkF7w8lrRlau3lEWi1IjuDf64HCMk0zIpA9cRoYlzFiFDAgPAKwrLL2sa35xaq3e//HG/DR6t/w/LzteOGKPrj7I3lNkYFtK3q2ckprD9R0OFcaMrX0i9QqPFzK7Rpw/ERFYP5D6e0D+3/XdyCBeUvBCb9RWWU1lu46isFtm9ab81BspKlW57/wI/Yeq21G/2nHUSy69+ywsirfpqwaQIUbrq7xY9G2w+id2RipibGSz5W6sak7FwnRvwn41L8j3WxVBZ03ldSOyn2m2NvrMR9geI39nqOlGIrmmrdL9sEA6DLPzduGds0TcUGvlnhu3nZ0a5mEkT1aynqt1Lks/IQSXEuTECt9GEmdij5a/Vvg33e8v05yO4LbVnDBqaiqwWNfbMRZnVrg3G5psl4j59pRXlWN1Xt+R7/WTbAlQhgWorSZOdJF1si8E35dEQuAfr8fvx49gdZNE+Dz+fDI5/IHxRwsLNNSxPpl0XVr4sL3TWl5FeasP4Aftx/BlxsO4k+9M/DiX/qaUpa68Bf+7zrqagDlPOfUk+R0bZi9/Fc8+NlGZKUm1AupSoTXAOq9WseE99ei8GQlTmvSEA2iT92xRQp1wX+vrK7BvmMnsK2gGMO7tEB5VQ1+3H4Ep7dvisS40HOo1hrAKh2qYsP3GpuA3YcB0IVue28tUhNj8eL87QAgewULqVNO+InusulLA/9OEFjJwW625BfhhlmrsP/4SbyzbK+sfTLlq8344ueDEZ/39DdbNS18rzgAWjjcNLwfU/hFobisEp+uO4BNB4rw3oq9mDSqC1o3TcCn6+QvUViiQ/OVHbzyww5MW3BqQufP1x8wLQBGoqabgJw+bMHPadcsMeLzv/lj9LlQSA0n9e6rfv0d763Yi78MzAIAvDh/R+BvkX5fUvuipsaPhdsPix6/kWragm/WKqpqcPOHq7HpYBEu6Xsa9hwtxZq9x3FutzS8elU/lAX/luT2ARR53Ihl+574cjMqqmtw67AOum+brMEA6AJCJ7DfT1SE/F1OU6bUiXBbQQkWbDmEs7vULhu2teBUTVekAGjkKEy5W/7zq0sVBYudh0vwmszlt7SEP0B5s7GVTcBCbx18fP3r2614a+mpQTtTvt6i+D30DoBmLnH42br9uLDPaSgqqwwJf1b74ucDuKDXqZUljFoJJPg5cm5U9JyiZdLHG9AprRE2HyzGc/O2BR6P9A5SH+uDVfsw6eMNon+PFACDg9jz87Zh08EiAAhZ9WXupgLc+eH6kHXc5dYAGtkELHTNePqbrQyALsJBIC4gdKIdP3tt4N9q55QKdqSkHNfNWolVewSm74h0h6353SW2LXPj4aHi9wgTsxox0laMnDU/g0UMgAbucaEwNWDyvMDUN3JqTCPR0oF98x8X2GBm1pfe8f46rNh9DFe+YUzfPrWCzweAumNETigJPjaFAuOOQ8W46s1lWP7HgAIlfWzl/NaX7TqGBz4NHTQW6S2kNjt7ufj8gkBt/+cjEislBe+zBVsPiz4vOPwB2m/iSsurUKV0pnaZ6s6Nx09UoPBkJSqra/Dhqn347Xdjp78i/TEAukCkrCL3girnBP/ygh1oc9+XoQ+aUMPyr2+36jKyrU7EO3eBv9ddtL7fUoBb312NGYt3198XKiitBYn0Pan9Orbk1w9P9d+7/mNHSirw7NytAIDYGG2nlP/7dis2HohcDjGjXvix/oMmt5jP31yAX/ZH/gzj/1j31QqqJoKWcVMUso530PPX7P0dOVPmI/fZRfhpx9HA4Be9V+n4TcUAIqka4ugIBfxk7X6c88xC0b+rrYlrFC+vcU4syF/w0mLc+u4awRsiucQGp+05Woo9R0rR9/G56P3od3j1h524978/Y9TzAr89sjUGQBeIFAhenL9d1uTEci4KPwjcxa7/rVDyTlmPfPjygh2YvlCoSU3dxp8PaiISIlRrevnryzD16y24ftYqfLUhH49/IbzyhFJKL4KRLipqd/fI53+MeJEXO9Yqa/zYebjEtBG3dlYhs+ZFj9pStYxaCSS4BjD4OJ3+w856g3uem7tN8HwiRk6R31tR/zxUVFaFiRJTVUltd7eMaZ2kpi1S219X6dygQr7bVIBRL/yIuZsKsGL3McUrhPhEGs+HP7MQw/71Q+AYevuPLh/FLum76yUMgC4Q6STz1tJfcZGM9V61XLvv/2SDaDn0apIUqhlSGzjejdC0Uy4yulU4hGpjp0EgkboLiAVAv9+Pc55ZiPwifUfwqnHbe2tRGRTCzJ6geWbYPJbB/rPsVxSerDSseU5KlcZ9onQamLrn3/Xheny3qaDec1/4Y5CaGT5es1+0pk/qHCJ3TkqxfaP2t1pV7ZfVd1XO+e+mt1fhsteWKl4hRO5pSaoJnOyNAdAF5DTdylmMXGtn+dIKY+8AV+05hsIT+k0SLHVy1qPfpFyKm4CNWAvuD5Hm9RPb9LaCEtXvKUbt+IA56w/gy6DatRMV9lnG6sFPf8E9H6039fiqE1wzqa4GUNko4JOV1Sg8UYn/rflN4hUKaDw/Sc0VqNUJkXOf2gD48Ocb8cx30q0UgPKbdiV9m7kSsPsxALqAXrPva60nEZ2NX6cKmKKyKox8YVHIY2pW3qgjFXbmba5fY2EUxRNBGzgPYKQF68VCwI5D+gfAlIYNVL/2wc9+wSOfb0Sb+75U1Mxohu82FSD7ibmmv+/JoCCs5hh55YedEbuSBOeLX4+eQM7U+SreyRhiN6h61BB/u7FA8AZaS239ywt2RH6SQkpuPPReQo/shwHQBbROGhqgcTNlFcInFz0b4A4WluG7jfkoKCrDZ+v24/++3ap6WydFaoY+WftboF+LGaJ1rgHUcjhEmj/MrD5+0VE+xGgYIVBcVoVZS/boVyCdGVkbJSb7iXmBlgA1tf3HSitw23vSA1fCA4+eta9aD71nvtuGw8X1myv1OKbv/mg9PhOYK7DS6KZ+hYWXWjIvHOOf+zEAusCSnfqs0ag1SI6dvgTr/ljTV8/thvvbf1Zj0JPzZa8cIjZP4bzNBYJ36Hd+oGw5Oq2U3mlHrgFUv78jDWDQ+7sU0zktyZT3EdOxRSNL3z+S3q1SVL3u83W188+p/RrX/1Yo+Xctx4ff78cz323F1xuEB8doPfTeW7EXee+eCrCV1TV4f8VeWZNQy/Haol31AtbiHUd02bZe5C7dCEBxAhzQpomyF5DlOBG0g+0/fhIPf7ZRc3NlTY0fPp/2O+zDxeW4/LWlePXqfshp1wyLdxzBTW+v0rhV7T7NG4ITFdW4aFroQJhJH29AaXkVbjyzXeCxoxZ0aI401US4SJUKWi6UYjUWfr8ft7yzBt9vPaR+4wrERPtgZR1EfAObr26jsnluxk+7cXG/VoYNi9ESANtO+irw7+CVenYcKkbjhNiQye3VWrHnGJ78ajNuHtoOw59ZKHuQhxybDxahy4PfIDYmCsM6NRcc+KI3pXvbyBpAPSf1JnMwADrYff/7GT9ul3+HOealxejaMgkdWyThpqG1oae8qhrnv/Ajdh6O3JcuKzUh4t1yeVUNrp9lfegL1rhhA3QSqVF6a+meQAAsq6xG9hPzzCwaADUrgdSGtJoav+JJpCMRawI+UlIRWLbLDEpDsZl2HCrBpoNFGNOrpSVNuQAQE+XD1YOz8M4y6dHs4fYdO4nejyobDaqEXiPU/X4/vt9yCPuPn8RDn8lfR1qO1xftwusyV/lRo6KqxpTwByi/2ZO7ys7Ha36TdU0gZ2MAdJC6C35FVQ0ufW0p1gs0t0rZsL8QG/bXNuHceGZbTP5yM95UsIxZu+aJujWXmCkuprY2Z/rV2fj7O6tD/rbv2EnsOFSMT9cewIer9llRPMV3zm/8uBtv/LgbjeJi8Pq12Ti9fbOQv2u5BF/yyhJ8dccZ6NAiNDDP/En+caKHaJ/P1CXcwm3YXxhY+tDv9+OGt1ahpKwKU8f2RO6ztRP/3v7e2ghbMU60z4cnLuqpOADqYdfhErRrLtxErtdXFlwbSPUVnqjEPf8Vnl5H8nUiNZ7fbszH399ZjQt6ZeDeEZ0x8UPl3WA4BajzMADa1E87juDl73egtKIKMVE+rNl7XNftqznBDmiTipioKFNHyOqhbnWKkT3SBf+e++wiwcfNorYWr6S8CjfMWoXNj48MeVzLRbiiuga5zy7C13ecidnL96JhbDRG9UjHKz+Yu65t66aJ2HlY/5HFSlw3ayW2Tx6F+ZsP4fsttU3fwyVWfYhkbL9Wuk2JonTkuJ6GP7MQH996Ovplhfb5+vVoKa6btdKiUgGN4mJ0X0faaou3H0GfrMao8fuxbOdRDO3UHD4f0PsxdbW4x/+YRququgZHSyvw39W/ISE2Go/OqZ3Ufs76A/WWpZONCdBxGABt6qXvt2PZLoF1dy2UGBuNN8f1x4rdx3DZa0utLo5s8Q2MuVr+8/yumL+lQPP3pHQUcLDgaVtW7D6Gfy/ejTgdPm/wkmpGNpcJaRQXg4cu6GaLG40Zi3dj6tdbdNlW15b6DWy5sM9pum1LjUteWYKZ1w3Amz/uwtGSCvTNaoz3VlhTg17n3G5pWL7rKA4UWj8ZuRKfjx+C3UdKBQe1XT1jOc7s2AyV1TW6XA++21SArNQEXDgt8sIASpk94Tppx1HANmW38AecmuNrYNtUJMUZc+/w+fghum9T7/mszuuWhndvHISbhrbDpdmZmrenpbtbjb+239XjX2zCZa8txTcb8wWnoxBz+/AO6t/cIM9d3gcpCQ0UTVobyfVD2qp6nV7hD9CvX+O7Nw7C5f21H3daXTdzJX7acRRb8osVh7+x/VppXjc6XJOEWCy892xcM7i1bttsnKB+Lkq5ep6Wggv7nIahnZoL/v3H7Ud0ux7MWX/AkPAHmDdFFOmHAZBkaRDtw7DOp05Qud3SdH+PTmmN0KtVY1nP3fzYSGyfPApbnxgpeuI0yrSr+mFIh9p+dwPbpmrentaBHO3v/wozFPTlDDa4XVNN722Euvn/zu/ZUtN2BrZJxc4nz8euJ89HaqLxF/JIGuo0snhIh2a6D/4x26Tzu+DdGwfpus34BlFoEB2FtGTt6+jWuXyA8UG77gb1tauzcZbJ5zKtsls3wfSrswGwBdiJGABtSM+aD738eO/wkI7fVQrL+MVtZwg+3iezMeZNHIoLerXEK1dly95ew9hoNIiOQlxMNMb0Eg8KF0j8Tcpd53bCjWcI1xoFT1CcmZqAT/OG4OUr+6p6H8Da6RP0CBIpDRvoOgdYXU3Zw3/qhpuHtovw7PrO7ZaGmdcNwAc3D0Z0lM8WYSk9OR4NReajtJNEk8rYJCFW922mJtZu88pBymsA37i2f73H+rdughvPCD3+pl3ZD00TI5d9z9TReOeGyAE3PTk+8O+GsdHoYPP5J/tkNgZQOyBwYJtUvHlt/8CMRFYO2iJ1GABtqLjMfh2Z01PiQ/6/kvm+tjw+Eknxwk3GUT6gQ4skvHxlP9knvzM6NIv8JACPXdgdz1zWW3Y566y4/xzcdk5H0Sa78CblPpmN0T1D3cS8gLY+gFrp0SwZ3yAKH96cg//dcnrgsT6ZjVU3U9YF7ITYGOQpbKLunJaEN67tj7M7twj5nsS6AVw5KEtVGetkpjas99hLf+mLp//cK/D/37y2Pz6/bQgSYu3f5To9JR6zb9K3Zk5IdJRP11ke2zZLxJ+zWwGoDYL3jOgs+7VvXz8QfbMa13v8vlFd0DwpDrf9cQw+fmF3jO7VUva574yOzbDzyfNF9+ctw9pjTtiNsZ2nPwKAW4e1x9JJw/H9XcPw4d9z0CQoDDP+OY/9z0gedKJSOgA++qfuGNKhGVo1aYi7PlofsvB9sHbNEiXXyt095XwcP1GJ/67+DZ+t349bzuqAvNnSSz3ViVRL+ZeBmWjbLBE3ndkOPp8PYqd7pf3z1j54br01YsW20TQxLjAFTCRXDsrC9oJiPP3n3mjxx125UM3RJ7eeXu8xAJqWLdNj0IZaetQ+xjeIhs/nQ9/MxvjLwEzEN4jGw2O6Y/muo/hAxdQ6wRfB5PgG+O7OoTjvucgjtZsmxuLNcfVrcqQ8eXFPzF6ubiqV2TcNwqSPN4Q8duMZbTGmdwaA2rLHN4jCsM4tAAAJsdaOapbD5/PVm1ZIb3JvDN67aTA+WfsbftlfhNxuaeh5WoroxPIL7h4W8v/lHNfJ8TF4/KIeGNqpOY4ITABfdxyOH94B53VLR4/TkgGErncsJPimIDrKhwbRp37fwSOVc7u2QPOk0OZqIwJgbtc0JMfH4OO1+2U9f+olPTF3UwHmb6k/6XtqYixapoTe9NSVmBWAzsMAaEOR1s/8c3YrJP4xCGPqJT0FA2DzpDjcN6oL/vaf1fX+BgCjeqTD5/OhSWIsbhraLjAxdN5seWWUagJ+6IJuuF6k+TScktPd6e2bhtxxRtqGknPpkxf3lPX6vlnCTZ1amhnjdO4Mr4QeF5y68kdF+TDlklM1X2o7+deuAnJKp7QkPDC6K574crPk6yZf3AOZqQmq3lOpD2/OwcC2qfWOveDcET7tkL3rdrT716W9cfdHp+aPG9UjHWd1ao6NB4rwn2W1a2svnTS8XoAQ8reh7ZDTvily2of2UU2MjUapjPWFpWrpzunSAjP+OiDkMaHvJuaPuXbiYqLRM2jpPammzuZJcfhi/JkhjwX/xt67aTDGvLw4sN3676nvUXL14Cw8cVFPHCkplxUAbx3WHn/OboV5m4VX/BEaFFN3A8785zwMgDZ0UuQE995Ng9GvdeOQE0dSvHDn9mifT7Rm7Nqc1rjrPPlNJELEagBn3zQIg9rWH1ggdkOupAZKTp8aPSlpmlXy3A/+NhgTP1yP/cdPAqg9gT76p+54+HN9VzyIpGvLZEXlvm14B7z0/Y56j4vVsgbXfIi5//wu8MGHt5ftwb5jp/ZHuBvPbIc56w9IrkUrdSyprejs1SoFVw7MwraCEmzYfxzZrVNx36guqrYVfJOw8dERmLP+AHK7paG/BavP6O2uczvhz9mtMPXrLYHatFf/GBxwoqIKC7YeQnyDaLRIOtWVROw7uf2cjrh1WHtN5RELac0axeGRP3Wv97jQMSd2cySW//q3bhIYwR6sQdCkjc2STt3AtkiqP1hFz/7A304YivbNEwHIOz8Fh3OxHJrSUOIGnFWAjsMAaEPhC3aP7tkSacnx9e6GpUy5pKdoLd1NZ7ar14yqlNgdttLmIyUT2orVsomd2+Sejv56ehtZ7/ePkeIXfiXn7RbJ8fUuLuNOb4ML+2TgyjeWY9PBonrb1vvc2rZZIt6+fiAOF0uvfRwXE4X0lHi8fk1/lFZUiQRA4S9RTs3m34bWXugvG5AZWKJMdFdG2Ml6D6aZfHEPXDkwS7KbQvjfpNZpzm7dBDntmqJbRjIS42JwxUBt/Q/VOrtzcyzYeli37XVrmYxbz67tJydUg5UQG4P5d50FH3yyapyvGpQluhaz3J+B2PewbNJwxAjcmAjWAEYLl1Xs3PffW4S7hwQfInEx0Zg3cShOVtQEupqEvKfI/umU1gjDu6ThnWW/YvLFPQAAG34rlFzJqU2zhMBnDT6X3X1eJ/Rq1RhNG8WioqoGXVsmIy4mKqzPrPA2hWsAa/+X8c95GABtKLgGsEVSHF64oo/gSUvM29cPxNBOzTFPZJmgRjrM4ReeLc/tloaHLuimeDtyp32RIhoAZZyRXr8mW3QameC75lE90vH3s8RHpDZJiI3YPDVjXH/8fqISbZslhkzgXKdxQiz+dWlvnP/iqUmYc7um4c1x/dHmvi8jfxjIbyK7ZnBrNE+Kw7HSCtHnrHogF80anaqlWCey9OB4kYEaQk3A94zojDnrD+C0xg0D3Q4AfZqi9djGkxf3xP2f1Pbru0rGaNLwd5RqemwQHYX3/jZYcnvJ8TG4NqcNsls30byqxj0jOuP/vt1a7/H+bVJ1DYBf3n5GIDyIfQfCtcTCz42X2W9XSrXA99CtZbLoeVToHCL2WYS2nSAxejr46THRvnrLLIa8p0jofHhMbb/ve0d0DoS5vUell+UMrnkMngz/r0PaRrwGCN1MvXJVP8Fa/VOjgCU3STbEAGhD5VW1t69dWybj07zTFYU/AGjdVLwf1FvXDxTsR6dU+IVuVI90xf2v/tQ7AxNyO2oui9gAEzkz05/XXXh5OCD0rvm24R0la4JiY6Kw/J+5mPTxhsBSShf3PQ3NGsXijR93496RnXFO11NzJ1ZWyztbys00Oe2a4q3rByImyod290de5q/uowgdWq2bJuClv/QNCX+AcDPSp3lDAlNDhBMKgHlnd0De2fUDY3DNh+qaPImXyb04VddIVOHJer3yq+A9Izpj5k+7cUm/Vrh6UGtkSfx+lcg7uwOuGpSF5buP4eXvd6B5UhwuzW6FMoGbD7XuP79LyO9CbLS/EvGx2vvEhjcB331eJ9x4prIphcRq44S+4sskBrYEB8ZI4VboN9YoLiYwSjn4nBTpZxL83LiYaHyaNwTRPp+sCoDw32BWaoLovJx151+uBOI8DIA2VFc75Pf7ZY9irfP85X3Qumltv4/wE8RZnZrrNtFo+AU1Uod/oZPVw2O6GTo1RqSL/r0jpftBBp8Em8iYSLhRXAyev7wPJuR2ROvU2uYXv9+Pqwa1rhfKxWqKwk+icrLQuJzW+OfoboiNiZI9F1fdZoXC1nd3DhU87oSa67MkQr+cPoB1gmtbrBwVXXfzpZZQ7VAkYqFYD40TYjGiezpGBN3ofCoxGEBO9E6Kj8HSSecgMTa63k3RU2N74W//WaW6n+Q/z+8qec6Tu3vDf19pyfGizcqA8E2kaI1yWBnO75ku+XmDbyoaiNTwSb3nqgdyJcsul9iNmiAl92CsAXQsBkAbeuyPhbm35Bcrfu1FfU+tERpcG/HCFX1CaqC0Cj/BRhq9JlR7plefLbHNSAWQc7ul4ZazpDuaB788RmZnxegoH9oHTZjt8/nQplliveeJ1RSlhfULijRb2k1ntsXdIzoHArjcaXXqageELjhiF2Ch70uqc3n4TcGjAp3v6wQfP3JGiQrS4QKkNQDacRL3cFp/dnEx0aK1SL0zG2P5/bmqy3GTiom/hYT3AYx4oylQFrHffPi57/IB4n0WASAr9dTvP9LvU+g8KrZtvZe4DBb+W5d6K04D41wMgDbUJCEWhyJ0zpejIugseG63NNW1bUL9W8J/7GpORkoCoJr+XRmN63eyrtMlPUlRmSPduSsldrJs1igOH96cg8teWyprO/8crbzfJXDq+1LyHQg9VyoXBzd3fT5+iGR/T5/Phx/uHoaK6hrxAUoRrjBKJicPdvNZ7fDawl3onpGMvkpqSVA/MKppAjab1huvWJ1/C0rIbWYMPxbUtFCInXPqbTtCTXfzpDh8M+FMJMo4/9plImglxTAyiJKxGABt6NnLe+PaGSsw4dxOil43ontoDV9F0MUp0klKTLtmifi/S+uvphHe1BVpmgGhv/oUFCldYMSclPFnd0DP08RX55DTPBl8Ldf7xCwVVvRYXziSuk8TPtKxa8tk0dcI7QKpmtHYmCjcfFY7HC4ql/wu6gjVlAaLdOlXm71uHtoezRLjMDa7FVITYzHzrwNkr0pTN5WP3DLq7amxPfHUN1txZ25HPPjZqWmE7j9fnxHrQtTO72im8JrYiAFQ4DGxm77w4yw2JvIO7ZIu/rsKFq1kWgQJd5yjrW91+CeS+oSBGkBN70hWYAC0oe4ZKVj1QK7iO6vwWeWDA6DSgSR1Pvp7Dpo2qj9fVXhfMzXnLSVz0L1+rfg6weH7KT05HndHWApKzkUsOKQp6c8mh9zaKqlddFn/VqrfPzAIJOgNMlLi8dZ1A0ReIdKMH2G3TBrVVVX5hBjVxJT6x2Todc7u0kL1toxuBrskqIsHUNv8eFn/TGzYXxh47I5zOtZbwzaY1hpAvX4L4aUQWo4tnOzBPApr6YTIvemLjdZv/eTwJmCpfntiX+Ob1/ZHbjdt3X2UHCNcC9i5GABtSk21enigqpSalEzuNmWOhItUXqE/yz3JfHHbGZJr7YZvpYGMO3I5F7GQ6Rv0rgGU+dWI7aJ/nt8V156ufNH7OrEC84PdeGY7wbnJ6ggdC2auY6y2iRcw7+LUIrn+zZJexEay+ny+kN9S15ZJkivTaP3GjKgBvH5IW9x6duTJn+V+i8oHqcnvCxtOz/0R/Bvr37oJpo6tv0JRxG3o0ES/56j4EqLh9F3Vmcxk/7p8ki28+UBrh/babcrrB6OmVkHuS5Q2vzaQUR0ppx9TcDOS3k3AzRppm4rnzE7NFI8QB2pHDPc4LTmwXm1wgIv0GYX+bGafJbtXMIzu1VLzChZSzu7SQmJAwKl/R/otSt2sydnFIySmTlLruiFt6k07pEV4X0ypefoAZU3Aap8nR/Dv6a7zOkvOGSgWvPQYXLfv99CuDdKTodf+r91/n1QfawBdJL6B/gFQrI9XvUEgEbajaJoFhc8LPzeJzeAfTGkfQL07Oj80phv+/s4aPDxG3SAONU1ad+Z2wh1h8y4G1xRFWs9Y6MJiZgfwSNcXyX5KJpRz2pX9DN2+1Hce/N1EDoASf4tQhvtGdcH1Q9pGeJY8wd+J7GZlgYNAaCWf4BvU0b1aonOaeJCqLYt0+aQYVQMYKbSKbkOHYz18FR+pGvRTfQCZAJ2GAdBFwpdhKymv0rxNscq08BPCaU2kp+7Q0gQc8YIWdtmSM2WLvABo3AltZI+W2PjoCCRGmJRV7LPEKZwXbGT3dNx+Tv255oIvOJHyuNWD/bQ047qhf5LUjVDw3yLeMEn8rYvEICAAuDS7lSFNwHJu2oTMvG4AhgnMbRr82zU6mKupiRcToyAAiv0e9fh+wgOg5AAr1gA6FgOgC/x479nYebgEZ3QMDYDXDG6Nfy/ejdEiM7jLIdacGnxCePnKviFz38klt/VQcROwnBpAGSdJo0NDpPAHAN0yhC/IctbZDda0UazwgvfBTcAmr7Wrt36tmyh6/pWDrFmLVy2pGqngn0ikmlwx7ZolSs7VCMifD1OO4GZauX1sw2uZ0pPjBfeL0gVdtPRj03Pi8pSgtXYbqqwB1KNJOvwGWWp6o1MrgZDTeL4P4LRp09CmTRvEx8dj0KBBWLFihdVFUiwzNQHDOtcfuZjRuCF+fuQ8PHNZ/Wlc5BK7mATfYV/QKyPidgSngZEZKCJPMh32fBm1e3KaUK2c0u3TvCGYkNtRtLlNr1qYaI1NwGaSyuNrHzwXqQqWODyrU3NMvqiHDqUyR9eWyciUqGX3KQjyYr+7R/7UPeI+VFtTJ6SqWvssBWJhR+mKLFoObaU3Y1KaJJza/5HmbRUrshE1tFUSiZqjgJ3L0wHwgw8+wMSJE/Hwww9jzZo16N27N0aMGIFDhw5ZXTTdxMXUX65JD2b+1pU2acmpTZBz0jayCTiSPpmNMSG3k+jJPElG7aEcoU3AygeBmEmqj1Gk9a3Dv8omCQ0cNYHtV7efIRmSQvsASm9Ly6fWc9CPmhrAcGLz5mldkeWlv/SV/Vy1c6wKCZ7KKzFOeQ1gamIs2jVT3hoTLvz3Il0D+MdrNL8rmc3TAfDZZ5/FTTfdhOuuuw7dunXD9OnTkZCQgH//+99WF832FIcjDdcNpRcHqfVp62Q0jrzcmF0XdZh+dbZu4SWk6TDCJtU2LepFzzyud/gzetdEKq+SJmCxTcnZJXpOh1QV9AOTOwgk/BgQK4/S81PwZx/ZPT0wSj6S64e01fVYatYoDtOu7IeZ1w2I2LdQ6G0X3Xu26qbjYOE3W1K7M/D5bXq+JHGe7QNYUVGB1atXY9KkSYHHoqKikJubi6VL5S3D5WXK85/6k6SSUcCtmybgAYnl0Wb+dQDyi8rQOV16VCBgzyaNxgkNMLKHftNwhDQdKmgCfmpsT5zVSf2EyWq0a56I7YdKVL3W6G/S6ubxKAXfo5ai6lkDGNysqHazYk3S1Sb9dB9SOYpfyuhe6vtsi63RrFT4za9UoK47norLq/Dlzwd1ef9wHdMaoVOEkdyknGcD4JEjR1BdXY20tNAZ09PS0rBlyxbB15SXl6O8/NQavUVFRYaW0c7MbB6N3PH81EXg2cv6hHSkDqdklQcrm4CtoKQJuHtGCtJTlC3Pp9Xki3siLiYa53VPw/jZa01970isbk0Omc4nYhOwssIOaNMEK/f8XvtaHT9oZVBKk7vd8F+k3HlKIwneJ1Z/l3IZOQFz+P6Tag2pq4U9XFyOvNlrDCnPhNyODIAG8GwAVGPKlCl49NFHrS6GLWhpYlFKycz2ep68K82qRlDAyGuTkgmErbhINmsUhxf/0hdHSsojP9lkVq+GkBA0LVBFVYTjVqwJWOAPo3qko3dm40AA1FNZZbXmbYjOUqCw/0bw8eyUAGgoBTWAPU9LweX9MxWtHqLUaTK67JByng2AzZo1Q3R0NAoKCkIeLygoQHq6cBPbpEmTMHHixMD/LyoqQmZmpqHltNIDo8XXcTUzGikZBaznufuy/pmYtWQPBrVN1XGr1pBzUYs0fYTVg0D05KKPAqC2a0CdorJKzdsb2CYVK/Ycw5WDsrB273HN2xOiZqL68G4ZYjeHymsAg//tjKPDyKAavv+krgUx0VF46s+9jCsMGcazATA2NhbZ2dmYP38+LrroIgBATU0N5s+fj/Hjxwu+Ji4uDnFxxq31aSdNEhoIrjtax8QxIDImgg76t45nxW4ZyVj1QG7I1AxWU/v5pL6vi/pkYEt+Mc7qXH9C3WDB34NTLpKmsXh3+Hw+9GqVgi0HizG4bVPp58rY3rs3DUJ+YRkyUxOwNb9Yn0KGGdkjHVO+2oz+bdTfYInVACpdBt1JI8LNEFyBuvz+c5AmsUY4OZdnAyAATJw4EePGjUP//v0xcOBAPP/88ygtLcV1111nddEsF+mEKDUtgN4i1wAGBxN96bk+qR6MuEw9f0Vf+P3+iN95cH8rXi9D2WF3/O+W01FeVRNxIIDY9xz8cIPoKGT+MZp+TO8MzPxpj+5rACfHN8CKf+ZqGlks1gdQ0wAuO3yZFgseBczw516eDoCXX345Dh8+jIceegj5+fno06cPvvnmm3oDQ6g+5X0A1Z9VlUw/wmAiLNJ+kfP92LWf1Nh+rSI+p97hqnP5jdwfo2SO+m4QHSVrOhWlRU1LjsdP9w1X+Cp5ZK8B/Ifwr1EsPCqeCFrk33ZmZK2l0pVUyJk8HQABYPz48aJNvl4W6dSitQn4sv6RL9qAvOW6nNh/Ry2153w9BjSHTDVikwT48JhuuHpwa6uLYaiUhuKj2tUQnQdQ13cxh/hKRcq2E3pz48Q9oS87ToFF+vP0RNCknpYTxJjeGXhqbOROw9FRPjx5cc+Iz7NrzZTbBAfABJ3mG9MqKzVBcS0SoP+NgpE3Hnof006+SZJ72lE+Cth5+8TIEjP+eYM9zuLkOFrusBs3lLcMl5tGnepH3U7R4/oWHeXDP0Z2wYmKKttMyyD3c0ktI2dmOdRtW+ewKrY5F/3etPRRdtFuUI0VgN7AAEiqaJkkWe71TG5NRfD2rF6Rwa70OqHfMqy9PhvSidpwpH+tmnH0bm4Xz3/O+u0kSCx55oVJ3M2cBobciU3ApIrS04Oai4uaoMj8535qOuw7+XrGmnBhqx7IFf2bGTeobmbXddBJXwyAJCjSSVBLH0C551c1J2K3n7zVfj637he1Nb567w4j+5Dpvm2XHAsJseINWF5oAja2nEyAXsAASCKkTy+Kl0lTcbaSfXEPWQnEKadv0oPsQ8Tgw8JJR53Yb8RNNwk2XMXRUcyc55WswwBIqpysULaOp5qLi9wAGLoSiPL3cRKXfzzF5Ab+8AprJx0nYpMdq+Wkz66WphYKh+wgI8upZmQ9OQ+/ZVLl4r6nAQBy2kkvOyVE7olLzenNGadu87l1cIxt+scZWA7dA6CuW7MnMwYxuPQnBQB49epsnNa4IaZf3c/qopCBOAqYVHnkT91xRsdmEdePraPqXCm7ec87g0DUfj63BkC1aUavrgJJcTEoLq9CdusmumwvWGZqQ+w7dlL2SiByiS4Fp+u7WEvpWsDBZPdRVv8WujDyJ53duolhq7+QfTAAkioNY6MxpneGoe+h7kRs9WnZWGqDi1vzn9xgG14fpNe8gP+79XR8uHIfbj27gy7bC/bdhLOQX1SGts0Sdd2uW4+FYEongg4hc/+49qaKPIMBkEyhppZOyRrASrftNW69WFn9qTqlJeGBC7oZsu2GsdG6hz8pTun7JofStYCDyb3Jsvo35Z5vi6zCPoBkOr1PsF6aCFp9E7C+5bALN4UWs3hhjz0wuisA4Oaz2hn2HpYfepYXgJyONYAkyA5Tj8lvAg6qXVTxPl7g1mAsO9g6eSZonbn0UAgxrHML/PLoCDRSsWa13P2j9+AcIrOxBpBMoW5SZzYB68al+0Xt9+3tPOj+eQABqAp/gPyfitUB0GVfF1mAAZBMp/fkvcHP40TQwtxaAyj7JiHseV7Ofy49FHQjd/9wrjxyOh7BZApVawGreJ7bL25qP152lv7TlNiB7P0RVuXn5cXuxfaZ1TVaTmP1/nL7uY6MxwBIppN73lKzFJzbqWkWn351P5zTtYUBpbGe6kEg3s1/ovusVZOGJpfE2Ro3bGB1EYg0YQAkU6jrA2jOa9xuZI+WrhotGzKlkMzX1J8HkIJ99PcctEiKt7oYthCptWL61dnokp6EaVdZu0oGu7uQVhwFTKaTPQ+g7CXjgucY5EnRS9QPAmEEDDagTarVRbCNSMfUyB7pGKnz6ixEVmANIAlyUowKHQTibsy3odQObtGyUAS5m1N+Y04pJ9kXAyAJ0n0eQDYB68Ltn88o4RV+HO9ARF7HAEimk9tMK78JOPjf7r6yu/3zKaW2BlDNMoPkFc44NpxRSrIzBkAyhZrVOuRP8XbqiW6/rrMGMJSa/RET5cP4szvoXxhyBf7GyCs4CITMp/MgEDXbdiqXfzzF1Bwimx8f6elJfDkARppTfmMMqqSVd8+CZCojsxxXAvEuNTcJXg5/RER1eCYkQUYGKbnbVjMPNO+KvYVfN+nNKecQ3uySVgyAZAo1pyo1tTtuPyVynsNQcveHn1M/k9vwVEAaMQCSKdQEF3XTwLj7rOjuT6ec3K+b3d5O4a6Qxpo18goGQDKd/KZdubU7wa9xOdd/QGXk7g5O/ExyOeUe0iHFJBtjACRTqDlZcSLo+lz+8RST3QTMKkAiohAMgGQ6+aN71fQBZERyO5/Iv6Uw/pFcTjmDuL27CxmPAZBMoeZcJXdSZ7+H2oB50g8ld6BQNduAA1gZ6k5f3HaG1UUgh2EAJEFG5gz5K3wYt22nUvrxbj6rnSHlsAu533cNUw/J5JSbrOBSDunQFD1OS7GsLORMDIBkCjUn1WhOA1OPkl3yl4GZmDSqq3GFcRDmPyKiUAyAZDr5E0GrmTrG3RGQLZmhomT2E2ANIMnllFOIU8pJ9sUASKaTe+KS3wfw1MXdrefE6D92xoA2TWS/JibK/T9v2QOKDC2F0zAMuw3vb0gN918hyLGi5SbAIG69K/52wpmYkNsR958fuUn3HyO7oG2zRNx+TkcTSmYtuYNARvZoCQBomhhrZHHIBZwyk4Bbz3VknhirC0D2ZOS5Re621S0F586zYocWSZiQmyTrubcMa49bhrU3uETWCa7skFvJmdO+KT4fPwRZqQmGlIncg8GKvIIBkGxLbg1gyCwwPHm7XnB/PiUDhXq1amxAaZynusbqEtibU04hbr3ZJfOwCZgEGTqYQua21dQAkvvVBI2E8UI/R71V1TABug1PlaQGz54kyA5LZzVPilP8Gp4I3a8qKAAy/ynXsYW8rgRkbzzXkVY8fZIgK6dTmX51NoZ1bo5/jpY3h11wVmWziPsFr+qhZqCQ1zVPisOCu4ehSzqDoBAnBisb3K+TA7EPIAky8sIaacsje6RjZI90ddt24MmblAnuA8huAuq0bZaIpo04IprIy1gDSIKSGzrz3oBxwP0aJ5wKLg2ieQpTi7VGwuROLk7kdM68ypNhXr2qH16Yvx3PX97XsPfQu9LGHzQO2O0rgRCQ0rAB/ndLDmKjo9kErAEDoDA1S1Ba7dqcNlYXgRyIAZBCjOrZEqN6tjT0PXTvpxd0IWMe8Ibs1qlWF4Fcyok3FYPa8vdAyrH9hExn7Awzzjt5E1nBiUHHDE48hziwyGQDDIDkeGzJIlJucDvWGglxShNwyOwHDikz2QubgImIPOhvQ9sjuWEDnNGhmdVFsRWnjCsK7ftsYUHIsRgAyXQ8VxFZLzYmioMHBHTLSLa6CLKEzn9KpBwDIDkeRzMSkVZf3n4GNh8sxtmdW1hdFFn8IYPfGAFJOQZAMh3PVURkN90zUtA9I8XqYsgWfN/Lcyqp4ZDeDkTi/BwGQkQexiUwSQ1XBsDJkyfj9NNPR0JCAho3biz4nL1792L06NFISEhAixYtcM8996CqqsrcgnqU3iPWgteGJSLyGtYAkhqubAKuqKjApZdeipycHMyYMaPe36urqzF69Gikp6djyZIlOHjwIK699lo0aNAATz75pAUlJi1Ob98M3Vomo7tDOm8TEWnl93MUMGnjygD46KOPAgBmzZol+PfvvvsOmzZtwrx585CWloY+ffrg8ccfxz/+8Q888sgjiI3lIulOEhsTha/uONPqYhARmSakDyCbgEkFVzYBR7J06VL07NkTaWlpgcdGjBiBoqIibNy4UfR15eXlKCoqCvmPlOPdKhGRRiETQVtXDHIuTwbA/Pz8kPAHIPD/8/PzRV83ZcoUpKSkBP7LzMw0tJxERESRMP+RGo4JgPfddx98Pp/kf1u2bDG0DJMmTUJhYWHgv3379hn6fm7F5goiIm2CZz/gPICkhmP6AN51113461//Kvmcdu3aydpWeno6VqxYEfJYQUFB4G9i4uLiEBcXJ+s9iIiIjOJnEzBp5JgA2Lx5czRv3lyXbeXk5GDy5Mk4dOgQWrSonfV97ty5SE5ORrdu3XR5DyIiIqOETgTNBEjKOSYAKrF3714cO3YMe/fuRXV1NdatWwcA6NChAxo1aoTzzjsP3bp1wzXXXIOnn34a+fn5eOCBB5CXl8caPhPwXEVERGQtVwbAhx56CG+99Vbg//ft2xcAsGDBAgwbNgzR0dH44osvcMsttyAnJweJiYkYN24cHnvsMauKTEREJBvXQCetXBkAZ82aJToHYJ3WrVvjq6++MqdAFIIVgERE2nAJTNLKMaOAiYiIqBZrAEkrBkAyHfsAEhERWYsBkIiIiMhjGADJdJwImoiIyFoMgGQ6NgETERFZiwGQiIiIyGMYAImIiIg8hgGQiIiIyGMYAMl0XLeSiIjIWgyARERERB7DAEhERETkMQyAZDo2ABMREVmLAZCIiIjIYxgAyXQcA0JEpI3f6gKQ4zEAEhEREXkMAyCZLopVgESkQUJstNVFIHI8BkAyHfMfEanxzg2D0CU9Ce/eOMjqoljPz0Zg0ibG6gKQ93AiaCJS44yOzfDNhKFWF8MWGP9IK9YAkukY/4iItOF5lLRiACTTsQ8gEZE2F/drhazUBFw9OMvqopBDsQmYTNc9I9nqIhAROVqjuBgsvGcYu9SQagyAZJr5d52FvcdOoHdmY6uLQkTkeAx/pAUDIJmmffNGaN+8kdXFICIi8jz2ASQiIiLyGAZAIiIiIo9hACQiIiLyGAZAIiIiIo9hACQiIiLyGAZAIiIiIo9hACQiIiLyGAZAIiIiIo9hACQiIiLyGAZAIiIiIo9hACQiIiLyGAZAIiIiIo9hACQiIiLymBirC+Bkfr8fAFBUVGRxSYiIiEiuuut23XXcixgANSguLgYAZGZmWlwSIiIiUqq4uBgpKSlWF8MSPr+X469GNTU1OHDgAJKSkuDz+VRvp6ioCJmZmdi3bx+Sk5N1LCGF4742F/e3ebivzcX9bR4j9rXf70dxcTEyMjIQFeXN3nCsAdQgKioKrVq10m17ycnJPJGYhPvaXNzf5uG+Nhf3t3n03tderfmr483YS0RERORhDIBEREREHsMAaANxcXF4+OGHERcXZ3VRXI/72lzc3+bhvjYX97d5uK+NwUEgRERERB7DGkAiIiIij2EAJCIiIvIYBkAiIiIij2EAJCIiIvIYBkCLTZs2DW3atEF8fDwGDRqEFStWWF0kV5oyZQoGDBiApKQktGjRAhdddBG2bt1qdbE8YerUqfD5fJgwYYLVRXGt/fv34+qrr0bTpk3RsGFD9OzZE6tWrbK6WK5TXV2NBx98EG3btkXDhg3Rvn17PP74455eT1ZPixYtwpgxY5CRkQGfz4dPP/005O9+vx8PPfQQWrZsiYYNGyI3Nxfbt2+3prAuwABooQ8++AATJ07Eww8/jDVr1qB3794YMWIEDh06ZHXRXGfhwoXIy8vDsmXLMHfuXFRWVuK8885DaWmp1UVztZUrV+K1115Dr169rC6Ka/3+++8YMmQIGjRogK+//hqbNm3CM888gyZNmlhdNNd56qmn8Oqrr+Lll1/G5s2b8dRTT+Hpp5/GSy+9ZHXRXKG0tBS9e/fGtGnTBP/+9NNP48UXX8T06dOxfPlyJCYmYsSIESgrKzO5pO7AaWAsNGjQIAwYMAAvv/wygNq1hTMzM3Hbbbfhvvvus7h07nb48GG0aNECCxcuxNChQ60ujiuVlJSgX79+eOWVV/DEE0+gT58+eP75560uluvcd999+Omnn/Djjz9aXRTXu+CCC5CWloYZM2YEHhs7diwaNmyId955x8KSuY/P58Mnn3yCiy66CEBt7V9GRgbuuusu3H333QCAwsJCpKWlYdasWbjiiissLK0zsQbQIhUVFVi9ejVyc3MDj0VFRSE3NxdLly61sGTeUFhYCABITU21uCTulZeXh9GjR4cc46S/zz//HP3798ell16KFi1aoG/fvnjjjTesLpYrnX766Zg/fz62bdsGAFi/fj0WL16MUaNGWVwy99u9ezfy8/NDzicpKSkYNGgQr5kqxVhdAK86cuQIqqurkZaWFvJ4WloatmzZYlGpvKGmpgYTJkzAkCFD0KNHD6uL40rvv/8+1qxZg5UrV1pdFNfbtWsXXn31VUycOBH3338/Vq5cidtvvx2xsbEYN26c1cVzlfvuuw9FRUXo0qULoqOjUV1djcmTJ+Oqq66yumiul5+fDwCC18y6v5EyDIDkOXl5efjll1+wePFiq4viSvv27cMdd9yBuXPnIj4+3uriuF5NTQ369++PJ598EgDQt29f/PLLL5g+fToDoM4+/PBDvPvuu5g9eza6d++OdevWYcKECcjIyOC+JsdhE7BFmjVrhujoaBQUFIQ8XlBQgPT0dItK5X7jx4/HF198gQULFqBVq1ZWF8eVVq9ejUOHDqFfv36IiYlBTEwMFi5ciBdffBExMTGorq62uoiu0rJlS3Tr1i3ksa5du2Lv3r0Wlci97rnnHtx333244oor0LNnT1xzzTW48847MWXKFKuL5np110VeM/XDAGiR2NhYZGdnY/78+YHHampqMH/+fOTk5FhYMnfy+/0YP348PvnkE3z//fdo27at1UVyrXPOOQcbNmzAunXrAv/1798fV111FdatW4fo6Giri+gqQ4YMqTel0bZt29C6dWuLSuReJ06cQFRU6GUzOjoaNTU1FpXIO9q2bYv09PSQa2ZRURGWL1/Oa6ZKbAK20MSJEzFu3Dj0798fAwcOxPPPP4/S0lJcd911VhfNdfLy8jB79mx89tlnSEpKCvQZSUlJQcOGDS0unbskJSXV61uZmJiIpk2bss+lAe68806cfvrpePLJJ3HZZZdhxYoVeP311/H6669bXTTXGTNmDCZPnoysrCx0794da9euxbPPPovrr7/e6qK5QklJCXbs2BH4/7t378a6deuQmpqKrKwsTJgwAU888QQ6duyItm3b4sEHH0RGRkZgpDAp5CdLvfTSS/6srCx/bGysf+DAgf5ly5ZZXSRXAiD438yZM60umiecddZZ/jvuuMPqYrjWnDlz/D169PDHxcX5u3Tp4n/99detLpIrFRUV+e+44w5/VlaWPz4+3t+uXTv/P//5T395ebnVRXOFBQsWCJ6nx40b5/f7/f6amhr/gw8+6E9LS/PHxcX5zznnHP/WrVutLbSDcR5AIiIiIo9hH0AiIiIij2EAJCIiIvIYBkAiIiIij2EAJCIiIvIYBkAiIiIij2EAJCIiIvIYBkAiIiIij2EAJCIiIvIYBkAiIiIij2EAJCIiIvIYBkAiIiIij2EAJCIiIvIYBkAiIiIij2EAJCIiIvIYBkAiIiIij2EAJCIiIvIYBkAiIiIij2EAJCIiIvIYBkAiIiIij2EAJCIiIvIYBkAiIiIij2EAJCIiIvIYBkAiIiIij2EAJCIiIvIYBkAiIiIij2EAJCIiIvIYBkAiIiIij2EAJCIiIvIYBkAiIiIij2EAJCIiIvIYBkAiIiIij/l/pn1H+KMjHB4AAAAASUVORK5CYII=' width=640.0/>\n",
       "            </div>\n",
       "        "
      ],
      "text/plain": [
       "Canvas(toolbar=Toolbar(toolitems=[('Home', 'Reset original view', 'home', 'home'), ('Back', 'Back to previous …"
      ]
     },
     "metadata": {},
     "output_type": "display_data"
    }
   ],
   "source": [
    "plt.plot(times[100:-67], torque2_ests[100:])"
   ]
  },
  {
   "cell_type": "code",
   "execution_count": null,
   "id": "203da04a",
   "metadata": {},
   "outputs": [],
   "source": []
  }
 ],
 "metadata": {
  "kernelspec": {
   "display_name": "Python 3 (ipykernel)",
   "language": "python",
   "name": "python3"
  },
  "language_info": {
   "codemirror_mode": {
    "name": "ipython",
    "version": 3
   },
   "file_extension": ".py",
   "mimetype": "text/x-python",
   "name": "python",
   "nbconvert_exporter": "python",
   "pygments_lexer": "ipython3",
   "version": "3.8.10"
  }
 },
 "nbformat": 4,
 "nbformat_minor": 5
}
