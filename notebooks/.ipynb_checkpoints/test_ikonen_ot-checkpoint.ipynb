{
 "cells": [
  {
   "cell_type": "code",
   "execution_count": 1,
   "id": "5420a835",
   "metadata": {},
   "outputs": [],
   "source": [
    "import numpy as np\n",
    "import matplotlib.pyplot as plt\n",
    "import scipy.linalg as LA\n",
    "from scipy.signal import lsim\n",
    "from scipy.integrate import solve_ivp\n",
    "import opentorsion as ot\n",
    "import cvxpy as cp"
   ]
  },
  {
   "cell_type": "code",
   "execution_count": 2,
   "id": "f6bfb788",
   "metadata": {},
   "outputs": [],
   "source": [
    "def propulsion_system():\n",
    "    '''\n",
    "    Parameters from: https://journals.sagepub.com/doi/full/10.1177/14759217211004232\n",
    "    '''\n",
    "    J1 = 1.347e4 # propeller\n",
    "    J3 = 5.590e2\n",
    "    J5 = 5.120e2\n",
    "    J7 = 4.870e2\n",
    "    J9 = 1.410e2\n",
    "    J11 = 1.740e2\n",
    "    J13 = 4.415e3 # motor\n",
    "    \n",
    "    k2 = 5.88e7\n",
    "    k4 = 5.95e7\n",
    "    k6 = 1.12e8\n",
    "    k8 = 6.93e8\n",
    "    k10 = 5.09e8\n",
    "    k12 = 1.43e8\n",
    "    damping = 180 # damping in steel_shafts\n",
    "    propeller_damping = 0*120e3\n",
    "    \n",
    "    shafts, disks = [], []\n",
    "    disks.append(ot.Disk(0, I=J1, c=propeller_damping))\n",
    "    shafts.append(ot.Shaft(0, 1, None, None, k=k2, I=0, c=damping))\n",
    "    disks.append(ot.Disk(1, I=J3))\n",
    "    shafts.append(ot.Shaft(1, 2, None, None, k=k4, I=0, c=damping))\n",
    "    disks.append(ot.Disk(2, I=J5))\n",
    "    shafts.append(ot.Shaft(2, 3, None, None, k=k6, I=0, c=damping))\n",
    "    disks.append(ot.Disk(3, I=J7))\n",
    "    shafts.append(ot.Shaft(3, 4, None, None, k=k8, I=0, c=damping))\n",
    "    disks.append(ot.Disk(4, I=J9))\n",
    "    shafts.append(ot.Shaft(4, 5, None, None, k=k10, I=0, c=damping))\n",
    "    disks.append(ot.Disk(5, I=J11))\n",
    "    shafts.append(ot.Shaft(5, 6, None, None, k=k12, I=0, c=damping))\n",
    "    disks.append(ot.Disk(6, I=J13))\n",
    "    \n",
    "    assembly = ot.Assembly(shafts, disk_elements=disks)\n",
    "    _, f, _ = assembly.modal_analysis()\n",
    "    print(\"Eigenfrequencies: \", f.round(2))\n",
    "\n",
    "    return assembly"
   ]
  },
  {
   "cell_type": "code",
   "execution_count": 3,
   "id": "094ecd29",
   "metadata": {},
   "outputs": [],
   "source": [
    "def state_matrices(assembly):\n",
    "    \"\"\"\n",
    "    Create state-space matrices A and B of an openTorsion assembly.\n",
    "\n",
    "    Parameters:\n",
    "    assembly : openTorsion assembly instance\n",
    "        Mechanical drivetrain model.\n",
    "\n",
    "    Returns:\n",
    "    A : numpy.ndarray\n",
    "        The state matrix\n",
    "    B : numpy.ndarray\n",
    "        The input matrix\n",
    "    \"\"\"\n",
    "    M, C, K = assembly.M(), assembly.C(), assembly.K()  # Mass and stiffness matrices\n",
    "    # C = assembly.C_modal(M, K, xi=0.02)  # Modal damping matrix, modal damping coefficient 0.02 used\n",
    "    Z = np.zeros(M.shape)\n",
    "    I = np.eye(M.shape[0])\n",
    "    M_inv = LA.inv(M)\n",
    "\n",
    "    A = np.vstack([np.hstack([Z, I]), np.hstack([-M_inv @ K, -M_inv @ C])])\n",
    "\n",
    "    B = np.vstack([Z, M_inv])\n",
    "\n",
    "    return A, B"
   ]
  },
  {
   "cell_type": "code",
   "execution_count": 4,
   "id": "7910fc00",
   "metadata": {},
   "outputs": [],
   "source": [
    "k_list = [5.88e7, 5.95e7, 1.12e8, 6.93e8, 5.09e8, 1.43e8]"
   ]
  },
  {
   "cell_type": "code",
   "execution_count": 5,
   "id": "6995b45b",
   "metadata": {},
   "outputs": [],
   "source": [
    "def X(k_values, ndof):\n",
    "    \"\"\"\n",
    "    Used to transform the state-matrix to be compatible with shaft torque as a state.\n",
    "    \"\"\"\n",
    "    rows = ndof-1\n",
    "    cols = ndof\n",
    "    if len(k_values) != rows:\n",
    "        print(\"wrong amount of stiffness values / dofs\")\n",
    "        return\n",
    "    \n",
    "    X_up = np.zeros((rows, cols))\n",
    "    X_down = np.eye(cols)\n",
    "    Z_up = np.zeros(X_up.shape)\n",
    "    Z_down = np.zeros(X_down.shape)\n",
    "    \n",
    "    for i in range(rows):\n",
    "        X_up[i,i] = -k_values[i]\n",
    "        X_up[i,i+1] = k_values[i]\n",
    "    \n",
    "    X_matrix = np.vstack([np.hstack([X_up, Z_up]), np.hstack([Z_down, X_down])])\n",
    "    \n",
    "    return X_matrix"
   ]
  },
  {
   "cell_type": "code",
   "execution_count": 6,
   "id": "dd3444ec",
   "metadata": {},
   "outputs": [],
   "source": [
    "def O(A, C, n):\n",
    "    '''\n",
    "    Create the extended observability matrix used in the data equation.\n",
    "\n",
    "    Parameters:\n",
    "\n",
    "    A : numpy.ndarray\n",
    "        The state matrix of the state-space system\n",
    "    C : numpy.ndarray\n",
    "        The observation matrix of the state-space system\n",
    "    n : float\n",
    "        number of measurements\n",
    "\n",
    "    Returns:\n",
    "\n",
    "    O : numpy.ndarray, shape(n, number of state variables)\n",
    "        The extended observability matrix\n",
    "    '''\n",
    "    O = np.copy(C)\n",
    "    for k in range(1, n):\n",
    "        O = np.vstack((O, C @ np.linalg.matrix_power(A, k)))\n",
    "\n",
    "    return O"
   ]
  },
  {
   "cell_type": "code",
   "execution_count": 7,
   "id": "f097a531",
   "metadata": {},
   "outputs": [],
   "source": [
    "def gamma(A, B, C, n):\n",
    "    '''\n",
    "    Create the impulse response matrix used in the data equation.\n",
    "\n",
    "    Parameters:\n",
    "\n",
    "    A : numpy.ndarray\n",
    "        The state matrix of the state-space system\n",
    "    B : numpy.ndarray\n",
    "        The input matrix of the state-space system\n",
    "    C : numpy.ndarray\n",
    "        The observation matrix of the state-space system\n",
    "    n : float\n",
    "        number of measurements\n",
    "\n",
    "    Returns:\n",
    "\n",
    "    gamma : numpy.ndarray, shape(n*number of state variables, n*number of state variables)\n",
    "        The impulse response matrix\n",
    "    '''\n",
    "    # first column\n",
    "    gamma_column_first = np.zeros((C @ B).shape)\n",
    "    for k in range(1, n):\n",
    "        gamma_column_first = np.vstack((gamma_column_first, C @ np.linalg.matrix_power(A, k) @ B))\n",
    "\n",
    "    # build complete matrix\n",
    "    gamma = gamma_column_first\n",
    "    current_col = 1\n",
    "    for s in range(1, n):\n",
    "        gamma_rows = np.zeros((C @ B).shape)\n",
    "        for z in range(1, current_col):\n",
    "            row_val = np.zeros((C @ B).shape)\n",
    "            gamma_rows = np.vstack((gamma_rows, row_val))\n",
    "        for nz in range(n-current_col):\n",
    "            row_val = C @ np.linalg.matrix_power(A, nz) @ B\n",
    "            gamma_rows = np.vstack((gamma_rows, row_val))\n",
    "\n",
    "        gamma = np.hstack((gamma, gamma_rows))\n",
    "        current_col += 1\n",
    "\n",
    "    return gamma"
   ]
  },
  {
   "cell_type": "code",
   "execution_count": 69,
   "id": "d63ea54b",
   "metadata": {},
   "outputs": [],
   "source": [
    "def L(input_shape):\n",
    "    '''\n",
    "    The regularization matrix L.\n",
    "\n",
    "    Parameters:\n",
    "\n",
    "    meas_shape : float\n",
    "        Input vector shape used to determine L matrix shape.\n",
    "\n",
    "    Returns:\n",
    "\n",
    "    L : ndarray\n",
    "        The regularization matrix\n",
    "    '''\n",
    "    I = np.eye(input_shape)\n",
    "    L = -I + np.diag(np.ones(input_shape-1), 1)\n",
    "\n",
    "    return I"
   ]
  },
  {
   "cell_type": "code",
   "execution_count": 72,
   "id": "0176341c",
   "metadata": {},
   "outputs": [],
   "source": [
    "def convex_optimization_problem(meas, gamma, L, lam=0.0512):\n",
    "    '''\n",
    "    Convex optimization methods using the cvxpy library.\n",
    "    '''\n",
    "    d = cp.Variable((gamma.shape[1], 1), complex=False)\n",
    "    x = 0\n",
    "    lam = 1\n",
    "    # objective = cp.Minimize(cp.sum_squares(meas - O @ x - gamma @ d) + lam * cp.pnorm(L @ d, 1))\n",
    "    objective = cp.Minimize(cp.sum_squares(meas - gamma @ d) + lam * cp.sum_squares(L @ d))\n",
    "    prob = cp.Problem(objective)\n",
    "    prob.solve(solver=cp.SCS, verbose=False)\n",
    "\n",
    "    return prob.value"
   ]
  },
  {
   "cell_type": "code",
   "execution_count": 73,
   "id": "db962540",
   "metadata": {},
   "outputs": [
    {
     "name": "stdout",
     "output_type": "stream",
     "text": [
      "Eigenfrequencies:  [  0.     0.    11.41  11.41  48.93  48.93  78.82  78.82 115.27 115.27\n",
      " 268.61 268.61 522.81 522.81]\n",
      "(14, 14)\n"
     ]
    }
   ],
   "source": [
    "assembly = propulsion_system()\n",
    "A, B = state_matrices(assembly)\n",
    "C = np.eye(B.shape[0])\n",
    "D = np.zeros(B.shape)\n",
    "\n",
    "transform = X(k_list, 7)\n",
    "A_transformed = transform @ A\n",
    "print(A.shape)"
   ]
  },
  {
   "cell_type": "code",
   "execution_count": 74,
   "id": "e6bd4630",
   "metadata": {},
   "outputs": [
    {
     "data": {
      "image/png": "[encoded data removed]",
      "text/plain": [
       "<Figure size 432x288 with 1 Axes>"
      ]
     },
     "metadata": {
      "needs_background": "light"
     },
     "output_type": "display_data"
    }
   ],
   "source": [
    "t = np.arange(0, 1.0001, 0.0001)\n",
    "\n",
    "# impulse applied at node 0\n",
    "u = np.zeros((len(t), 7))\n",
    "u[100:110,0] = 1\n",
    "\n",
    "tout, yout_no_noise, xout = lsim((A, B, C, D), u, t)\n",
    "\n",
    "R_ = 1e-5*np.eye(C.shape[0]) # measurement covariance, shape (n_sensors, n_sensors)\n",
    "\n",
    "# add gaussian white noise to the measurement (measurement and process noise)\n",
    "r = np.random.multivariate_normal(np.zeros(R_.shape[0]), R_, tout.shape[0])\n",
    "yout = yout_no_noise + r\n",
    "\n",
    "torque_meas = 6.93e8*(yout[:,4]-yout[:,3])\n",
    "\n",
    "plt.plot(tout, torque_meas)\n",
    "#plt.plot(tout, yout[:,7])\n",
    "#plt.plot(t, u[:,0])\n",
    "plt.show()"
   ]
  },
  {
   "cell_type": "code",
   "execution_count": 75,
   "id": "346580a6",
   "metadata": {},
   "outputs": [],
   "source": [
    "def construct_measurement(n, y):\n",
    "    measurement = np.vstack([y[0,0], y[0,1]])\n",
    "    for i in range(1, n):\n",
    "        measurement = np.vstack([measurement, y[i,0], y[i,1]])\n",
    "    return measurement"
   ]
  },
  {
   "cell_type": "code",
   "execution_count": 76,
   "id": "6ab6d544",
   "metadata": {},
   "outputs": [
    {
     "name": "stdout",
     "output_type": "stream",
     "text": [
      "9.95433852796224e+35\n"
     ]
    },
    {
     "name": "stderr",
     "output_type": "stream",
     "text": [
      "/u/60/hakoneu1/unix/.local/lib/python3.8/site-packages/cvxpy/problems/problem.py:1385: UserWarning: Solution may be inaccurate. Try another solver, adjusting the solver settings, or solve with verbose=True for more information.\n",
      "  warnings.warn(\n"
     ]
    }
   ],
   "source": [
    "n = 10 # number of measurements in the batch\n",
    "estimates = []\n",
    "#estimates = np.zeros((70,1))\n",
    "idx = 0\n",
    "gam = gamma(A, B, np.array([[0, 0, 0, 0, 0, 0, 0, 0, 0, 0, 1, 0, 0, 0], [0, 0, 0, 0, 0, 0, 0, 0, 0, 0, 0, 1, 0, 0]]), n)\n",
    "print(np.linalg.cond(gam))\n",
    "reg = L(7*n) # size: number of nodes times number of timesteps\n",
    "for i in range(120):\n",
    "    y = yout[idx:idx+n, 10:12]\n",
    "    idx += n\n",
    "    meas_batch = construct_measurement(n, y)\n",
    "    #estimate = LA.inv((gam.T @ gam + reg.T @ reg)) @ gam.T @ meas_batch\n",
    "    #estimates = np.vstack([estimates, estimate])\n",
    "    estimate = convex_optimization_problem(meas_batch, gam, reg)\n",
    "    estimates.append(estimate)"
   ]
  },
  {
   "cell_type": "code",
   "execution_count": 77,
   "id": "9ad83d45",
   "metadata": {},
   "outputs": [
    {
     "name": "stdout",
     "output_type": "stream",
     "text": [
      "2563264910.3534203\n"
     ]
    },
    {
     "data": {
      "image/png": "[encoded data removed]",
      "text/plain": [
       "<Figure size 432x288 with 1 Axes>"
      ]
     },
     "metadata": {
      "needs_background": "light"
     },
     "output_type": "display_data"
    }
   ],
   "source": [
    "print(max(estimates))\n",
    "plt.plot(estimates, label='estimate')\n",
    "plt.plot(u[:,0], label='input')\n",
    "plt.legend()\n",
    "#plt.xlim(0,120)\n",
    "#plt.ylim(-1e7,1e8)\n",
    "plt.show()"
   ]
  },
  {
   "cell_type": "code",
   "execution_count": 15,
   "id": "6f2d7ba0",
   "metadata": {},
   "outputs": [
    {
     "name": "stdout",
     "output_type": "stream",
     "text": [
      "(14, 7)\n"
     ]
    },
    {
     "data": {
      "image/png": "[encoded data removed]",
      "text/plain": [
       "<Figure size 432x288 with 1 Axes>"
      ]
     },
     "metadata": {
      "needs_background": "light"
     },
     "output_type": "display_data"
    }
   ],
   "source": [
    "h = C @ np.linalg.matrix_power(A, 1) @ B\n",
    "print(h.shape)\n",
    "plt.plot(h[:,3])\n",
    "plt.show()"
   ]
  },
  {
   "cell_type": "code",
   "execution_count": null,
   "id": "1e73e5b3",
   "metadata": {},
   "outputs": [],
   "source": []
  }
 ],
 "metadata": {
  "kernelspec": {
   "display_name": "Python 3 (ipykernel)",
   "language": "python",
   "name": "python3"
  },
  "language_info": {
   "codemirror_mode": {
    "name": "ipython",
    "version": 3
   },
   "file_extension": ".py",
   "mimetype": "text/x-python",
   "name": "python",
   "nbconvert_exporter": "python",
   "pygments_lexer": "ipython3",
   "version": "3.8.10"
  }
 },
 "nbformat": 4,
 "nbformat_minor": 5
}
