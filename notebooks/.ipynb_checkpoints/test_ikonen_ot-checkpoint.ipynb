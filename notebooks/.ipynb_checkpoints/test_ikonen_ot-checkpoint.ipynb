{
 "cells": [
  {
   "cell_type": "code",
   "execution_count": 1,
   "id": "5420a835",
   "metadata": {},
   "outputs": [],
   "source": [
    "import numpy as np\n",
    "import matplotlib.pyplot as plt\n",
    "import scipy.linalg as LA\n",
    "from scipy.signal import lsim\n",
    "from scipy.integrate import solve_ivp\n",
    "import opentorsion as ot\n",
    "import cvxpy as cp"
   ]
  },
  {
   "cell_type": "markdown",
   "id": "ba76ea47",
   "metadata": {},
   "source": [
    "# The propulsion system"
   ]
  },
  {
   "cell_type": "markdown",
   "id": "05b5b8ad",
   "metadata": {},
   "source": [
    "Firstly, the propulsion system presented in [Inverse ice-induced moment determination on the propeller of an ice-going vessel](https://www.sciencedirect.com/science/article/pii/S0165232X14002274) is modelled using the openTorsion library. Parameters for the propulsion system are found from [here](https://journals.sagepub.com/doi/full/10.1177/14759217211004232)."
   ]
  },
  {
   "cell_type": "code",
   "execution_count": 2,
   "id": "f6bfb788",
   "metadata": {},
   "outputs": [],
   "source": [
    "def propulsion_system():\n",
    "    J1 = 1.347e4 # propeller\n",
    "    J3 = 5.590e2\n",
    "    J5 = 5.120e2\n",
    "    J7 = 4.870e2\n",
    "    J9 = 1.410e2\n",
    "    J11 = 1.740e2\n",
    "    J13 = 4.415e3 # motor\n",
    "    \n",
    "    k2 = 5.88e7\n",
    "    k4 = 5.95e7\n",
    "    k6 = 1.12e8\n",
    "    k8 = 6.93e8\n",
    "    k10 = 5.09e8\n",
    "    k12 = 1.43e8\n",
    "    damping = 180 # damping in steel_shafts\n",
    "    \n",
    "    shafts, disks = [], []\n",
    "    disks.append(ot.Disk(0, I=J1))\n",
    "    shafts.append(ot.Shaft(0, 1, None, None, k=k2, I=0, c=damping))\n",
    "    disks.append(ot.Disk(1, I=J3))\n",
    "    shafts.append(ot.Shaft(1, 2, None, None, k=k4, I=0, c=damping))\n",
    "    disks.append(ot.Disk(2, I=J5))\n",
    "    shafts.append(ot.Shaft(2, 3, None, None, k=k6, I=0, c=damping))\n",
    "    disks.append(ot.Disk(3, I=J7))\n",
    "    shafts.append(ot.Shaft(3, 4, None, None, k=k8, I=0, c=damping))\n",
    "    disks.append(ot.Disk(4, I=J9))\n",
    "    shafts.append(ot.Shaft(4, 5, None, None, k=k10, I=0, c=damping))\n",
    "    disks.append(ot.Disk(5, I=J11))\n",
    "    shafts.append(ot.Shaft(5, 6, None, None, k=k12, I=0, c=damping))\n",
    "    disks.append(ot.Disk(6, I=J13))\n",
    "    \n",
    "    assembly = ot.Assembly(shafts, disk_elements=disks)\n",
    "    _, f, _ = assembly.modal_analysis()\n",
    "    print(\"Eigenfrequencies: \", f.round(2))\n",
    "\n",
    "    return assembly"
   ]
  },
  {
   "cell_type": "code",
   "execution_count": 3,
   "id": "094ecd29",
   "metadata": {},
   "outputs": [],
   "source": [
    "def state_matrices(assembly):\n",
    "    \"\"\"\n",
    "    Create state-space matrices A and B of an openTorsion assembly.\n",
    "\n",
    "    Parameters:\n",
    "    assembly : openTorsion assembly instance\n",
    "        Mechanical drivetrain model.\n",
    "\n",
    "    Returns:\n",
    "    A : numpy.ndarray\n",
    "        The state matrix\n",
    "    B : numpy.ndarray\n",
    "        The input matrix\n",
    "    \"\"\"\n",
    "    M, C, K = assembly.M(), assembly.C(), assembly.K()  # Mass and stiffness matrices\n",
    "    Z = np.zeros(M.shape)\n",
    "    I = np.eye(M.shape[0])\n",
    "    M_inv = LA.inv(M)\n",
    "\n",
    "    A = np.vstack([np.hstack([Z, I]), np.hstack([-M_inv @ K, -M_inv @ C])])\n",
    "\n",
    "    B = np.vstack([Z, M_inv])\n",
    "\n",
    "    return A, B"
   ]
  },
  {
   "cell_type": "code",
   "execution_count": 4,
   "id": "7910fc00",
   "metadata": {},
   "outputs": [],
   "source": [
    "k_list = [5.88e7, 5.95e7, 1.12e8, 6.93e8, 5.09e8, 1.43e8]"
   ]
  },
  {
   "cell_type": "code",
   "execution_count": 5,
   "id": "6995b45b",
   "metadata": {},
   "outputs": [],
   "source": [
    "def X(k_values, ndof):\n",
    "    \"\"\"\n",
    "    Used to transform the state-matrix to be compatible with shaft torque as a state.\n",
    "    \"\"\"\n",
    "    rows = ndof-1\n",
    "    cols = ndof\n",
    "    if len(k_values) != rows:\n",
    "        print(\"wrong amount of stiffness values / dofs\")\n",
    "        return\n",
    "    \n",
    "    X_up = np.zeros((rows, cols))\n",
    "    X_down = np.eye(cols)\n",
    "    Z_up = np.zeros(X_up.shape)\n",
    "    Z_down = np.zeros(X_down.shape)\n",
    "    \n",
    "    for i in range(rows):\n",
    "        X_up[i,i] = -k_values[i]\n",
    "        X_up[i,i+1] = k_values[i]\n",
    "    \n",
    "    X_matrix = np.vstack([np.hstack([X_up, Z_up]), np.hstack([Z_down, X_down])])\n",
    "    \n",
    "    return X_matrix"
   ]
  },
  {
   "cell_type": "markdown",
   "id": "9cef659c",
   "metadata": {},
   "source": [
    "### Construction of the extended observability matrix and the impulse response matrix used in the data equation."
   ]
  },
  {
   "cell_type": "code",
   "execution_count": 6,
   "id": "dd3444ec",
   "metadata": {},
   "outputs": [],
   "source": [
    "def O(A, C, n):\n",
    "    '''\n",
    "    Create the extended observability matrix used in the data equation.\n",
    "\n",
    "    Parameters:\n",
    "\n",
    "    A : numpy.ndarray\n",
    "        The state matrix of the state-space system\n",
    "    C : numpy.ndarray\n",
    "        The observation matrix of the state-space system\n",
    "    n : float\n",
    "        number of measurements\n",
    "\n",
    "    Returns:\n",
    "\n",
    "    O : numpy.ndarray, shape(n, number of state variables)\n",
    "        The extended observability matrix\n",
    "    '''\n",
    "    O = np.copy(C)\n",
    "    for k in range(1, n):\n",
    "        O = np.vstack((O, C @ np.linalg.matrix_power(A, k)))\n",
    "\n",
    "    return O"
   ]
  },
  {
   "cell_type": "code",
   "execution_count": 7,
   "id": "f097a531",
   "metadata": {},
   "outputs": [],
   "source": [
    "def gamma(A, B, C, n):\n",
    "    '''\n",
    "    Create the impulse response matrix used in the data equation.\n",
    "\n",
    "    Parameters:\n",
    "\n",
    "    A : numpy.ndarray\n",
    "        The state matrix of the state-space system\n",
    "    B : numpy.ndarray\n",
    "        The input matrix of the state-space system\n",
    "    C : numpy.ndarray\n",
    "        The observation matrix of the state-space system\n",
    "    n : float\n",
    "        number of measurements\n",
    "\n",
    "    Returns:\n",
    "\n",
    "    gamma : numpy.ndarray, shape(n*number of state variables, n*number of state variables)\n",
    "        The impulse response matrix\n",
    "    '''\n",
    "    # first column\n",
    "    gamma_column_first = np.zeros((C @ B).shape)\n",
    "    for k in range(1, n):\n",
    "        gamma_column_first = np.vstack((gamma_column_first, C @ np.linalg.matrix_power(A, k) @ B))\n",
    "\n",
    "    # build complete matrix\n",
    "    gamma = gamma_column_first\n",
    "    current_col = 1\n",
    "    for s in range(1, n):\n",
    "        gamma_rows = np.zeros((C @ B).shape)\n",
    "        for z in range(1, current_col):\n",
    "            row_val = np.zeros((C @ B).shape)\n",
    "            gamma_rows = np.vstack((gamma_rows, row_val))\n",
    "        for nz in range(n-current_col):\n",
    "            row_val = C @ np.linalg.matrix_power(A, nz) @ B\n",
    "            gamma_rows = np.vstack((gamma_rows, row_val))\n",
    "\n",
    "        gamma = np.hstack((gamma, gamma_rows))\n",
    "        current_col += 1\n",
    "\n",
    "    return gamma"
   ]
  },
  {
   "cell_type": "markdown",
   "id": "3e01deaf",
   "metadata": {},
   "source": [
    "### The regularization matrix"
   ]
  },
  {
   "cell_type": "markdown",
   "id": "5a4c3724",
   "metadata": {},
   "source": [
    "The regularization matrix $L$ as presented in the paper of Ikonen et al. (Note: In the paper, the external load of the propulsion system model is described in changes of moment between consecutive timesteps. Perhaps an identity matrix should be used here?)"
   ]
  },
  {
   "cell_type": "code",
   "execution_count": 8,
   "id": "d63ea54b",
   "metadata": {},
   "outputs": [],
   "source": [
    "def L(input_shape):\n",
    "    '''\n",
    "    The regularization matrix L.\n",
    "\n",
    "    Parameters:\n",
    "\n",
    "    meas_shape : float\n",
    "        Input vector shape used to determine L matrix shape.\n",
    "\n",
    "    Returns:\n",
    "\n",
    "    L : ndarray\n",
    "        The regularization matrix\n",
    "    '''\n",
    "    I = np.eye(input_shape)\n",
    "    L = -I + np.diag(np.ones(input_shape-1), 1)\n",
    "\n",
    "    return L"
   ]
  },
  {
   "cell_type": "markdown",
   "id": "908c9c70",
   "metadata": {},
   "source": [
    "### Convex optimization problem"
   ]
  },
  {
   "cell_type": "markdown",
   "id": "f577aeb3",
   "metadata": {},
   "source": [
    "Here a Tikhonov-regularized optimization problem is defined using measurements from the propulsion system model, the data equation matrix $\\Gamma$ and the regularization matrix $L$. For the present case, an optimal regularization parameter $\\lambda = 0.0512$ is defined using the L-curve plot in the paper of Ikonen et al.\n",
    "\n",
    "The python package [CVXPY](https://www.cvxpy.org/) provides an interface for the solver [MOSEK](https://www.mosek.com/), which is used to solve the Tikhonov-regularized optimization problem."
   ]
  },
  {
   "cell_type": "code",
   "execution_count": 9,
   "id": "0176341c",
   "metadata": {},
   "outputs": [],
   "source": [
    "def convex_optimization_problem(meas, gamm, regu, lam=0.0512):\n",
    "    '''\n",
    "    Convex optimization methods using the cvxpy library.\n",
    "    '''\n",
    "    d = cp.Variable((gamm.shape[1], 1))\n",
    "    measurements = cp.Parameter(meas.shape)\n",
    "    measurements.value = meas\n",
    "    \n",
    "    # objective = cp.Minimize(cp.sum_squares(meas - O @ x - gamma @ d) + lam * cp.pnorm(L @ d, 1))\n",
    "    objective = cp.Minimize(cp.sum_squares(measurements - gamm @ d) + lam * cp.sum_squares(regu @ d))\n",
    "    prob = cp.Problem(objective)\n",
    "    \n",
    "    prob.solve(solver=cp.MOSEK, warm_start=True, verbose=False)\n",
    "\n",
    "    return d.value"
   ]
  },
  {
   "cell_type": "markdown",
   "id": "2c7c81c4",
   "metadata": {},
   "source": [
    "### Unit step response of the propulsion system"
   ]
  },
  {
   "cell_type": "markdown",
   "id": "d2f953af",
   "metadata": {},
   "source": [
    "Here a unit step response is calculated for the propulsion system. The shaft torque between nodes 3 and 4 is plotted, as is in the paper of Ikonen et al."
   ]
  },
  {
   "cell_type": "code",
   "execution_count": 12,
   "id": "db962540",
   "metadata": {},
   "outputs": [
    {
     "name": "stdout",
     "output_type": "stream",
     "text": [
      "Eigenfrequencies:  [  0.     0.    11.41  11.41  48.93  48.93  78.82  78.82 115.27 115.27\n",
      " 268.61 268.61 522.81 522.81]\n",
      "(13, 14)\n"
     ]
    }
   ],
   "source": [
    "assembly = propulsion_system()\n",
    "ndof = assembly.dofs\n",
    "A, B = state_matrices(assembly)\n",
    "C = np.eye(B.shape[0])\n",
    "D = np.zeros(B.shape)\n",
    "\n",
    "# The state matrix, if shaft torque is a state instead of nodal angles\n",
    "transform = X(k_list, ndof)\n",
    "A_transformed = transform @ A\n",
    "C = np.eye(A_transformed.shape[0])\n",
    "print(A_transformed.shape)"
   ]
  },
  {
   "cell_type": "code",
   "execution_count": 11,
   "id": "e6bd4630",
   "metadata": {},
   "outputs": [
    {
     "ename": "ValueError",
     "evalue": "matmul: Input operand 1 has a mismatch in its core dimension 0, with gufunc signature (n?,k),(k,m?)->(n?,m?) (size 13 is different from 14)",
     "output_type": "error",
     "traceback": [
      "\u001b[0;31m---------------------------------------------------------------------------\u001b[0m",
      "\u001b[0;31mValueError\u001b[0m                                Traceback (most recent call last)",
      "\u001b[0;32m/tmp/ipykernel_1957707/831086012.py\u001b[0m in \u001b[0;36m<module>\u001b[0;34m\u001b[0m\n\u001b[1;32m      8\u001b[0m     \u001b[0;32mreturn\u001b[0m \u001b[0mA_transformed\u001b[0m \u001b[0;34m@\u001b[0m \u001b[0mx\u001b[0m \u001b[0;31m#+ B @ u\u001b[0m\u001b[0;34m\u001b[0m\u001b[0;34m\u001b[0m\u001b[0m\n\u001b[1;32m      9\u001b[0m \u001b[0;34m\u001b[0m\u001b[0m\n\u001b[0;32m---> 10\u001b[0;31m \u001b[0msol\u001b[0m \u001b[0;34m=\u001b[0m \u001b[0msolve_ivp\u001b[0m\u001b[0;34m(\u001b[0m\u001b[0mf\u001b[0m\u001b[0;34m,\u001b[0m \u001b[0;34m(\u001b[0m\u001b[0mt\u001b[0m\u001b[0;34m[\u001b[0m\u001b[0;36m0\u001b[0m\u001b[0;34m]\u001b[0m\u001b[0;34m,\u001b[0m \u001b[0mt\u001b[0m\u001b[0;34m[\u001b[0m\u001b[0;34m-\u001b[0m\u001b[0;36m1\u001b[0m\u001b[0;34m]\u001b[0m\u001b[0;34m)\u001b[0m\u001b[0;34m,\u001b[0m \u001b[0mnp\u001b[0m\u001b[0;34m.\u001b[0m\u001b[0mzeros\u001b[0m\u001b[0;34m(\u001b[0m\u001b[0;36m2\u001b[0m\u001b[0;34m*\u001b[0m\u001b[0mndof\u001b[0m\u001b[0;34m-\u001b[0m\u001b[0;36m1\u001b[0m\u001b[0;34m)\u001b[0m\u001b[0;34m,\u001b[0m \u001b[0mt_eval\u001b[0m\u001b[0;34m=\u001b[0m\u001b[0mt\u001b[0m\u001b[0;34m)\u001b[0m\u001b[0;34m\u001b[0m\u001b[0;34m\u001b[0m\u001b[0m\n\u001b[0m\u001b[1;32m     11\u001b[0m \u001b[0mplt\u001b[0m\u001b[0;34m.\u001b[0m\u001b[0mplot\u001b[0m\u001b[0;34m(\u001b[0m\u001b[0msol\u001b[0m\u001b[0;34m.\u001b[0m\u001b[0mt\u001b[0m\u001b[0;34m,\u001b[0m \u001b[0;36m1.5e4\u001b[0m\u001b[0;34m*\u001b[0m\u001b[0;34m(\u001b[0m\u001b[0msol\u001b[0m\u001b[0;34m.\u001b[0m\u001b[0my\u001b[0m\u001b[0;34m[\u001b[0m\u001b[0;36m1\u001b[0m\u001b[0;34m,\u001b[0m\u001b[0;34m:\u001b[0m\u001b[0;34m]\u001b[0m \u001b[0;34m-\u001b[0m \u001b[0msol\u001b[0m\u001b[0;34m.\u001b[0m\u001b[0my\u001b[0m\u001b[0;34m[\u001b[0m\u001b[0;36m0\u001b[0m\u001b[0;34m,\u001b[0m\u001b[0;34m:\u001b[0m\u001b[0;34m]\u001b[0m\u001b[0;34m)\u001b[0m\u001b[0;34m)\u001b[0m\u001b[0;34m\u001b[0m\u001b[0;34m\u001b[0m\u001b[0m\n\u001b[1;32m     12\u001b[0m \u001b[0mplt\u001b[0m\u001b[0;34m.\u001b[0m\u001b[0mshow\u001b[0m\u001b[0;34m(\u001b[0m\u001b[0;34m)\u001b[0m\u001b[0;34m\u001b[0m\u001b[0;34m\u001b[0m\u001b[0m\n",
      "\u001b[0;32m~/.local/lib/python3.8/site-packages/scipy/integrate/_ivp/ivp.py\u001b[0m in \u001b[0;36msolve_ivp\u001b[0;34m(fun, t_span, y0, method, t_eval, dense_output, events, vectorized, args, **options)\u001b[0m\n\u001b[1;32m    540\u001b[0m         \u001b[0mmethod\u001b[0m \u001b[0;34m=\u001b[0m \u001b[0mMETHODS\u001b[0m\u001b[0;34m[\u001b[0m\u001b[0mmethod\u001b[0m\u001b[0;34m]\u001b[0m\u001b[0;34m\u001b[0m\u001b[0;34m\u001b[0m\u001b[0m\n\u001b[1;32m    541\u001b[0m \u001b[0;34m\u001b[0m\u001b[0m\n\u001b[0;32m--> 542\u001b[0;31m     \u001b[0msolver\u001b[0m \u001b[0;34m=\u001b[0m \u001b[0mmethod\u001b[0m\u001b[0;34m(\u001b[0m\u001b[0mfun\u001b[0m\u001b[0;34m,\u001b[0m \u001b[0mt0\u001b[0m\u001b[0;34m,\u001b[0m \u001b[0my0\u001b[0m\u001b[0;34m,\u001b[0m \u001b[0mtf\u001b[0m\u001b[0;34m,\u001b[0m \u001b[0mvectorized\u001b[0m\u001b[0;34m=\u001b[0m\u001b[0mvectorized\u001b[0m\u001b[0;34m,\u001b[0m \u001b[0;34m**\u001b[0m\u001b[0moptions\u001b[0m\u001b[0;34m)\u001b[0m\u001b[0;34m\u001b[0m\u001b[0;34m\u001b[0m\u001b[0m\n\u001b[0m\u001b[1;32m    543\u001b[0m \u001b[0;34m\u001b[0m\u001b[0m\n\u001b[1;32m    544\u001b[0m     \u001b[0;32mif\u001b[0m \u001b[0mt_eval\u001b[0m \u001b[0;32mis\u001b[0m \u001b[0;32mNone\u001b[0m\u001b[0;34m:\u001b[0m\u001b[0;34m\u001b[0m\u001b[0;34m\u001b[0m\u001b[0m\n",
      "\u001b[0;32m~/.local/lib/python3.8/site-packages/scipy/integrate/_ivp/rk.py\u001b[0m in \u001b[0;36m__init__\u001b[0;34m(self, fun, t0, y0, t_bound, max_step, rtol, atol, vectorized, first_step, **extraneous)\u001b[0m\n\u001b[1;32m     92\u001b[0m         \u001b[0mself\u001b[0m\u001b[0;34m.\u001b[0m\u001b[0mmax_step\u001b[0m \u001b[0;34m=\u001b[0m \u001b[0mvalidate_max_step\u001b[0m\u001b[0;34m(\u001b[0m\u001b[0mmax_step\u001b[0m\u001b[0;34m)\u001b[0m\u001b[0;34m\u001b[0m\u001b[0;34m\u001b[0m\u001b[0m\n\u001b[1;32m     93\u001b[0m         \u001b[0mself\u001b[0m\u001b[0;34m.\u001b[0m\u001b[0mrtol\u001b[0m\u001b[0;34m,\u001b[0m \u001b[0mself\u001b[0m\u001b[0;34m.\u001b[0m\u001b[0matol\u001b[0m \u001b[0;34m=\u001b[0m \u001b[0mvalidate_tol\u001b[0m\u001b[0;34m(\u001b[0m\u001b[0mrtol\u001b[0m\u001b[0;34m,\u001b[0m \u001b[0matol\u001b[0m\u001b[0;34m,\u001b[0m \u001b[0mself\u001b[0m\u001b[0;34m.\u001b[0m\u001b[0mn\u001b[0m\u001b[0;34m)\u001b[0m\u001b[0;34m\u001b[0m\u001b[0;34m\u001b[0m\u001b[0m\n\u001b[0;32m---> 94\u001b[0;31m         \u001b[0mself\u001b[0m\u001b[0;34m.\u001b[0m\u001b[0mf\u001b[0m \u001b[0;34m=\u001b[0m \u001b[0mself\u001b[0m\u001b[0;34m.\u001b[0m\u001b[0mfun\u001b[0m\u001b[0;34m(\u001b[0m\u001b[0mself\u001b[0m\u001b[0;34m.\u001b[0m\u001b[0mt\u001b[0m\u001b[0;34m,\u001b[0m \u001b[0mself\u001b[0m\u001b[0;34m.\u001b[0m\u001b[0my\u001b[0m\u001b[0;34m)\u001b[0m\u001b[0;34m\u001b[0m\u001b[0;34m\u001b[0m\u001b[0m\n\u001b[0m\u001b[1;32m     95\u001b[0m         \u001b[0;32mif\u001b[0m \u001b[0mfirst_step\u001b[0m \u001b[0;32mis\u001b[0m \u001b[0;32mNone\u001b[0m\u001b[0;34m:\u001b[0m\u001b[0;34m\u001b[0m\u001b[0;34m\u001b[0m\u001b[0m\n\u001b[1;32m     96\u001b[0m             self.h_abs = select_initial_step(\n",
      "\u001b[0;32m~/.local/lib/python3.8/site-packages/scipy/integrate/_ivp/base.py\u001b[0m in \u001b[0;36mfun\u001b[0;34m(t, y)\u001b[0m\n\u001b[1;32m    136\u001b[0m         \u001b[0;32mdef\u001b[0m \u001b[0mfun\u001b[0m\u001b[0;34m(\u001b[0m\u001b[0mt\u001b[0m\u001b[0;34m,\u001b[0m \u001b[0my\u001b[0m\u001b[0;34m)\u001b[0m\u001b[0;34m:\u001b[0m\u001b[0;34m\u001b[0m\u001b[0;34m\u001b[0m\u001b[0m\n\u001b[1;32m    137\u001b[0m             \u001b[0mself\u001b[0m\u001b[0;34m.\u001b[0m\u001b[0mnfev\u001b[0m \u001b[0;34m+=\u001b[0m \u001b[0;36m1\u001b[0m\u001b[0;34m\u001b[0m\u001b[0;34m\u001b[0m\u001b[0m\n\u001b[0;32m--> 138\u001b[0;31m             \u001b[0;32mreturn\u001b[0m \u001b[0mself\u001b[0m\u001b[0;34m.\u001b[0m\u001b[0mfun_single\u001b[0m\u001b[0;34m(\u001b[0m\u001b[0mt\u001b[0m\u001b[0;34m,\u001b[0m \u001b[0my\u001b[0m\u001b[0;34m)\u001b[0m\u001b[0;34m\u001b[0m\u001b[0;34m\u001b[0m\u001b[0m\n\u001b[0m\u001b[1;32m    139\u001b[0m \u001b[0;34m\u001b[0m\u001b[0m\n\u001b[1;32m    140\u001b[0m         \u001b[0mself\u001b[0m\u001b[0;34m.\u001b[0m\u001b[0mfun\u001b[0m \u001b[0;34m=\u001b[0m \u001b[0mfun\u001b[0m\u001b[0;34m\u001b[0m\u001b[0;34m\u001b[0m\u001b[0m\n",
      "\u001b[0;32m~/.local/lib/python3.8/site-packages/scipy/integrate/_ivp/base.py\u001b[0m in \u001b[0;36mfun_wrapped\u001b[0;34m(t, y)\u001b[0m\n\u001b[1;32m     18\u001b[0m \u001b[0;34m\u001b[0m\u001b[0m\n\u001b[1;32m     19\u001b[0m     \u001b[0;32mdef\u001b[0m \u001b[0mfun_wrapped\u001b[0m\u001b[0;34m(\u001b[0m\u001b[0mt\u001b[0m\u001b[0;34m,\u001b[0m \u001b[0my\u001b[0m\u001b[0;34m)\u001b[0m\u001b[0;34m:\u001b[0m\u001b[0;34m\u001b[0m\u001b[0;34m\u001b[0m\u001b[0m\n\u001b[0;32m---> 20\u001b[0;31m         \u001b[0;32mreturn\u001b[0m \u001b[0mnp\u001b[0m\u001b[0;34m.\u001b[0m\u001b[0masarray\u001b[0m\u001b[0;34m(\u001b[0m\u001b[0mfun\u001b[0m\u001b[0;34m(\u001b[0m\u001b[0mt\u001b[0m\u001b[0;34m,\u001b[0m \u001b[0my\u001b[0m\u001b[0;34m)\u001b[0m\u001b[0;34m,\u001b[0m \u001b[0mdtype\u001b[0m\u001b[0;34m=\u001b[0m\u001b[0mdtype\u001b[0m\u001b[0;34m)\u001b[0m\u001b[0;34m\u001b[0m\u001b[0;34m\u001b[0m\u001b[0m\n\u001b[0m\u001b[1;32m     21\u001b[0m \u001b[0;34m\u001b[0m\u001b[0m\n\u001b[1;32m     22\u001b[0m     \u001b[0;32mreturn\u001b[0m \u001b[0mfun_wrapped\u001b[0m\u001b[0;34m,\u001b[0m \u001b[0my0\u001b[0m\u001b[0;34m\u001b[0m\u001b[0;34m\u001b[0m\u001b[0m\n",
      "\u001b[0;32m/tmp/ipykernel_1957707/831086012.py\u001b[0m in \u001b[0;36mf\u001b[0;34m(t, x)\u001b[0m\n\u001b[1;32m      6\u001b[0m \u001b[0;34m\u001b[0m\u001b[0m\n\u001b[1;32m      7\u001b[0m \u001b[0;32mdef\u001b[0m \u001b[0mf\u001b[0m\u001b[0;34m(\u001b[0m\u001b[0mt\u001b[0m\u001b[0;34m,\u001b[0m \u001b[0mx\u001b[0m\u001b[0;34m)\u001b[0m\u001b[0;34m:\u001b[0m\u001b[0;34m\u001b[0m\u001b[0;34m\u001b[0m\u001b[0m\n\u001b[0;32m----> 8\u001b[0;31m     \u001b[0;32mreturn\u001b[0m \u001b[0mA_transformed\u001b[0m \u001b[0;34m@\u001b[0m \u001b[0mx\u001b[0m \u001b[0;31m#+ B @ u\u001b[0m\u001b[0;34m\u001b[0m\u001b[0;34m\u001b[0m\u001b[0m\n\u001b[0m\u001b[1;32m      9\u001b[0m \u001b[0;34m\u001b[0m\u001b[0m\n\u001b[1;32m     10\u001b[0m \u001b[0msol\u001b[0m \u001b[0;34m=\u001b[0m \u001b[0msolve_ivp\u001b[0m\u001b[0;34m(\u001b[0m\u001b[0mf\u001b[0m\u001b[0;34m,\u001b[0m \u001b[0;34m(\u001b[0m\u001b[0mt\u001b[0m\u001b[0;34m[\u001b[0m\u001b[0;36m0\u001b[0m\u001b[0;34m]\u001b[0m\u001b[0;34m,\u001b[0m \u001b[0mt\u001b[0m\u001b[0;34m[\u001b[0m\u001b[0;34m-\u001b[0m\u001b[0;36m1\u001b[0m\u001b[0;34m]\u001b[0m\u001b[0;34m)\u001b[0m\u001b[0;34m,\u001b[0m \u001b[0mnp\u001b[0m\u001b[0;34m.\u001b[0m\u001b[0mzeros\u001b[0m\u001b[0;34m(\u001b[0m\u001b[0;36m2\u001b[0m\u001b[0;34m*\u001b[0m\u001b[0mndof\u001b[0m\u001b[0;34m-\u001b[0m\u001b[0;36m1\u001b[0m\u001b[0;34m)\u001b[0m\u001b[0;34m,\u001b[0m \u001b[0mt_eval\u001b[0m\u001b[0;34m=\u001b[0m\u001b[0mt\u001b[0m\u001b[0;34m)\u001b[0m\u001b[0;34m\u001b[0m\u001b[0;34m\u001b[0m\u001b[0m\n",
      "\u001b[0;31mValueError\u001b[0m: matmul: Input operand 1 has a mismatch in its core dimension 0, with gufunc signature (n?,k),(k,m?)->(n?,m?) (size 13 is different from 14)"
     ]
    }
   ],
   "source": [
    "t = np.arange(0, 1.000, 0.002)\n",
    "\n",
    "# impulse applied at node 0\n",
    "u = np.zeros(2*ndof-1)\n",
    "u[0] = 1\n",
    "\n",
    "def f(t, x):\n",
    "    return A_transformed @ x #+ B @ u\n",
    "\n",
    "sol = solve_ivp(f, (t[0], t[-1]), np.zeros(2*ndof-1), t_eval=t)\n",
    "plt.plot(sol.t, 1.5e4*(sol.y[1,:] - sol.y[0,:]))\n",
    "plt.show()"
   ]
  },
  {
   "cell_type": "code",
   "execution_count": null,
   "id": "fa7e551a",
   "metadata": {},
   "outputs": [],
   "source": [
    "# A plot of the external load\n",
    "plt.plot(t, u[:,0])\n",
    "plt.show()"
   ]
  },
  {
   "cell_type": "markdown",
   "id": "7ac0b259",
   "metadata": {},
   "source": [
    "### Generating measurement data"
   ]
  },
  {
   "cell_type": "markdown",
   "id": "d5e1b29d",
   "metadata": {},
   "source": [
    "To avoid inverse crime, in the paper of Ikonen et al., the propulsion system model defined above is modified by varying the inertia and stiffness values by $\\pm 10$% and adding an additional damping coefficient for the propeller."
   ]
  },
  {
   "cell_type": "code",
   "execution_count": null,
   "id": "34c94ee2",
   "metadata": {},
   "outputs": [],
   "source": [
    "def propulsion_system():\n",
    "    J1 = np.random.uniform(0.9, 1.1)*1.347e4 # propeller\n",
    "    J3 = np.random.uniform(0.9, 1.1)*5.590e2\n",
    "    J5 = np.random.uniform(0.9, 1.1)*5.120e2\n",
    "    J7 = np.random.uniform(0.9, 1.1)*4.870e2\n",
    "    J9 = np.random.uniform(0.9, 1.1)*1.410e2\n",
    "    J11 = np.random.uniform(0.9, 1.1)*1.740e2\n",
    "    J13 = np.random.uniform(0.9, 1.1)*4.415e3 # motor\n",
    "    \n",
    "    k2 = np.random.uniform(0.9, 1.1)*5.88e7\n",
    "    k4 = np.random.uniform(0.9, 1.1)*5.95e7\n",
    "    k6 = np.random.uniform(0.9, 1.1)*1.12e8\n",
    "    k8 = np.random.uniform(0.9, 1.1)*6.93e8 # this value is used in the calculation of the shaft torque and must be saved\n",
    "    k10 = np.random.uniform(0.9, 1.1)*5.09e8\n",
    "    k12 = np.random.uniform(0.9, 1.1)*1.43e8\n",
    "    damping = 180 # damping in steel_shafts\n",
    "    propeller_damping = 120e3 # the propeller damping\n",
    "    \n",
    "    shafts, disks = [], []\n",
    "    disks.append(ot.Disk(0, I=J1, c=propeller_damping))\n",
    "    shafts.append(ot.Shaft(0, 1, None, None, k=k2, I=0, c=damping))\n",
    "    disks.append(ot.Disk(1, I=J3))\n",
    "    shafts.append(ot.Shaft(1, 2, None, None, k=k4, I=0, c=damping))\n",
    "    disks.append(ot.Disk(2, I=J5))\n",
    "    shafts.append(ot.Shaft(2, 3, None, None, k=k6, I=0, c=damping))\n",
    "    disks.append(ot.Disk(3, I=J7))\n",
    "    shafts.append(ot.Shaft(3, 4, None, None, k=k8, I=0, c=damping))\n",
    "    disks.append(ot.Disk(4, I=J9))\n",
    "    shafts.append(ot.Shaft(4, 5, None, None, k=k10, I=0, c=damping))\n",
    "    disks.append(ot.Disk(5, I=J11))\n",
    "    shafts.append(ot.Shaft(5, 6, None, None, k=k12, I=0, c=damping))\n",
    "    disks.append(ot.Disk(6, I=J13))\n",
    "    \n",
    "    assembly = ot.Assembly(shafts, disk_elements=disks)\n",
    "    _, f, _ = assembly.modal_analysis()\n",
    "    print(\"Eigenfrequencies: \", f.round(2))\n",
    "\n",
    "    return assembly, k8"
   ]
  },
  {
   "cell_type": "code",
   "execution_count": null,
   "id": "b1c8b8bf",
   "metadata": {},
   "outputs": [],
   "source": [
    "assembly, shaft8_stiffness = propulsion_system()\n",
    "A, B = state_matrices(assembly)\n",
    "C = np.eye(B.shape[0])\n",
    "D = np.zeros(B.shape)"
   ]
  },
  {
   "cell_type": "code",
   "execution_count": null,
   "id": "4750dca2",
   "metadata": {},
   "outputs": [],
   "source": [
    "t = np.arange(0, 1.200, 0.002)\n",
    "print(t.shape)\n",
    "\n",
    "# impulse applied at node 0\n",
    "u = np.zeros((len(t), 7))\n",
    "u[20:40,0] = 200000\n",
    "\n",
    "tout, yout, xout = lsim((A, B, C, D), u, t)\n",
    "\n",
    "torque_meas = shaft8_stiffness*(yout[:,4]-yout[:,3])\n",
    "\n",
    "plt.plot(tout, torque_meas)\n",
    "plt.grid()\n",
    "plt.show()"
   ]
  },
  {
   "cell_type": "code",
   "execution_count": null,
   "id": "346580a6",
   "metadata": {},
   "outputs": [],
   "source": [
    "def construct_measurement(n, y):\n",
    "    '''\n",
    "    This function is used to construct a measurement vector used in the convex optimization\n",
    "    problem so that for each timestep there is a vector containing one of each measurement.\n",
    "    In this case, angle and speed measurements from nodes 3 and 4 are used (4 measurements per timestep in total). \n",
    "    '''\n",
    "    measurement = np.vstack([y[0,0], y[0,1], y[0,2], y[0,3]])\n",
    "    for i in range(1, n):\n",
    "        measurement = np.vstack([measurement, y[i,0], y[i,1], y[i,2], y[i,3]])\n",
    "    return measurement"
   ]
  },
  {
   "cell_type": "markdown",
   "id": "66f1b546",
   "metadata": {},
   "source": [
    "Here an observation matrix is defined for measuring the angles and speeds at nodes 3 and 4. The convex optimization problem is solved using batches of measurements of 7 consecutive timesteps."
   ]
  },
  {
   "cell_type": "code",
   "execution_count": null,
   "id": "6ab6d544",
   "metadata": {},
   "outputs": [],
   "source": [
    "n = 7 # number of measurements in the batch\n",
    "dofs = 7\n",
    "estimates = np.zeros((n*dofs, 1))\n",
    "idx = 0\n",
    "\n",
    "obs = np.array([[0, 0, 0, 1, 0, 0, 0, 0, 0, 0, 0, 0, 0, 0],\n",
    "                [0, 0, 0, 0, 1, 0, 0, 0, 0, 0, 0, 0, 0, 0],\n",
    "                [0, 0, 0, 0, 0, 0, 0, 0, 0, 0, 1, 0, 0, 0],\n",
    "                [0, 0, 0, 0, 0, 0, 0, 0, 0, 0, 0, 1, 0, 0]])\n",
    "\n",
    "gam = gamma(A, B, obs, n)\n",
    "reg = L(7*n) # size: number of nodes times number of timesteps\n",
    "for i in range(int((yout.shape[0]-(yout.shape[0]%7))/n)):\n",
    "    y = np.hstack([yout[idx:idx+n, 3:5], yout[idx:idx+n, 10:12]])\n",
    "    idx += n\n",
    "    meas_batch = construct_measurement(n, y)\n",
    "    estimate = convex_optimization_problem(meas_batch, gam, reg, lam=1e-20)\n",
    "    estimates = np.vstack([estimates, estimate])"
   ]
  },
  {
   "cell_type": "code",
   "execution_count": null,
   "id": "9ad83d45",
   "metadata": {},
   "outputs": [],
   "source": [
    "print(estimates.shape)\n",
    "plt.plot(estimates)\n",
    "plt.show()"
   ]
  },
  {
   "cell_type": "code",
   "execution_count": null,
   "id": "c679c791",
   "metadata": {},
   "outputs": [],
   "source": [
    "node0_estimates = estimates[0::7]\n",
    "plt.plot(node0_estimates)\n",
    "plt.show()"
   ]
  },
  {
   "cell_type": "code",
   "execution_count": null,
   "id": "8a05240b",
   "metadata": {},
   "outputs": [],
   "source": []
  }
 ],
 "metadata": {
  "kernelspec": {
   "display_name": "Python 3 (ipykernel)",
   "language": "python",
   "name": "python3"
  },
  "language_info": {
   "codemirror_mode": {
    "name": "ipython",
    "version": 3
   },
   "file_extension": ".py",
   "mimetype": "text/x-python",
   "name": "python",
   "nbconvert_exporter": "python",
   "pygments_lexer": "ipython3",
   "version": "3.8.10"
  }
 },
 "nbformat": 4,
 "nbformat_minor": 5
}
