{
 "cells": [
  {
   "cell_type": "markdown",
   "id": "08bac926",
   "metadata": {},
   "source": [
    "# Kongsberg testbench model"
   ]
  },
  {
   "cell_type": "code",
   "execution_count": 1,
   "id": "6be4d0d0",
   "metadata": {},
   "outputs": [],
   "source": [
    "import numpy as np\n",
    "import matplotlib.pyplot as plt\n",
    "import pandas as pd\n",
    "import scipy.linalg as LA\n",
    "from scipy.signal import lsim, dlsim\n",
    "import pickle\n",
    "import opentorsion as ot"
   ]
  },
  {
   "cell_type": "markdown",
   "id": "b524d721",
   "metadata": {},
   "source": [
    "The testbench model is based on the small-scale maritime laboratory testbench presented in [Manngård et al. 2022](https://doi.org/10.1016/j.ymssp.2022.108969). The two lowest natural frequencies of the testbench were experimentally determined to be 23.2 Hz and 51.4 Hz."
   ]
  },
  {
   "cell_type": "code",
   "execution_count": 2,
   "id": "a05f44d7",
   "metadata": {},
   "outputs": [],
   "source": [
    "def testbench():\n",
    "    '''\n",
    "    Kongsberg testbench model based on parameters from Manngård et al. (2022).\n",
    "    '''\n",
    "    shafts = []\n",
    "    disks = []\n",
    "    gears = []\n",
    "\n",
    "    disks.append(ot.Disk(0, I=6.5e-4))\n",
    "    shafts.append(ot.Shaft(0, 1, 0, 0, k=1.9039e5, I=1.4420e-4, c=8.0804)) # driving motor, coupling\n",
    "    shafts.append(ot.Shaft(1, 2, 0, 0, k=6.9487e3, I=3.7880e-6, c=0.2949)) # shaft\n",
    "    shafts.append(ot.Shaft(2, 3, 0, 0, k=90, I=3e-6, c=0.2387)) # elastomer coupling hub\n",
    "    shafts.append(ot.Shaft(3, 4, 0, 0, k=90, I=2e-6, c=0.2387)) # elastomer coupling middle piece\n",
    "    shafts.append(ot.Shaft(4, 5, 0, 0, k=90, I=0, c=0.2387)) # elastomer coupling hubs & shaft\n",
    "    disks.append(ot.Disk(5, I=7.8091e-3))\n",
    "    shafts.append(ot.Shaft(5, 6, 0, 0, k=90, I=2e-6, c=0.2387))# elastomer coupling middle piece\n",
    "    shafts.append(ot.Shaft(6, 7, 0, 0, k=90, I=0, c=0.0013)) # elastomer coupling hub & shaft\n",
    "    shafts.append(ot.Shaft(7, 8, 0.342e3, 0.008e3, G=80e9, rho=7800)) # new shaft (shaft & coupling)\n",
    "    shafts.append(ot.Shaft(8, 9, 0, 0, k=5.4e3, I=6.5e-6, c=0.2292)) # torque transducer\n",
    "    shafts.append(ot.Shaft(9, 10, 0, 0, k=4.19e4, I=5.65e-5, c=1.7783)) # torque transducer & coupling\n",
    "    shafts.append(ot.Shaft(10, 11, 0, 0, k=1.2192e3, I=4.2685e-6, c=0.5175)) # shaft\n",
    "    gear1 = ot.Gear(11, I=3.2467e-4, R=1)\n",
    "    gears.append(gear1) # shaft & gear\n",
    "    gears.append(ot.Gear(12, I=0, R=3, parent=gear1))\n",
    "    shafts.append(ot.Shaft(12, 13, 0, 0, k=3.1e4, I=1.2e-4, c=1.3157)) # coupling\n",
    "    shafts.append(ot.Shaft(13, 14, 0, 0, k=1.1429e3, I=1.1516e-5, c=0.0485)) # shaft\n",
    "    shafts.append(ot.Shaft(14, 15, 0, 0, k=3.1e4, I=1.3152e-4, c=1.3157)) # shaft & coupling\n",
    "    shafts.append(ot.Shaft(15, 16, 0, 0, k=1.2192e4, I=4.2685e-6, c=0.5175)) # shaft\n",
    "    gear2 = ot.Gear(16, I=2.6927e-4, R=1)\n",
    "    gears.append(gear2) # shaft & gear\n",
    "    gears.append(ot.Gear(17, I=0, R=4, parent=gear2))\n",
    "    shafts.append(ot.Shaft(17, 18, 0, 0, k=1.38e5, I=1.8e-4, c=5.8569)) # coupling\n",
    "    shafts.append(ot.Shaft(18, 19, 0, 0, k=2e4, I=2e-5, c=0.8488)) # torque transducer\n",
    "    shafts.append(ot.Shaft(19, 20, 0, 0, k=1.38e5, I=2e-4, c=5.8569)) # torque trandsucer & coupling\n",
    "    shafts.append(ot.Shaft(20, 21, 0, 0, k=1.2192e4, I=4.2685e-6, c=0.5175)) # shaft\n",
    "    disks.append(ot.Disk(21, I=4.9535e-2)) # shaft, mass, planetary gear & load generator\n",
    "\n",
    "    assembly = ot.Assembly(shafts, disk_elements=disks, gear_elements=gears)\n",
    "    _, f, _ = assembly.modal_analysis()\n",
    "    print(f.round(2))\n",
    "\n",
    "    return assembly\n"
   ]
  },
  {
   "cell_type": "code",
   "execution_count": 3,
   "id": "e9a11246",
   "metadata": {},
   "outputs": [
    {
     "name": "stdout",
     "output_type": "stream",
     "text": [
      "[0.000000e+00 0.000000e+00 2.354000e+01 2.354000e+01 2.566000e+01\n",
      " 2.566000e+01 6.013000e+01 6.092000e+01 6.210000e+01 6.210000e+01\n",
      " 8.606000e+01 1.883200e+02 1.883200e+02 4.021800e+02 4.021800e+02\n",
      " 7.604000e+02 7.604000e+02 1.124620e+03 1.124620e+03 1.902300e+03\n",
      " 1.902300e+03 2.476650e+03 2.476650e+03 3.172520e+03 3.172520e+03\n",
      " 3.360790e+03 3.360790e+03 3.517990e+03 3.517990e+03 3.635520e+03\n",
      " 3.635520e+03 5.367610e+03 5.367610e+03 5.776600e+03 5.776600e+03\n",
      " 5.966730e+03 5.966730e+03 8.508430e+03 9.439520e+03 3.235839e+04]\n"
     ]
    }
   ],
   "source": [
    "assembly = testbench()"
   ]
  },
  {
   "cell_type": "markdown",
   "id": "b740872b",
   "metadata": {},
   "source": [
    "The lowest natural frequencies of the above model (23.5 Hz and 60 Hz) are relatively close to the experimental results. "
   ]
  },
  {
   "cell_type": "code",
   "execution_count": 4,
   "id": "9e81b6ed",
   "metadata": {},
   "outputs": [],
   "source": [
    "def testbench_measured():\n",
    "    '''\n",
    "    Kongsberg testbench model with measured component dimensions.\n",
    "    '''\n",
    "    \n",
    "    shafts, disks, gears = [], [], []\n",
    "\n",
    "    shafts = []\n",
    "    disks = []\n",
    "    gears = []\n",
    "\n",
    "    '''Driving motor, motor shaft, aluminium copuling, steel shaft'''\n",
    "    disks.append(ot.Disk(0, I=6.5e-4))\n",
    "    shafts.append(ot.Shaft(0, 1, 15, 24))\n",
    "    shafts.append(ot.Shaft(1, 2, 79.45, 66, idl=20, G=27e9, E=70e9, rho=2710))\n",
    "    shafts.append(ot.Shaft(2, 3, 6, 16))\n",
    "\n",
    "    '''Elastomer coupling'''\n",
    "    shafts.append(ot.Shaft(3, 4, (51.75/3), 32.2, idl=16, G=27e9, E=70e9, rho=2710)) # elastomer coupling hub\n",
    "    shafts.append(ot.Shaft(4, 5, 0, 0, k=90, I=0)) # elastomer coupling soft part\n",
    "    shafts.append(ot.Shaft(5, 6, (51.75/3), 32.2, idl=16, G=27e9, E=70e9, rho=2710)) # elastomer coupling middle piece\n",
    "    shafts.append(ot.Shaft(6, 7, 0, 0, k=90, I=0)) # elastomer coupling soft part\n",
    "    shafts.append(ot.Shaft(7, 8, (51.75/3), 32.2, idl=16, G=27e9, E=70e9, rho=2710)) # elastomer coupling hub\n",
    "\n",
    "    '''Shaft, mass, shaft'''\n",
    "    shafts.append(ot.Shaft(8, 9 , 39, 16))\n",
    "    disks.append(ot.Disk(9, I=7.7e-3))\n",
    "    shafts.append(ot.Shaft(9, 10, 39, 16))\n",
    "\n",
    "    '''Elastomer coupling'''\n",
    "    shafts.append(ot.Shaft(11, 12, (51.75/3), 32.2, idl=16, G=27e9, E=70e9, rho=2710)) # elastomer coupling hub\n",
    "    shafts.append(ot.Shaft(12, 13, 0, 0, k=90, I=0)) # elastomer coupling soft part\n",
    "    shafts.append(ot.Shaft(13, 14, (51.75/3), 32.2, idl=16, G=27e9, E=70e9, rho=2710)) # elastomer coupling middle piece\n",
    "    shafts.append(ot.Shaft(14, 15, 0, 0, k=90, I=0)) # elastomer coupling soft part\n",
    "    shafts.append(ot.Shaft(15, 16, (51.75/3), 32.2, idl=16, G=27e9, E=70e9, rho=2710)) # elastomer coupling hub\n",
    "\n",
    "    '''Shaft, bellow coupling, torque transducer, bellow coupling'''\n",
    "    shafts.append(ot.Shaft(17, 18, 319, 8)) # long shaft\n",
    "    shafts.append(ot.Shaft(19, 20, 0, 0, k=15e3, I=2e-5)) # coupling\n",
    "    shafts.append(ot.Shaft(20, 21, 0, 0, k=5400, I=1.3e-5)) # torque transducer\n",
    "    shafts.append(ot.Shaft(21, 22, 0, 0, k=15e3, I=2e-5)) # coupling\n",
    "\n",
    "    '''First gearbox, shafts, couplings'''\n",
    "    gear1 = ot.Gear(22, I=3.2467e-4, R=1)\n",
    "    gears.append(gear1) # gear\n",
    "    gears.append(ot.Gear(23, I=0, R=3, parent=gear1))\n",
    "    shafts.append(ot.Shaft(23, 24, 0, 0, k=3.1e4, I=1.2e-4)) # coupling\n",
    "    shafts.append(ot.Shaft(24, 25, 33.5, 16)) # shaft\n",
    "    shafts.append(ot.Shaft(25, 26, 0, 0, k=3.1e4, I=1.2e-4)) # coupling\n",
    "    shafts.append(ot.Shaft(26, 27, 62, 25)) # shaft\n",
    "\n",
    "    '''Second gearbox, shafts, couplings'''\n",
    "    gear2 = ot.Gear(27, I=7.315601e-5, R=1)\n",
    "    gears.append(gear2) # shaft & gear\n",
    "    gears.append(ot.Gear(28, I=1.1265292e-2, R=4, parent=gear2))\n",
    "    shafts.append(ot.Shaft(28, 29, 105, 24.5)) # shaft\n",
    "    shafts.append(ot.Shaft(29, 30, 0, 0, k=138e3, I=2.8e-4)) # coupling\n",
    "    shafts.append(ot.Shaft(30, 31, 0, 0, k=2e4, I=4e-5)) # torque transducer\n",
    "    shafts.append(ot.Shaft(31, 32, 0, 0, k=138e3, I=2.8e-4)) # coupling\n",
    "    shafts.append(ot.Shaft(32, 33, 117, 25)) # shaft\n",
    "    disks.append(ot.Disk(33, I=7.5863e-3)) # mass\n",
    "    shafts.append(ot.Shaft(33, 34, 77, 25))\n",
    "    shafts.append(ot.Shaft(34, 35, 0, 0, k=31e3, I=0.12e-3))\n",
    "\n",
    "    '''Planetary gear, driving motor'''\n",
    "    gear3 = ot.Gear(21, I=0, R=8) # planetary gear\n",
    "    gears.append(gear3)\n",
    "    gears.append(ot.Gear(22, I=1.32e-4, R=1, parent=gear3))\n",
    "    disks.append(ot.Disk(22, I=6.5e-4)) # load generator\n",
    "\n",
    "    assembly = ot.Assembly(shafts, disk_elements=disks, gear_elements=gears)\n",
    "    _, f, _ = assembly.modal_analysis()\n",
    "    print(f.round(2))\n",
    "\n",
    "    return assembly"
   ]
  },
  {
   "cell_type": "markdown",
   "id": "24f28699",
   "metadata": {},
   "source": [
    "# The state-space model of the testbench"
   ]
  },
  {
   "cell_type": "markdown",
   "id": "5a9af683",
   "metadata": {},
   "source": [
    "The conventional state-space model presented in e.g. Friswell\n",
    "\n",
    "$$ \\begin{bmatrix} \\dot{\\theta} \\\\ \\ddot{\\theta} \\end{bmatrix} = \\underbrace{\\begin{bmatrix} \\boldsymbol{0} & \\textbf{I} \\\\ -\\textbf{M}^{-1}\\textbf{K} & -\\textbf{M}^{-1}\\textbf{C} \\end{bmatrix}}_{\\textbf{A}} \\begin{bmatrix} \\theta \\\\ \\dot{\\theta} \\end{bmatrix} + \\underbrace{\\begin{bmatrix} \\boldsymbol{0} \\\\ \\textbf{M}^{-1} \\end{bmatrix}}_{\\textbf{B}} \\textbf{T} $$"
   ]
  },
  {
   "cell_type": "code",
   "execution_count": 5,
   "id": "966ff4f8",
   "metadata": {},
   "outputs": [],
   "source": [
    "def state_matrices(assembly):\n",
    "    \"\"\"\n",
    "    Create state-space matrices A and B of an openTorsion assembly.\n",
    "\n",
    "    Parameters:\n",
    "        assembly : openTorsion assembly instance\n",
    "            Mechanical drivetrain model\n",
    "\n",
    "    Returns:\n",
    "        A : numpy.ndarray\n",
    "            The state matrix\n",
    "        B : numpy.ndarray\n",
    "            The input matrix\n",
    "    \"\"\"\n",
    "    M, C, K = assembly.M(), assembly.C(), assembly.K()  # Mass and stiffness matrices\n",
    "    Z = np.zeros(M.shape)\n",
    "    I = np.eye(M.shape[0])\n",
    "    M_inv = LA.inv(M)\n",
    "\n",
    "    A = np.vstack([np.hstack([Z, I]), np.hstack([-M_inv @ K, -M_inv @ C])])\n",
    "\n",
    "    B = np.vstack([Z, M_inv])\n",
    "\n",
    "    return A, B"
   ]
  },
  {
   "cell_type": "code",
   "execution_count": 6,
   "id": "a735d63e",
   "metadata": {},
   "outputs": [],
   "source": [
    "def excitation_matrix(t, dof, motor, load):\n",
    "    '''\n",
    "    Excitation in matrix form. This function assumes the load is\n",
    "    always applied to the first and last node of the drivetrain.\n",
    "\n",
    "    Parameters\n",
    "    t : ndarray\n",
    "        timesteps\n",
    "    load : lambda function\n",
    "        excitation function\n",
    "    dof : int\n",
    "        number of degrees of freedom of the drivetrain\n",
    "    '''\n",
    "    U = np.zeros((len(t), dof))\n",
    "\n",
    "    U[:,0] += motor\n",
    "    U[:,-1] -= load\n",
    "\n",
    "    return U"
   ]
  },
  {
   "cell_type": "code",
   "execution_count": 7,
   "id": "041ff363",
   "metadata": {},
   "outputs": [],
   "source": [
    "data = np.genfromtxt('../data/Experiment31.csv', delimiter=',')"
   ]
  },
  {
   "cell_type": "code",
   "execution_count": 8,
   "id": "629466c4",
   "metadata": {},
   "outputs": [],
   "source": [
    "time = data[:,0]\n",
    "motor_torque = data[:,-2]\n",
    "propeller_torque = data[:,-1]\n",
    "\n",
    "angular_speed_7 = data[:,7]\n",
    "upper_torque_sensor = data[:,31]"
   ]
  },
  {
   "cell_type": "code",
   "execution_count": 9,
   "id": "a11d47db",
   "metadata": {},
   "outputs": [],
   "source": [
    "def c2d(A,B,Ts):\n",
    "    \"\"\"\n",
    "    C2D computes a discrete-time model of a system (A_c,B_c) with sample time T_s.\n",
    "    The function returns matrices A,B of the discrete-time system.\n",
    "    \"\"\"\n",
    "    m,n = A.shape\n",
    "    m,nb = B.shape\n",
    "\n",
    "    s = np.concatenate([A,B], axis=1)\n",
    "    s = np.concatenate( [s, np.zeros( (nb,n+nb) )],axis=0 )\n",
    "    S = LA.expm(s*Ts)\n",
    "    Ad = S[0:n,0:n]\n",
    "    Bd = S[0:n,n:n+nb+1]\n",
    "    return Ad, Bd"
   ]
  },
  {
   "cell_type": "code",
   "execution_count": 10,
   "id": "3b63d941",
   "metadata": {},
   "outputs": [],
   "source": [
    "A, B = state_matrices(assembly)\n",
    "C, D = np.eye(B.shape[0]), np.zeros(B.shape)\n",
    "\n",
    "dof = assembly.M().shape[0]\n",
    "U = excitation_matrix(time, dof, motor_torque, propeller_torque)\n",
    "\n",
    "dt = np.mean(np.diff(time))"
   ]
  },
  {
   "cell_type": "code",
   "execution_count": 11,
   "id": "7d31b6fe",
   "metadata": {},
   "outputs": [],
   "source": [
    "A_d, B_d = c2d(A, B, dt)"
   ]
  },
  {
   "cell_type": "code",
   "execution_count": 12,
   "id": "b9b8d83b",
   "metadata": {},
   "outputs": [
    {
     "data": {
      "text/plain": [
       "[<matplotlib.lines.Line2D at 0x7fc466c782e0>]"
      ]
     },
     "execution_count": 12,
     "metadata": {},
     "output_type": "execute_result"
    },
    {
     "data": {
      "image/png": "[encoded data removed]",
      "text/plain": [
       "<Figure size 432x288 with 1 Axes>"
      ]
     },
     "metadata": {
      "needs_background": "light"
     },
     "output_type": "display_data"
    }
   ],
   "source": [
    "plt.plot(time, U[:,0])\n",
    "plt.plot(time, U[:,-1])"
   ]
  },
  {
   "cell_type": "code",
   "execution_count": 13,
   "id": "fd0efc28",
   "metadata": {},
   "outputs": [],
   "source": [
    "tout, yout, xout = lsim((A, B, C, D), U, time)"
   ]
  },
  {
   "cell_type": "code",
   "execution_count": 15,
   "id": "45042f58",
   "metadata": {},
   "outputs": [
    {
     "data": {
      "text/plain": [
       "[<matplotlib.lines.Line2D at 0x7fc47fb68670>]"
      ]
     },
     "execution_count": 15,
     "metadata": {},
     "output_type": "execute_result"
    },
    {
     "data": {
      "image/png": "[encoded data removed]",
      "text/plain": [
       "<Figure size 432x288 with 1 Axes>"
      ]
     },
     "metadata": {
      "needs_background": "light"
     },
     "output_type": "display_data"
    }
   ],
   "source": [
    "plt.plot(tout, yout[:,26])\n",
    "plt.plot(time, angular_speed_7)"
   ]
  },
  {
   "cell_type": "code",
   "execution_count": 16,
   "id": "9e9c375d",
   "metadata": {},
   "outputs": [],
   "source": [
    "dtout, dyout, dxout = dlsim((A_d, B_d, C, D, dt), U, time)"
   ]
  },
  {
   "cell_type": "code",
   "execution_count": 17,
   "id": "c8b0d207",
   "metadata": {},
   "outputs": [
    {
     "data": {
      "text/plain": [
       "[<matplotlib.lines.Line2D at 0x7fc4814ab490>]"
      ]
     },
     "execution_count": 17,
     "metadata": {},
     "output_type": "execute_result"
    },
    {
     "data": {
      "image/png": "[encoded data removed]",
      "text/plain": [
       "<Figure size 432x288 with 1 Axes>"
      ]
     },
     "metadata": {
      "needs_background": "light"
     },
     "output_type": "display_data"
    }
   ],
   "source": [
    "plt.plot(dtout, dyout[:,26])\n",
    "plt.plot(time, angular_speed_7)"
   ]
  },
  {
   "cell_type": "markdown",
   "id": "846db55a",
   "metadata": {},
   "source": [
    "# TODO:"
   ]
  },
  {
   "cell_type": "markdown",
   "id": "3e53469a",
   "metadata": {},
   "source": [
    "The model is defined to have shaft torques and nodal rotational speeds as states. The state-space model is as follows (details in the \"modified_state_matrix_2dof\" notebook):\n",
    "\n",
    "$$ \\begin{bmatrix} \\dot{\\tau}_{1,2} \\\\ \\vdots \\\\ \\dot{\\tau}_{n-1,n} \\\\ \\ddot{\\theta}_1 \\\\ \\vdots \\\\  \\ddot{\\theta}_n \\end{bmatrix}_{2n-1 \\times 1} = \\textbf{X}_{2n-1 \\times 2n} \\textbf{A}_{2n \\times 2n} \\textbf{X}^{-1}_{2n \\times 2n-1} \\begin{bmatrix} \\tau_{1,2} \\\\ \\vdots \\\\ \\tau_{n-1,n} \\\\ \\dot{\\theta}_1 \\\\ \\vdots \\\\ \\dot{\\theta}_n \\end{bmatrix}_{2n-1 \\times 1} + \\textbf{X}_{2n-1 \\times 2n} \\textbf{B}_{2n-1 \\times n} \\begin{bmatrix} T_M \\\\ 0 \\\\ \\vdots \\\\ 0 \\\\ T_L \\end{bmatrix}_{n \\times 1} $$\n",
    "\n",
    "where $n$ is the number of degrees of freedom of the system, $\\textbf{A}$ and $\\textbf{B}$ are the state matrices and $T_M$ is the motor torque (applied on node 0) and $T_L$ is the load torque (applied on the last node)."
   ]
  },
  {
   "cell_type": "code",
   "execution_count": 18,
   "id": "e7d4f720",
   "metadata": {},
   "outputs": [],
   "source": [
    "def similarity_transform(A, B, k_values, ndof):\n",
    "    \"\"\"\n",
    "    Used to transform the state-matrices to be compatible with shaft torque as a state.\n",
    "    \"\"\"\n",
    "    rows = ndof-1\n",
    "    cols = ndof\n",
    "    if len(k_values) != rows:\n",
    "        print(\"wrong amount of stiffness values / dofs\")\n",
    "        return\n",
    "    \n",
    "    X_up = np.zeros((rows, cols))\n",
    "    X_down = np.eye(cols)\n",
    "    Z_up = np.zeros(X_up.shape)\n",
    "    Z_down = np.zeros(X_down.shape)\n",
    "    \n",
    "    for i in range(rows):\n",
    "        X_up[i,i] = -k_values[i]\n",
    "        X_up[i,i+1] = k_values[i]\n",
    "    \n",
    "    X_matrix = np.vstack([np.hstack([X_up, Z_up]), np.hstack([Z_down, X_down])])\n",
    "    \n",
    "    X_inv = X_matrix.T @ np.linalg.inv(X_matrix @ X_matrix.T)\n",
    "    \n",
    "    return X_matrix @ A @ X_inv, X_matrix @ B"
   ]
  },
  {
   "cell_type": "code",
   "execution_count": 19,
   "id": "9377506a",
   "metadata": {},
   "outputs": [],
   "source": [
    "k_values = -np.diag(assembly.K(), 1)\n",
    "A_, B_ = state_matrices(assembly)\n",
    "n_dofs = assembly.M().shape[0]\n",
    "A_mod, B_mod = similarity_transform(A_, B_, k_values, n_dofs)\n",
    "C_mod, D_mod = np.eye(B_mod.shape[0]), np.zeros(B_mod.shape)"
   ]
  },
  {
   "cell_type": "code",
   "execution_count": 20,
   "id": "3f0d58ff",
   "metadata": {},
   "outputs": [],
   "source": [
    "A_mod_d, B_mod_d = c2d(A_mod, B_mod, dt)"
   ]
  },
  {
   "cell_type": "code",
   "execution_count": 21,
   "id": "a7895f09",
   "metadata": {},
   "outputs": [],
   "source": [
    "tout_mod, yout_mod, xout_mod = lsim((A_mod, B_mod, C_mod, D_mod), U, time)"
   ]
  },
  {
   "cell_type": "code",
   "execution_count": 23,
   "id": "f7e4bb9e",
   "metadata": {},
   "outputs": [
    {
     "data": {
      "text/plain": [
       "[<matplotlib.lines.Line2D at 0x7fc485f33f40>]"
      ]
     },
     "execution_count": 23,
     "metadata": {},
     "output_type": "execute_result"
    },
    {
     "data": {
      "image/png": "[encoded data removed]",
      "text/plain": [
       "<Figure size 432x288 with 1 Axes>"
      ]
     },
     "metadata": {
      "needs_background": "light"
     },
     "output_type": "display_data"
    }
   ],
   "source": [
    "plt.plot(tout_mod, yout_mod[:,27])\n",
    "plt.plot(time, upper_torque_sensor)"
   ]
  },
  {
   "cell_type": "code",
   "execution_count": 25,
   "id": "4b398056",
   "metadata": {},
   "outputs": [],
   "source": [
    "dtout, dyout, dxout = dlsim((A_mod_d, B_mod_d, C_mod, D_mod, dt), U, time)"
   ]
  },
  {
   "cell_type": "code",
   "execution_count": 26,
   "id": "f4e6baef",
   "metadata": {},
   "outputs": [
    {
     "data": {
      "text/plain": [
       "[<matplotlib.lines.Line2D at 0x7fc48911bac0>]"
      ]
     },
     "execution_count": 26,
     "metadata": {},
     "output_type": "execute_result"
    },
    {
     "data": {
      "image/png": "[encoded data removed]",
      "text/plain": [
       "<Figure size 432x288 with 1 Axes>"
      ]
     },
     "metadata": {
      "needs_background": "light"
     },
     "output_type": "display_data"
    }
   ],
   "source": [
    "plt.plot(dtout, dyout[:,26])\n",
    "plt.plot(time, angular_speed_7)"
   ]
  },
  {
   "cell_type": "code",
   "execution_count": null,
   "id": "be64fb47",
   "metadata": {},
   "outputs": [],
   "source": []
  }
 ],
 "metadata": {
  "kernelspec": {
   "display_name": "Python 3 (ipykernel)",
   "language": "python",
   "name": "python3"
  },
  "language_info": {
   "codemirror_mode": {
    "name": "ipython",
    "version": 3
   },
   "file_extension": ".py",
   "mimetype": "text/x-python",
   "name": "python",
   "nbconvert_exporter": "python",
   "pygments_lexer": "ipython3",
   "version": "3.8.10"
  }
 },
 "nbformat": 4,
 "nbformat_minor": 5
}
