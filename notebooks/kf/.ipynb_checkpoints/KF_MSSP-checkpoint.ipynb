{
 "cells": [
  {
   "cell_type": "code",
   "execution_count": 1,
   "id": "e3943f7d",
   "metadata": {},
   "outputs": [],
   "source": [
    "import numpy as np\n",
    "import matplotlib.pyplot as plt\n",
    "import scienceplots\n",
    "import scipy.linalg as LA\n",
    "from scipy.signal import dlti, lsim, dlsim, butter, lfilter"
   ]
  },
  {
   "cell_type": "code",
   "execution_count": 2,
   "id": "7ae82731",
   "metadata": {},
   "outputs": [],
   "source": [
    "times = np.genfromtxt(\"../../data/ice_excitation/times.csv\", delimiter=\",\")\n",
    "speeds = np.genfromtxt(\"../../data/ice_excitation/speeds.csv\", delimiter=\",\", usecols=(6,7,13,14,21))\n",
    "meas_speeds = np.genfromtxt(\"../../data/ice_excitation/speed_measurements.csv\", delimiter=\",\")\n",
    "torques = np.genfromtxt(\"../../data/ice_excitation/torques.csv\", delimiter=\",\", usecols=(8,18))\n",
    "meas_torques = np.genfromtxt(\"../../data/ice_excitation/torque_measurements.csv\", delimiter=\",\")"
   ]
  },
  {
   "cell_type": "code",
   "execution_count": 3,
   "id": "dd60aab0",
   "metadata": {},
   "outputs": [],
   "source": [
    "inertias = np.array([7.94e-4,\n",
    "            3.79e-6,\n",
    "            3.00e-6,\n",
    "            2.00e-6,\n",
    "            7.81e-3,\n",
    "            2.00e-6,\n",
    "            3.17e-6,\n",
    "            5.01e-5,\n",
    "            6.50e-6,\n",
    "            5.65e-5,\n",
    "            4.27e-6,\n",
    "            3.25e-4,\n",
    "            1.20e-4,\n",
    "            1.15e-5,\n",
    "            1.32e-4,\n",
    "            4.27e-6,\n",
    "            2.69e-4,\n",
    "            1.80e-4,\n",
    "            2.00e-5,\n",
    "            2.00e-4,\n",
    "            4.27e-6,\n",
    "            4.95e-2])\n",
    "\n",
    "stiffnesses = np.array([1.90e5,\n",
    "               6.95e3,\n",
    "               90.00,\n",
    "               90.00,\n",
    "               90.00,\n",
    "               90.00,\n",
    "               30.13,\n",
    "               4.19e4,\n",
    "               5.40e3,\n",
    "               4.19e4,\n",
    "               1.22e3,\n",
    "               4.33e4,\n",
    "               3.10e4,\n",
    "               1.14e3,\n",
    "               3.10e4,\n",
    "               1.22e4,\n",
    "               4.43e4,\n",
    "               1.38e5,\n",
    "               2.00e4,\n",
    "               1.38e5,\n",
    "               1.22e4])\n",
    "\n",
    "damping = np.array([8.08,\n",
    "           0.29,\n",
    "           0.24,\n",
    "           0.24,\n",
    "           0.24,\n",
    "           0.24,\n",
    "           0.00,\n",
    "           1.78,\n",
    "           0.23,\n",
    "           1.78,\n",
    "           0.52,\n",
    "           1.84,\n",
    "           1.32,\n",
    "           0.05,\n",
    "           1.32,\n",
    "           0.52,\n",
    "           1.88,\n",
    "           5.86,\n",
    "           0.85,\n",
    "           5.86,\n",
    "           0.52])\n",
    "\n",
    "\n",
    "external_damping = np.array([0.0030,\n",
    "                    0,\n",
    "                    0,\n",
    "                    0,\n",
    "                    0,\n",
    "                    0,\n",
    "                    0,\n",
    "                    0,\n",
    "                    0,\n",
    "                    0,\n",
    "                    0,\n",
    "                    0.0031,\n",
    "                    0,\n",
    "                    0,\n",
    "                    0,\n",
    "                    0,\n",
    "                    0.0031,\n",
    "                    0,\n",
    "                    0,\n",
    "                    0,\n",
    "                    0,\n",
    "                    0.2400])\n",
    "\n",
    "gear_ratios = np.array([1,\n",
    "               1,\n",
    "               1,\n",
    "               1,\n",
    "               1,\n",
    "               1,\n",
    "               1,\n",
    "               1,\n",
    "               1,\n",
    "               1,\n",
    "               1,\n",
    "               1/3,\n",
    "               1,\n",
    "               1,\n",
    "               1,\n",
    "               1,\n",
    "               1/4,\n",
    "               1,\n",
    "               1,\n",
    "               1,\n",
    "               1])"
   ]
  },
  {
   "cell_type": "code",
   "execution_count": 4,
   "id": "49884fd5",
   "metadata": {},
   "outputs": [],
   "source": [
    "def state_space_matrices(inertia, stiff, damp, damp_ext, ratios):\n",
    "    cn = damp*ratios\n",
    "    cn2 = damp*ratios**2\n",
    "    cn2 = np.hstack((cn2, 0))\n",
    "    c0 = np.copy(damp)\n",
    "    c0 = np.insert(c0, 0, 0, axis=0)\n",
    "    cn2d = -(c0 + cn2 + damp_ext)\n",
    "    \n",
    "    A11 = (np.diag(cn2d) + np.diag(cn, k=1) + np.diag(cn, k=-1)) / inertia.reshape(inertia.shape[0], 1)\n",
    "    \n",
    "    ks = -np.hstack((stiff, 0))\n",
    "    A12 = np.delete((np.diag(ks) + np.diag(stiff, k=-1)) / inertia.reshape(inertia.shape[0], 1), -1, axis=1)\n",
    "    \n",
    "    \n",
    "    A23 = np.delete(np.diag(np.hstack((ratios, 0))) + np.diag(-np.ones(len(ratios)), k=1), -1, axis=0)\n",
    "    \n",
    "    A = np.vstack((np.hstack((A11, A12)), np.hstack((A23, np.zeros((A23.shape[0], A23.shape[1]-1))))))\n",
    "    \n",
    "    B = np.zeros((A.shape[0], 2))\n",
    "    B[0,0] += 1/inertia[0]\n",
    "    B[len(inertia)-1, 1] -= 1/inertia[-1]\n",
    "    \n",
    "    C = np.zeros((3, A.shape[0]))\n",
    "    C[0,6] += 1\n",
    "    C[1,7] += 1\n",
    "    C[2,30] += 5400\n",
    "    D = np.zeros((C.shape[0], B.shape[1]))\n",
    "    \n",
    "    return A, B, C, D"
   ]
  },
  {
   "cell_type": "code",
   "execution_count": 5,
   "id": "887c9e20",
   "metadata": {},
   "outputs": [],
   "source": [
    "def c2d(A, B, Ts):\n",
    "    \"\"\"\n",
    "    C2D computes a discrete-time model of a system (A_c,B_c) with sample time T_s.\n",
    "    The function returns matrices A,B of the discrete-time system.\n",
    "    \"\"\"\n",
    "    m, n = A.shape\n",
    "    nb = B.shape[1]\n",
    "\n",
    "    s = np.concatenate([A,B], axis=1)\n",
    "    s = np.concatenate([s, np.zeros((nb, n+nb))], axis=0)\n",
    "    S = LA.expm(s*Ts)\n",
    "    Ad = S[0:n,0:n]\n",
    "    Bd = S[0:n,n:n+nb+1]\n",
    "    \n",
    "    return Ad, Bd"
   ]
  },
  {
   "cell_type": "code",
   "execution_count": 6,
   "id": "ab67b9de",
   "metadata": {},
   "outputs": [],
   "source": [
    "Fs = 1000 # Sampling frequency\n",
    "sigma_m = 2/3 # worst case variance\n",
    "mu_m = 2.7 # mean\n",
    "\n",
    "## Sensor params\n",
    "rpm_sensor_locations = [6, 7]\n",
    "torque_sensor_locations = [8]\n",
    "n_sensors = len(rpm_sensor_locations) + len(torque_sensor_locations)\n",
    "\n",
    "## KALMAN FILTER DESIGN PARAMETERS\n",
    "lag = 10\n",
    "R = np.diag([0.05, 0.1, 0.2]) # measurement covariance R = E{v*v'}\n",
    "Q = 0.01*np.eye(43) # diagonal matrix with shape of the A matrix"
   ]
  },
  {
   "cell_type": "code",
   "execution_count": 7,
   "id": "3fa7c50b",
   "metadata": {},
   "outputs": [],
   "source": [
    "Ac, Bc, C, D = state_space_matrices(inertias, stiffnesses, damping, external_damping, gear_ratios)"
   ]
  },
  {
   "cell_type": "code",
   "execution_count": 8,
   "id": "b77d9740",
   "metadata": {},
   "outputs": [],
   "source": [
    "A, B = c2d(Ac, Bc, 1/1000)"
   ]
  },
  {
   "cell_type": "code",
   "execution_count": 9,
   "id": "ae065976",
   "metadata": {},
   "outputs": [
    {
     "name": "stdout",
     "output_type": "stream",
     "text": [
      "(21, 43)\n"
     ]
    }
   ],
   "source": [
    "M = np.zeros((22, 22))\n",
    "T = np.hstack([np.zeros((M.shape[0]-1, M.shape[0]-1)), np.zeros((M.shape[0]-1, 1)), np.diag(stiffnesses)]) # a matrix defining which states to be estimated\n",
    "S = np.zeros((C.T).shape)\n",
    "print(T.shape)"
   ]
  },
  {
   "cell_type": "code",
   "execution_count": 10,
   "id": "f6428da4",
   "metadata": {},
   "outputs": [],
   "source": [
    "def W(sigma_m):\n",
    "    \"\"\"\n",
    "    Returns a filter for the extended system. The filter W is a transfer function\n",
    "    of a quasi-stationary signal in state-space form.\n",
    "    \"\"\"\n",
    "    var1, var2, a = 1, 0.1, 1 # design case 1\n",
    "    # var1, var2, a = 1, (10/3)**2, 1 # design case 2\n",
    "\n",
    "    r0 = (1 + a**2) * var2 + var1\n",
    "    r1 = -a * var2\n",
    "    c = r0/2/r1 + np.sqrt((r0/2/r1)**2 - 1)\n",
    "    sigma_e = np.sqrt(r1/c)\n",
    "\n",
    "    W_A = np.array(([0, 0, 0], [0, a, c*sigma_e], [0, 0, 0]))\n",
    "    W_B = np.array(([sigma_m, 0], [0, sigma_e], [0, 1]))\n",
    "    W_C = np.array(([1, 0, 0], [0, 1, 0]))\n",
    "    W_D = np.zeros((2, 2))\n",
    "\n",
    "    return W_A, W_B, W_C, W_D"
   ]
  },
  {
   "cell_type": "code",
   "execution_count": 11,
   "id": "a6937be5",
   "metadata": {},
   "outputs": [],
   "source": [
    "W_A, W_B, W_C, W_D = W(sigma_m)"
   ]
  },
  {
   "cell_type": "code",
   "execution_count": 12,
   "id": "6e879471",
   "metadata": {},
   "outputs": [],
   "source": [
    "def extended_system(W_A, W_B, W_C, W_D, A, B, C, D, M, T, S, R, Q):\n",
    "    \"\"\"\n",
    "    The extended state-space system used in the simultaneous input and state estimation.\n",
    "    \"\"\"\n",
    "    nmasses = M.shape[0]\n",
    "    Z1 = np.zeros((nmasses, nmasses-1))\n",
    "    Z2 = np.zeros((nmasses-1, nmasses))\n",
    "    Z3 = np.zeros((nmasses-1, nmasses-1))\n",
    "    I = np.eye(nmasses)\n",
    "\n",
    "    F = np.vstack([np.hstack([I, Z1]), np.hstack([Z2, Z3])])\n",
    "\n",
    "    # the extended system\n",
    "    Z_e = np.zeros((W_A.shape[0], A.shape[0]))\n",
    "\n",
    "    A_e = np.vstack([np.hstack([W_A, Z_e]), np.hstack([(B @ W_C), A])])\n",
    "\n",
    "    F_e = np.vstack([np.hstack([W_B, Z_e]), np.hstack([(B @ W_D), F])])\n",
    "\n",
    "    C_e = np.hstack([np.zeros((C.shape[0], W_C.shape[1])), C])\n",
    "\n",
    "    B_m = np.array(np.hstack([np.zeros((W_A.shape[0])), B[:,0]]))\n",
    "    # convert B_m to nx1 array\n",
    "    B_m = (np.zeros((1, B_m.shape[0])) + B_m).T\n",
    "\n",
    "    T_e1 = np.hstack([W_C, np.zeros((2, A.shape[0]))])\n",
    "    T_e2 = np.hstack([np.zeros((T.shape[0], W_A.shape[0])), T])\n",
    "    T_e3 = np.hstack([np.zeros((nmasses, W_A.shape[0])), np.eye(nmasses), np.zeros((nmasses, nmasses-1))])\n",
    "    T_e = np.vstack([T_e1, T_e2, T_e3])\n",
    "\n",
    "    R_e = R\n",
    "\n",
    "    Q_e1 = np.hstack([W_B @ W_B.T, W_B @ W_D.T @ B.T])\n",
    "    Q_e21 = B @ W_D @ W_B.T\n",
    "    Q_e22 = B @ W_D @ W_D.T @ B.T + F @ (F @ Q @ F.T) @ F.T\n",
    "    Q_e2 = np.hstack([Q_e21, Q_e22])\n",
    "    Q_e = np.vstack([Q_e1, Q_e2])\n",
    "\n",
    "    S_e = np.vstack([np.eye(W_A.shape[0]), S])\n",
    "\n",
    "    return A_e, F_e, C_e, B_m, T_e, R_e, Q_e, S_e"
   ]
  },
  {
   "cell_type": "code",
   "execution_count": 13,
   "id": "faa71c93",
   "metadata": {},
   "outputs": [
    {
     "name": "stdout",
     "output_type": "stream",
     "text": [
      "(2, 46)\n",
      "(21, 46)\n",
      "(22, 46)\n"
     ]
    }
   ],
   "source": [
    "A_e, F_e, C_e, B_m, T_e, R_e, Q_e, S_e = extended_system(W_A, W_B, W_C, W_D, A, B, C, D, M, T, S, R, Q)"
   ]
  },
  {
   "cell_type": "code",
   "execution_count": 14,
   "id": "1d653d7f",
   "metadata": {},
   "outputs": [],
   "source": [
    "def fixed_lag_smoothing(A_e, F_e, C_e, B_m, T_e, R_e, Q_e, S_e, lag):\n",
    "    A_fls1 = np.hstack([A_e, np.zeros((A_e.shape[0], (lag-1)*T_e.shape[0]))])\n",
    "    A_fls2 = np.hstack([T_e, np.zeros((T_e.shape[0], (lag-1)*T_e.shape[0]))])\n",
    "    A_fls3 = np.hstack([\n",
    "        np.zeros(((lag-2)*T_e.shape[0], A_e.shape[0])),\n",
    "        np.eye((lag-2)*T_e.shape[0]),\n",
    "        np.zeros(((lag-2)*T_e.shape[0], T_e.shape[0]))\n",
    "    ])\n",
    "    A_fls = np.vstack([A_fls1, A_fls2, A_fls3])\n",
    "\n",
    "    F_fls = np.vstack([F_e, np.zeros(((lag-1)*T_e.shape[0], F_e.shape[1]))])\n",
    "\n",
    "    C_fls = np.hstack([C_e, np.zeros((C_e.shape[0], (lag-1)*T_e.shape[0]))])\n",
    "\n",
    "    B_m_fls = np.vstack([B_m, np.zeros(((lag-1)*T_e.shape[0], 1))])\n",
    "\n",
    "    T_fls = np.hstack([\n",
    "        np.zeros((T_e.shape[0], A_e.shape[0])),\n",
    "        np.zeros((T_e.shape[0], (lag-2)*T_e.shape[0])),\n",
    "        np.eye(T_e.shape[0])\n",
    "    ])\n",
    "\n",
    "    R_fls = R_e\n",
    "\n",
    "    Q_fls = LA.block_diag(Q_e, 0*np.eye((lag-1)*T_e.shape[0]))\n",
    "\n",
    "    S_fls = S_e\n",
    "\n",
    "    return A_fls, F_fls, C_fls, B_m_fls, T_fls, R_fls, Q_fls, S_fls"
   ]
  },
  {
   "cell_type": "code",
   "execution_count": 15,
   "id": "71a023a4",
   "metadata": {},
   "outputs": [],
   "source": [
    "A_fls, F_fls, C_fls, B_m_fls, T_fls, R_fls, Q_fls, S_fls = fixed_lag_smoothing(A_e, F_e, C_e, B_m, T_e, R_e, Q_e, S_e, lag)"
   ]
  },
  {
   "cell_type": "code",
   "execution_count": 16,
   "id": "6a4dc8d2",
   "metadata": {},
   "outputs": [],
   "source": [
    "def construct_kalman_filter(A, C, T, Q, R):\n",
    "    P = LA.solve_discrete_are(A.T, C.T, Q, R) # ricatti_equation\n",
    "    K = P @ C.T @ LA.inv(R + C @ P @ C.T)\n",
    "    KC = K @ C\n",
    "    Pz = T @ (np.eye((KC).shape[0]) - KC) @ P @ T.T\n",
    "\n",
    "    KF_filter = dlti((np.eye(P.shape[0]) - K @ C) @ A, K, T, np.zeros((T.shape[0], C.shape[0])), dt=0.001)\n",
    "    KF_pred = dlti(A - K @ C, K, T, np.zeros((T.shape[0], C.shape[0])), dt=0.001)\n",
    "\n",
    "    return KF_filter, KF_pred, Pz, K"
   ]
  },
  {
   "cell_type": "code",
   "execution_count": 17,
   "id": "d844b7d3",
   "metadata": {},
   "outputs": [],
   "source": [
    "KF_filter, KF_pred, Pz, K = construct_kalman_filter(A_fls, C_fls, T_fls, Q_fls, R_fls)"
   ]
  },
  {
   "cell_type": "code",
   "execution_count": 18,
   "id": "b8d66802",
   "metadata": {},
   "outputs": [],
   "source": [
    "## Estimation\n",
    "y = np.vstack([meas_speeds, meas_torques])\n",
    "u = mu_m*np.ones(y.shape[1])\n",
    "Y = np.vstack([u, y])"
   ]
  },
  {
   "cell_type": "code",
   "execution_count": 19,
   "id": "8ee5be1a",
   "metadata": {},
   "outputs": [
    {
     "name": "stdout",
     "output_type": "stream",
     "text": [
      "(3, 451)\n"
     ]
    }
   ],
   "source": [
    "KF2 = dlti(\n",
    "    KF_filter.A,\n",
    "    np.hstack([B_m_fls, KF_filter.B]),\n",
    "    KF_filter.C,\n",
    "    np.zeros((KF_filter.C.shape[0], KF_filter.B.shape[1]+1)),\n",
    "    dt=0.001\n",
    ")\n",
    "\n",
    "tout, yout, xout = dlsim(KF2, Y.T) # z_hat\n",
    "\n",
    "angle_estimates = yout[:,2:22]\n",
    "speed_estimates = yout[:,22+2:]"
   ]
  },
  {
   "cell_type": "code",
   "execution_count": 27,
   "id": "5ee4e8fd",
   "metadata": {},
   "outputs": [
    {
     "data": {
      "image/png": "[encoded data removed]",
      "text/plain": [
       "<Figure size 432x288 with 1 Axes>"
      ]
     },
     "metadata": {
      "needs_background": "light"
     },
     "output_type": "display_data"
    }
   ],
   "source": [
    "plt.plot(times, meas_speeds[0,:], label=\"meas\")\n",
    "plt.plot(times[:-lag], speed_estimates[lag:,rpm_sensor_locations[0]], label=\"est\", alpha=0.5)\n",
    "plt.xlim(6.5, 8)\n",
    "plt.ylim(330, 350)\n",
    "plt.legend()\n",
    "plt.show()"
   ]
  },
  {
   "cell_type": "code",
   "execution_count": 25,
   "id": "0ae06285",
   "metadata": {},
   "outputs": [
    {
     "data": {
      "image/png": "[encoded data removed]",
      "text/plain": [
       "<Figure size 432x288 with 1 Axes>"
      ]
     },
     "metadata": {
      "needs_background": "light"
     },
     "output_type": "display_data"
    }
   ],
   "source": [
    "plt.plot(times, meas_torques, label=\"meas\")\n",
    "plt.plot(times[:-lag], angle_estimates[lag:,rpm_sensor_locations[-1]], label=\"est\", alpha=0.5)\n",
    "plt.xlim(6.5, 8)\n",
    "plt.ylim(0, 4)\n",
    "plt.legend()\n",
    "plt.show()"
   ]
  },
  {
   "cell_type": "code",
   "execution_count": null,
   "id": "b700bd7b",
   "metadata": {},
   "outputs": [],
   "source": []
  }
 ],
 "metadata": {
  "kernelspec": {
   "display_name": "Python 3 (ipykernel)",
   "language": "python",
   "name": "python3"
  },
  "language_info": {
   "codemirror_mode": {
    "name": "ipython",
    "version": 3
   },
   "file_extension": ".py",
   "mimetype": "text/x-python",
   "name": "python",
   "nbconvert_exporter": "python",
   "pygments_lexer": "ipython3",
   "version": "3.8.10"
  }
 },
 "nbformat": 4,
 "nbformat_minor": 5
}
