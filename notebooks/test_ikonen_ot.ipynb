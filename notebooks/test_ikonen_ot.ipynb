{
 "cells": [
  {
   "cell_type": "code",
   "execution_count": 1,
   "id": "5420a835",
   "metadata": {},
   "outputs": [],
   "source": [
    "import numpy as np\n",
    "import matplotlib.pyplot as plt\n",
    "import scipy.linalg as LA\n",
    "from scipy.signal import lsim\n",
    "from scipy.integrate import solve_ivp\n",
    "import opentorsion as ot\n",
    "import cvxpy as cp"
   ]
  },
  {
   "cell_type": "markdown",
   "id": "7b38b904",
   "metadata": {},
   "source": [
    "# The propulsion system"
   ]
  },
  {
   "cell_type": "markdown",
   "id": "c7e90b7f",
   "metadata": {},
   "source": [
    "Firstly, the propulsion system presented in [Inverse ice-induced moment determination on the propeller of an ice-going vessel](https://www.sciencedirect.com/science/article/pii/S0165232X14002274) is modelled using the openTorsion library. Parameters for the propulsion system are found from [here](https://journals.sagepub.com/doi/full/10.1177/14759217211004232)."
   ]
  },
  {
   "cell_type": "code",
   "execution_count": 24,
   "id": "f6bfb788",
   "metadata": {},
   "outputs": [],
   "source": [
    "def propulsion_system():\n",
    "    J1 = 1.347e4 # propeller\n",
    "    J3 = 5.590e2\n",
    "    J5 = 5.120e2\n",
    "    J7 = 4.870e2\n",
    "    J9 = 1.410e2\n",
    "    J11 = 1.740e2\n",
    "    J13 = 4.415e3 # motor\n",
    "    \n",
    "    k2 = 5.88e7\n",
    "    k4 = 5.95e7\n",
    "    k6 = 1.12e8\n",
    "    k8 = 6.93e8\n",
    "    k10 = 5.09e8\n",
    "    k12 = 1.43e8\n",
    "    damping = 180 # damping in steel_shafts\n",
    "    \n",
    "    shafts, disks = [], []\n",
    "    disks.append(ot.Disk(0, I=J1))\n",
    "    shafts.append(ot.Shaft(0, 1, None, None, k=k2, I=0, c=damping))\n",
    "    disks.append(ot.Disk(1, I=J3))\n",
    "    shafts.append(ot.Shaft(1, 2, None, None, k=k4, I=0, c=damping))\n",
    "    disks.append(ot.Disk(2, I=J5))\n",
    "    shafts.append(ot.Shaft(2, 3, None, None, k=k6, I=0, c=damping))\n",
    "    disks.append(ot.Disk(3, I=J7))\n",
    "    shafts.append(ot.Shaft(3, 4, None, None, k=k8, I=0, c=damping))\n",
    "    disks.append(ot.Disk(4, I=J9))\n",
    "    shafts.append(ot.Shaft(4, 5, None, None, k=k10, I=0, c=damping))\n",
    "    disks.append(ot.Disk(5, I=J11))\n",
    "    shafts.append(ot.Shaft(5, 6, None, None, k=k12, I=0, c=damping))\n",
    "    disks.append(ot.Disk(6, I=J13))\n",
    "    \n",
    "    assembly = ot.Assembly(shafts, disk_elements=disks)\n",
    "    _, f, _ = assembly.modal_analysis()\n",
    "    print(\"Eigenfrequencies: \", f.round(2))\n",
    "\n",
    "    return assembly"
   ]
  },
  {
   "cell_type": "code",
   "execution_count": 25,
   "id": "094ecd29",
   "metadata": {},
   "outputs": [],
   "source": [
    "def state_matrices(assembly):\n",
    "    \"\"\"\n",
    "    Create state-space matrices A and B of an openTorsion assembly.\n",
    "\n",
    "    Parameters:\n",
    "    assembly : openTorsion assembly instance\n",
    "        Mechanical drivetrain model.\n",
    "\n",
    "    Returns:\n",
    "    A : numpy.ndarray\n",
    "        The state matrix\n",
    "    B : numpy.ndarray\n",
    "        The input matrix\n",
    "    \"\"\"\n",
    "    M, C, K = assembly.M(), assembly.C(), assembly.K()  # Mass and stiffness matrices\n",
    "    Z = np.zeros(M.shape)\n",
    "    I = np.eye(M.shape[0])\n",
    "    M_inv = LA.inv(M)\n",
    "\n",
    "    A = np.vstack([np.hstack([Z, I]), np.hstack([-M_inv @ K, -M_inv @ C])])\n",
    "\n",
    "    B = np.vstack([Z, M_inv])\n",
    "\n",
    "    return A, B"
   ]
  },
  {
   "cell_type": "code",
   "execution_count": 26,
   "id": "7910fc00",
   "metadata": {},
   "outputs": [],
   "source": [
    "k_list = [5.88e7, 5.95e7, 1.12e8, 6.93e8, 5.09e8, 1.43e8]"
   ]
  },
  {
   "cell_type": "code",
   "execution_count": 27,
   "id": "6995b45b",
   "metadata": {},
   "outputs": [],
   "source": [
    "def X(k_values, ndof):\n",
    "    \"\"\"\n",
    "    Used to transform the state-matrix to be compatible with shaft torque as a state.\n",
    "    \"\"\"\n",
    "    rows = ndof-1\n",
    "    cols = ndof\n",
    "    if len(k_values) != rows:\n",
    "        print(\"wrong amount of stiffness values / dofs\")\n",
    "        return\n",
    "    \n",
    "    X_up = np.zeros((rows, cols))\n",
    "    X_down = np.eye(cols)\n",
    "    Z_up = np.zeros(X_up.shape)\n",
    "    Z_down = np.zeros(X_down.shape)\n",
    "    \n",
    "    for i in range(rows):\n",
    "        X_up[i,i] = -k_values[i]\n",
    "        X_up[i,i+1] = k_values[i]\n",
    "    \n",
    "    X_matrix = np.vstack([np.hstack([X_up, Z_up]), np.hstack([Z_down, X_down])])\n",
    "    \n",
    "    return X_matrix"
   ]
  },
  {
   "cell_type": "markdown",
   "id": "6ee0ff9f",
   "metadata": {},
   "source": [
    "### Construction of the extended observability matrix and the impulse response matrix used in the data equation."
   ]
  },
  {
   "cell_type": "code",
   "execution_count": 28,
   "id": "dd3444ec",
   "metadata": {},
   "outputs": [],
   "source": [
    "def O(A, C, n):\n",
    "    '''\n",
    "    Create the extended observability matrix used in the data equation.\n",
    "\n",
    "    Parameters:\n",
    "\n",
    "    A : numpy.ndarray\n",
    "        The state matrix of the state-space system\n",
    "    C : numpy.ndarray\n",
    "        The observation matrix of the state-space system\n",
    "    n : float\n",
    "        number of measurements\n",
    "\n",
    "    Returns:\n",
    "\n",
    "    O : numpy.ndarray, shape(n, number of state variables)\n",
    "        The extended observability matrix\n",
    "    '''\n",
    "    O = np.copy(C)\n",
    "    for k in range(1, n):\n",
    "        O = np.vstack((O, C @ np.linalg.matrix_power(A, k)))\n",
    "\n",
    "    return O"
   ]
  },
  {
   "cell_type": "code",
   "execution_count": 29,
   "id": "f097a531",
   "metadata": {},
   "outputs": [],
   "source": [
    "def gamma(A, B, C, n):\n",
    "    '''\n",
    "    Create the impulse response matrix used in the data equation.\n",
    "\n",
    "    Parameters:\n",
    "\n",
    "    A : numpy.ndarray\n",
    "        The state matrix of the state-space system\n",
    "    B : numpy.ndarray\n",
    "        The input matrix of the state-space system\n",
    "    C : numpy.ndarray\n",
    "        The observation matrix of the state-space system\n",
    "    n : float\n",
    "        number of measurements\n",
    "\n",
    "    Returns:\n",
    "\n",
    "    gamma : numpy.ndarray, shape(n*number of state variables, n*number of state variables)\n",
    "        The impulse response matrix\n",
    "    '''\n",
    "    # first column\n",
    "    gamma_column_first = np.zeros((C @ B).shape)\n",
    "    for k in range(1, n):\n",
    "        gamma_column_first = np.vstack((gamma_column_first, C @ np.linalg.matrix_power(A, k) @ B))\n",
    "\n",
    "    # build complete matrix\n",
    "    gamma = gamma_column_first\n",
    "    current_col = 1\n",
    "    for s in range(1, n):\n",
    "        gamma_rows = np.zeros((C @ B).shape)\n",
    "        for z in range(1, current_col):\n",
    "            row_val = np.zeros((C @ B).shape)\n",
    "            gamma_rows = np.vstack((gamma_rows, row_val))\n",
    "        for nz in range(n-current_col):\n",
    "            row_val = C @ np.linalg.matrix_power(A, nz) @ B\n",
    "            gamma_rows = np.vstack((gamma_rows, row_val))\n",
    "\n",
    "        gamma = np.hstack((gamma, gamma_rows))\n",
    "        current_col += 1\n",
    "\n",
    "    return gamma"
   ]
  },
  {
   "cell_type": "markdown",
   "id": "2c55a2b7",
   "metadata": {},
   "source": [
    "### The regularization matrix"
   ]
  },
  {
   "cell_type": "markdown",
   "id": "50539a8f",
   "metadata": {},
   "source": [
    "The regularization matrix $L$ as presented in the paper of Ikonen et al. (Note: In the paper, the external load of the propulsion system model is described in changes of moment between consecutive timesteps. Perhaps an identity matrix should be used here?)"
   ]
  },
  {
   "cell_type": "code",
   "execution_count": 30,
   "id": "d63ea54b",
   "metadata": {},
   "outputs": [],
   "source": [
    "def L(input_shape):\n",
    "    '''\n",
    "    The regularization matrix L.\n",
    "\n",
    "    Parameters:\n",
    "\n",
    "    meas_shape : float\n",
    "        Input vector shape used to determine L matrix shape.\n",
    "\n",
    "    Returns:\n",
    "\n",
    "    L : ndarray\n",
    "        The regularization matrix\n",
    "    '''\n",
    "    I = np.eye(input_shape)\n",
    "    L = -I + np.diag(np.ones(input_shape-1), 1)\n",
    "\n",
    "    return L"
   ]
  },
  {
   "cell_type": "markdown",
   "id": "14dfd27d",
   "metadata": {},
   "source": [
    "### Convex optimization problem"
   ]
  },
  {
   "cell_type": "markdown",
   "id": "cb4d6603",
   "metadata": {},
   "source": [
    "Here a Tikhonov-regularized optimization problem is defined using measurements from the propulsion system model, the data equation matrix $\\Gamma$ and the regularization matrix $L$. For the present case, an optimal regularization parameter $\\lambda = 0.0512$ is defined using the L-curve plot in the paper of Ikonen et al.\n",
    "\n",
    "The python package [CVXPY](https://www.cvxpy.org/) provides an interface for the solver [MOSEK](https://www.mosek.com/), which is used to solve the Tikhonov-regularized optimization problem."
   ]
  },
  {
   "cell_type": "code",
   "execution_count": 31,
   "id": "0176341c",
   "metadata": {},
   "outputs": [],
   "source": [
    "def convex_optimization_problem(meas, gamm, regu, lam=0.0512):\n",
    "    '''\n",
    "    Convex optimization methods using the cvxpy library.\n",
    "    '''\n",
    "    d = cp.Variable((gamm.shape[1], 1))\n",
    "    measurements = cp.Parameter(meas.shape)\n",
    "    measurements.value = meas\n",
    "    \n",
    "    # objective = cp.Minimize(cp.sum_squares(meas - O @ x - gamma @ d) + lam * cp.pnorm(L @ d, 1))\n",
    "    objective = cp.Minimize(cp.sum_squares(measurements - gamm @ d) + lam * cp.sum_squares(regu @ d))\n",
    "    prob = cp.Problem(objective)\n",
    "    \n",
    "    prob.solve(solver=cp.MOSEK, warm_start=True, verbose=False)\n",
    "\n",
    "    return d.value"
   ]
  },
  {
   "cell_type": "markdown",
   "id": "39512990",
   "metadata": {},
   "source": [
    "### Unit step response of the propulsion system"
   ]
  },
  {
   "cell_type": "markdown",
   "id": "27c620dc",
   "metadata": {},
   "source": [
    "Here a unit step response is calculated for the propulsion system. The shaft torque between nodes 3 and 4 is plotted, as is in the paper of Ikonen et al."
   ]
  },
  {
   "cell_type": "code",
   "execution_count": 32,
   "id": "db962540",
   "metadata": {},
   "outputs": [
    {
     "name": "stdout",
     "output_type": "stream",
     "text": [
      "Eigenfrequencies:  [  0.     0.    11.41  11.41  48.93  48.93  78.82  78.82 115.27 115.27\n",
      " 268.61 268.61 522.81 522.81]\n",
      "(13, 14)\n"
     ]
    }
   ],
   "source": [
    "assembly = propulsion_system()\n",
    "ndof = assembly.dofs\n",
    "A, B = state_matrices(assembly)\n",
    "C = np.eye(B.shape[0])\n",
    "D = np.zeros(B.shape)\n",
    "\n",
    "# The state matrix, if shaft torque is a state instead of nodal angles\n",
    "transform = X(k_list, ndof)\n",
    "A_transformed = transform @ A\n",
    "C_transformed = np.eye(A_transformed.shape[0])\n",
    "print(A_transformed.shape)"
   ]
  },
  {
   "cell_type": "code",
   "execution_count": 36,
   "id": "d263fa40",
   "metadata": {},
   "outputs": [
    {
     "data": {
      "image/png": "[encoded data removed]",
      "text/plain": [
       "<Figure size 432x288 with 1 Axes>"
      ]
     },
     "metadata": {
      "needs_background": "light"
     },
     "output_type": "display_data"
    }
   ],
   "source": [
    "t = np.arange(0, 1.200, 0.002)\n",
    "\n",
    "# impulse applied at node 0\n",
    "u = np.zeros((len(t), 7))\n",
    "u[:,0] = 1\n",
    "\n",
    "tout, yout, xout = lsim((A, B, C, D), u, t)\n",
    "\n",
    "plt.plot(sol.t, 6.93e8*(yout[:,4] - yout[:,3]))\n",
    "plt.show()"
   ]
  },
  {
   "cell_type": "code",
   "execution_count": 40,
   "id": "e6bd4630",
   "metadata": {},
   "outputs": [
    {
     "data": {
      "image/png": "[encoded data removed]",
      "text/plain": [
       "<Figure size 432x288 with 1 Axes>"
      ]
     },
     "metadata": {
      "needs_background": "light"
     },
     "output_type": "display_data"
    },
    {
     "data": {
      "image/png": "[encoded data removed]",
      "text/plain": [
       "<Figure size 432x288 with 1 Axes>"
      ]
     },
     "metadata": {
      "needs_background": "light"
     },
     "output_type": "display_data"
    }
   ],
   "source": [
    "t = np.arange(0, 1.200, 0.002)\n",
    "\n",
    "# impulse applied at node 0\n",
    "u = np.zeros(ndof)\n",
    "u[0] = 1\n",
    "\n",
    "def f(t, x):\n",
    "    return A @ x + B @ u\n",
    "\n",
    "sol = solve_ivp(f, (t[0], t[-1]), np.zeros(2*ndof), t_eval=t)\n",
    "plt.plot(sol.t, 6.93e8*(sol.y[4,:] - sol.y[3,:]))\n",
    "plt.show()"
   ]
  },
  {
   "cell_type": "markdown",
   "id": "0595ab8f",
   "metadata": {},
   "source": [
    "### Generating measurement data"
   ]
  },
  {
   "cell_type": "markdown",
   "id": "07e37ebc",
   "metadata": {},
   "source": [
    "To avoid inverse crime, in the paper of Ikonen et al., the propulsion system model defined above is modified by varying the inertia and stiffness values by $\\pm 10$% and adding an additional damping coefficient for the propeller."
   ]
  },
  {
   "cell_type": "code",
   "execution_count": null,
   "id": "b406f08e",
   "metadata": {},
   "outputs": [],
   "source": [
    "def propulsion_system():\n",
    "    J1 = np.random.uniform(0.9, 1.1)*1.347e4 # propeller\n",
    "    J3 = np.random.uniform(0.9, 1.1)*5.590e2\n",
    "    J5 = np.random.uniform(0.9, 1.1)*5.120e2\n",
    "    J7 = np.random.uniform(0.9, 1.1)*4.870e2\n",
    "    J9 = np.random.uniform(0.9, 1.1)*1.410e2\n",
    "    J11 = np.random.uniform(0.9, 1.1)*1.740e2\n",
    "    J13 = np.random.uniform(0.9, 1.1)*4.415e3 # motor\n",
    "    \n",
    "    k2 = np.random.uniform(0.9, 1.1)*5.88e7\n",
    "    k4 = np.random.uniform(0.9, 1.1)*5.95e7\n",
    "    k6 = np.random.uniform(0.9, 1.1)*1.12e8\n",
    "    k8 = np.random.uniform(0.9, 1.1)*6.93e8 # this value is used in the calculation of the shaft torque and must be saved\n",
    "    k10 = np.random.uniform(0.9, 1.1)*5.09e8\n",
    "    k12 = np.random.uniform(0.9, 1.1)*1.43e8\n",
    "    damping = 180 # damping in steel_shafts\n",
    "    propeller_damping = 120e3 # the propeller damping\n",
    "    \n",
    "    shafts, disks = [], []\n",
    "    disks.append(ot.Disk(0, I=J1, c=propeller_damping))\n",
    "    shafts.append(ot.Shaft(0, 1, None, None, k=k2, I=0, c=damping))\n",
    "    disks.append(ot.Disk(1, I=J3))\n",
    "    shafts.append(ot.Shaft(1, 2, None, None, k=k4, I=0, c=damping))\n",
    "    disks.append(ot.Disk(2, I=J5))\n",
    "    shafts.append(ot.Shaft(2, 3, None, None, k=k6, I=0, c=damping))\n",
    "    disks.append(ot.Disk(3, I=J7))\n",
    "    shafts.append(ot.Shaft(3, 4, None, None, k=k8, I=0, c=damping))\n",
    "    disks.append(ot.Disk(4, I=J9))\n",
    "    shafts.append(ot.Shaft(4, 5, None, None, k=k10, I=0, c=damping))\n",
    "    disks.append(ot.Disk(5, I=J11))\n",
    "    shafts.append(ot.Shaft(5, 6, None, None, k=k12, I=0, c=damping))\n",
    "    disks.append(ot.Disk(6, I=J13))\n",
    "    \n",
    "    assembly = ot.Assembly(shafts, disk_elements=disks)\n",
    "    _, f, _ = assembly.modal_analysis()\n",
    "    print(\"Eigenfrequencies: \", f.round(2))\n",
    "\n",
    "    return assembly, k8"
   ]
  },
  {
   "cell_type": "code",
   "execution_count": null,
   "id": "86d18d8d",
   "metadata": {},
   "outputs": [],
   "source": [
    "assembly, shaft8_stiffness = propulsion_system()\n",
    "A, B = state_matrices(assembly)\n",
    "C = np.eye(B.shape[0])\n",
    "D = np.zeros(B.shape)"
   ]
  },
  {
   "cell_type": "code",
   "execution_count": null,
   "id": "1395b743",
   "metadata": {},
   "outputs": [],
   "source": [
    "t = np.arange(0, 1.200, 0.002)\n",
    "print(t.shape)\n",
    "\n",
    "# impulse applied at node 0\n",
    "u = np.zeros((len(t), 7))\n",
    "u[20:40,0] = 200000\n",
    "\n",
    "tout, yout, xout = lsim((A, B, C, D), u, t)\n",
    "\n",
    "torque_meas = shaft8_stiffness*(yout[:,4]-yout[:,3])\n",
    "\n",
    "plt.plot(tout, torque_meas)\n",
    "plt.grid()\n",
    "plt.show()"
   ]
  },
  {
   "cell_type": "code",
   "execution_count": null,
   "id": "346580a6",
   "metadata": {},
   "outputs": [],
   "source": [
    "def construct_measurement(n, y):\n",
    "    '''\n",
    "    This function is used to construct a measurement vector used in the convex optimization\n",
    "    problem so that for each timestep there is a vector containing one of each measurement.\n",
    "    In this case, angle and speed measurements from nodes 3 and 4 are used (4 measurements per timestep in total). \n",
    "    '''\n",
    "    measurement = np.vstack([y[0,0], y[0,1], y[0,2], y[0,3]])\n",
    "    for i in range(1, n):\n",
    "        measurement = np.vstack([measurement, y[i,0], y[i,1], y[i,2], y[i,3]])\n",
    "    return measurement"
   ]
  },
  {
   "cell_type": "markdown",
   "id": "a4a0e93d",
   "metadata": {},
   "source": [
    "Here an observation matrix is defined for measuring the angles and speeds at nodes 3 and 4. The convex optimization problem is solved using batches of measurements of 7 consecutive timesteps."
   ]
  },
  {
   "cell_type": "code",
   "execution_count": null,
   "id": "6ab6d544",
   "metadata": {},
   "outputs": [],
   "source": [
    "n = 7 # number of measurements in the batch\n",
    "dofs = 7\n",
    "estimates = np.zeros((n*dofs, 1))\n",
    "idx = 0\n",
    "\n",
    "obs = np.array([[0, 0, 0, 1, 0, 0, 0, 0, 0, 0, 0, 0, 0, 0],\n",
    "                [0, 0, 0, 0, 1, 0, 0, 0, 0, 0, 0, 0, 0, 0],\n",
    "                [0, 0, 0, 0, 0, 0, 0, 0, 0, 0, 1, 0, 0, 0],\n",
    "                [0, 0, 0, 0, 0, 0, 0, 0, 0, 0, 0, 1, 0, 0]])\n",
    "\n",
    "gam = gamma(A, B, obs, n)\n",
    "reg = L(7*n) # size: number of nodes times number of timesteps\n",
    "for i in range(int((yout.shape[0]-(yout.shape[0]%7))/n)):\n",
    "    y = np.hstack([yout[idx:idx+n, 3:5], yout[idx:idx+n, 10:12]])\n",
    "    idx += n\n",
    "    meas_batch = construct_measurement(n, y)\n",
    "    estimate = convex_optimization_problem(meas_batch, gam, reg, lam=1e-20)\n",
    "    estimates = np.vstack([estimates, estimate])"
   ]
  },
  {
   "cell_type": "code",
   "execution_count": null,
   "id": "9ad83d45",
   "metadata": {},
   "outputs": [],
   "source": [
    "print(estimates.shape)\n",
    "plt.plot(estimates)\n",
    "plt.show()"
   ]
  },
  {
   "cell_type": "code",
   "execution_count": null,
   "id": "3ca1901f",
   "metadata": {},
   "outputs": [],
   "source": [
    "node0_estimates = estimates[0::7]\n",
    "plt.plot(node0_estimates)\n",
    "plt.show()"
   ]
  },
  {
   "cell_type": "code",
   "execution_count": null,
   "id": "ffaf0d04",
   "metadata": {},
   "outputs": [],
   "source": []
  }
 ],
 "metadata": {
  "kernelspec": {
   "display_name": "Python 3 (ipykernel)",
   "language": "python",
   "name": "python3"
  },
  "language_info": {
   "codemirror_mode": {
    "name": "ipython",
    "version": 3
   },
   "file_extension": ".py",
   "mimetype": "text/x-python",
   "name": "python",
   "nbconvert_exporter": "python",
   "pygments_lexer": "ipython3",
   "version": "3.8.10"
  }
 },
 "nbformat": 4,
 "nbformat_minor": 5
}
