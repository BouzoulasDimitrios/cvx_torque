{
 "cells": [
  {
   "cell_type": "code",
   "execution_count": 1,
   "id": "e3c2ca6f",
   "metadata": {},
   "outputs": [],
   "source": [
    "import numpy as np\n",
    "import matplotlib.pyplot as plt\n",
    "import scienceplots\n",
    "import scipy.linalg as LA\n",
    "from scipy.signal import dlsim, butter, lfilter"
   ]
  },
  {
   "cell_type": "code",
   "execution_count": 2,
   "id": "fb81ea88",
   "metadata": {},
   "outputs": [],
   "source": [
    "plt.style.use('science')\n",
    "plt.rcParams.update({\n",
    "    \"text.usetex\": True,\n",
    "    \"font.family\": \"Computer Modern\",\n",
    "    \"font.size\": 11,\n",
    "    \"figure.figsize\": (6,6),\n",
    "})"
   ]
  },
  {
   "cell_type": "code",
   "execution_count": 7,
   "id": "a15bb5c2",
   "metadata": {},
   "outputs": [],
   "source": [
    "def low_pass_filter(signal, cutoff, fs):\n",
    "    '''\n",
    "    A fifth-order Butterworth low-pass filter.\n",
    "    '''\n",
    "    nyquist = 0.5 * fs\n",
    "    normalized_cutoff = cutoff / nyquist\n",
    "    b, a = butter(5, normalized_cutoff, btype='low', analog=False)\n",
    "    filtered_signal = lfilter(b, a, signal)\n",
    "\n",
    "    return filtered_signal"
   ]
  },
  {
   "cell_type": "code",
   "execution_count": 11,
   "id": "0ac0a3c6",
   "metadata": {},
   "outputs": [],
   "source": [
    "def process_baseline_data(rot, case, cut, plot=False, pickle_data=False):\n",
    "    sensor_data = np.loadtxt(\n",
    "        (str(rot)).join((\"../data/gear_loss/sensor/\", case)),\n",
    "        delimiter=\",\",\n",
    "        skiprows=1\n",
    "    )\n",
    "\n",
    "    s, e = cut\n",
    "\n",
    "    time_raw = sensor_data[s:e,0]\n",
    "    time = time_raw-time_raw[0]\n",
    "\n",
    "    enc2_angle = (sensor_data[s:e,3])*(2*np.pi/360)\n",
    "    enc2_time_raw = sensor_data[s:e,4]\n",
    "    enc2_time = enc2_time_raw - enc2_time_raw[0]\n",
    "    enc4_angle = (sensor_data[s:e,7])*(2*np.pi/360)\n",
    "    enc4_time_raw = sensor_data[s:e,8]\n",
    "    enc4_time = enc4_time_raw - enc4_time_raw[0]\n",
    "\n",
    "    speed2 = np.gradient(enc2_angle, enc2_time)\n",
    "    speed4 = np.gradient(enc4_angle, enc4_time)\n",
    "\n",
    "    # torque sensors mixed up\n",
    "    torque2 = sensor_data[s:e,-2]\n",
    "    torque1 = sensor_data[s:e,-1]\n",
    "    \n",
    "    if plot:\n",
    "        plt.subplot(221)\n",
    "        plt.plot(time, speed2)\n",
    "        plt.subplot(222)\n",
    "        plt.plot(time, speed4)\n",
    "        plt.subplot(223)\n",
    "        plt.plot(time, torque1)\n",
    "        plt.subplot(224)\n",
    "        plt.plot(time, torque2)\n",
    "\n",
    "    speed2 = low_pass_filter(speed2, 500, 3012)\n",
    "    speed4 = low_pass_filter(speed4, 500, 3012)\n",
    "    torque1 = low_pass_filter(torque1, 500, 3012)\n",
    "    torque2 = low_pass_filter(torque2, 500, 3012)\n",
    "\n",
    "    motor_shaft_power = torque1*speed2\n",
    "    prop_shaft_power = torque2*speed4\n",
    "    power_loss = motor_shaft_power-prop_shaft_power\n",
    "\n",
    "    damping = (torque1-1/12*torque2)/(speed2+1/4*speed4)\n",
    "\n",
    "    # if pickle_data:\n",
    "    #     pickle_fn = (rot).join((\"../data/gear_loss/pickle/\", \"rpm.pickle\"))\n",
    "    #     with open(fname + \"KF.pickle\", 'wb') as handle:\n",
    "    #         pickle.dump(\n",
    "    #             [times_kf, input_estimates_kf, torque_estimates_kf],\n",
    "    #             handle,\n",
    "    #             protocol=pickle.HIGHEST_PROTOCOL\n",
    "    #         )\n",
    "\n",
    "    return np.mean(damping)\n"
   ]
  },
  {
   "cell_type": "code",
   "execution_count": 4,
   "id": "4fc1d1cb",
   "metadata": {},
   "outputs": [],
   "source": [
    "speeds = [250, 500, 750, 1000, 1250, 1500]\n",
    "torque_1 = \"rpm_CT_baseline_1%_GP1_0.csv\"\n",
    "torque_6 = \"rpm_CT_baseline_6%_GP1_0.csv\"\n",
    "torque_11 = \"rpm_CT_baseline_11%_GP1_0.csv\"\n",
    "no_torque = \"rpm_No_torque%_GP1.csv\""
   ]
  },
  {
   "cell_type": "code",
   "execution_count": 73,
   "id": "52a9e9df",
   "metadata": {},
   "outputs": [],
   "source": [
    "tn_damping_means = []\n",
    "tn_damping_means.append(process_baseline_data(speeds[0], no_torque, (int(4e4), -int(4e4)), plot=False))\n",
    "tn_damping_means.append(process_baseline_data(speeds[1], no_torque, (int(9e4), -int(9e4)), plot=False))\n",
    "tn_damping_means.append(process_baseline_data(speeds[2], no_torque, (int(12e4), -int(12e4)), plot=False))\n",
    "tn_damping_means.append(process_baseline_data(speeds[3], no_torque, (int(7e4), -int(7e4)), plot=False))\n",
    "tn_damping_means.append(process_baseline_data(speeds[4], no_torque, (int(15e4), -int(20e4)), plot=False))\n",
    "tn_damping_means.append(process_baseline_data(speeds[5], no_torque, (int(20e4), -int(20e4)), plot=False))"
   ]
  },
  {
   "cell_type": "code",
   "execution_count": 36,
   "id": "9bcfdf3e",
   "metadata": {},
   "outputs": [],
   "source": [
    "t1_damping_means = []\n",
    "t1_damping_means.append(process_baseline_data(speeds[0], torque_1, (int(9e4), -int(9e4)), plot=False))\n",
    "t1_damping_means.append(process_baseline_data(speeds[1], torque_1, (int(9e4), -int(18e4)), plot=False))\n",
    "t1_damping_means.append(process_baseline_data(speeds[2], torque_1, (int(24e4), -int(12e4)), plot=False))\n",
    "t1_damping_means.append(process_baseline_data(speeds[3], torque_1, (int(30e4), -int(15e4)), plot=False))\n",
    "t1_damping_means.append(process_baseline_data(speeds[4], torque_1, (int(45e4), -int(15e4)), plot=False))\n",
    "t1_damping_means.append(process_baseline_data(speeds[5], torque_1, (int(45e4), -int(25e4)), plot=False))"
   ]
  },
  {
   "cell_type": "code",
   "execution_count": null,
   "id": "9b7fe2f6",
   "metadata": {},
   "outputs": [],
   "source": [
    "t6_damping_means = []\n",
    "t6_damping_means.append(process_baseline_data(speeds[0], torque_6, (int(9e4), -int(9e4)), plot=False))\n",
    "t6_damping_means.append(process_baseline_data(speeds[1], torque_6, (int(9e4), -int(27e4)), plot=False))\n",
    "t6_damping_means.append(process_baseline_data(speeds[2], torque_6, (int(24e4), -int(24e4)), plot=False))\n",
    "t6_damping_means.append(process_baseline_data(speeds[3], torque_6, (int(30e4), -int(15e4)), plot=False))\n",
    "t6_damping_means.append(process_baseline_data(speeds[4], torque_6, (int(40e4), -int(20e4)), plot=False))\n",
    "t6_damping_means.append(process_baseline_data(speeds[5], torque_6, (int(45e4), -int(25e4)), plot=False))"
   ]
  },
  {
   "cell_type": "code",
   "execution_count": 89,
   "id": "73d80a89",
   "metadata": {},
   "outputs": [],
   "source": [
    "t11_damping_means = []\n",
    "t11_damping_means.append(process_baseline_data(speeds[0], torque_11, (int(9e4), -int(9e4)), plot=False))\n",
    "t11_damping_means.append(process_baseline_data(speeds[1], torque_11, (int(15e4), -int(27e4)), plot=False))\n",
    "t11_damping_means.append(process_baseline_data(speeds[2], torque_11, (int(24e4), -int(24e4)), plot=False))\n",
    "t11_damping_means.append(process_baseline_data(speeds[3], torque_11, (int(30e4), -int(15e4)), plot=False))\n",
    "t11_damping_means.append(process_baseline_data(speeds[4], torque_11, (int(40e4), -int(20e4)), plot=False))\n",
    "t11_damping_means.append(process_baseline_data(speeds[5], torque_11, (int(45e4), -int(25e4)), plot=False))"
   ]
  },
  {
   "cell_type": "code",
   "execution_count": 90,
   "id": "24ac9075",
   "metadata": {},
   "outputs": [
    {
     "data": {
      "image/png": "[encoded data removed]",
      "text/plain": [
       "<Figure size 432x288 with 1 Axes>"
      ]
     },
     "metadata": {
      "needs_background": "light"
     },
     "output_type": "display_data"
    }
   ],
   "source": [
    "plt.plot(speeds, tn_damping_means, label=\"tn\")\n",
    "plt.plot(speeds, t1_damping_means, label=\"t1\")\n",
    "plt.plot(speeds, t6_damping_means, label=\"t6\")\n",
    "plt.plot(speeds, t11_damping_means, label=\"t11\")\n",
    "#plt.plot(speeds, np.array(t1_damping_means)*np.array(speeds), label=\"c/w\")\n",
    "plt.legend()\n",
    "plt.show()"
   ]
  },
  {
   "cell_type": "code",
   "execution_count": null,
   "id": "c2187622",
   "metadata": {},
   "outputs": [],
   "source": []
  }
 ],
 "metadata": {
  "kernelspec": {
   "display_name": "Python 3 (ipykernel)",
   "language": "python",
   "name": "python3"
  },
  "language_info": {
   "codemirror_mode": {
    "name": "ipython",
    "version": 3
   },
   "file_extension": ".py",
   "mimetype": "text/x-python",
   "name": "python",
   "nbconvert_exporter": "python",
   "pygments_lexer": "ipython3",
   "version": "3.8.10"
  }
 },
 "nbformat": 4,
 "nbformat_minor": 5
}
