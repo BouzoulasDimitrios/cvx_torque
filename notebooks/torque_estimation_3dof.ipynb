{
 "cells": [
  {
   "cell_type": "code",
   "execution_count": 1,
   "id": "c3962d50",
   "metadata": {},
   "outputs": [],
   "source": [
    "import numpy as np\n",
    "import matplotlib.pyplot as plt\n",
    "import scipy.linalg as LA\n",
    "from scipy.signal import lsim, butter, lfilter\n",
    "from scipy.integrate import solve_ivp\n",
    "import cvxpy as cp\n",
    "import opentorsion as ot"
   ]
  },
  {
   "cell_type": "markdown",
   "id": "416c36d7",
   "metadata": {},
   "source": [
    "# Three degree-of-freedom drivetrain"
   ]
  },
  {
   "cell_type": "markdown",
   "id": "e3cc34d3",
   "metadata": {},
   "source": [
    "A 3-DOF drivetrain is modelled using the [openTorsion](https://github.com/Aalto-Arotor/openTorsion) tool. The modelling method used is the shaft-line FEM presented in [Dynamics of Rotating Machines](https://www.cambridge.org/core/books/dynamics-of-rotating-machines/A39F69AD446EC361364E97BA307CBC35)."
   ]
  },
  {
   "cell_type": "markdown",
   "id": "aa4f6ac1",
   "metadata": {},
   "source": [
    "The mass and stiffness matrices are $$ \\textbf{M} = \\begin{bmatrix} J_1 & 0 & 0 \\\\ 0 & J_2 & 0 \\\\ 0 & 0 & J_3 \\\\ \\end{bmatrix} \\qquad \\textbf{K} = \\begin{bmatrix} k_1 & -k_1 & 0 \\\\ -k_1 & k_1 + k_2 & -k_2 \\\\ 0 & -k_2 & k_2 \\\\ \\end{bmatrix} $$ respectively."
   ]
  },
  {
   "cell_type": "code",
   "execution_count": 2,
   "id": "f068fb3b",
   "metadata": {},
   "outputs": [],
   "source": [
    "def drivetrain_3dof():\n",
    "    \"\"\"\n",
    "    Mechanical drivetrain as an openTorsion assembly instance.\n",
    "\n",
    "    Returns:\n",
    "    assembly: opentorsion assembly instance\n",
    "        A 3-DOF mechanical drivetrain modeled as lumped masses and flexible shafts\n",
    "        (lumped mass - shaft - lumped mass - shaft - lumped mass).\n",
    "    \"\"\"\n",
    "    # Disk 1 inertia\n",
    "    J1 = 0.8\n",
    "    # Disk 2 inertia\n",
    "    J2 = 0.5\n",
    "    # Disk 3 inertia\n",
    "    J3 = 0.7\n",
    "    # Shaft 1 stiffness\n",
    "    k1 = 1.5e4\n",
    "    # Shaft 2 stiffness\n",
    "    k2 = 1e4\n",
    "\n",
    "    disks, shafts = [], []\n",
    "    shafts.append(ot.Shaft(0, 1, None, None, k=k1, I=0))\n",
    "    shafts.append(ot.Shaft(1, 2, None, None, k=k2, I=0))\n",
    "    disks.append(ot.Disk(0, I=J1))\n",
    "    disks.append(ot.Disk(1, I=J2))\n",
    "    disks.append(ot.Disk(2, I=J3))\n",
    "    assembly = ot.Assembly(shafts, disk_elements=disks)\n",
    "    _, f, _ = assembly.modal_analysis()\n",
    "\n",
    "    return assembly"
   ]
  },
  {
   "cell_type": "markdown",
   "id": "48344364",
   "metadata": {},
   "source": [
    "In torsional forced response analysis, a modal damping matrix can be used. Methods for calculating the modal damping matrix are presented for example in [Introduction to Dynamics of Rotor-Bearing Systems](https://www.amazon.com/Introduction-Dynamics-Rotor-Bearing-Systems-Jeng/dp/1412051908) (or openTorsion source code)."
   ]
  },
  {
   "cell_type": "markdown",
   "id": "4ef28b05",
   "metadata": {},
   "source": [
    "The undamped eigenfrequencies and eigenmodes are solved from the eigenvalue problem\n",
    "$\\begin{equation}\n",
    "    \\left(\\textbf{K} - \\omega_i^2 \\textbf{M}\\right)\\varphi_i = 0\n",
    "\\end{equation}$,\n",
    "where $\\omega_i$ and $\\varphi_i$ are the eigenfrequency and eigenmode of the $i^{\\text{th}}$ mode respectively. The eigenmodes form the modal matrix $\\boldsymbol{\\Phi} = [\\varphi_1 \\varphi_2 \\varphi_3]$.\n",
    "The damping matrix $\\textbf{C}$ used in torsional forced response analysis is calculated as follows:\n",
    "$$\\begin{equation}\n",
    "    \\begin{aligned}\n",
    "        \\hat{\\textbf{M}} &= \\boldsymbol{\\Phi}^{\\text{T}} \\textbf{M} \\boldsymbol{\\Phi} \\\\\n",
    "        \\hat{\\textbf{C}} &= \\text{diag}(2 \\xi_i \\omega_i) \\cdot \\hat{\\textbf{M}} \\\\\n",
    "        \\textbf{C} &= \\boldsymbol{\\Phi}^{-\\text{T}} \\hat{\\textbf{C}} \\boldsymbol{\\Phi}^{-1}\n",
    "    \\end{aligned}\n",
    "\\end{equation}$$\n",
    "where $\\xi_i$ is some factor of the critical damping ratio."
   ]
  },
  {
   "cell_type": "markdown",
   "id": "31ab1959",
   "metadata": {},
   "source": [
    "OpenTorsion builds the system matrices (works for geared and branched systems also). The state-space model is created using the system matrices. The state-space model is\n",
    "$$ \\dot{\\textbf{x}} = \\textbf{A}\\textbf{x} + \\textbf{B}\\textbf{u} $$ where $$ \\textbf{A} = \\begin{bmatrix} \\boldsymbol{0} & \\textbf{I} \\\\ -\\textbf{M}^{-1}\\textbf{K} & -\\textbf{M}^{-1}\\textbf{C} \\end{bmatrix} \\quad \\textbf{B} = \\begin{bmatrix} \\boldsymbol{0} \\\\ \\textbf{M}^{-1} \\end{bmatrix} \\quad \\textbf{x} = \\begin{bmatrix} \\boldsymbol{\\theta} \\\\ \\boldsymbol{\\dot{\\theta}} \\end{bmatrix} \\quad \\textbf{u} = \\begin{bmatrix} \\boldsymbol{0} \\\\ \\textbf{T} \\end{bmatrix}. $$"
   ]
  },
  {
   "cell_type": "code",
   "execution_count": 3,
   "id": "2758ec2a",
   "metadata": {},
   "outputs": [],
   "source": [
    "def state_matrices(assembly):\n",
    "    \"\"\"\n",
    "    Create state-space matrices A and B of an openTorsion assembly.\n",
    "\n",
    "    Parameters:\n",
    "    assembly : openTorsion assembly instance\n",
    "        Mechanical drivetrain model.\n",
    "\n",
    "    Returns:\n",
    "    A : numpy.ndarray\n",
    "        The state matrix\n",
    "    B : numpy.ndarray\n",
    "        The input matrix\n",
    "    \"\"\"\n",
    "    M, K = assembly.M(), assembly.K()  # Mass and stiffness matrices\n",
    "    C = assembly.C_modal(M, K, xi=0.02)  # Modal damping matrix, modal damping coefficient 0.02 used\n",
    "    Z = np.zeros(M.shape)\n",
    "    I = np.eye(M.shape[0])\n",
    "    M_inv = LA.inv(M)\n",
    "\n",
    "    A = np.vstack([np.hstack([Z, I]), np.hstack([-M_inv @ K, -M_inv @ C])])\n",
    "\n",
    "    B = np.vstack([Z, M_inv])\n",
    "\n",
    "    return A, B"
   ]
  },
  {
   "cell_type": "markdown",
   "id": "e971a8a7",
   "metadata": {},
   "source": [
    "Response of the system when 100 Nm is applied at node 3 for ~2 seconds."
   ]
  },
  {
   "cell_type": "code",
   "execution_count": 4,
   "id": "7637c082",
   "metadata": {},
   "outputs": [
    {
     "data": {
      "image/png": "[encoded data removed]",
      "text/plain": [
       "<Figure size 432x288 with 1 Axes>"
      ]
     },
     "metadata": {
      "needs_background": "light"
     },
     "output_type": "display_data"
    }
   ],
   "source": [
    "assembly = drivetrain_3dof()\n",
    "A, B = state_matrices(assembly)\n",
    "C = np.eye(B.shape[0])\n",
    "D = np.zeros(B.shape)\n",
    "\n",
    "t = np.arange(0, 30.01, 0.01)\n",
    "\n",
    "# impulse applied at node 3\n",
    "u = np.zeros((len(t), 3))\n",
    "u[0:200,-1] = 100\n",
    "\n",
    "tout, yout, xout = lsim((A, B, C, D), u, t)\n",
    "\n",
    "# plot speed at node 1\n",
    "plt.plot(tout, yout[:,3])\n",
    "plt.show()"
   ]
  },
  {
   "cell_type": "markdown",
   "id": "d2dde221",
   "metadata": {},
   "source": [
    "# Kalman filter"
   ]
  },
  {
   "cell_type": "code",
   "execution_count": 5,
   "id": "bc40d174",
   "metadata": {},
   "outputs": [],
   "source": [
    "class PredictionDerivative:\n",
    "    \"\"\"\n",
    "    This class is used in the calculation of predicted state in the conventional Kalman filter algorithm.\n",
    "    \"\"\"\n",
    "\n",
    "    def __init__(self, A, B, u0):\n",
    "        \"\"\"\n",
    "        Initialize the state matrices and the input matrix.\n",
    "\n",
    "        Parameters:\n",
    "        A : numpy.ndarray\n",
    "            The state matrix\n",
    "        B : numpy.ndarray\n",
    "            The input matrix\n",
    "        u0 : float\n",
    "            The initial load on the drivetrain\n",
    "        \"\"\"\n",
    "        self.A = A\n",
    "        self.B = B\n",
    "        self.u = u0\n",
    "\n",
    "    def update_load(self, u):\n",
    "        \"\"\"\n",
    "        Update the load on the drivetrain.\n",
    "\n",
    "        Parameters:\n",
    "        u : float\n",
    "            The updated load on the drivetrain\n",
    "        \"\"\"\n",
    "        self.u = u\n",
    "\n",
    "    def f(self, t, x):\n",
    "        \"\"\"\n",
    "        State derivative function used by `scipy.integrate.solve_ivp`\n",
    "        (see `conventional_kalman_filter` function).\n",
    "\n",
    "        Parameters:\n",
    "        t : float\n",
    "            The time step\n",
    "        x : numpy.ndarray\n",
    "            The state vector\n",
    "\n",
    "        Returns:\n",
    "        numpy.ndarray\n",
    "            The derivative of the state vector\n",
    "        \"\"\"\n",
    "        return self.A @ x + self.B @ self.u"
   ]
  },
  {
   "cell_type": "markdown",
   "id": "edbb74c2",
   "metadata": {},
   "source": [
    "A conventional Kalman filter algorithm."
   ]
  },
  {
   "cell_type": "code",
   "execution_count": 6,
   "id": "277850b6",
   "metadata": {},
   "outputs": [],
   "source": [
    "def conventional_kalman_filter(A, B, C, Q, R, time, Y, load, m0, P0):\n",
    "    \"\"\"\n",
    "    A conventional Kalman filter.\n",
    "\n",
    "    Parameters:\n",
    "    A : numpy.ndarray\n",
    "        The state matrix\n",
    "    B : numpy.ndarray\n",
    "        The input matrix\n",
    "    C : numpy.ndarray\n",
    "        The observation matrix\n",
    "    Q : numpy.ndarray\n",
    "        The process covariance matrix\n",
    "    R : numpy.ndarray\n",
    "        The measurement covariance matrix\n",
    "    time : numpy.ndarray\n",
    "        Measurement timesteps\n",
    "    Y : numpy.ndarray\n",
    "        Measurements\n",
    "    load : numpy.ndarray\n",
    "        Excitation data\n",
    "    m0 : numpy.ndarray\n",
    "        Initial state guess\n",
    "    P0 : numpy.ndarray\n",
    "        Initial estimate covariance guess\n",
    "\n",
    "    Returns:\n",
    "    x : numpy.ndarray\n",
    "        The Kalman filter estimated states\n",
    "    \"\"\"\n",
    "    T = Y.shape[1]\n",
    "    nx = m0.shape[0]  # dimension of x\n",
    "    x = np.zeros((nx, T))\n",
    "    x[:, 0] = m0\n",
    "    P = P0\n",
    "    I = np.eye(P0.shape[0])\n",
    "    predd = PredictionDerivative(A, B, load[:, 0])\n",
    "    for n in range(T-1):\n",
    "        # Prediction\n",
    "        dt = time[n + 1] - time[n]\n",
    "        x_hat = x[:, n]\n",
    "        u_hat = load[:, n]\n",
    "        predd.update_load(u_hat)\n",
    "        sol = solve_ivp(predd.f, (time[n], time[n] + dt), x_hat, dense_output=True)\n",
    "        x_ = sol.y[:, -1]\n",
    "        P_ = A @ P @ A.T + Q\n",
    "        # Update\n",
    "        S = C @ P_ @ C.T + R\n",
    "        K = P_ @ C.T @ LA.inv(S)\n",
    "        P = (I - K @ C) @ P_\n",
    "        y = Y[:, n]\n",
    "        x[:, n+1] = x_ + K @ (y - C @ x_)\n",
    "\n",
    "    return x"
   ]
  },
  {
   "cell_type": "markdown",
   "id": "30e17294",
   "metadata": {},
   "source": [
    "Gaussian white noise is added to the measurements. Speed measurements from nodes 1 and 2 are used in the Kalman filter. The Kalman filter algorithm is run and estimated speed is plotted."
   ]
  },
  {
   "cell_type": "code",
   "execution_count": 7,
   "id": "64e86f80",
   "metadata": {},
   "outputs": [],
   "source": [
    "R_ = 1e-5*np.eye(C.shape[0]) # measurement covariance, shape (n_sensors, n_sensors)\n",
    "Q_ = 1e-2*np.diag(np.array([0, 0, 0, 1, 1, 1])) # process (speed) covariance, shape (n_states, n_states)\n",
    "\n",
    "# add gaussian white noise to the measurement (measurement and process noise)\n",
    "r = np.random.multivariate_normal(np.zeros(R_.shape[0]), R_, tout.shape[0])\n",
    "q = np.random.multivariate_normal(np.zeros(Q_.shape[0]), Q_, tout.shape[0])\n",
    "\n",
    "yout_noise = (yout + r + q).T # shape (n_states, n_timesteps)\n",
    "    \n",
    "meas = np.vstack([yout_noise[3,:], yout_noise[4,:]]) # use speed measurements at node 1 and 2"
   ]
  },
  {
   "cell_type": "code",
   "execution_count": 8,
   "id": "f50bab16",
   "metadata": {},
   "outputs": [],
   "source": [
    "# C, Q and R matrices redefined\n",
    "C = np.array([[0, 0, 0, 1, 0, 0], [0, 0, 0, 0, 1, 0]])\n",
    "R = 1e-4*np.eye(C.shape[0])\n",
    "Q = 1e-2*np.diag(np.array([0, 0, 0, 1, 1, 1])) # process (speed) covariance, shape (n_states, n_states)\n",
    "\n",
    "    \n",
    "m0 = 0*np.copy(yout[0,:]) # initial state guess\n",
    "P0 = 1e-2*np.eye(A.shape[0]) # randomly chosen estimate covariance\n",
    "x_kalman = conventional_kalman_filter(A, B, C, Q, R, t, meas, u.T, m0, P0)"
   ]
  },
  {
   "cell_type": "markdown",
   "id": "f6429c45",
   "metadata": {},
   "source": [
    "Compare estimate to measurement at node 3."
   ]
  },
  {
   "cell_type": "code",
   "execution_count": 9,
   "id": "22a30bfa",
   "metadata": {},
   "outputs": [
    {
     "data": {
      "image/png": "[encoded data removed]",
      "text/plain": [
       "<Figure size 432x288 with 1 Axes>"
      ]
     },
     "metadata": {
      "needs_background": "light"
     },
     "output_type": "display_data"
    }
   ],
   "source": [
    "plt.plot(tout, x_kalman[-1,:], label=\"estimated speed\", linestyle='--', color='green')\n",
    "plt.plot(tout, yout_noise[-1,:], label=\"measured speed with noise\", alpha=0.8, color='b')\n",
    "plt.plot(tout, yout[:,-1], label=\"measured speed (no noise)\", color='r')\n",
    "plt.title(\"node 3\")\n",
    "plt.ylim(95,105)\n",
    "plt.legend()\n",
    "\n",
    "plt.show()"
   ]
  },
  {
   "cell_type": "code",
   "execution_count": 10,
   "id": "0b40df96",
   "metadata": {},
   "outputs": [
    {
     "data": {
      "image/png": "[encoded data removed]",
      "text/plain": [
       "<Figure size 432x288 with 1 Axes>"
      ]
     },
     "metadata": {
      "needs_background": "light"
     },
     "output_type": "display_data"
    }
   ],
   "source": [
    "# zoomed in version of the same plot\n",
    "start = int(2/0.01)\n",
    "tout_mod = tout[start:]\n",
    "x_kalman_mod = x_kalman[-1,:][start:]\n",
    "yout_noise_mod = yout_noise[-1,:][start:]\n",
    "x_kalman_mod -= np.mean(x_kalman_mod)\n",
    "yout_noise_mod -= np.mean(yout_noise_mod)\n",
    "plt.plot(tout_mod, x_kalman_mod, label=\"estimated speed\", linestyle='--', color='green')\n",
    "plt.plot(tout_mod, yout_noise_mod, label=\"measured speed with noise\", alpha=0.8, color='b')\n",
    "#plt.plot(tout, yout[:,-1], label=\"measured speed (no noise)\", color='r')\n",
    "plt.title(\"node 3\")\n",
    "#plt.ylim(99, 102)\n",
    "plt.ylim(-0.5, 0.6)\n",
    "plt.xlim(2, 2.5)\n",
    "plt.legend()\n",
    "\n",
    "plt.show()"
   ]
  },
  {
   "cell_type": "markdown",
   "id": "ef561192",
   "metadata": {},
   "source": [
    "# Convex optimization methods"
   ]
  },
  {
   "cell_type": "code",
   "execution_count": 11,
   "id": "9a67b6fa",
   "metadata": {},
   "outputs": [],
   "source": [
    "def O(A, C, n):\n",
    "    '''\n",
    "    Create the extended observability matrix used in the data equation.\n",
    "\n",
    "    Parameters:\n",
    "\n",
    "    A : numpy.ndarray\n",
    "        The state matrix of the state-space system\n",
    "    C : numpy.ndarray\n",
    "        The observation matrix of the state-space system\n",
    "    n : float\n",
    "        number of measurements\n",
    "\n",
    "    Returns:\n",
    "\n",
    "    O : numpy.ndarray, shape(n, number of state variables)\n",
    "        The extended observability matrix\n",
    "    '''\n",
    "    O = C\n",
    "    for k in range(1, n):\n",
    "        O = np.vstack((O, C @ np.linalg.matrix_power(A, k)))\n",
    "\n",
    "    return O"
   ]
  },
  {
   "cell_type": "code",
   "execution_count": 12,
   "id": "d69551e2",
   "metadata": {},
   "outputs": [],
   "source": [
    "def gamma(A, B, C, n):\n",
    "    '''\n",
    "    Create the impulse response matrix used in the data equation.\n",
    "\n",
    "    Parameters:\n",
    "\n",
    "    A : numpy.ndarray\n",
    "        The state matrix of the state-space system\n",
    "    B : numpy.ndarray\n",
    "        The input matrix of the state-space system\n",
    "    C : numpy.ndarray\n",
    "        The observation matrix of the state-space system\n",
    "    n : float\n",
    "        number of measurements\n",
    "\n",
    "    Returns:\n",
    "\n",
    "    gamma : numpy.ndarray, shape(n*number of state variables, n*number of state variables)\n",
    "        The impulse response matrix\n",
    "    '''\n",
    "    # first column\n",
    "    gamma_column_first = np.zeros(B.shape)\n",
    "    for k in range(1, n):\n",
    "        gamma_column_first = np.vstack((gamma_column_first, C @ np.linalg.matrix_power(A, k) @ B))\n",
    "\n",
    "    # build complete matrix\n",
    "    gamma = gamma_column_first\n",
    "    current_col = 1\n",
    "    for s in range(1, n):\n",
    "        gamma_rows = np.zeros(B.shape)\n",
    "        current_row = current_col\n",
    "        for k in range(1, n):\n",
    "            if current_row > 0:\n",
    "                row_val = np.zeros(B.shape)\n",
    "                current_row -= 1\n",
    "            else:\n",
    "                row_val = C @ np.linalg.matrix_power(A, k-current_col) @ B\n",
    "            gamma_rows = np.vstack((gamma_rows, row_val))\n",
    "\n",
    "        gamma = np.hstack((gamma, gamma_rows))\n",
    "        current_col += 1\n",
    "\n",
    "    return gamma"
   ]
  },
  {
   "cell_type": "code",
   "execution_count": 13,
   "id": "53bb78c9",
   "metadata": {},
   "outputs": [],
   "source": [
    "def L(input_shape):\n",
    "    '''\n",
    "    The regularization matrix L. Currently an identity matrix with diagonal of length n.\n",
    "\n",
    "    Parameters:\n",
    "\n",
    "    meas_shape : float\n",
    "        Input vector shape used to determine L matrix shape.\n",
    "\n",
    "    Returns:\n",
    "\n",
    "    L : ndarray\n",
    "        The regularization matrix\n",
    "    '''\n",
    "    L = np.eye(input_shape)\n",
    "\n",
    "    return L"
   ]
  },
  {
   "cell_type": "code",
   "execution_count": 14,
   "id": "c8a2ab93",
   "metadata": {},
   "outputs": [],
   "source": [
    "def convex_optimization_problem(meas, O, gamma, L, lam=1):\n",
    "    '''\n",
    "    Convex optimization methods using the cvxpy library.\n",
    "    '''\n",
    "    d = cp.Variable((gamma.shape[1], 1), complex=False)\n",
    "    x = np.array(meas[:6,0]).reshape(6, 1) # first measurement used as the initial state\n",
    "    objective = cp.Minimize(cp.sum_squares(meas - O @ x - gamma @ d) + lam * cp.pnorm(L @ d, 1))\n",
    "    prob = cp.Problem(objective)\n",
    "    prob.solve(solver=cp.CVXOPT)\n",
    "\n",
    "    return prob.value"
   ]
  }
 ],
 "metadata": {
  "kernelspec": {
   "display_name": "Python 3 (ipykernel)",
   "language": "python",
   "name": "python3"
  },
  "language_info": {
   "codemirror_mode": {
    "name": "ipython",
    "version": 3
   },
   "file_extension": ".py",
   "mimetype": "text/x-python",
   "name": "python",
   "nbconvert_exporter": "python",
   "pygments_lexer": "ipython3",
   "version": "3.8.10"
  }
 },
 "nbformat": 4,
 "nbformat_minor": 5
}
