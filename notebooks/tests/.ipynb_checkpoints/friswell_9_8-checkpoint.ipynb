{
 "cells": [
  {
   "cell_type": "markdown",
   "id": "0552914e",
   "metadata": {},
   "source": [
    "### Friswell problem 9.8."
   ]
  },
  {
   "cell_type": "code",
   "execution_count": 8,
   "id": "0f8a308f",
   "metadata": {},
   "outputs": [],
   "source": [
    "import numpy as np\n",
    "import matplotlib.pyplot as plt\n",
    "import scipy.linalg as LA"
   ]
  },
  {
   "cell_type": "code",
   "execution_count": 2,
   "id": "4bb3e357",
   "metadata": {},
   "outputs": [],
   "source": [
    "k1 = 2e6\n",
    "k2 = 3e6\n",
    "Im = 150\n",
    "Is = 8\n",
    "Il = 450\n",
    "Ic = 1062\n",
    "g = 1/6"
   ]
  },
  {
   "cell_type": "code",
   "execution_count": 5,
   "id": "ed225e4e",
   "metadata": {},
   "outputs": [
    {
     "name": "stdout",
     "output_type": "stream",
     "text": [
      "Referred inertia of cone and large gear =  50.0 kg m^2\n",
      "Equivalent shaft stiffness =  1.2 MN/rad\n"
     ]
    }
   ],
   "source": [
    "k = (k1*k2)/(k1 + k2)\n",
    "Ie = Is + g**2*(Il + Ic)\n",
    "print(\"Referred inertia of cone and large gear = \", Ie, \"kg m^2\")\n",
    "print(\"Equivalent shaft stiffness = \", k/1e6, \"MN/rad\")"
   ]
  },
  {
   "cell_type": "code",
   "execution_count": 13,
   "id": "f23b8957",
   "metadata": {},
   "outputs": [
    {
     "name": "stdout",
     "output_type": "stream",
     "text": [
      "Natural frequency =  [ 0.        +0.j 28.47050174+0.j] Hz\n",
      "Mode shape =  -0.3162277660168378    0.9486832980505138\n"
     ]
    }
   ],
   "source": [
    "M = np.array([[Im, 0], [0, Ie]])\n",
    "K = np.array([[k, -k], [-k, k]])\n",
    "lam, u = LA.eig(K,M)\n",
    "omega_n = np.sqrt(np.diag(lam))/2/np.pi\n",
    "print(\"Natural frequency = \", omega_n[1], \"Hz\")\n",
    "print(\"Mode shape = \", u[0,1], \"  \", u[1,1])"
   ]
  },
  {
   "cell_type": "code",
   "execution_count": 11,
   "id": "4d3708be",
   "metadata": {},
   "outputs": [
    {
     "name": "stdout",
     "output_type": "stream",
     "text": [
      "[ 427.77457255  740.34621124 3398.87897343  385.04154456  179.92071611]\n"
     ]
    }
   ],
   "source": [
    "omegaf_Hz = [10, 20, 30, 40, 50]\n",
    "torque = np.zeros(len(omegaf_Hz))\n",
    "for cs in range(len(omegaf_Hz)):\n",
    "    omegaf = omegaf_Hz[cs]*2*np.pi\n",
    "    Z = K-omegaf**2*M\n",
    "    Q = np.array([[0],[3000*g]])\n",
    "    q = LA.solve(Z, Q)\n",
    "    torque[cs] = np.abs(k*(q[0]-q[1]))\n",
    "\n",
    "print(torque)"
   ]
  },
  {
   "cell_type": "code",
   "execution_count": null,
   "id": "c83f5f28",
   "metadata": {},
   "outputs": [],
   "source": []
  }
 ],
 "metadata": {
  "kernelspec": {
   "display_name": "Python 3 (ipykernel)",
   "language": "python",
   "name": "python3"
  },
  "language_info": {
   "codemirror_mode": {
    "name": "ipython",
    "version": 3
   },
   "file_extension": ".py",
   "mimetype": "text/x-python",
   "name": "python",
   "nbconvert_exporter": "python",
   "pygments_lexer": "ipython3",
   "version": "3.8.10"
  }
 },
 "nbformat": 4,
 "nbformat_minor": 5
}
