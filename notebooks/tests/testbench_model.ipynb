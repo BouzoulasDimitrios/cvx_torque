{
 "cells": [
  {
   "cell_type": "markdown",
   "id": "cddac5e9",
   "metadata": {},
   "source": [
    "# Kongsberg testbench model"
   ]
  },
  {
   "cell_type": "code",
   "execution_count": 13,
   "id": "47849857",
   "metadata": {},
   "outputs": [],
   "source": [
    "import numpy as np\n",
    "import matplotlib.pyplot as plt\n",
    "import pandas as pd\n",
    "import scipy.linalg as LA\n",
    "from scipy.signal import lsim, dlsim\n",
    "import pickle\n",
    "import opentorsion as ot"
   ]
  },
  {
   "cell_type": "markdown",
   "id": "151c650e",
   "metadata": {},
   "source": [
    "The testbench model is based on the small-scale maritime laboratory testbench presented in [Manngård et al. 2022](https://doi.org/10.1016/j.ymssp.2022.108969). The two lowest natural frequencies of the testbench were experimentally determined to be 23.2 Hz and 51.4 Hz."
   ]
  },
  {
   "cell_type": "code",
   "execution_count": 14,
   "id": "de413579",
   "metadata": {},
   "outputs": [],
   "source": [
    "def testbench():\n",
    "    '''\n",
    "    Kongsberg testbench model based on parameters from Manngård et al. (2022).\n",
    "    '''\n",
    "    shafts = []\n",
    "    disks = []\n",
    "    gears = []\n",
    "\n",
    "    disks.append(ot.Disk(0, I=6.5e-4))\n",
    "    shafts.append(ot.Shaft(0, 1, 0, 0, k=1.9039e5, I=1.4420e-4, c=8.0804)) # driving motor, coupling\n",
    "    shafts.append(ot.Shaft(1, 2, 0, 0, k=6.9487e3, I=3.7880e-6, c=0.2949)) # shaft\n",
    "    shafts.append(ot.Shaft(2, 3, 0, 0, k=90, I=3e-6, c=0.2387)) # elastomer coupling hub\n",
    "    shafts.append(ot.Shaft(3, 4, 0, 0, k=90, I=2e-6, c=0.2387)) # elastomer coupling middle piece\n",
    "    shafts.append(ot.Shaft(4, 5, 0, 0, k=90, I=0, c=0.2387)) # elastomer coupling hubs & shaft\n",
    "    disks.append(ot.Disk(5, I=7.8091e-3))\n",
    "    shafts.append(ot.Shaft(5, 6, 0, 0, k=90, I=2e-6, c=0.2387))# elastomer coupling middle piece\n",
    "    shafts.append(ot.Shaft(6, 7, 0, 0, k=90, I=0, c=0.0013)) # elastomer coupling hub & shaft\n",
    "    shafts.append(ot.Shaft(7, 8, 0.342e3, 0.008e3, G=80e9, rho=7800)) # new shaft (shaft & coupling)\n",
    "    shafts.append(ot.Shaft(8, 9, 0, 0, k=5.4e3, I=6.5e-6, c=0.2292)) # torque transducer\n",
    "    shafts.append(ot.Shaft(9, 10, 0, 0, k=4.19e4, I=5.65e-5, c=1.7783)) # torque transducer & coupling\n",
    "    shafts.append(ot.Shaft(10, 11, 0, 0, k=1.2192e3, I=4.2685e-6, c=0.5175)) # shaft\n",
    "    gear1 = ot.Gear(11, I=3.2467e-4, R=1)\n",
    "    gears.append(gear1) # shaft & gear\n",
    "    gears.append(ot.Gear(12, I=0, R=3, parent=gear1))\n",
    "    shafts.append(ot.Shaft(12, 13, 0, 0, k=3.1e4, I=1.2e-4, c=1.3157)) # coupling\n",
    "    shafts.append(ot.Shaft(13, 14, 0, 0, k=1.1429e3, I=1.1516e-5, c=0.0485)) # shaft\n",
    "    shafts.append(ot.Shaft(14, 15, 0, 0, k=3.1e4, I=1.3152e-4, c=1.3157)) # shaft & coupling\n",
    "    shafts.append(ot.Shaft(15, 16, 0, 0, k=1.2192e4, I=4.2685e-6, c=0.5175)) # shaft\n",
    "    gear2 = ot.Gear(16, I=2.6927e-4, R=1)\n",
    "    gears.append(gear2) # shaft & gear\n",
    "    gears.append(ot.Gear(17, I=0, R=4, parent=gear2))\n",
    "    shafts.append(ot.Shaft(17, 18, 0, 0, k=1.38e5, I=1.8e-4, c=5.8569)) # coupling\n",
    "    shafts.append(ot.Shaft(18, 19, 0, 0, k=2e4, I=2e-5, c=0.8488)) # torque transducer\n",
    "    shafts.append(ot.Shaft(19, 20, 0, 0, k=1.38e5, I=2e-4, c=5.8569)) # torque trandsucer & coupling\n",
    "    shafts.append(ot.Shaft(20, 21, 0, 0, k=1.2192e4, I=4.2685e-6, c=0.5175)) # shaft\n",
    "    disks.append(ot.Disk(21, I=4.9535e-2)) # shaft, mass, planetary gear & load generator\n",
    "\n",
    "    assembly = ot.Assembly(shafts, disk_elements=disks, gear_elements=gears)\n",
    "    _, f, _ = assembly.modal_analysis()\n",
    "    print(f.round(2))\n",
    "\n",
    "    return assembly\n"
   ]
  },
  {
   "cell_type": "markdown",
   "id": "b215f088",
   "metadata": {},
   "source": [
    "The lowest natural frequencies of the above model (23.5 Hz and 60 Hz) are relatively close to the experimental results. "
   ]
  },
  {
   "cell_type": "code",
   "execution_count": 15,
   "id": "77c64c59",
   "metadata": {},
   "outputs": [],
   "source": [
    "def testbench_measured():\n",
    "    '''\n",
    "    Kongsberg testbench model with measured component dimensions.\n",
    "    '''\n",
    "    \n",
    "    shafts, disks, gears = [], [], []\n",
    "\n",
    "    shafts = []\n",
    "    disks = []\n",
    "    gears = []\n",
    "\n",
    "    '''Driving motor, motor shaft, aluminium copuling, steel shaft'''\n",
    "    disks.append(ot.Disk(0, I=6.5e-4))\n",
    "    shafts.append(ot.Shaft(0, 1, 15, 24))\n",
    "    shafts.append(ot.Shaft(1, 2, 79.45, 66, idl=20, G=27e9, E=70e9, rho=2710))\n",
    "    shafts.append(ot.Shaft(2, 3, 6, 16))\n",
    "\n",
    "    '''Elastomer coupling'''\n",
    "    shafts.append(ot.Shaft(3, 4, (51.75/3), 32.2, idl=16, G=27e9, E=70e9, rho=2710)) # elastomer coupling hub\n",
    "    shafts.append(ot.Shaft(4, 5, 0, 0, k=90, I=0)) # elastomer coupling soft part\n",
    "    shafts.append(ot.Shaft(5, 6, (51.75/3), 32.2, idl=16, G=27e9, E=70e9, rho=2710)) # elastomer coupling middle piece\n",
    "    shafts.append(ot.Shaft(6, 7, 0, 0, k=90, I=0)) # elastomer coupling soft part\n",
    "    shafts.append(ot.Shaft(7, 8, (51.75/3), 32.2, idl=16, G=27e9, E=70e9, rho=2710)) # elastomer coupling hub\n",
    "\n",
    "    '''Shaft, mass, shaft'''\n",
    "    shafts.append(ot.Shaft(8, 9, 39, 16))\n",
    "    disks.append(ot.Disk(9, I=7.7e-3))\n",
    "    shafts.append(ot.Shaft(9, 10, 39, 16))\n",
    "\n",
    "    '''Elastomer coupling'''\n",
    "    shafts.append(ot.Shaft(10, 11, (51.75/3), 32.2, idl=16, G=27e9, E=70e9, rho=2710)) # elastomer coupling hub\n",
    "    shafts.append(ot.Shaft(11, 12, 0, 0, k=90, I=0)) # elastomer coupling soft part\n",
    "    shafts.append(ot.Shaft(12, 13, (51.75/3), 32.2, idl=16, G=27e9, E=70e9, rho=2710)) # elastomer coupling middle piece\n",
    "    shafts.append(ot.Shaft(13, 14, 0, 0, k=90, I=0)) # elastomer coupling soft part\n",
    "    shafts.append(ot.Shaft(14, 15, (51.75/3), 32.2, idl=16, G=27e9, E=70e9, rho=2710)) # elastomer coupling hub\n",
    "\n",
    "    '''Shaft, bellow coupling, torque transducer, bellow coupling'''\n",
    "    shafts.append(ot.Shaft(15, 16, 319, 8)) # long shaft\n",
    "    shafts.append(ot.Shaft(16, 17, 0, 0, k=15e3, I=2e-5)) # coupling\n",
    "    shafts.append(ot.Shaft(17, 18, 0, 0, k=5400, I=1.3e-5)) # torque transducer\n",
    "    shafts.append(ot.Shaft(18, 19, 0, 0, k=15e3, I=2e-5)) # coupling\n",
    "\n",
    "    '''First gearbox, shafts, couplings'''\n",
    "    gear1 = ot.Gear(19, I=3.2467e-4, R=1)\n",
    "    gears.append(gear1) # gear\n",
    "    gears.append(ot.Gear(20, I=0, R=3, parent=gear1))\n",
    "    shafts.append(ot.Shaft(20, 21, 0, 0, k=3.1e4, I=1.2e-4)) # coupling\n",
    "    shafts.append(ot.Shaft(21, 22, 33.5, 16)) # shaft\n",
    "    shafts.append(ot.Shaft(22, 23, 0, 0, k=3.1e4, I=1.2e-4)) # coupling\n",
    "    shafts.append(ot.Shaft(23, 24, 62, 25)) # shaft\n",
    "\n",
    "    '''Second gearbox, shafts, couplings'''\n",
    "    gear2 = ot.Gear(24, I=7.315601e-5, R=1)\n",
    "    gears.append(gear2) # shaft & gear\n",
    "    gears.append(ot.Gear(25, I=1.1265292e-2, R=4, parent=gear2))\n",
    "    shafts.append(ot.Shaft(25, 26, 105, 24.5)) # shaft\n",
    "    shafts.append(ot.Shaft(26, 27, 0, 0, k=138e3, I=2.8e-4)) # coupling\n",
    "    shafts.append(ot.Shaft(27, 28, 0, 0, k=2e4, I=4e-5)) # torque transducer\n",
    "    shafts.append(ot.Shaft(28, 29, 0, 0, k=138e3, I=2.8e-4)) # coupling\n",
    "    shafts.append(ot.Shaft(29, 30, 117, 25)) # shaft\n",
    "    disks.append(ot.Disk(30, I=7.5863e-3)) # mass\n",
    "    shafts.append(ot.Shaft(30, 31, 77, 25))\n",
    "    shafts.append(ot.Shaft(31, 32, 0, 0, k=31e3, I=0.12e-3))\n",
    "\n",
    "    '''Planetary gear, driving motor'''\n",
    "    #gear3 = ot.Gear(32, I=0, R=8) # planetary gear\n",
    "    #gears.append(gear3)\n",
    "    #gears.append(ot.Gear(33, I=1.32e-4, R=1, parent=gear3))\n",
    "    disks.append(ot.Disk(32, I=6.5e-4)) # load generator\n",
    "\n",
    "    assembly = ot.Assembly(shafts, disk_elements=disks, gear_elements=gears)\n",
    "    _, f, _ = assembly.modal_analysis()\n",
    "    print(f.round(2))\n",
    "\n",
    "    return assembly"
   ]
  },
  {
   "cell_type": "markdown",
   "id": "df9d7a13",
   "metadata": {},
   "source": [
    "# The state-space model of the testbench"
   ]
  },
  {
   "cell_type": "markdown",
   "id": "f352d5d3",
   "metadata": {},
   "source": [
    "The conventional state-space model presented in e.g. Friswell\n",
    "\n",
    "$$ \\begin{bmatrix} \\dot{\\theta} \\\\ \\ddot{\\theta} \\end{bmatrix} = \\underbrace{\\begin{bmatrix} \\boldsymbol{0} & \\textbf{I} \\\\ -\\textbf{M}^{-1}\\textbf{K} & -\\textbf{M}^{-1}\\textbf{C} \\end{bmatrix}}_{\\textbf{A}} \\begin{bmatrix} \\theta \\\\ \\dot{\\theta} \\end{bmatrix} + \\underbrace{\\begin{bmatrix} \\boldsymbol{0} \\\\ \\textbf{M}^{-1} \\end{bmatrix}}_{\\textbf{B}} \\textbf{T} $$"
   ]
  },
  {
   "cell_type": "code",
   "execution_count": 16,
   "id": "a0622926",
   "metadata": {},
   "outputs": [],
   "source": [
    "def state_matrices(assembly):\n",
    "    \"\"\"\n",
    "    Create state-space matrices A and B of an openTorsion assembly.\n",
    "\n",
    "    Parameters:\n",
    "        assembly : openTorsion assembly instance\n",
    "            Mechanical drivetrain model\n",
    "\n",
    "    Returns:\n",
    "        A : numpy.ndarray\n",
    "            The state matrix\n",
    "        B : numpy.ndarray\n",
    "            The input matrix\n",
    "    \"\"\"\n",
    "    M, C, K = assembly.M(), assembly.C(), assembly.K()  # Mass and stiffness matrices\n",
    "    Z = np.zeros(M.shape)\n",
    "    I = np.eye(M.shape[0])\n",
    "    M_inv = LA.inv(M)\n",
    "\n",
    "    A = np.vstack([np.hstack([Z, I]), np.hstack([-M_inv @ K, -M_inv @ C])])\n",
    "\n",
    "    B = np.vstack([Z, M_inv])\n",
    "\n",
    "    return A, B"
   ]
  },
  {
   "cell_type": "code",
   "execution_count": 17,
   "id": "55a8cb7a",
   "metadata": {},
   "outputs": [],
   "source": [
    "def excitation_matrix(t, dof, motor, load):\n",
    "    '''\n",
    "    Excitation in matrix form. This function assumes the load is\n",
    "    always applied to the first and last node of the drivetrain.\n",
    "\n",
    "    Parameters\n",
    "    t : ndarray\n",
    "        timesteps\n",
    "    load : lambda function\n",
    "        excitation function\n",
    "    dof : int\n",
    "        number of degrees of freedom of the drivetrain\n",
    "    '''\n",
    "    U = np.zeros((len(t), dof))\n",
    "\n",
    "    U[:,0] += motor\n",
    "    U[:,-1] -= load\n",
    "\n",
    "    return U"
   ]
  },
  {
   "cell_type": "code",
   "execution_count": 18,
   "id": "4d6e8a52",
   "metadata": {},
   "outputs": [
    {
     "ename": "OSError",
     "evalue": "../../data/Experiment31.csv not found.",
     "output_type": "error",
     "traceback": [
      "\u001b[0;31m---------------------------------------------------------------------------\u001b[0m",
      "\u001b[0;31mOSError\u001b[0m                                   Traceback (most recent call last)",
      "\u001b[0;32m/tmp/ipykernel_177960/3927383516.py\u001b[0m in \u001b[0;36m<module>\u001b[0;34m\u001b[0m\n\u001b[0;32m----> 1\u001b[0;31m \u001b[0mdata\u001b[0m \u001b[0;34m=\u001b[0m \u001b[0mnp\u001b[0m\u001b[0;34m.\u001b[0m\u001b[0mgenfromtxt\u001b[0m\u001b[0;34m(\u001b[0m\u001b[0;34m'../../data/Experiment31.csv'\u001b[0m\u001b[0;34m,\u001b[0m \u001b[0mdelimiter\u001b[0m\u001b[0;34m=\u001b[0m\u001b[0;34m','\u001b[0m\u001b[0;34m)\u001b[0m\u001b[0;34m\u001b[0m\u001b[0;34m\u001b[0m\u001b[0m\n\u001b[0m",
      "\u001b[0;32m~/.local/lib/python3.8/site-packages/numpy/lib/npyio.py\u001b[0m in \u001b[0;36mgenfromtxt\u001b[0;34m(fname, dtype, comments, delimiter, skip_header, skip_footer, converters, missing_values, filling_values, usecols, names, excludelist, deletechars, replace_space, autostrip, case_sensitive, defaultfmt, unpack, usemask, loose, invalid_raise, max_rows, encoding, like)\u001b[0m\n\u001b[1;32m   1789\u001b[0m             \u001b[0mfname\u001b[0m \u001b[0;34m=\u001b[0m \u001b[0mos_fspath\u001b[0m\u001b[0;34m(\u001b[0m\u001b[0mfname\u001b[0m\u001b[0;34m)\u001b[0m\u001b[0;34m\u001b[0m\u001b[0;34m\u001b[0m\u001b[0m\n\u001b[1;32m   1790\u001b[0m         \u001b[0;32mif\u001b[0m \u001b[0misinstance\u001b[0m\u001b[0;34m(\u001b[0m\u001b[0mfname\u001b[0m\u001b[0;34m,\u001b[0m \u001b[0mstr\u001b[0m\u001b[0;34m)\u001b[0m\u001b[0;34m:\u001b[0m\u001b[0;34m\u001b[0m\u001b[0;34m\u001b[0m\u001b[0m\n\u001b[0;32m-> 1791\u001b[0;31m             \u001b[0mfid\u001b[0m \u001b[0;34m=\u001b[0m \u001b[0mnp\u001b[0m\u001b[0;34m.\u001b[0m\u001b[0mlib\u001b[0m\u001b[0;34m.\u001b[0m\u001b[0m_datasource\u001b[0m\u001b[0;34m.\u001b[0m\u001b[0mopen\u001b[0m\u001b[0;34m(\u001b[0m\u001b[0mfname\u001b[0m\u001b[0;34m,\u001b[0m \u001b[0;34m'rt'\u001b[0m\u001b[0;34m,\u001b[0m \u001b[0mencoding\u001b[0m\u001b[0;34m=\u001b[0m\u001b[0mencoding\u001b[0m\u001b[0;34m)\u001b[0m\u001b[0;34m\u001b[0m\u001b[0;34m\u001b[0m\u001b[0m\n\u001b[0m\u001b[1;32m   1792\u001b[0m             \u001b[0mfid_ctx\u001b[0m \u001b[0;34m=\u001b[0m \u001b[0mcontextlib\u001b[0m\u001b[0;34m.\u001b[0m\u001b[0mclosing\u001b[0m\u001b[0;34m(\u001b[0m\u001b[0mfid\u001b[0m\u001b[0;34m)\u001b[0m\u001b[0;34m\u001b[0m\u001b[0;34m\u001b[0m\u001b[0m\n\u001b[1;32m   1793\u001b[0m         \u001b[0;32melse\u001b[0m\u001b[0;34m:\u001b[0m\u001b[0;34m\u001b[0m\u001b[0;34m\u001b[0m\u001b[0m\n",
      "\u001b[0;32m~/.local/lib/python3.8/site-packages/numpy/lib/_datasource.py\u001b[0m in \u001b[0;36mopen\u001b[0;34m(path, mode, destpath, encoding, newline)\u001b[0m\n\u001b[1;32m    192\u001b[0m \u001b[0;34m\u001b[0m\u001b[0m\n\u001b[1;32m    193\u001b[0m     \u001b[0mds\u001b[0m \u001b[0;34m=\u001b[0m \u001b[0mDataSource\u001b[0m\u001b[0;34m(\u001b[0m\u001b[0mdestpath\u001b[0m\u001b[0;34m)\u001b[0m\u001b[0;34m\u001b[0m\u001b[0;34m\u001b[0m\u001b[0m\n\u001b[0;32m--> 194\u001b[0;31m     \u001b[0;32mreturn\u001b[0m \u001b[0mds\u001b[0m\u001b[0;34m.\u001b[0m\u001b[0mopen\u001b[0m\u001b[0;34m(\u001b[0m\u001b[0mpath\u001b[0m\u001b[0;34m,\u001b[0m \u001b[0mmode\u001b[0m\u001b[0;34m,\u001b[0m \u001b[0mencoding\u001b[0m\u001b[0;34m=\u001b[0m\u001b[0mencoding\u001b[0m\u001b[0;34m,\u001b[0m \u001b[0mnewline\u001b[0m\u001b[0;34m=\u001b[0m\u001b[0mnewline\u001b[0m\u001b[0;34m)\u001b[0m\u001b[0;34m\u001b[0m\u001b[0;34m\u001b[0m\u001b[0m\n\u001b[0m\u001b[1;32m    195\u001b[0m \u001b[0;34m\u001b[0m\u001b[0m\n\u001b[1;32m    196\u001b[0m \u001b[0;34m\u001b[0m\u001b[0m\n",
      "\u001b[0;32m~/.local/lib/python3.8/site-packages/numpy/lib/_datasource.py\u001b[0m in \u001b[0;36mopen\u001b[0;34m(self, path, mode, encoding, newline)\u001b[0m\n\u001b[1;32m    529\u001b[0m                                       encoding=encoding, newline=newline)\n\u001b[1;32m    530\u001b[0m         \u001b[0;32melse\u001b[0m\u001b[0;34m:\u001b[0m\u001b[0;34m\u001b[0m\u001b[0;34m\u001b[0m\u001b[0m\n\u001b[0;32m--> 531\u001b[0;31m             \u001b[0;32mraise\u001b[0m \u001b[0mIOError\u001b[0m\u001b[0;34m(\u001b[0m\u001b[0;34m\"%s not found.\"\u001b[0m \u001b[0;34m%\u001b[0m \u001b[0mpath\u001b[0m\u001b[0;34m)\u001b[0m\u001b[0;34m\u001b[0m\u001b[0;34m\u001b[0m\u001b[0m\n\u001b[0m\u001b[1;32m    532\u001b[0m \u001b[0;34m\u001b[0m\u001b[0m\n\u001b[1;32m    533\u001b[0m \u001b[0;34m\u001b[0m\u001b[0m\n",
      "\u001b[0;31mOSError\u001b[0m: ../../data/Experiment31.csv not found."
     ]
    }
   ],
   "source": [
    "data = np.genfromtxt('../../data/Experiment31.csv', delimiter=',')"
   ]
  },
  {
   "cell_type": "code",
   "execution_count": 19,
   "id": "d331c0b3",
   "metadata": {},
   "outputs": [
    {
     "ename": "NameError",
     "evalue": "name 'data' is not defined",
     "output_type": "error",
     "traceback": [
      "\u001b[0;31m---------------------------------------------------------------------------\u001b[0m",
      "\u001b[0;31mNameError\u001b[0m                                 Traceback (most recent call last)",
      "\u001b[0;32m/tmp/ipykernel_177960/3980493257.py\u001b[0m in \u001b[0;36m<module>\u001b[0;34m\u001b[0m\n\u001b[1;32m      6\u001b[0m \u001b[0;31m# [45] = Propeller Torque\u001b[0m\u001b[0;34m\u001b[0m\u001b[0;34m\u001b[0m\u001b[0;34m\u001b[0m\u001b[0m\n\u001b[1;32m      7\u001b[0m \u001b[0;34m\u001b[0m\u001b[0m\n\u001b[0;32m----> 8\u001b[0;31m \u001b[0mtime\u001b[0m \u001b[0;34m=\u001b[0m \u001b[0mdata\u001b[0m\u001b[0;34m[\u001b[0m\u001b[0;34m:\u001b[0m\u001b[0;34m,\u001b[0m\u001b[0;36m0\u001b[0m\u001b[0;34m]\u001b[0m\u001b[0;34m\u001b[0m\u001b[0;34m\u001b[0m\u001b[0m\n\u001b[0m\u001b[1;32m      9\u001b[0m \u001b[0mmotor_torque\u001b[0m \u001b[0;34m=\u001b[0m \u001b[0mdata\u001b[0m\u001b[0;34m[\u001b[0m\u001b[0;34m:\u001b[0m\u001b[0;34m,\u001b[0m\u001b[0;34m-\u001b[0m\u001b[0;36m2\u001b[0m\u001b[0;34m]\u001b[0m\u001b[0;34m\u001b[0m\u001b[0;34m\u001b[0m\u001b[0m\n\u001b[1;32m     10\u001b[0m \u001b[0mpropeller_torque\u001b[0m \u001b[0;34m=\u001b[0m \u001b[0mdata\u001b[0m\u001b[0;34m[\u001b[0m\u001b[0;34m:\u001b[0m\u001b[0;34m,\u001b[0m\u001b[0;34m-\u001b[0m\u001b[0;36m1\u001b[0m\u001b[0;34m]\u001b[0m\u001b[0;34m\u001b[0m\u001b[0;34m\u001b[0m\u001b[0m\n",
      "\u001b[0;31mNameError\u001b[0m: name 'data' is not defined"
     ]
    }
   ],
   "source": [
    "# structure of data:\n",
    "# [0] = Time\n",
    "# [1-22] = Angular speeds\n",
    "# [23-43] = Torques\n",
    "# [44] = Motor Torque\n",
    "# [45] = Propeller Torque\n",
    "\n",
    "time = data[:,0]\n",
    "motor_torque = data[:,-2]\n",
    "propeller_torque = data[:,-1]\n",
    "\n",
    "angular_speed_7 = data[:,7]\n",
    "upper_torque_sensor = data[:,31]"
   ]
  },
  {
   "cell_type": "code",
   "execution_count": 20,
   "id": "d53f19cc",
   "metadata": {},
   "outputs": [],
   "source": [
    "def c2d(A, B, Ts):\n",
    "    \"\"\"\n",
    "    C2D computes a discrete-time model of a system (A_c,B_c) with sample time T_s.\n",
    "    The function returns matrices A,B of the discrete-time system.\n",
    "    \"\"\"\n",
    "    m, n = A.shape\n",
    "    nb = B.shape[1]\n",
    "\n",
    "    s = np.concatenate([A,B], axis=1)\n",
    "    s = np.concatenate([s, np.zeros((nb, n+nb))], axis=0)\n",
    "    S = LA.expm(s*Ts)\n",
    "    Ad = S[0:n,0:n]\n",
    "    Bd = S[0:n,n:n+nb+1]\n",
    "    \n",
    "    return Ad, Bd"
   ]
  },
  {
   "cell_type": "code",
   "execution_count": 21,
   "id": "d6a410ad",
   "metadata": {},
   "outputs": [
    {
     "name": "stdout",
     "output_type": "stream",
     "text": [
      "[0.000000e+00 0.000000e+00 2.354000e+01 2.354000e+01 2.566000e+01\n",
      " 2.566000e+01 6.013000e+01 6.092000e+01 6.210000e+01 6.210000e+01\n",
      " 8.606000e+01 1.883200e+02 1.883200e+02 4.021800e+02 4.021800e+02\n",
      " 7.604000e+02 7.604000e+02 1.124620e+03 1.124620e+03 1.902300e+03\n",
      " 1.902300e+03 2.476650e+03 2.476650e+03 3.172520e+03 3.172520e+03\n",
      " 3.360790e+03 3.360790e+03 3.517990e+03 3.517990e+03 3.635520e+03\n",
      " 3.635520e+03 5.367610e+03 5.367610e+03 5.776600e+03 5.776600e+03\n",
      " 5.966730e+03 5.966730e+03 8.508430e+03 9.439520e+03 3.235839e+04]\n"
     ]
    },
    {
     "ename": "NameError",
     "evalue": "name 'time' is not defined",
     "output_type": "error",
     "traceback": [
      "\u001b[0;31m---------------------------------------------------------------------------\u001b[0m",
      "\u001b[0;31mNameError\u001b[0m                                 Traceback (most recent call last)",
      "\u001b[0;32m/tmp/ipykernel_177960/51941572.py\u001b[0m in \u001b[0;36m<module>\u001b[0;34m\u001b[0m\n\u001b[1;32m      4\u001b[0m \u001b[0;34m\u001b[0m\u001b[0m\n\u001b[1;32m      5\u001b[0m \u001b[0mdof\u001b[0m \u001b[0;34m=\u001b[0m \u001b[0massembly\u001b[0m\u001b[0;34m.\u001b[0m\u001b[0mM\u001b[0m\u001b[0;34m(\u001b[0m\u001b[0;34m)\u001b[0m\u001b[0;34m.\u001b[0m\u001b[0mshape\u001b[0m\u001b[0;34m[\u001b[0m\u001b[0;36m0\u001b[0m\u001b[0;34m]\u001b[0m\u001b[0;34m\u001b[0m\u001b[0;34m\u001b[0m\u001b[0m\n\u001b[0;32m----> 6\u001b[0;31m \u001b[0mU\u001b[0m \u001b[0;34m=\u001b[0m \u001b[0mexcitation_matrix\u001b[0m\u001b[0;34m(\u001b[0m\u001b[0mtime\u001b[0m\u001b[0;34m,\u001b[0m \u001b[0mdof\u001b[0m\u001b[0;34m,\u001b[0m \u001b[0mmotor_torque\u001b[0m\u001b[0;34m,\u001b[0m \u001b[0mpropeller_torque\u001b[0m\u001b[0;34m)\u001b[0m\u001b[0;34m\u001b[0m\u001b[0;34m\u001b[0m\u001b[0m\n\u001b[0m\u001b[1;32m      7\u001b[0m \u001b[0;34m\u001b[0m\u001b[0m\n\u001b[1;32m      8\u001b[0m \u001b[0mdt\u001b[0m \u001b[0;34m=\u001b[0m \u001b[0mnp\u001b[0m\u001b[0;34m.\u001b[0m\u001b[0mmean\u001b[0m\u001b[0;34m(\u001b[0m\u001b[0mnp\u001b[0m\u001b[0;34m.\u001b[0m\u001b[0mdiff\u001b[0m\u001b[0;34m(\u001b[0m\u001b[0mtime\u001b[0m\u001b[0;34m)\u001b[0m\u001b[0;34m)\u001b[0m\u001b[0;34m\u001b[0m\u001b[0;34m\u001b[0m\u001b[0m\n",
      "\u001b[0;31mNameError\u001b[0m: name 'time' is not defined"
     ]
    }
   ],
   "source": [
    "assembly = testbench()\n",
    "A, B = state_matrices(assembly)\n",
    "C, D = np.eye(B.shape[0]), np.zeros(B.shape)\n",
    "\n",
    "dof = assembly.M().shape[0]\n",
    "U = excitation_matrix(time, dof, motor_torque, propeller_torque)\n",
    "\n",
    "dt = np.mean(np.diff(time))"
   ]
  },
  {
   "cell_type": "code",
   "execution_count": 22,
   "id": "42683942",
   "metadata": {},
   "outputs": [
    {
     "ename": "NameError",
     "evalue": "name 'dt' is not defined",
     "output_type": "error",
     "traceback": [
      "\u001b[0;31m---------------------------------------------------------------------------\u001b[0m",
      "\u001b[0;31mNameError\u001b[0m                                 Traceback (most recent call last)",
      "\u001b[0;32m/tmp/ipykernel_177960/3820116928.py\u001b[0m in \u001b[0;36m<module>\u001b[0;34m\u001b[0m\n\u001b[0;32m----> 1\u001b[0;31m \u001b[0mA_d\u001b[0m\u001b[0;34m,\u001b[0m \u001b[0mB_d\u001b[0m \u001b[0;34m=\u001b[0m \u001b[0mc2d\u001b[0m\u001b[0;34m(\u001b[0m\u001b[0mA\u001b[0m\u001b[0;34m,\u001b[0m \u001b[0mB\u001b[0m\u001b[0;34m,\u001b[0m \u001b[0mdt\u001b[0m\u001b[0;34m)\u001b[0m\u001b[0;34m\u001b[0m\u001b[0;34m\u001b[0m\u001b[0m\n\u001b[0m",
      "\u001b[0;31mNameError\u001b[0m: name 'dt' is not defined"
     ]
    }
   ],
   "source": [
    "A_d, B_d = c2d(A, B, dt)"
   ]
  },
  {
   "cell_type": "code",
   "execution_count": 23,
   "id": "12ec19ea",
   "metadata": {},
   "outputs": [
    {
     "ename": "NameError",
     "evalue": "name 'time' is not defined",
     "output_type": "error",
     "traceback": [
      "\u001b[0;31m---------------------------------------------------------------------------\u001b[0m",
      "\u001b[0;31mNameError\u001b[0m                                 Traceback (most recent call last)",
      "\u001b[0;32m/tmp/ipykernel_177960/4262098843.py\u001b[0m in \u001b[0;36m<module>\u001b[0;34m\u001b[0m\n\u001b[0;32m----> 1\u001b[0;31m \u001b[0mplt\u001b[0m\u001b[0;34m.\u001b[0m\u001b[0mplot\u001b[0m\u001b[0;34m(\u001b[0m\u001b[0mtime\u001b[0m\u001b[0;34m,\u001b[0m \u001b[0mU\u001b[0m\u001b[0;34m[\u001b[0m\u001b[0;34m:\u001b[0m\u001b[0;34m,\u001b[0m\u001b[0;36m0\u001b[0m\u001b[0;34m]\u001b[0m\u001b[0;34m)\u001b[0m\u001b[0;34m\u001b[0m\u001b[0;34m\u001b[0m\u001b[0m\n\u001b[0m\u001b[1;32m      2\u001b[0m \u001b[0mplt\u001b[0m\u001b[0;34m.\u001b[0m\u001b[0mplot\u001b[0m\u001b[0;34m(\u001b[0m\u001b[0mtime\u001b[0m\u001b[0;34m,\u001b[0m \u001b[0mU\u001b[0m\u001b[0;34m[\u001b[0m\u001b[0;34m:\u001b[0m\u001b[0;34m,\u001b[0m\u001b[0;34m-\u001b[0m\u001b[0;36m1\u001b[0m\u001b[0;34m]\u001b[0m\u001b[0;34m)\u001b[0m\u001b[0;34m\u001b[0m\u001b[0;34m\u001b[0m\u001b[0m\n",
      "\u001b[0;31mNameError\u001b[0m: name 'time' is not defined"
     ]
    }
   ],
   "source": [
    "plt.plot(time, U[:,0])\n",
    "plt.plot(time, U[:,-1])"
   ]
  },
  {
   "cell_type": "code",
   "execution_count": 24,
   "id": "9a3837c6",
   "metadata": {},
   "outputs": [
    {
     "ename": "NameError",
     "evalue": "name 'U' is not defined",
     "output_type": "error",
     "traceback": [
      "\u001b[0;31m---------------------------------------------------------------------------\u001b[0m",
      "\u001b[0;31mNameError\u001b[0m                                 Traceback (most recent call last)",
      "\u001b[0;32m/tmp/ipykernel_177960/3198455086.py\u001b[0m in \u001b[0;36m<module>\u001b[0;34m\u001b[0m\n\u001b[0;32m----> 1\u001b[0;31m \u001b[0mtout\u001b[0m\u001b[0;34m,\u001b[0m \u001b[0myout\u001b[0m\u001b[0;34m,\u001b[0m \u001b[0mxout\u001b[0m \u001b[0;34m=\u001b[0m \u001b[0mlsim\u001b[0m\u001b[0;34m(\u001b[0m\u001b[0;34m(\u001b[0m\u001b[0mA\u001b[0m\u001b[0;34m,\u001b[0m \u001b[0mB\u001b[0m\u001b[0;34m,\u001b[0m \u001b[0mC\u001b[0m\u001b[0;34m,\u001b[0m \u001b[0mD\u001b[0m\u001b[0;34m)\u001b[0m\u001b[0;34m,\u001b[0m \u001b[0mU\u001b[0m\u001b[0;34m,\u001b[0m \u001b[0mtime\u001b[0m\u001b[0;34m)\u001b[0m\u001b[0;34m\u001b[0m\u001b[0;34m\u001b[0m\u001b[0m\n\u001b[0m",
      "\u001b[0;31mNameError\u001b[0m: name 'U' is not defined"
     ]
    }
   ],
   "source": [
    "tout, yout, xout = lsim((A, B, C, D), U, time)"
   ]
  },
  {
   "cell_type": "code",
   "execution_count": 25,
   "id": "9f77d4a3",
   "metadata": {},
   "outputs": [
    {
     "ename": "NameError",
     "evalue": "name 'tout' is not defined",
     "output_type": "error",
     "traceback": [
      "\u001b[0;31m---------------------------------------------------------------------------\u001b[0m",
      "\u001b[0;31mNameError\u001b[0m                                 Traceback (most recent call last)",
      "\u001b[0;32m/tmp/ipykernel_177960/1450792241.py\u001b[0m in \u001b[0;36m<module>\u001b[0;34m\u001b[0m\n\u001b[0;32m----> 1\u001b[0;31m \u001b[0mplt\u001b[0m\u001b[0;34m.\u001b[0m\u001b[0mplot\u001b[0m\u001b[0;34m(\u001b[0m\u001b[0mtout\u001b[0m\u001b[0;34m,\u001b[0m \u001b[0myout\u001b[0m\u001b[0;34m[\u001b[0m\u001b[0;34m:\u001b[0m\u001b[0;34m,\u001b[0m\u001b[0;36m26\u001b[0m\u001b[0;34m]\u001b[0m\u001b[0;34m)\u001b[0m\u001b[0;34m\u001b[0m\u001b[0;34m\u001b[0m\u001b[0m\n\u001b[0m\u001b[1;32m      2\u001b[0m \u001b[0mplt\u001b[0m\u001b[0;34m.\u001b[0m\u001b[0mplot\u001b[0m\u001b[0;34m(\u001b[0m\u001b[0mtime\u001b[0m\u001b[0;34m,\u001b[0m \u001b[0mangular_speed_7\u001b[0m\u001b[0;34m)\u001b[0m\u001b[0;34m\u001b[0m\u001b[0;34m\u001b[0m\u001b[0m\n",
      "\u001b[0;31mNameError\u001b[0m: name 'tout' is not defined"
     ]
    }
   ],
   "source": [
    "plt.plot(tout, yout[:,26])\n",
    "plt.plot(time, angular_speed_7)"
   ]
  },
  {
   "cell_type": "code",
   "execution_count": 26,
   "id": "d4251ebe",
   "metadata": {},
   "outputs": [
    {
     "ename": "NameError",
     "evalue": "name 'A_d' is not defined",
     "output_type": "error",
     "traceback": [
      "\u001b[0;31m---------------------------------------------------------------------------\u001b[0m",
      "\u001b[0;31mNameError\u001b[0m                                 Traceback (most recent call last)",
      "\u001b[0;32m/tmp/ipykernel_177960/993424848.py\u001b[0m in \u001b[0;36m<module>\u001b[0;34m\u001b[0m\n\u001b[0;32m----> 1\u001b[0;31m \u001b[0mdtout\u001b[0m\u001b[0;34m,\u001b[0m \u001b[0mdyout\u001b[0m\u001b[0;34m,\u001b[0m \u001b[0mdxout\u001b[0m \u001b[0;34m=\u001b[0m \u001b[0mdlsim\u001b[0m\u001b[0;34m(\u001b[0m\u001b[0;34m(\u001b[0m\u001b[0mA_d\u001b[0m\u001b[0;34m,\u001b[0m \u001b[0mB_d\u001b[0m\u001b[0;34m,\u001b[0m \u001b[0mC\u001b[0m\u001b[0;34m,\u001b[0m \u001b[0mD\u001b[0m\u001b[0;34m,\u001b[0m \u001b[0mdt\u001b[0m\u001b[0;34m)\u001b[0m\u001b[0;34m,\u001b[0m \u001b[0mU\u001b[0m\u001b[0;34m,\u001b[0m \u001b[0mtime\u001b[0m\u001b[0;34m)\u001b[0m\u001b[0;34m\u001b[0m\u001b[0;34m\u001b[0m\u001b[0m\n\u001b[0m",
      "\u001b[0;31mNameError\u001b[0m: name 'A_d' is not defined"
     ]
    }
   ],
   "source": [
    "dtout, dyout, dxout = dlsim((A_d, B_d, C, D, dt), U, time)"
   ]
  },
  {
   "cell_type": "code",
   "execution_count": 27,
   "id": "eee65837",
   "metadata": {},
   "outputs": [
    {
     "ename": "NameError",
     "evalue": "name 'dtout' is not defined",
     "output_type": "error",
     "traceback": [
      "\u001b[0;31m---------------------------------------------------------------------------\u001b[0m",
      "\u001b[0;31mNameError\u001b[0m                                 Traceback (most recent call last)",
      "\u001b[0;32m/tmp/ipykernel_177960/3137904345.py\u001b[0m in \u001b[0;36m<module>\u001b[0;34m\u001b[0m\n\u001b[0;32m----> 1\u001b[0;31m \u001b[0mplt\u001b[0m\u001b[0;34m.\u001b[0m\u001b[0mplot\u001b[0m\u001b[0;34m(\u001b[0m\u001b[0mdtout\u001b[0m\u001b[0;34m,\u001b[0m \u001b[0mdyout\u001b[0m\u001b[0;34m[\u001b[0m\u001b[0;34m:\u001b[0m\u001b[0;34m,\u001b[0m\u001b[0;36m26\u001b[0m\u001b[0;34m]\u001b[0m\u001b[0;34m)\u001b[0m\u001b[0;34m\u001b[0m\u001b[0;34m\u001b[0m\u001b[0m\n\u001b[0m\u001b[1;32m      2\u001b[0m \u001b[0mplt\u001b[0m\u001b[0;34m.\u001b[0m\u001b[0mplot\u001b[0m\u001b[0;34m(\u001b[0m\u001b[0mtime\u001b[0m\u001b[0;34m,\u001b[0m \u001b[0mangular_speed_7\u001b[0m\u001b[0;34m)\u001b[0m\u001b[0;34m\u001b[0m\u001b[0;34m\u001b[0m\u001b[0m\n",
      "\u001b[0;31mNameError\u001b[0m: name 'dtout' is not defined"
     ]
    }
   ],
   "source": [
    "plt.plot(dtout, dyout[:,26])\n",
    "plt.plot(time, angular_speed_7)"
   ]
  },
  {
   "cell_type": "markdown",
   "id": "635a67ea",
   "metadata": {},
   "source": [
    "# Matlab model state-space matrices"
   ]
  },
  {
   "cell_type": "code",
   "execution_count": 28,
   "id": "c6753a50",
   "metadata": {},
   "outputs": [],
   "source": [
    "time_steps = np.genfromtxt('../../data/ice_excitation/times.csv', delimiter=',')\n",
    "motor = np.genfromtxt('../../data/ice_excitation/motor.csv', delimiter=',')\n",
    "propeller = np.genfromtxt('../../data/ice_excitation/propeller.csv', delimiter=',')\n",
    "angular_speeds = np.genfromtxt('../../data/ice_excitation/speed_measurements.csv', delimiter=',')\n",
    "shaft_torque = np.genfromtxt('../../data/ice_excitation/torque_measurements.csv', delimiter=',')"
   ]
  },
  {
   "cell_type": "code",
   "execution_count": 29,
   "id": "8e474d9f",
   "metadata": {},
   "outputs": [],
   "source": [
    "A_mat = np.genfromtxt('../../data/testbench_models/MSSP/testbench_A.csv', delimiter=',')\n",
    "B_mat = np.genfromtxt('../../data/testbench_models/MSSP/testbench_B.csv', delimiter=',')\n",
    "C_mat = np.genfromtxt('../../data/testbench_models/MSSP/testbench_C.csv', delimiter=',')\n",
    "D_mat = np.genfromtxt('../../data/testbench_models/MSSP/testbench_D.csv', delimiter=',')\n",
    "\n",
    "ts = np.mean(np.diff(time_steps))\n",
    "A_mat_d, B_mat_d = c2d(A_mat, B_mat, ts)\n",
    "UU = np.vstack((motor, propeller)).T"
   ]
  },
  {
   "cell_type": "code",
   "execution_count": 30,
   "id": "0595e9b3",
   "metadata": {},
   "outputs": [],
   "source": [
    "# sensors at indices 7, 8, 31\n",
    "# gear1 at node 12 (3:1), gear 2 at node 17 (4:1)\n",
    "rot_speed = np.mean([angular_speeds[0,0], angular_speeds[1,0]])\n",
    "tor = shaft_torque[0]\n",
    "x0 = np.zeros(43)"
   ]
  },
  {
   "cell_type": "code",
   "execution_count": 31,
   "id": "acb1b91e",
   "metadata": {},
   "outputs": [],
   "source": [
    "# calculate an initial state for the discrete-time simulation\n",
    "CCc = np.eye(B_mat.shape[0])\n",
    "DDc = np.zeros((CCc.shape[0], B_mat.shape[1]))\n",
    "_, initial_states_c, _ = lsim((A_mat, B_mat, CCc, DDc), UU, time_steps)"
   ]
  },
  {
   "cell_type": "code",
   "execution_count": 32,
   "id": "685e6c03",
   "metadata": {},
   "outputs": [],
   "source": [
    "# continuous-time simulation\n",
    "tout_mat, yout_mat, xout_mat = lsim((A_mat, B_mat, C_mat, D_mat), UU, time_steps, X0=initial_states_c[-1,:])"
   ]
  },
  {
   "cell_type": "code",
   "execution_count": 33,
   "id": "15c2124f",
   "metadata": {},
   "outputs": [],
   "source": [
    "# calculate an initial state for the discrete-time simulation\n",
    "CC = np.eye(B_mat_d.shape[0])\n",
    "DD = np.zeros((CC.shape[0], B_mat_d.shape[1]))\n",
    "_, initial_states, _ = dlsim((A_mat_d, B_mat_d, CC, DD, ts), UU, t=time_steps)"
   ]
  },
  {
   "cell_type": "code",
   "execution_count": 34,
   "id": "25b8bad3",
   "metadata": {},
   "outputs": [],
   "source": [
    "dtout_mat, dyout_mat, dxout_mat = dlsim((A_mat_d, B_mat_d, C_mat, D_mat, ts), UU, t=time_steps, x0=initial_states[-1,:])"
   ]
  },
  {
   "cell_type": "code",
   "execution_count": 35,
   "id": "d30b3f09",
   "metadata": {},
   "outputs": [
    {
     "data": {
      "image/png": "[encoded data removed]",
      "text/plain": [
       "<Figure size 432x288 with 1 Axes>"
      ]
     },
     "metadata": {
      "needs_background": "light"
     },
     "output_type": "display_data"
    }
   ],
   "source": [
    "plt.plot(time_steps, angular_speeds[0,:], label='Measurement')\n",
    "plt.plot(tout_mat, yout_mat[:,0], '--', label='Simulation (cont.)')\n",
    "plt.plot(dtout_mat, dyout_mat[:,0], '.', label='Simulation (disc.)', alpha=0.2)\n",
    "plt.legend()\n",
    "plt.show()"
   ]
  },
  {
   "cell_type": "code",
   "execution_count": 36,
   "id": "935c66eb",
   "metadata": {},
   "outputs": [
    {
     "data": {
      "image/png": "[encoded data removed]",
      "text/plain": [
       "<Figure size 432x288 with 1 Axes>"
      ]
     },
     "metadata": {
      "needs_background": "light"
     },
     "output_type": "display_data"
    }
   ],
   "source": [
    "plt.plot(time_steps, angular_speeds[1,:], label='Measurement')\n",
    "plt.plot(tout_mat, yout_mat[:,1], '--', label='Simulation (cont.)')\n",
    "plt.plot(dtout_mat, dyout_mat[:,1], '.', label='Simulation (disc.)')\n",
    "plt.legend()\n",
    "#plt.xlim(6,12)\n",
    "#plt.ylim(325,345)\n",
    "plt.show()"
   ]
  },
  {
   "cell_type": "code",
   "execution_count": 37,
   "id": "c76315e3",
   "metadata": {},
   "outputs": [
    {
     "data": {
      "image/png": "[encoded data removed]",
      "text/plain": [
       "<Figure size 432x288 with 1 Axes>"
      ]
     },
     "metadata": {
      "needs_background": "light"
     },
     "output_type": "display_data"
    }
   ],
   "source": [
    "plt.plot(time_steps, shaft_torque, label='Measurement')\n",
    "plt.plot(tout_mat, yout_mat[:,2], '--', label='Simulation (cont.)')\n",
    "plt.plot(dtout_mat, dyout_mat[:,2], '.', label='Simulation (disc.)')\n",
    "plt.legend()\n",
    "plt.show()"
   ]
  },
  {
   "cell_type": "markdown",
   "id": "cfcb0251",
   "metadata": {},
   "source": [
    "# OpenTorsion state-space model with shaft torque as a state"
   ]
  },
  {
   "cell_type": "markdown",
   "id": "cae65cf9",
   "metadata": {},
   "source": [
    "## TODO: (Geared systems not supported)"
   ]
  },
  {
   "cell_type": "markdown",
   "id": "b71b59ca",
   "metadata": {},
   "source": [
    "The model is defined to have shaft torques and nodal rotational speeds as states. The state-space model is as follows (details in the \"modified_state_matrix_2dof\" notebook):\n",
    "\n",
    "$$ \\begin{bmatrix} \\dot{\\tau}_{1,2} \\\\ \\vdots \\\\ \\dot{\\tau}_{n-1,n} \\\\ \\ddot{\\theta}_1 \\\\ \\vdots \\\\  \\ddot{\\theta}_n \\end{bmatrix}_{2n-1 \\times 1} = \\textbf{X}_{2n-1 \\times 2n} \\textbf{A}_{2n \\times 2n} \\textbf{X}^{-1}_{2n \\times 2n-1} \\begin{bmatrix} \\tau_{1,2} \\\\ \\vdots \\\\ \\tau_{n-1,n} \\\\ \\dot{\\theta}_1 \\\\ \\vdots \\\\ \\dot{\\theta}_n \\end{bmatrix}_{2n-1 \\times 1} + \\textbf{X}_{2n-1 \\times 2n} \\textbf{B}_{2n-1 \\times n} \\begin{bmatrix} T_M \\\\ 0 \\\\ \\vdots \\\\ 0 \\\\ T_L \\end{bmatrix}_{n \\times 1} $$\n",
    "\n",
    "where $n$ is the number of degrees of freedom of the system, $\\textbf{A}$ and $\\textbf{B}$ are the state matrices and $T_M$ is the motor torque (applied on node 0) and $T_L$ is the load torque (applied on the last node)."
   ]
  },
  {
   "cell_type": "code",
   "execution_count": 38,
   "id": "50b96966",
   "metadata": {},
   "outputs": [],
   "source": [
    "def torque_transform(A, B, k_values, ndof):\n",
    "    \"\"\"\n",
    "    Used to transform the state-matrices to be compatible with shaft torque as a state.\n",
    "    \"\"\"\n",
    "    rows = ndof-1\n",
    "    cols = ndof\n",
    "    if len(k_values) != rows:\n",
    "        print(\"wrong amount of stiffness values / dofs\")\n",
    "        return\n",
    "    \n",
    "    X_up = np.zeros((rows, cols))\n",
    "    X_down = np.eye(cols)\n",
    "    Z_up = np.zeros(X_up.shape)\n",
    "    Z_down = np.zeros(X_down.shape)\n",
    "    \n",
    "    for i in range(rows):\n",
    "        X_up[i,i] = -k_values[i]\n",
    "        X_up[i,i+1] = k_values[i]\n",
    "    \n",
    "    X_matrix = np.vstack([np.hstack([X_up, Z_up]), np.hstack([Z_down, X_down])])\n",
    "    \n",
    "    X_inv = X_matrix.T @ np.linalg.inv(X_matrix @ X_matrix.T)\n",
    "    \n",
    "    return X_matrix @ A @ X_inv, X_matrix @ B"
   ]
  },
  {
   "cell_type": "code",
   "execution_count": 50,
   "id": "3e748dd7",
   "metadata": {},
   "outputs": [
    {
     "name": "stdout",
     "output_type": "stream",
     "text": [
      "(19,)\n"
     ]
    }
   ],
   "source": [
    "gear_ratios = np.array([1, 1, 1, 1, 1, 1, 1, 1, 1, 1, 1, 1/3, 1/3, 1/3, 1/3, 1/4, 1/4, 1/4, 1/4])\n",
    "gear_ratios = np.array([1, 1, 1, 1, 1, 1, 1, 1, 1, 1, 1, 1/3, 1, 1, 1, 1/12, 1, 1, 1])\n",
    "k_values = -np.diag(assembly.K(), 1) #* gear_ratios\n",
    "print(k_values.shape)\n",
    "A_, B_ = state_matrices(assembly)\n",
    "n_dofs = assembly.M().shape[0]\n",
    "A_mod, B_mod = torque_transform(A_, B_, k_values, n_dofs)\n",
    "C_mod, D_mod = np.eye(B_mod.shape[0]), np.zeros(B_mod.shape)"
   ]
  },
  {
   "cell_type": "code",
   "execution_count": 51,
   "id": "bb87a5ab",
   "metadata": {},
   "outputs": [],
   "source": [
    "A_mod_d, B_mod_d = c2d(A_mod, B_mod, ts)\n",
    "U = excitation_matrix(time_steps, dof, motor, propeller)"
   ]
  },
  {
   "cell_type": "code",
   "execution_count": 52,
   "id": "2d40a4c2",
   "metadata": {},
   "outputs": [
    {
     "name": "stdout",
     "output_type": "stream",
     "text": [
      "(39, 39)\n",
      "[[ 0.00000000e+00  0.00000000e+00  0.00000000e+00  0.00000000e+00\n",
      "   0.00000000e+00  0.00000000e+00  0.00000000e+00  0.00000000e+00\n",
      "   0.00000000e+00  0.00000000e+00  0.00000000e+00  0.00000000e+00\n",
      "   0.00000000e+00  0.00000000e+00  0.00000000e+00  0.00000000e+00\n",
      "   0.00000000e+00  0.00000000e+00  0.00000000e+00  0.00000000e+00]\n",
      " [ 0.00000000e+00  0.00000000e+00  0.00000000e+00  0.00000000e+00\n",
      "   0.00000000e+00  0.00000000e+00  0.00000000e+00  0.00000000e+00\n",
      "   0.00000000e+00  0.00000000e+00  0.00000000e+00  0.00000000e+00\n",
      "   0.00000000e+00  0.00000000e+00  0.00000000e+00  0.00000000e+00\n",
      "   0.00000000e+00  0.00000000e+00  0.00000000e+00  0.00000000e+00]\n",
      " [ 0.00000000e+00  0.00000000e+00  0.00000000e+00  0.00000000e+00\n",
      "   0.00000000e+00  0.00000000e+00  0.00000000e+00  0.00000000e+00\n",
      "   0.00000000e+00  0.00000000e+00  0.00000000e+00  0.00000000e+00\n",
      "   0.00000000e+00  0.00000000e+00  0.00000000e+00  0.00000000e+00\n",
      "   0.00000000e+00  0.00000000e+00  0.00000000e+00  0.00000000e+00]\n",
      " [ 0.00000000e+00  0.00000000e+00  0.00000000e+00  0.00000000e+00\n",
      "   0.00000000e+00  0.00000000e+00  0.00000000e+00  0.00000000e+00\n",
      "   0.00000000e+00  0.00000000e+00  0.00000000e+00  0.00000000e+00\n",
      "   0.00000000e+00  0.00000000e+00  0.00000000e+00  0.00000000e+00\n",
      "   0.00000000e+00  0.00000000e+00  0.00000000e+00  0.00000000e+00]\n",
      " [ 0.00000000e+00  0.00000000e+00  0.00000000e+00  0.00000000e+00\n",
      "   0.00000000e+00  0.00000000e+00  0.00000000e+00  0.00000000e+00\n",
      "   0.00000000e+00  0.00000000e+00  0.00000000e+00  0.00000000e+00\n",
      "   0.00000000e+00  0.00000000e+00  0.00000000e+00  0.00000000e+00\n",
      "   0.00000000e+00  0.00000000e+00  0.00000000e+00  0.00000000e+00]\n",
      " [ 0.00000000e+00  0.00000000e+00  0.00000000e+00  0.00000000e+00\n",
      "   0.00000000e+00  0.00000000e+00  0.00000000e+00  0.00000000e+00\n",
      "   0.00000000e+00  0.00000000e+00  0.00000000e+00  0.00000000e+00\n",
      "   0.00000000e+00  0.00000000e+00  0.00000000e+00  0.00000000e+00\n",
      "   0.00000000e+00  0.00000000e+00  0.00000000e+00  0.00000000e+00]\n",
      " [ 0.00000000e+00  0.00000000e+00  0.00000000e+00  0.00000000e+00\n",
      "   0.00000000e+00  0.00000000e+00  0.00000000e+00  0.00000000e+00\n",
      "   0.00000000e+00  0.00000000e+00  0.00000000e+00  0.00000000e+00\n",
      "   0.00000000e+00  0.00000000e+00  0.00000000e+00  0.00000000e+00\n",
      "   0.00000000e+00  0.00000000e+00  0.00000000e+00  0.00000000e+00]\n",
      " [ 0.00000000e+00  0.00000000e+00  0.00000000e+00  0.00000000e+00\n",
      "   0.00000000e+00  0.00000000e+00  0.00000000e+00  0.00000000e+00\n",
      "   0.00000000e+00  0.00000000e+00  0.00000000e+00  0.00000000e+00\n",
      "   0.00000000e+00  0.00000000e+00  0.00000000e+00  0.00000000e+00\n",
      "   0.00000000e+00  0.00000000e+00  0.00000000e+00  0.00000000e+00]\n",
      " [ 0.00000000e+00  0.00000000e+00  0.00000000e+00  0.00000000e+00\n",
      "   0.00000000e+00  0.00000000e+00  0.00000000e+00  0.00000000e+00\n",
      "   0.00000000e+00  0.00000000e+00  0.00000000e+00  0.00000000e+00\n",
      "   0.00000000e+00  0.00000000e+00  0.00000000e+00  0.00000000e+00\n",
      "   0.00000000e+00  0.00000000e+00  0.00000000e+00  0.00000000e+00]\n",
      " [ 0.00000000e+00  0.00000000e+00  0.00000000e+00  0.00000000e+00\n",
      "   0.00000000e+00  0.00000000e+00  0.00000000e+00  0.00000000e+00\n",
      "   0.00000000e+00  0.00000000e+00  0.00000000e+00  0.00000000e+00\n",
      "   0.00000000e+00  0.00000000e+00  0.00000000e+00  0.00000000e+00\n",
      "   0.00000000e+00  0.00000000e+00  0.00000000e+00  0.00000000e+00]\n",
      " [ 0.00000000e+00  0.00000000e+00  0.00000000e+00  0.00000000e+00\n",
      "   0.00000000e+00  0.00000000e+00  0.00000000e+00  0.00000000e+00\n",
      "   0.00000000e+00  0.00000000e+00  0.00000000e+00  0.00000000e+00\n",
      "   0.00000000e+00  0.00000000e+00  0.00000000e+00  0.00000000e+00\n",
      "   0.00000000e+00  0.00000000e+00  0.00000000e+00  0.00000000e+00]\n",
      " [ 0.00000000e+00  0.00000000e+00  0.00000000e+00  0.00000000e+00\n",
      "   0.00000000e+00  0.00000000e+00  0.00000000e+00  0.00000000e+00\n",
      "   0.00000000e+00  0.00000000e+00  0.00000000e+00  0.00000000e+00\n",
      "   0.00000000e+00  0.00000000e+00  0.00000000e+00  0.00000000e+00\n",
      "   0.00000000e+00  0.00000000e+00  0.00000000e+00  0.00000000e+00]\n",
      " [ 0.00000000e+00  0.00000000e+00  0.00000000e+00  0.00000000e+00\n",
      "   0.00000000e+00  0.00000000e+00  0.00000000e+00  0.00000000e+00\n",
      "   0.00000000e+00  0.00000000e+00  0.00000000e+00  0.00000000e+00\n",
      "   0.00000000e+00  0.00000000e+00  0.00000000e+00  0.00000000e+00\n",
      "   0.00000000e+00  0.00000000e+00  0.00000000e+00  0.00000000e+00]\n",
      " [ 0.00000000e+00  0.00000000e+00  0.00000000e+00  0.00000000e+00\n",
      "   0.00000000e+00  0.00000000e+00  0.00000000e+00  0.00000000e+00\n",
      "   0.00000000e+00  0.00000000e+00  0.00000000e+00  0.00000000e+00\n",
      "   0.00000000e+00  0.00000000e+00  0.00000000e+00  0.00000000e+00\n",
      "   0.00000000e+00  0.00000000e+00  0.00000000e+00  0.00000000e+00]\n",
      " [ 0.00000000e+00  0.00000000e+00  0.00000000e+00  0.00000000e+00\n",
      "   0.00000000e+00  0.00000000e+00  0.00000000e+00  0.00000000e+00\n",
      "   0.00000000e+00  0.00000000e+00  0.00000000e+00  0.00000000e+00\n",
      "   0.00000000e+00  0.00000000e+00  0.00000000e+00  0.00000000e+00\n",
      "   0.00000000e+00  0.00000000e+00  0.00000000e+00  0.00000000e+00]\n",
      " [ 0.00000000e+00  0.00000000e+00  0.00000000e+00  0.00000000e+00\n",
      "   0.00000000e+00  0.00000000e+00  0.00000000e+00  0.00000000e+00\n",
      "   0.00000000e+00  0.00000000e+00  0.00000000e+00  0.00000000e+00\n",
      "   0.00000000e+00  0.00000000e+00  0.00000000e+00  0.00000000e+00\n",
      "   0.00000000e+00  0.00000000e+00  0.00000000e+00  0.00000000e+00]\n",
      " [ 0.00000000e+00  0.00000000e+00  0.00000000e+00  0.00000000e+00\n",
      "   0.00000000e+00  0.00000000e+00  0.00000000e+00  0.00000000e+00\n",
      "   0.00000000e+00  0.00000000e+00  0.00000000e+00  0.00000000e+00\n",
      "   0.00000000e+00  0.00000000e+00  0.00000000e+00  0.00000000e+00\n",
      "   0.00000000e+00  0.00000000e+00  0.00000000e+00  0.00000000e+00]\n",
      " [ 0.00000000e+00  0.00000000e+00  0.00000000e+00  0.00000000e+00\n",
      "   0.00000000e+00  0.00000000e+00  0.00000000e+00  0.00000000e+00\n",
      "   0.00000000e+00  0.00000000e+00  0.00000000e+00  0.00000000e+00\n",
      "   0.00000000e+00  0.00000000e+00  0.00000000e+00  0.00000000e+00\n",
      "   0.00000000e+00  0.00000000e+00  0.00000000e+00  0.00000000e+00]\n",
      " [ 0.00000000e+00  0.00000000e+00  0.00000000e+00  0.00000000e+00\n",
      "   0.00000000e+00  0.00000000e+00  0.00000000e+00  0.00000000e+00\n",
      "   0.00000000e+00  0.00000000e+00  0.00000000e+00  0.00000000e+00\n",
      "   0.00000000e+00  0.00000000e+00  0.00000000e+00  0.00000000e+00\n",
      "   0.00000000e+00  0.00000000e+00  0.00000000e+00  0.00000000e+00]\n",
      " [ 1.15224147e+03 -5.63546416e+02  1.69745056e+02 -5.65816853e+01\n",
      "   2.82908426e+01  0.00000000e+00  0.00000000e+00  0.00000000e+00\n",
      "   0.00000000e+00  0.00000000e+00  0.00000000e+00  0.00000000e+00\n",
      "   0.00000000e+00  0.00000000e+00  0.00000000e+00  0.00000000e+00\n",
      "   0.00000000e+00  0.00000000e+00  0.00000000e+00  0.00000000e+00]\n",
      " [-5.63546416e+02  3.66735060e+03 -1.10463773e+03  3.68212576e+02\n",
      "  -1.84106288e+02  0.00000000e+00  0.00000000e+00  0.00000000e+00\n",
      "   0.00000000e+00  0.00000000e+00  0.00000000e+00  0.00000000e+00\n",
      "   0.00000000e+00  0.00000000e+00  0.00000000e+00  0.00000000e+00\n",
      "   0.00000000e+00  0.00000000e+00  0.00000000e+00  0.00000000e+00]\n",
      " [ 1.69745056e+02 -1.10463773e+03  7.98492659e+04 -2.66164220e+04\n",
      "   1.33082110e+04  0.00000000e+00  0.00000000e+00  0.00000000e+00\n",
      "   0.00000000e+00  0.00000000e+00  0.00000000e+00  0.00000000e+00\n",
      "   0.00000000e+00  0.00000000e+00  0.00000000e+00  0.00000000e+00\n",
      "   0.00000000e+00  0.00000000e+00  0.00000000e+00  0.00000000e+00]\n",
      " [-5.65816853e+01  3.68212576e+02 -2.66164220e+04  1.19983252e+05\n",
      "  -5.99916259e+04  0.00000000e+00  0.00000000e+00  0.00000000e+00\n",
      "   0.00000000e+00  0.00000000e+00  0.00000000e+00  0.00000000e+00\n",
      "   0.00000000e+00  0.00000000e+00  0.00000000e+00  0.00000000e+00\n",
      "   0.00000000e+00  0.00000000e+00  0.00000000e+00  0.00000000e+00]\n",
      " [ 2.82908426e+01 -1.84106288e+02  1.33082110e+04 -5.99916259e+04\n",
      "   2.79995813e+05  0.00000000e+00  0.00000000e+00  0.00000000e+00\n",
      "   0.00000000e+00  0.00000000e+00  0.00000000e+00  0.00000000e+00\n",
      "   0.00000000e+00  0.00000000e+00  0.00000000e+00  0.00000000e+00\n",
      "   0.00000000e+00  0.00000000e+00  0.00000000e+00  0.00000000e+00]\n",
      " [ 0.00000000e+00  0.00000000e+00  0.00000000e+00  0.00000000e+00\n",
      "   0.00000000e+00  1.28006554e+02 -6.40032770e+01  0.00000000e+00\n",
      "   0.00000000e+00  0.00000000e+00  0.00000000e+00  0.00000000e+00\n",
      "   0.00000000e+00  0.00000000e+00  0.00000000e+00  0.00000000e+00\n",
      "   0.00000000e+00  0.00000000e+00  0.00000000e+00  0.00000000e+00]\n",
      " [ 0.00000000e+00  0.00000000e+00  0.00000000e+00  0.00000000e+00\n",
      "   0.00000000e+00 -6.40032770e+01  2.50032002e+05  0.00000000e+00\n",
      "   0.00000000e+00  0.00000000e+00  0.00000000e+00  0.00000000e+00\n",
      "   0.00000000e+00  0.00000000e+00  0.00000000e+00  0.00000000e+00\n",
      "   0.00000000e+00  0.00000000e+00  0.00000000e+00  0.00000000e+00]\n",
      " [ 0.00000000e+00  0.00000000e+00  0.00000000e+00  0.00000000e+00\n",
      "   0.00000000e+00  0.00000000e+00  0.00000000e+00  2.81613023e+06\n",
      "  -3.89271561e+04  2.53728833e+03 -1.18003212e+03  1.42376923e+01\n",
      "   2.17008551e+00 -1.12386124e-01  5.44390088e-02 -7.87092024e-04\n",
      "  -8.88074556e-05  5.19205875e-06 -2.54178370e-06  2.18991303e-10]\n",
      " [ 0.00000000e+00  0.00000000e+00  0.00000000e+00  0.00000000e+00\n",
      "   0.00000000e+00  0.00000000e+00  0.00000000e+00 -3.89271561e+04\n",
      "   7.78543122e+04 -5.07457666e+03  2.36006425e+03 -2.84753847e+01\n",
      "  -4.34017102e+00  2.24772247e-01 -1.08878018e-01  1.57418405e-03\n",
      "   1.77614911e-04 -1.03841175e-05  5.08356739e-06 -4.37982605e-10]\n",
      " [ 0.00000000e+00  0.00000000e+00  0.00000000e+00  0.00000000e+00\n",
      "   0.00000000e+00  0.00000000e+00  0.00000000e+00  2.53728833e+03\n",
      "  -5.07457666e+03  1.03585197e+04 -4.81749981e+03  5.81256041e+01\n",
      "   8.85940842e+00 -4.58818127e-01  2.22248114e-01 -3.21331564e-03\n",
      "  -3.62557842e-04  2.11966620e-05 -1.03768721e-05  8.94035457e-10]\n",
      " [ 0.00000000e+00  0.00000000e+00  0.00000000e+00  0.00000000e+00\n",
      "   0.00000000e+00  0.00000000e+00  0.00000000e+00 -1.18003212e+03\n",
      "   2.36006425e+03 -4.81749981e+03  1.04719391e+04 -1.26349312e+02\n",
      "  -1.92579531e+01  9.97346273e-01 -4.83107173e-01  6.98487741e-03\n",
      "   7.88102499e-04 -4.60757990e-05  2.25565080e-05 -1.94339081e-09]\n",
      " [ 0.00000000e+00  0.00000000e+00  0.00000000e+00  0.00000000e+00\n",
      "   0.00000000e+00  0.00000000e+00  0.00000000e+00  1.42376923e+01\n",
      "  -2.84753847e+01  5.81256041e+01 -1.26349312e+02  2.82816439e+03\n",
      "   4.31064137e+02 -2.23242942e+01  1.08137233e+01 -1.56347362e-01\n",
      "  -1.76406455e-02  1.03134661e-03 -5.04897982e-04  4.35002659e-08]\n",
      " [ 0.00000000e+00  0.00000000e+00  0.00000000e+00  0.00000000e+00\n",
      "   0.00000000e+00  0.00000000e+00  0.00000000e+00  2.17008551e+00\n",
      "  -4.34017102e+00  8.85940842e+00 -1.92579531e+01  4.31064137e+02\n",
      "   3.87616072e+03 -2.00741711e+02  9.72378031e+01 -1.40588708e+00\n",
      "  -1.58625994e-01  9.27394525e-03 -4.54008014e-03  3.91157621e-07]\n",
      " [ 0.00000000e+00  0.00000000e+00  0.00000000e+00  0.00000000e+00\n",
      "   0.00000000e+00  0.00000000e+00  0.00000000e+00 -1.12386124e-01\n",
      "   2.24772247e-01 -4.58818127e-01  9.97346273e-01 -2.23242942e+01\n",
      "  -2.00741711e+02  4.50751319e+03 -2.18340612e+03  3.15682005e+01\n",
      "   3.56183455e+00 -2.08239884e-01  1.01944290e-01 -8.78316783e-06]\n",
      " [ 0.00000000e+00  0.00000000e+00  0.00000000e+00  0.00000000e+00\n",
      "   0.00000000e+00  0.00000000e+00  0.00000000e+00  5.44390088e-02\n",
      "  -1.08878018e-01  2.22248114e-01 -4.83107173e-01  1.08137233e+01\n",
      "   9.72378031e+01 -2.18340612e+03  4.74065971e+03 -6.85415758e+01\n",
      "  -7.73353403e+00  4.52135046e-01 -2.21343699e-01  1.90702085e-05]\n",
      " [ 0.00000000e+00  0.00000000e+00  0.00000000e+00  0.00000000e+00\n",
      "   0.00000000e+00  0.00000000e+00  0.00000000e+00 -7.87092024e-04\n",
      "   1.57418405e-03 -3.21331564e-03  6.98487741e-03 -1.56347362e-01\n",
      "  -1.40588708e+00  3.15682005e+01 -6.85415758e+01  3.38818456e+03\n",
      "   3.82288273e+02 -2.23501862e+01  1.09415825e+01 -9.42688947e-04]\n",
      " [ 0.00000000e+00  0.00000000e+00  0.00000000e+00  0.00000000e+00\n",
      "   0.00000000e+00  0.00000000e+00  0.00000000e+00 -8.88074556e-05\n",
      "   1.77614911e-04 -3.62557842e-04  7.88102499e-04 -1.76406455e-02\n",
      "  -1.58625994e-01  3.56183455e+00 -7.73353403e+00  3.82288273e+02\n",
      "   2.55046297e+03 -1.49110832e+02  7.29975333e+01 -6.28921530e-03]\n",
      " [ 0.00000000e+00  0.00000000e+00  0.00000000e+00  0.00000000e+00\n",
      "   0.00000000e+00  0.00000000e+00  0.00000000e+00  5.19205875e-06\n",
      "  -1.03841175e-05  2.11966620e-05 -4.60757990e-05  1.03134661e-03\n",
      "   9.27394525e-03 -2.08239884e-01  4.52135046e-01 -2.23501862e+01\n",
      "  -1.49110832e+02  2.93192872e+03 -1.43533211e+03  1.23663256e-01]\n",
      " [ 0.00000000e+00  0.00000000e+00  0.00000000e+00  0.00000000e+00\n",
      "   0.00000000e+00  0.00000000e+00  0.00000000e+00 -2.54178370e-06\n",
      "   5.08356739e-06 -1.03768721e-05  2.25565080e-05 -5.04897982e-04\n",
      "  -4.54008014e-03  1.01944290e-01 -2.21343699e-01  1.09415825e+01\n",
      "   7.29975333e+01 -1.43533211e+03  3.15043088e+03 -2.71430241e-01]\n",
      " [ 0.00000000e+00  0.00000000e+00  0.00000000e+00  0.00000000e+00\n",
      "   0.00000000e+00  0.00000000e+00  0.00000000e+00  2.18991303e-10\n",
      "  -4.37982605e-10  8.94035457e-10 -1.94339081e-09  4.35002659e-08\n",
      "   3.91157621e-07 -8.78316783e-06  1.90702085e-05 -9.42688947e-04\n",
      "  -6.28921530e-03  1.23663256e-01 -2.71430241e-01  2.01842908e+01]]\n",
      "(39, 39)\n",
      "(39, 20)\n",
      "(13125, 20)\n"
     ]
    }
   ],
   "source": [
    "print(A_mod.shape)\n",
    "print(B_mod)\n",
    "print(C_mod.shape)\n",
    "print(D_mod.shape)\n",
    "print(U.shape)"
   ]
  },
  {
   "cell_type": "code",
   "execution_count": 53,
   "id": "e619872f",
   "metadata": {},
   "outputs": [],
   "source": [
    "tout_mod, yout_mod, xout_mod = dlsim((A_mod_d, B_mod_d, C_mod, D_mod, ts), U, time_steps)"
   ]
  },
  {
   "cell_type": "code",
   "execution_count": 54,
   "id": "f578a6b1",
   "metadata": {},
   "outputs": [
    {
     "name": "stdout",
     "output_type": "stream",
     "text": [
      "(13125, 39)\n"
     ]
    },
    {
     "ename": "NameError",
     "evalue": "name 'upper_torque_sensor' is not defined",
     "output_type": "error",
     "traceback": [
      "\u001b[0;31m---------------------------------------------------------------------------\u001b[0m",
      "\u001b[0;31mNameError\u001b[0m                                 Traceback (most recent call last)",
      "\u001b[0;32m/tmp/ipykernel_177960/3985185338.py\u001b[0m in \u001b[0;36m<module>\u001b[0;34m\u001b[0m\n\u001b[1;32m      2\u001b[0m \u001b[0mprint\u001b[0m\u001b[0;34m(\u001b[0m\u001b[0myout_mod\u001b[0m\u001b[0;34m.\u001b[0m\u001b[0mshape\u001b[0m\u001b[0;34m)\u001b[0m\u001b[0;34m\u001b[0m\u001b[0;34m\u001b[0m\u001b[0m\n\u001b[1;32m      3\u001b[0m \u001b[0mplt\u001b[0m\u001b[0;34m.\u001b[0m\u001b[0mplot\u001b[0m\u001b[0;34m(\u001b[0m\u001b[0mtout_mod\u001b[0m\u001b[0;34m,\u001b[0m \u001b[0myout_mod\u001b[0m\u001b[0;34m[\u001b[0m\u001b[0;34m:\u001b[0m\u001b[0;34m,\u001b[0m\u001b[0;36m27\u001b[0m\u001b[0;34m]\u001b[0m\u001b[0;34m)\u001b[0m\u001b[0;34m\u001b[0m\u001b[0;34m\u001b[0m\u001b[0m\n\u001b[0;32m----> 4\u001b[0;31m \u001b[0mplt\u001b[0m\u001b[0;34m.\u001b[0m\u001b[0mplot\u001b[0m\u001b[0;34m(\u001b[0m\u001b[0mtime_steps\u001b[0m\u001b[0;34m,\u001b[0m \u001b[0mupper_torque_sensor\u001b[0m\u001b[0;34m)\u001b[0m\u001b[0;34m\u001b[0m\u001b[0;34m\u001b[0m\u001b[0m\n\u001b[0m",
      "\u001b[0;31mNameError\u001b[0m: name 'upper_torque_sensor' is not defined"
     ]
    },
    {
     "data": {
      "application/vnd.jupyter.widget-view+json": {
       "model_id": "217a6a572ea24b1093b44682df363933",
       "version_major": 2,
       "version_minor": 0
      },
      "image/png": "[encoded data removed]",
      "text/html": [
       "\n",
       "            <div style=\"display: inline-block;\">\n",
       "                <div class=\"jupyter-widgets widget-label\" style=\"text-align: center;\">\n",
       "                    Figure\n",
       "                </div>\n",
       "                <img src='data:image/png;base64,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' width=640.0/>\n",
       "            </div>\n",
       "        "
      ],
      "text/plain": [
       "Canvas(toolbar=Toolbar(toolitems=[('Home', 'Reset original view', 'home', 'home'), ('Back', 'Back to previous …"
      ]
     },
     "metadata": {},
     "output_type": "display_data"
    }
   ],
   "source": [
    "%matplotlib widget\n",
    "print(yout_mod.shape)\n",
    "plt.plot(tout_mod, yout_mod[:,27])\n",
    "plt.plot(time_steps, upper_torque_sensor)"
   ]
  },
  {
   "cell_type": "code",
   "execution_count": 44,
   "id": "7db623ab",
   "metadata": {},
   "outputs": [
    {
     "ename": "NameError",
     "evalue": "name 'dt' is not defined",
     "output_type": "error",
     "traceback": [
      "\u001b[0;31m---------------------------------------------------------------------------\u001b[0m",
      "\u001b[0;31mNameError\u001b[0m                                 Traceback (most recent call last)",
      "\u001b[0;32m/tmp/ipykernel_177960/253653067.py\u001b[0m in \u001b[0;36m<module>\u001b[0;34m\u001b[0m\n\u001b[0;32m----> 1\u001b[0;31m \u001b[0mdtout\u001b[0m\u001b[0;34m,\u001b[0m \u001b[0mdyout\u001b[0m\u001b[0;34m,\u001b[0m \u001b[0mdxout\u001b[0m \u001b[0;34m=\u001b[0m \u001b[0mdlsim\u001b[0m\u001b[0;34m(\u001b[0m\u001b[0;34m(\u001b[0m\u001b[0mA_mod_d\u001b[0m\u001b[0;34m,\u001b[0m \u001b[0mB_mod_d\u001b[0m\u001b[0;34m,\u001b[0m \u001b[0mC_mod\u001b[0m\u001b[0;34m,\u001b[0m \u001b[0mD_mod\u001b[0m\u001b[0;34m,\u001b[0m \u001b[0mdt\u001b[0m\u001b[0;34m)\u001b[0m\u001b[0;34m,\u001b[0m \u001b[0mU\u001b[0m\u001b[0;34m,\u001b[0m \u001b[0mtime\u001b[0m\u001b[0;34m)\u001b[0m\u001b[0;34m\u001b[0m\u001b[0;34m\u001b[0m\u001b[0m\n\u001b[0m",
      "\u001b[0;31mNameError\u001b[0m: name 'dt' is not defined"
     ]
    }
   ],
   "source": [
    "dtout, dyout, dxout = dlsim((A_mod_d, B_mod_d, C_mod, D_mod, dt), U, time)"
   ]
  },
  {
   "cell_type": "code",
   "execution_count": null,
   "id": "4c507033",
   "metadata": {},
   "outputs": [],
   "source": [
    "plt.plot(dtout, dyout[:,26])\n",
    "plt.plot(time, angular_speed_7)"
   ]
  },
  {
   "cell_type": "code",
   "execution_count": null,
   "id": "4eab79a1",
   "metadata": {},
   "outputs": [],
   "source": []
  }
 ],
 "metadata": {
  "kernelspec": {
   "display_name": "Python 3 (ipykernel)",
   "language": "python",
   "name": "python3"
  },
  "language_info": {
   "codemirror_mode": {
    "name": "ipython",
    "version": 3
   },
   "file_extension": ".py",
   "mimetype": "text/x-python",
   "name": "python",
   "nbconvert_exporter": "python",
   "pygments_lexer": "ipython3",
   "version": "3.8.10"
  }
 },
 "nbformat": 4,
 "nbformat_minor": 5
}
