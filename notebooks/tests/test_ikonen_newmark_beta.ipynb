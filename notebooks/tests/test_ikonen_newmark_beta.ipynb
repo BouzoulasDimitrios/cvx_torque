{
 "cells": [
  {
   "cell_type": "code",
   "execution_count": 4,
   "id": "87b62958",
   "metadata": {},
   "outputs": [],
   "source": [
    "import numpy as np\n",
    "import matplotlib.pyplot as plt\n",
    "import scipy.linalg as LA\n",
    "from scipy.signal import lsim, butter, lfilter\n",
    "from scipy.integrate import solve_ivp\n",
    "import cvxpy as cp\n",
    "import opentorsion as ot"
   ]
  },
  {
   "cell_type": "code",
   "execution_count": 5,
   "id": "6a52c6cd",
   "metadata": {},
   "outputs": [],
   "source": [
    "def propulsion_system():\n",
    "    '''\n",
    "    Parameters from: https://journals.sagepub.com/doi/full/10.1177/14759217211004232\n",
    "    '''\n",
    "    J1 = 1.347e4 # propeller\n",
    "    J3 = 5.590e2\n",
    "    J5 = 5.120e2\n",
    "    J7 = 4.870e2\n",
    "    J9 = 1.410e2\n",
    "    J11 = 1.740e2\n",
    "    J13 = 4.415e3 # motor\n",
    "    \n",
    "    k2 = 5.88e7\n",
    "    k4 = 5.95e7\n",
    "    k6 = 1.12e8\n",
    "    k8 = 6.93e8\n",
    "    k10 = 5.09e8\n",
    "    k12 = 1.43e8\n",
    "    damping = 180 # damping in steel_shafts\n",
    "    propeller_damping = 0*120e3\n",
    "    \n",
    "    shafts, disks = [], []\n",
    "    disks.append(ot.Disk(0, I=J1, c=propeller_damping))\n",
    "    shafts.append(ot.Shaft(0, 1, None, None, k=k2, I=0, c=damping))\n",
    "    disks.append(ot.Disk(1, I=J3))\n",
    "    shafts.append(ot.Shaft(1, 2, None, None, k=k4, I=0, c=damping))\n",
    "    disks.append(ot.Disk(2, I=J5))\n",
    "    shafts.append(ot.Shaft(2, 3, None, None, k=k6, I=0, c=damping))\n",
    "    disks.append(ot.Disk(3, I=J7))\n",
    "    shafts.append(ot.Shaft(3, 4, None, None, k=k8, I=0, c=damping))\n",
    "    disks.append(ot.Disk(4, I=J9))\n",
    "    shafts.append(ot.Shaft(4, 5, None, None, k=k10, I=0, c=damping))\n",
    "    disks.append(ot.Disk(5, I=J11))\n",
    "    shafts.append(ot.Shaft(5, 6, None, None, k=k12, I=0, c=damping))\n",
    "    disks.append(ot.Disk(6, I=J13))\n",
    "    \n",
    "    assembly = ot.Assembly(shafts, disk_elements=disks)\n",
    "    _, f, _ = assembly.modal_analysis()\n",
    "    print(\"Eigenfrequencies: \", f.round(2))\n",
    "\n",
    "    return assembly"
   ]
  },
  {
   "cell_type": "code",
   "execution_count": 6,
   "id": "3ffc02f9",
   "metadata": {},
   "outputs": [],
   "source": [
    "def newmark_H1(M, C, K, gamma_par, beta_par):\n",
    "    \"\"\"\n",
    "    Matrix used in creation of Newmark-beta state matrix.\n",
    "    \n",
    "    Parameters:\n",
    "    M : numpy.ndarray\n",
    "        Mass matrix\n",
    "    C : numpy.ndarray\n",
    "        Damping matrix\n",
    "    K : numpy.ndarray\n",
    "        Stiffness matrix\n",
    "    gamma_par : float\n",
    "        Parameter of the Newmark-beta method\n",
    "    beta_par : float\n",
    "        Parameter of the Newmark-beta method\n",
    "\n",
    "    Returns:\n",
    "    lambda function\n",
    "        The H1 matrix as a lambda function, input is the timestep dt\n",
    "    \"\"\"\n",
    "    \n",
    "    return lambda dt : np.vstack([np.hstack([M + gamma_par*dt*C, gamma_par*dt*K]), np.hstack([beta_par*dt**2*C, M + beta_par*dt**2*K])])"
   ]
  },
  {
   "cell_type": "code",
   "execution_count": 7,
   "id": "793fbf46",
   "metadata": {},
   "outputs": [],
   "source": [
    "def newmark_H0(M, C, K, gamma_par, beta_par):\n",
    "    \"\"\"\n",
    "    Matrix used in creation of Newmark-beta state matrix.\n",
    "    \n",
    "    Parameters:\n",
    "    M : numpy.ndarray\n",
    "        Mass matrix\n",
    "    C : numpy.ndarray\n",
    "        Damping matrix\n",
    "    K : numpy.ndarray\n",
    "        Stiffness matrix\n",
    "    gamma_par : float\n",
    "        Parameter of the Newmark-beta method\n",
    "    beta_par : float\n",
    "        Parameter of the Newmark-beta method\n",
    "\n",
    "    Returns:\n",
    "    lambda function\n",
    "        The H0 matrix as a lambda function, input is the timestep dt\n",
    "    \"\"\"\n",
    "    \n",
    "    return lambda dt : np.vstack([np.hstack([M - (1-gamma_par)*dt*C, -(1-gamma_par)*dt*K]), np.hstack([-(0.5-beta_par)*dt**2*C, M - (0.5-beta_par)*dt**2*K])])"
   ]
  },
  {
   "cell_type": "code",
   "execution_count": 10,
   "id": "24b2441d",
   "metadata": {},
   "outputs": [
    {
     "name": "stdout",
     "output_type": "stream",
     "text": [
      "Eigenfrequencies:  [  0.     0.    11.41  11.41  48.93  48.93  78.82  78.82 115.27 115.27\n",
      " 268.61 268.61 522.81 522.81]\n"
     ]
    }
   ],
   "source": [
    "assembly = propulsion_system()\n",
    "M, C, K = assembly.M(), assembly.C(), assembly.K()  # Mass, damping and stiffness matrices\n",
    "ndof = assembly.dofs\n",
    "gamma_parameter = 0.5\n",
    "beta_parameter = 0.25"
   ]
  },
  {
   "cell_type": "code",
   "execution_count": 67,
   "id": "557590ca",
   "metadata": {},
   "outputs": [
    {
     "name": "stdout",
     "output_type": "stream",
     "text": [
      "(14, 100001)\n"
     ]
    }
   ],
   "source": [
    "time = np.arange(0, 10.0001, 0.0001)\n",
    "step_size = np.mean(np.diff(time))\n",
    "\n",
    "H1 = newmark_H1(M, C, K, gamma_parameter, beta_parameter)\n",
    "H0 = newmark_H0(M, C, K, gamma_parameter, beta_parameter)\n",
    "\n",
    "state_vector = np.zeros((2*ndof, 1))\n",
    "states = np.copy(state_vector)\n",
    "\n",
    "u = np.zeros(2*ndof)\n",
    "u[0] += 10000/M[0,0]\n",
    "\n",
    "def state_derivative(t, x):\n",
    "    A = LA.inv(H1(step_size)) @ H0(step_size)\n",
    "    \n",
    "    return A @ x + u\n",
    "\n",
    "sol = solve_ivp(state_derivative, (time[0], time[-1]), np.zeros(2*ndof), t_eval=time)\n",
    "print(sol.y.shape)"
   ]
  },
  {
   "cell_type": "code",
   "execution_count": 69,
   "id": "b8de78b7",
   "metadata": {},
   "outputs": [
    {
     "data": {
      "image/png": "[encoded data removed]",
      "text/plain": [
       "<Figure size 432x288 with 1 Axes>"
      ]
     },
     "metadata": {
      "needs_background": "light"
     },
     "output_type": "display_data"
    }
   ],
   "source": [
    "#torque_meas = 6.93e8*(sol.y[7+4,:]-sol.y[7+3,:])\n",
    "plt.plot(time, sol.y[9,:])\n",
    "#plt.plot(time, torque_meas)\n",
    "plt.show()"
   ]
  },
  {
   "cell_type": "code",
   "execution_count": null,
   "id": "47538e20",
   "metadata": {},
   "outputs": [],
   "source": [
    "# add gaussian white noise to the measurement (measurement and process noise)\n",
    "r = np.random.multivariate_normal(np.zeros(R_.shape[0]), R_, tout.shape[0])"
   ]
  },
  {
   "cell_type": "code",
   "execution_count": null,
   "id": "fb252a81",
   "metadata": {},
   "outputs": [],
   "source": []
  }
 ],
 "metadata": {
  "kernelspec": {
   "display_name": "Python 3 (ipykernel)",
   "language": "python",
   "name": "python3"
  },
  "language_info": {
   "codemirror_mode": {
    "name": "ipython",
    "version": 3
   },
   "file_extension": ".py",
   "mimetype": "text/x-python",
   "name": "python",
   "nbconvert_exporter": "python",
   "pygments_lexer": "ipython3",
   "version": "3.8.10"
  }
 },
 "nbformat": 4,
 "nbformat_minor": 5
}
