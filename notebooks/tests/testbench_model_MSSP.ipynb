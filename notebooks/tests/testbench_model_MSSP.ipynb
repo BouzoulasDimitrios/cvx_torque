{
 "cells": [
  {
   "cell_type": "code",
   "execution_count": 1,
   "id": "4e9b7891",
   "metadata": {},
   "outputs": [],
   "source": [
    "import numpy as np\n",
    "import matplotlib.pyplot as plt\n",
    "import scipy.linalg as LA\n",
    "from scipy.signal import dlti, dlsim"
   ]
  },
  {
   "cell_type": "code",
   "execution_count": 2,
   "id": "4f31abaf",
   "metadata": {},
   "outputs": [],
   "source": [
    "times = np.genfromtxt(\"../../data/ice_excitation/times.csv\", delimiter=\",\")\n",
    "speeds = np.genfromtxt(\"../../data/ice_excitation/speeds.csv\", delimiter=\",\", usecols=(6,7,13,14,21))\n",
    "meas_speeds = np.genfromtxt(\"../../data/ice_excitation/speed_measurements.csv\", delimiter=\",\")\n",
    "torques = np.genfromtxt(\"../../data/ice_excitation/torques.csv\", delimiter=\",\", usecols=(8,18))\n",
    "meas_torques = np.genfromtxt(\"../../data/ice_excitation/torque_measurements.csv\", delimiter=\",\")\n",
    "motor = np.genfromtxt(\"../../data/ice_excitation/motor.csv\", delimiter=\",\")\n",
    "propeller = np.genfromtxt(\"../../data/ice_excitation/propeller.csv\", delimiter=\",\")"
   ]
  },
  {
   "cell_type": "code",
   "execution_count": 3,
   "id": "c89bc384",
   "metadata": {},
   "outputs": [],
   "source": [
    "dt = np.mean(np.diff(times))"
   ]
  },
  {
   "cell_type": "code",
   "execution_count": 4,
   "id": "e10de16e",
   "metadata": {},
   "outputs": [],
   "source": [
    "inertias = np.array([7.94e-4,\n",
    "            3.79e-6,\n",
    "            3.00e-6,\n",
    "            2.00e-6,\n",
    "            7.81e-3,\n",
    "            2.00e-6,\n",
    "            3.17e-6,\n",
    "            5.01e-5,\n",
    "            6.50e-6,\n",
    "            5.65e-5,\n",
    "            4.27e-6,\n",
    "            3.25e-4,\n",
    "            1.20e-4,\n",
    "            1.15e-5,\n",
    "            1.32e-4,\n",
    "            4.27e-6,\n",
    "            2.69e-4,\n",
    "            1.80e-4,\n",
    "            2.00e-5,\n",
    "            2.00e-4,\n",
    "            4.27e-6,\n",
    "            4.95e-2])\n",
    "\n",
    "stiffnesses = np.array([1.90e5,\n",
    "               6.95e3,\n",
    "               90.00,\n",
    "               90.00,\n",
    "               90.00,\n",
    "               90.00,\n",
    "               30.13,\n",
    "               4.19e4,\n",
    "               5.40e3,\n",
    "               4.19e4,\n",
    "               1.22e3,\n",
    "               4.33e4,\n",
    "               3.10e4,\n",
    "               1.14e3,\n",
    "               3.10e4,\n",
    "               1.22e4,\n",
    "               4.43e4,\n",
    "               1.38e5,\n",
    "               2.00e4,\n",
    "               1.38e5,\n",
    "               1.22e4])\n",
    "\n",
    "damping = np.array([8.08,\n",
    "           0.29,\n",
    "           0.24,\n",
    "           0.24,\n",
    "           0.24,\n",
    "           0.24,\n",
    "           0.00,\n",
    "           1.78,\n",
    "           0.23,\n",
    "           1.78,\n",
    "           0.52,\n",
    "           1.84,\n",
    "           1.32,\n",
    "           0.05,\n",
    "           1.32,\n",
    "           0.52,\n",
    "           1.88,\n",
    "           5.86,\n",
    "           0.85,\n",
    "           5.86,\n",
    "           0.52])\n",
    "\n",
    "\n",
    "external_damping = np.array([0.0030,\n",
    "                    0,\n",
    "                    0,\n",
    "                    0,\n",
    "                    0,\n",
    "                    0,\n",
    "                    0,\n",
    "                    0,\n",
    "                    0,\n",
    "                    0,\n",
    "                    0,\n",
    "                    0.0031,\n",
    "                    0,\n",
    "                    0,\n",
    "                    0,\n",
    "                    0,\n",
    "                    0.0031,\n",
    "                    0,\n",
    "                    0,\n",
    "                    0,\n",
    "                    0,\n",
    "                    0.2400])\n",
    "\n",
    "gear_ratios = np.array([1,\n",
    "               1,\n",
    "               1,\n",
    "               1,\n",
    "               1,\n",
    "               1,\n",
    "               1,\n",
    "               1,\n",
    "               1,\n",
    "               1,\n",
    "               1,\n",
    "               1/3,\n",
    "               1,\n",
    "               1,\n",
    "               1,\n",
    "               1,\n",
    "               1/4,\n",
    "               1,\n",
    "               1,\n",
    "               1,\n",
    "               1])"
   ]
  },
  {
   "cell_type": "code",
   "execution_count": 5,
   "id": "65e16c2e",
   "metadata": {},
   "outputs": [],
   "source": [
    "def state_space_matrices(inertia, stiff, damp, damp_ext, ratios):\n",
    "    \"\"\"\n",
    "    Builds the state-space matrices as described in the MSSP article using inertia,\n",
    "    stiffness, damping and gear ratio values.\n",
    "    Returns the continuous state-space matrices A, B, C and D.\n",
    "    \"\"\"\n",
    "    cn = damp*ratios\n",
    "    cn2 = damp*ratios**2\n",
    "    cn2 = np.hstack((cn2, 0))\n",
    "    c0 = np.copy(damp)\n",
    "    c0 = np.insert(c0, 0, 0, axis=0)\n",
    "    cn2d = -(c0 + cn2 + damp_ext)\n",
    "    \n",
    "    A11 = (np.diag(cn2d) + np.diag(cn, k=1) + np.diag(cn, k=-1)) / inertia.reshape(inertia.shape[0], 1)\n",
    "    \n",
    "    ks = -(np.hstack((stiff*ratios, 0)))\n",
    "    A12 = np.delete((np.diag(ks) + np.diag(stiff, k=-1)) / inertia.reshape(inertia.shape[0], 1), -1, axis=1)\n",
    "    \n",
    "    \n",
    "    A23 = np.delete(np.diag(np.hstack((ratios, 0))) + np.diag(-np.ones(len(ratios)), k=1), -1, axis=0)\n",
    "    \n",
    "    A = np.vstack((np.hstack((A11, A12)), np.hstack((A23, np.zeros((A23.shape[0], A23.shape[1]-1))))))\n",
    "    \n",
    "    B = np.zeros((A.shape[0], 2))\n",
    "    B[0,0] += 1/inertia[0]\n",
    "    B[len(inertia)-1, 1] -= 1/inertia[-1]\n",
    "    \n",
    "    C_diag = np.hstack((np.ones(22), stiffnesses))\n",
    "    C = np.diag(C_diag)\n",
    "    D = np.zeros((C.shape[0], B.shape[1]))\n",
    "    \n",
    "    return A, B, C, D"
   ]
  },
  {
   "cell_type": "code",
   "execution_count": 6,
   "id": "e4dd50c4",
   "metadata": {},
   "outputs": [],
   "source": [
    "def c2d(A, B, Ts):\n",
    "    \"\"\"\n",
    "    C2D computes a discrete-time model of a system (A_c,B_c) with sample time T_s.\n",
    "    The function returns matrices A,B of the discrete-time system.\n",
    "    \"\"\"\n",
    "    m, n = A.shape\n",
    "    nb = B.shape[1]\n",
    "\n",
    "    s = np.concatenate([A,B], axis=1)\n",
    "    s = np.concatenate([s, np.zeros((nb, n+nb))], axis=0)\n",
    "    S = LA.expm(s*Ts)\n",
    "    Ad = S[0:n,0:n]\n",
    "    Bd = S[0:n,n:n+nb+1]\n",
    "    \n",
    "    return Ad, Bd"
   ]
  },
  {
   "cell_type": "code",
   "execution_count": 7,
   "id": "02575c55",
   "metadata": {},
   "outputs": [],
   "source": [
    "Ac, Bc, C, D = state_space_matrices(inertias, stiffnesses, damping, external_damping, gear_ratios)"
   ]
  },
  {
   "cell_type": "code",
   "execution_count": 8,
   "id": "04493880",
   "metadata": {},
   "outputs": [],
   "source": [
    "A, B = c2d(Ac, Bc, dt)"
   ]
  },
  {
   "cell_type": "code",
   "execution_count": 9,
   "id": "d19ccce8",
   "metadata": {},
   "outputs": [],
   "source": [
    "U = np.vstack((motor, propeller)).T"
   ]
  },
  {
   "cell_type": "code",
   "execution_count": 10,
   "id": "a330e657",
   "metadata": {},
   "outputs": [],
   "source": [
    "tout, yout, xout = dlsim((A, B, C, D, dt), u=U, t=times)"
   ]
  },
  {
   "cell_type": "code",
   "execution_count": 11,
   "id": "207509b2",
   "metadata": {},
   "outputs": [
    {
     "data": {
      "image/png": "[encoded data removed]",
      "text/plain": [
       "<Figure size 432x288 with 1 Axes>"
      ]
     },
     "metadata": {
      "needs_background": "light"
     },
     "output_type": "display_data"
    }
   ],
   "source": [
    "plt.plot(tout, yout[:,(6,7)], label=('Encoder 1', 'Encoder 2'))\n",
    "plt.legend()\n",
    "plt.show()"
   ]
  },
  {
   "cell_type": "code",
   "execution_count": 12,
   "id": "405bbfe0",
   "metadata": {},
   "outputs": [
    {
     "data": {
      "image/png": "[encoded data removed]",
      "text/plain": [
       "<Figure size 432x288 with 1 Axes>"
      ]
     },
     "metadata": {
      "needs_background": "light"
     },
     "output_type": "display_data"
    }
   ],
   "source": [
    "plt.plot(tout, yout[:,30], label='Torque transducer 1')\n",
    "plt.legend()\n",
    "plt.show()"
   ]
  },
  {
   "cell_type": "code",
   "execution_count": null,
   "id": "6d3fcb5e",
   "metadata": {},
   "outputs": [],
   "source": []
  }
 ],
 "metadata": {
  "kernelspec": {
   "display_name": "Python 3 (ipykernel)",
   "language": "python",
   "name": "python3"
  },
  "language_info": {
   "codemirror_mode": {
    "name": "ipython",
    "version": 3
   },
   "file_extension": ".py",
   "mimetype": "text/x-python",
   "name": "python",
   "nbconvert_exporter": "python",
   "pygments_lexer": "ipython3",
   "version": "3.8.10"
  }
 },
 "nbformat": 4,
 "nbformat_minor": 5
}
