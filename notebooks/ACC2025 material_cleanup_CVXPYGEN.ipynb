{
 "cells": [
  {
   "cell_type": "code",
   "execution_count": null,
   "id": "66a4ef29",
   "metadata": {},
   "outputs": [],
   "source": [
    "import sys\n",
    "import numpy as np\n",
    "import matplotlib.pyplot as plt\n",
    "from scipy.signal import dlsim, butter, lfilter, welch\n",
    "import scienceplots\n",
    "\n",
    "from cvxpygen import cpg\n",
    "\n",
    "from functions import *"
   ]
  },
  {
   "cell_type": "code",
   "execution_count": null,
   "id": "1c267606",
   "metadata": {},
   "outputs": [],
   "source": [
    "np.set_printoptions(suppress=True)\n",
    "np.set_printoptions(precision=4)\n",
    "plt.style.use(['science', 'ieee'])\n",
    "plt.rcParams.update({'figure.dpi': '100'})"
   ]
  },
  {
   "cell_type": "markdown",
   "id": "cfa7d34e",
   "metadata": {},
   "source": [
    "## Step excitation data from testbench"
   ]
  },
  {
   "cell_type": "code",
   "execution_count": null,
   "id": "4ef7bbb0",
   "metadata": {},
   "outputs": [],
   "source": [
    "# Error correction\n",
    "import matplotlib as mpl\n",
    "mpl.rcParams.update(mpl.rcParamsDefault)\n",
    "\n",
    "# The motor dataset columns:\n",
    "# | time | motor setpoint | motor | propeller setpoint | propeller |\n",
    "motor_data_step = np.loadtxt(\"../data/masters_data2/step_motor.csv\", delimiter=\",\")\n",
    "\n",
    "# The sensor dataset columns:\n",
    "# | time | speed1 (encoder1) | speed2 (encoder2) | torque1 | torque2 |\n",
    "sensor_data_step = np.loadtxt(\"../data/masters_data2/step_sensor.csv\", delimiter=\",\")\n",
    "\n",
    "plt.subplot(231)\n",
    "plt.plot(motor_data_step[:,0], motor_data_step[:,2], label='Driving motor', color='blue')\n",
    "plt.ylabel('Torque (Nm)')\n",
    "plt.legend()\n",
    "\n",
    "plt.subplot(234)\n",
    "plt.plot(motor_data_step[:,0], motor_data_step[:,4], label='Loading motor', color='blue')\n",
    "plt.xlabel('Time (s)')\n",
    "plt.ylabel('Torque (Nm)')\n",
    "plt.legend()\n",
    "\n",
    "plt.subplot(232)\n",
    "plt.plot(sensor_data_step[:,0], sensor_data_step[:,3], label='Torque 1', color='blue')\n",
    "plt.ylabel('Torque (Nm)')\n",
    "plt.legend()\n",
    "\n",
    "plt.subplot(235)\n",
    "plt.plot(sensor_data_step[:,0], sensor_data_step[:,4], label='Torque 2', color='blue')\n",
    "plt.xlabel('Time (s)')\n",
    "plt.ylabel('Torque (Nm)')\n",
    "plt.legend()\n",
    "\n",
    "plt.subplot(233)\n",
    "plt.plot(sensor_data_step[:,0], sensor_data_step[:,1], label='Speed 1', color='blue')\n",
    "plt.xlabel('Time (s)')\n",
    "plt.ylabel('Speed (rad/s)')\n",
    "plt.legend()\n",
    "\n",
    "plt.subplot(236)\n",
    "plt.plot(sensor_data_step[:,0], sensor_data_step[:,2], label='Speed 2', color='blue')\n",
    "plt.xlabel('Time (s)')\n",
    "plt.ylabel('Speed (rad/s)')\n",
    "plt.legend()\n",
    "\n",
    "plt.tight_layout()\n",
    "plt.show()"
   ]
  },
  {
   "cell_type": "code",
   "execution_count": null,
   "id": "91ead76c",
   "metadata": {},
   "outputs": [],
   "source": [
    "# add outliers to measurements\n",
    "print(sensor_data_step.shape)\n",
    "for i in range(int(sensor_data_step.shape[0] / 3000)):\n",
    "    print(i)\n",
    "    sensor_data_step[i*3000, 3] = 60\n",
    "plt.plot(sensor_data_step[:,0], sensor_data_step[:,3], 'b-')\n",
    "plt.xlim(2.3,6.7)\n",
    "plt.xlabel(\"Time (s)\")\n",
    "plt.ylabel(\"Torque (Nm)\")\n",
    "# plt.savefig(\"notebook_figures/outlier_measurements.pdf\")\n",
    "plt.show()"
   ]
  },
  {
   "cell_type": "code",
   "execution_count": null,
   "id": "0cabeec9",
   "metadata": {},
   "outputs": [],
   "source": [
    "plt.subplot(231)\n",
    "plt.plot(motor_data_step[:,0], motor_data_step[:,2], label='Driving motor', color='blue')\n",
    "plt.ylabel('Torque (Nm)')\n",
    "plt.legend()\n",
    "\n",
    "plt.subplot(234)\n",
    "plt.plot(motor_data_step[:,0], motor_data_step[:,4], label='Loading motor', color='blue')\n",
    "plt.xlabel('Time (s)')\n",
    "plt.ylabel('Torque (Nm)')\n",
    "plt.legend()\n",
    "\n",
    "plt.subplot(232)\n",
    "plt.plot(sensor_data_step[:,0], sensor_data_step[:,3], label='Torque 1', color='blue')\n",
    "plt.ylabel('Torque (Nm)')\n",
    "plt.legend()\n",
    "\n",
    "plt.subplot(235)\n",
    "plt.plot(sensor_data_step[:,0], sensor_data_step[:,4], label='Torque 2', color='blue')\n",
    "plt.xlabel('Time (s)')\n",
    "plt.ylabel('Torque (Nm)')\n",
    "plt.legend()\n",
    "\n",
    "plt.subplot(233)\n",
    "plt.plot(sensor_data_step[:,0], sensor_data_step[:,1], label='Speed 1', color='blue')\n",
    "plt.xlabel('Time (s)')\n",
    "plt.ylabel('Speed (rad/s)')\n",
    "plt.legend()\n",
    "\n",
    "plt.subplot(236)\n",
    "plt.plot(sensor_data_step[:,0], sensor_data_step[:,2], label='Speed 2', color='blue')\n",
    "plt.xlabel('Time (s)')\n",
    "plt.ylabel('Speed (rad/s)')\n",
    "plt.legend()\n",
    "\n",
    "plt.tight_layout()\n",
    "plt.show()"
   ]
  },
  {
   "cell_type": "markdown",
   "id": "ab80a90f",
   "metadata": {},
   "source": [
    "## Initiate data and state-space model"
   ]
  },
  {
   "cell_type": "code",
   "execution_count": null,
   "id": "4b6052c3",
   "metadata": {},
   "outputs": [],
   "source": [
    "time = sensor_data_step[:,0]\n",
    "measurements = sensor_data_step[:,1:] # measurement data from the encoder 1, encoder 2, torque transducer 1 and torque transducer 2\n",
    "motors = np.vstack((motor_data_step[:,2], motor_data_step[:,4])).T # motor torque data"
   ]
  },
  {
   "cell_type": "code",
   "execution_count": null,
   "id": "1f43c99e",
   "metadata": {},
   "outputs": [],
   "source": [
    "dt = np.mean(np.diff(time))\n",
    "A, B, C, D = get_testbench_state_space(dt)\n",
    "ss = (A, B, C, D)"
   ]
  },
  {
   "cell_type": "code",
   "execution_count": null,
   "id": "20809cdd",
   "metadata": {},
   "outputs": [],
   "source": [
    "# include second torque transducer to the observation matrix\n",
    "C_mod = np.insert(C, 3, np.zeros((1, C.shape[1])), 0)\n",
    "C_mod[3,22+18] += 2e4\n",
    "D_mod = np.zeros((C_mod.shape[0], B.shape[1]))"
   ]
  },
  {
   "cell_type": "markdown",
   "id": "b39c513d",
   "metadata": {},
   "source": [
    "# Batch size and overlap"
   ]
  },
  {
   "cell_type": "code",
   "execution_count": null,
   "id": "ee1ca49e",
   "metadata": {},
   "outputs": [],
   "source": [
    "# HP STEP\n",
    "# measurement data from the encoder 1, encoder 2 and torque transducer 1 & 2\n",
    "measurements_step = sensor_data_step[:,1:]\n",
    "\n",
    "##########################################\n",
    "batch_size = 100\n",
    "overlap = 20\n",
    "##########################################\n",
    "\n",
    "input_estimates_step = weighted_ell2_analytical(\n",
    "    ss, measurements_step[:,:-1], batch_size, overlap=overlap, lam=1, use_trend_filter=True\n",
    ")"
   ]
  },
  {
   "cell_type": "code",
   "execution_count": null,
   "id": "bbd0993a",
   "metadata": {},
   "outputs": [],
   "source": [
    "motor_input_step_est, propeller_input_step_est = process_estimates(len(input_estimates_step), overlap, input_estimates_step, nstates=0)"
   ]
  },
  {
   "cell_type": "code",
   "execution_count": null,
   "id": "7b406943",
   "metadata": {},
   "outputs": [],
   "source": [
    "%matplotlib inline\n",
    "plt.plot(motor_input_step_est[100:])\n",
    "plt.plot(motor_data_step[:,2])\n",
    "plt.show()"
   ]
  },
  {
   "cell_type": "code",
   "execution_count": null,
   "id": "23f95d25",
   "metadata": {},
   "outputs": [],
   "source": [
    "%matplotlib inline\n",
    "plt.plot(propeller_input_step_est[100:])\n",
    "plt.plot(motor_data_step[:,4])\n",
    "plt.show()"
   ]
  },
  {
   "cell_type": "markdown",
   "id": "570f2c69",
   "metadata": {},
   "source": [
    "## SVM input outlier filtering"
   ]
  },
  {
   "cell_type": "code",
   "execution_count": null,
   "id": "e04a418a",
   "metadata": {},
   "outputs": [],
   "source": [
    "\n",
    "### SVM outlier filtering\n",
    "import time \n",
    "\n",
    "def cvxpygen_svm_reconstruction(ss, measurements, batch_size, overlap=50, lam=0.1, eps=1, use_trend_filter=False):\n",
    "    \"\"\"\n",
    "    Analytical solution of the l2 regularized LS problem.\n",
    "    Minimizes the sum of squared residuals, including an l2 constraint and known covariance for input and output.\n",
    "    Initial state is always assumed zero.\n",
    "    \"\"\"\n",
    "    n = measurements.shape[0]\n",
    "    bs = batch_size + 2*overlap\n",
    "    loop_len = int(n/batch_size)\n",
    "\n",
    "    A, B, C, D = ss  # state space model\n",
    "    O_mat, G, D2, L = get_data_equation_matrices(A, B, C, D, n, bs)  # data equation matrices\n",
    "\n",
    "    if use_trend_filter: regul = D2 # regularization matrix\n",
    "    else:                regul = L\n",
    "\n",
    "    # define optimization variables\n",
    "    uhat_svm = cp.Variable((G.shape[1],1))\n",
    "    xi       = cp.Variable((G.shape[0], 1))\n",
    "    xi_ast   = cp.Variable((G.shape[0], 1))\n",
    "\n",
    "    objective = cp.Minimize(cp.sum_squares(regul @ uhat_svm) + lam*cp.norm1(xi + xi_ast))\n",
    "\n",
    "    y_param = cp.Parameter((G.shape[0], uhat_svm.shape[1]), name='y')\n",
    "    \n",
    "    print(f\"G shape = {G.shape} uhat =  {uhat_svm.shape}, thus y shape = {(G.shape[0], uhat_svm.shape[1])}\")\n",
    "    \n",
    "    constraints = [\n",
    "        y_param - G @ uhat_svm <= eps + xi,\n",
    "        G @ uhat_svm - y_param <= eps + xi_ast,\n",
    "        xi >= 0,\n",
    "        xi_ast >= 0\n",
    "    ]\n",
    "    prob = cp.Problem(objective, constraints)\n",
    "\n",
    "    input_estimates = []\n",
    "\n",
    "    cpg.generate_code(prob, code_dir='nonneg_LS', solver='SCS')\n",
    "\n",
    "    #  this is imported here as it gets generated at the above line\n",
    "    from nonneg_LS.cpg_solver import cpg_solve\n",
    "    \n",
    "    t0 = time.time()\n",
    "\n",
    "    for i in range(loop_len):\n",
    "\n",
    "        if i == 0:              batch = measurements[:bs,:]\n",
    "        elif i == loop_len-1:   batch = np.zeros((bs, measurements.shape[1])) # zero padding to finish estimation loop correctly\n",
    "        else:                   batch = measurements[i*batch_size-overlap:(i+1)*batch_size+overlap,:]\n",
    "\n",
    "        y = batch.reshape(-1,1)\n",
    "        print(y.shape)\n",
    "        y_param.value = y\n",
    "\n",
    "        print(\"prob solved \", i)\n",
    "\n",
    "        prob.register_solve('cpg', cpg_solve)\n",
    "        \n",
    "        prob.solve(method='cpg', updated_params=['y'], verbose=False)\n",
    "\n",
    "        estimate = uhat_svm.value\n",
    "\n",
    "        input_estimates.append(estimate)\n",
    "    \n",
    "    t1 = time.time()\n",
    "    \n",
    "    print(f'\\n CVXPYgen Solve time: {(1000 * (t1 - t0))} ms\\n')\n",
    "\n",
    "    return input_estimates\n",
    "\n",
    "\n"
   ]
  },
  {
   "cell_type": "code",
   "execution_count": null,
   "id": "0642d7e7",
   "metadata": {},
   "outputs": [],
   "source": [
    "# create bounds\n",
    "lam = 0.01\n",
    "eps = 0.01\n",
    "\n",
    "svm_step_input_est = cvxpygen_svm_reconstruction(\n",
    "    ss, measurements_step[:,:-1], batch_size, overlap=overlap, lam=lam, eps=eps, use_trend_filter=True\n",
    ")"
   ]
  },
  {
   "cell_type": "code",
   "execution_count": null,
   "id": "200468c2",
   "metadata": {},
   "outputs": [],
   "source": [
    "motor_input_svm, propeller_input_svm = process_estimates(len(svm_step_input_est), overlap, svm_step_input_est, nstates=0)"
   ]
  },
  {
   "cell_type": "code",
   "execution_count": null,
   "id": "6bcd9ee2",
   "metadata": {},
   "outputs": [],
   "source": [
    "len(motor_input_svm), len(propeller_input_svm)"
   ]
  },
  {
   "cell_type": "code",
   "execution_count": null,
   "id": "4583a2c4",
   "metadata": {},
   "outputs": [],
   "source": [
    "%matplotlib inline\n",
    "plt.plot(motor_input_svm[100:])\n",
    "plt.plot(motor_data_step[:,2])\n",
    "plt.show()"
   ]
  },
  {
   "cell_type": "code",
   "execution_count": null,
   "id": "aecb4ef2",
   "metadata": {},
   "outputs": [],
   "source": [
    "%matplotlib inline\n",
    "plt.plot(propeller_input_svm[100:])\n",
    "plt.plot(propeller_input_step_est[100:])\n",
    "plt.plot(motor_data_step[:,4])\n",
    "plt.show()"
   ]
  },
  {
   "cell_type": "code",
   "execution_count": null,
   "id": "d5ada770",
   "metadata": {},
   "outputs": [],
   "source": [
    "import pickle\n",
    "\n",
    "with open('input_estimates_hp_svm.pkl', 'wb') as f:  # open a text file\n",
    "    pickle.dump([motor_input_step_est, propeller_input_step_est, motor_input_svm, propeller_input_svm], f) # serialize the list\n",
    "    \n",
    "f.close()"
   ]
  },
  {
   "cell_type": "code",
   "execution_count": null,
   "id": "1c7dd8cb",
   "metadata": {},
   "outputs": [],
   "source": [
    "with open('input_estimates_hp_svm.pkl', 'rb') as f:\n",
    "    estimates_loaded = pickle.load(f) # deserialize using load()\n",
    "motor_hp = estimates_loaded[0]\n",
    "prop_hp = estimates_loaded[1]\n",
    "motor_svm = estimates_loaded[2]\n",
    "prop_svm = estimates_loaded[3]"
   ]
  },
  {
   "cell_type": "code",
   "execution_count": null,
   "id": "ac8f4a85",
   "metadata": {},
   "outputs": [],
   "source": [
    "U_est_hp = np.hstack((motor_hp, prop_hp))\n",
    "U_est_svm = np.hstack((motor_svm, prop_svm))"
   ]
  },
  {
   "cell_type": "code",
   "execution_count": null,
   "id": "b3e1cd8c",
   "metadata": {},
   "outputs": [],
   "source": [
    "time = sensor_data_step[:12500,0]\n",
    "tout_hp, yout_hp, _ = dlsim((A, B, C_mod, D_mod, dt), U_est_hp[:len(time)], t=time)\n",
    "tout_svm, yout_svm, _ = dlsim((A, B, C_mod, D_mod, dt), U_est_svm[:len(time)], t=time)"
   ]
  },
  {
   "cell_type": "code",
   "execution_count": null,
   "id": "73ca2450",
   "metadata": {},
   "outputs": [],
   "source": [
    "plt.plot(time[:-100], sensor_data_step[100:12500,4], 'k')\n",
    "plt.plot(tout_hp[:-100], yout_hp[100:,-1], 'r-', alpha=0.8)\n",
    "plt.plot(tout_svm[:-100], yout_svm[100:,-1], 'b-')\n",
    "plt.xlim(2.3,6.7)\n",
    "plt.xlabel(\"Time (s)\")\n",
    "plt.ylabel(\"Torque (Nm)\")\n",
    "# plt.savefig(\"notebook_figures/svm_step.pdf\")\n",
    "plt.show()"
   ]
  },
  {
   "cell_type": "code",
   "execution_count": null,
   "id": "592e4e3c",
   "metadata": {},
   "outputs": [],
   "source": []
  }
 ],
 "metadata": {
  "kernelspec": {
   "display_name": "Python 3 (ipykernel)",
   "language": "python",
   "name": "python3"
  },
  "language_info": {
   "codemirror_mode": {
    "name": "ipython",
    "version": 3
   },
   "file_extension": ".py",
   "mimetype": "text/x-python",
   "name": "python",
   "nbconvert_exporter": "python",
   "pygments_lexer": "ipython3",
   "version": "3.12.4"
  }
 },
 "nbformat": 4,
 "nbformat_minor": 5
}
